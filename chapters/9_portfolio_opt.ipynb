{
 "cells": [
  {
   "cell_type": "markdown",
   "metadata": {},
   "source": [
    "# Portfolio optimization\n",
    "\n",
    "Portfolio optimization is an important part of many quantitative strategies. You take some inputs related to risk and return and you try to find the portfolio with the desired characteristics. Those characteristics might be something like the best risk-reward trade-off, often given with a Sharpe Ratio. Or, you might be trying to find a portfolio with a particular expected return and the lowest possible risk to get that return. \n",
    "\n",
    "We'll start with the example of portfolio optimization using `scipy.optimize`, very similar to the code found in Chapter 13 of our textbook. This is very much like using **Solver in Excel**. You are having Python numerically solve an optimization problem with some set of constraints or limits on the answer. This means that Python will try to guess values until it gets really, really close to the \"best\" possible solution.\n",
    "\n",
    "We are also going to see some interesting Python. We'll use **tuples**, a basic (primitive) data type in Python. We have **for** loops. We'll **define our own functions**. We'll even use something called a **lambda function**. \n",
    "\n",
    "Finally, we'll use the `PyPortfolioOpt` [package](https://pypi.org/project/pyportfolioopt/), which is also discussed in the DataCamp assignments. This lets us avoid some of the more math-like aspects of using `scipy.optimize` and have a library do the work for us using more familiar finance terms. Still, I think it is really important to understand at least a little bit about the optimization process itself. These tools are used in all sorts of applications.\n"
   ]
  },
  {
   "cell_type": "markdown",
   "metadata": {},
   "source": [
    "## Getting started\n",
    "Let's bring in our usual set of prices, pick four assets, calculate **discrete** returns, and plot a histogram of those returns.\n",
    "\n",
    "We are going to use **discrete** (or simple, or arithmetic) returns instead of **log** returns, because we are doing **portfolio optimization**. In short, the return of a portfolio is the weighted average of the mean discrete returns. This is not true for mean log returns."
   ]
  },
  {
   "cell_type": "code",
   "execution_count": 63,
   "metadata": {},
   "outputs": [
    {
     "data": {
      "image/png": "[encoded data removed]",
      "text/plain": [
       "<Figure size 720x576 with 4 Axes>"
      ]
     },
     "metadata": {
      "needs_background": "light"
     },
     "output_type": "display_data"
    }
   ],
   "source": [
    "# Read in some eod prices\n",
    "import numpy as np\n",
    "import pandas as pd\n",
    "\n",
    "from pylab import mpl, plt\n",
    "\n",
    "import scipy.optimize as sco\n",
    "\n",
    "raw = pd.read_csv('https://raw.githubusercontent.com/aaiken1/fin-data-analysis-python/main/data/tr_eikon_eod_data.csv',\n",
    "                  index_col=0, parse_dates=True).dropna() \n",
    "\n",
    "symbols = ['AAPL.O', 'MSFT.O', 'SPY', 'GLD'] #two stocks and two ETFs\n",
    "\n",
    "noa = len(symbols) #noa = number of assets\n",
    "\n",
    "data = raw[symbols]\n",
    "\n",
    "rets = data.pct_change().dropna()\n",
    "\n",
    "rets.hist(bins=40, figsize=(10, 8));"
   ]
  },
  {
   "cell_type": "code",
   "execution_count": 64,
   "metadata": {},
   "outputs": [
    {
     "data": {
      "text/html": [
       "<div>\n",
       "<style scoped>\n",
       "    .dataframe tbody tr th:only-of-type {\n",
       "        vertical-align: middle;\n",
       "    }\n",
       "\n",
       "    .dataframe tbody tr th {\n",
       "        vertical-align: top;\n",
       "    }\n",
       "\n",
       "    .dataframe thead th {\n",
       "        text-align: right;\n",
       "    }\n",
       "</style>\n",
       "<table border=\"1\" class=\"dataframe\">\n",
       "  <thead>\n",
       "    <tr style=\"text-align: right;\">\n",
       "      <th></th>\n",
       "      <th>AAPL.O</th>\n",
       "      <th>MSFT.O</th>\n",
       "      <th>SPY</th>\n",
       "      <th>GLD</th>\n",
       "    </tr>\n",
       "  </thead>\n",
       "  <tbody>\n",
       "    <tr>\n",
       "      <th>count</th>\n",
       "      <td>2137.000000</td>\n",
       "      <td>2137.000000</td>\n",
       "      <td>2137.000000</td>\n",
       "      <td>2137.000000</td>\n",
       "    </tr>\n",
       "    <tr>\n",
       "      <th>mean</th>\n",
       "      <td>0.000969</td>\n",
       "      <td>0.000643</td>\n",
       "      <td>0.000452</td>\n",
       "      <td>0.000088</td>\n",
       "    </tr>\n",
       "    <tr>\n",
       "      <th>std</th>\n",
       "      <td>0.015900</td>\n",
       "      <td>0.014221</td>\n",
       "      <td>0.009313</td>\n",
       "      <td>0.010170</td>\n",
       "    </tr>\n",
       "    <tr>\n",
       "      <th>min</th>\n",
       "      <td>-0.123549</td>\n",
       "      <td>-0.113995</td>\n",
       "      <td>-0.065123</td>\n",
       "      <td>-0.087808</td>\n",
       "    </tr>\n",
       "    <tr>\n",
       "      <th>25%</th>\n",
       "      <td>-0.006883</td>\n",
       "      <td>-0.006745</td>\n",
       "      <td>-0.003418</td>\n",
       "      <td>-0.005084</td>\n",
       "    </tr>\n",
       "    <tr>\n",
       "      <th>50%</th>\n",
       "      <td>0.000667</td>\n",
       "      <td>0.000308</td>\n",
       "      <td>0.000580</td>\n",
       "      <td>0.000343</td>\n",
       "    </tr>\n",
       "    <tr>\n",
       "      <th>75%</th>\n",
       "      <td>0.009597</td>\n",
       "      <td>0.007896</td>\n",
       "      <td>0.005071</td>\n",
       "      <td>0.005317</td>\n",
       "    </tr>\n",
       "    <tr>\n",
       "      <th>max</th>\n",
       "      <td>0.088741</td>\n",
       "      <td>0.104522</td>\n",
       "      <td>0.046499</td>\n",
       "      <td>0.049122</td>\n",
       "    </tr>\n",
       "  </tbody>\n",
       "</table>\n",
       "</div>"
      ],
      "text/plain": [
       "            AAPL.O       MSFT.O          SPY          GLD\n",
       "count  2137.000000  2137.000000  2137.000000  2137.000000\n",
       "mean      0.000969     0.000643     0.000452     0.000088\n",
       "std       0.015900     0.014221     0.009313     0.010170\n",
       "min      -0.123549    -0.113995    -0.065123    -0.087808\n",
       "25%      -0.006883    -0.006745    -0.003418    -0.005084\n",
       "50%       0.000667     0.000308     0.000580     0.000343\n",
       "75%       0.009597     0.007896     0.005071     0.005317\n",
       "max       0.088741     0.104522     0.046499     0.049122"
      ]
     },
     "execution_count": 64,
     "metadata": {},
     "output_type": "execute_result"
    }
   ],
   "source": [
    "rets.describe()"
   ]
  },
  {
   "cell_type": "markdown",
   "metadata": {},
   "source": [
    "```{note}\n",
    "These four return series each have the same number of observations. This is important when doing correlation and covariance matrices. You'll likely want to just keep observations where none of the assets have missing returns. This is another reason why using historical data can be tricky - for a lot of specific assets, we just don't have much data!\n",
    "```\n",
    "\n",
    "We can find the average daily return of each of these four sets of discrete returns and annualize them. \n",
    "\n",
    "How should we do this? We've found the **arithmetic** mean of the daily **discrete** returns. If we **compound** these, or use $(1+dailyaverage)^{252} - 1$, we are getting the total return if we earned the mean daily return each day, including compounding. But, when doing portfolio optimization, we don't want this compounded return. So, to annualize the daily returns, we can simply multiply by 252, or the number of trading days in the year. "
   ]
  },
  {
   "cell_type": "code",
   "execution_count": 65,
   "metadata": {},
   "outputs": [
    {
     "data": {
      "text/plain": [
       "AAPL.O    0.244313\n",
       "MSFT.O    0.162139\n",
       "SPY       0.113901\n",
       "GLD       0.022214\n",
       "dtype: float64"
      ]
     },
     "execution_count": 65,
     "metadata": {},
     "output_type": "execute_result"
    }
   ],
   "source": [
    "rets.mean() * 252"
   ]
  },
  {
   "cell_type": "code",
   "execution_count": 66,
   "metadata": {},
   "outputs": [],
   "source": [
    "ann_rets = rets.mean() * 252"
   ]
  },
  {
   "cell_type": "markdown",
   "metadata": {},
   "source": [
    "Same thing with variance and covariance. We are going to take a short-cut and annualize the daily variances and covariances by multiplying by 252. You would annualize standard deviation by multiplying by $\\sqrt{252}$. Technically, you should only do this with log returns."
   ]
  },
  {
   "cell_type": "code",
   "execution_count": 67,
   "metadata": {},
   "outputs": [
    {
     "data": {
      "text/html": [
       "<div>\n",
       "<style scoped>\n",
       "    .dataframe tbody tr th:only-of-type {\n",
       "        vertical-align: middle;\n",
       "    }\n",
       "\n",
       "    .dataframe tbody tr th {\n",
       "        vertical-align: top;\n",
       "    }\n",
       "\n",
       "    .dataframe thead th {\n",
       "        text-align: right;\n",
       "    }\n",
       "</style>\n",
       "<table border=\"1\" class=\"dataframe\">\n",
       "  <thead>\n",
       "    <tr style=\"text-align: right;\">\n",
       "      <th></th>\n",
       "      <th>AAPL.O</th>\n",
       "      <th>MSFT.O</th>\n",
       "      <th>SPY</th>\n",
       "      <th>GLD</th>\n",
       "    </tr>\n",
       "  </thead>\n",
       "  <tbody>\n",
       "    <tr>\n",
       "      <th>AAPL.O</th>\n",
       "      <td>0.063710</td>\n",
       "      <td>0.023364</td>\n",
       "      <td>0.021015</td>\n",
       "      <td>0.001497</td>\n",
       "    </tr>\n",
       "    <tr>\n",
       "      <th>MSFT.O</th>\n",
       "      <td>0.023364</td>\n",
       "      <td>0.050965</td>\n",
       "      <td>0.022193</td>\n",
       "      <td>-0.000337</td>\n",
       "    </tr>\n",
       "    <tr>\n",
       "      <th>SPY</th>\n",
       "      <td>0.021015</td>\n",
       "      <td>0.022193</td>\n",
       "      <td>0.021858</td>\n",
       "      <td>0.000041</td>\n",
       "    </tr>\n",
       "    <tr>\n",
       "      <th>GLD</th>\n",
       "      <td>0.001497</td>\n",
       "      <td>-0.000337</td>\n",
       "      <td>0.000041</td>\n",
       "      <td>0.026063</td>\n",
       "    </tr>\n",
       "  </tbody>\n",
       "</table>\n",
       "</div>"
      ],
      "text/plain": [
       "          AAPL.O    MSFT.O       SPY       GLD\n",
       "AAPL.O  0.063710  0.023364  0.021015  0.001497\n",
       "MSFT.O  0.023364  0.050965  0.022193 -0.000337\n",
       "SPY     0.021015  0.022193  0.021858  0.000041\n",
       "GLD     0.001497 -0.000337  0.000041  0.026063"
      ]
     },
     "execution_count": 67,
     "metadata": {},
     "output_type": "execute_result"
    }
   ],
   "source": [
    "rets.cov() * 252"
   ]
  },
  {
   "cell_type": "markdown",
   "metadata": {},
   "source": [
    "When you form a portfolio, you of course need to know how much of your portfolio is in each asset. Let's pick some **random weights** to start. We'll do that by choosing random numbers between 0 and 1. How many random numbers? The variable *noa* has the number of assets stored in it, so we'll pick four. Then, we'll divide each random number by the sum of the four numbers. This \"trick\" let's us go from four numbers between 0 and 1 to four numbers that will add up to 1. Just like portfolio weights!\n",
    "\n",
    "Note the `/=`. This divides every item in *weights* by the sum of the weights and then saves the result back to *weights*."
   ]
  },
  {
   "cell_type": "code",
   "execution_count": 68,
   "metadata": {},
   "outputs": [],
   "source": [
    "weights = np.random.random(noa)\n",
    "weights /= np.sum(weights)"
   ]
  },
  {
   "cell_type": "code",
   "execution_count": 69,
   "metadata": {},
   "outputs": [
    {
     "data": {
      "text/plain": [
       "0.9999999999999999"
      ]
     },
     "execution_count": 69,
     "metadata": {},
     "output_type": "execute_result"
    }
   ],
   "source": [
    "weights.sum()"
   ]
  },
  {
   "cell_type": "markdown",
   "metadata": {},
   "source": [
    "Good! They add up to 1. Or, well, basically 1. Remember, computers try their best to store exact numbers, but there's only so much precision that you can get. "
   ]
  },
  {
   "cell_type": "code",
   "execution_count": 70,
   "metadata": {},
   "outputs": [
    {
     "data": {
      "text/plain": [
       "0.16182649406862787"
      ]
     },
     "execution_count": 70,
     "metadata": {},
     "output_type": "execute_result"
    }
   ],
   "source": [
    "np.sum(ann_rets * weights)"
   ]
  },
  {
   "cell_type": "markdown",
   "metadata": {},
   "source": [
    "We can also find portfolio variance using the random weights. Again, we're annualizing variances and covariances."
   ]
  },
  {
   "cell_type": "code",
   "execution_count": 71,
   "metadata": {},
   "outputs": [
    {
     "data": {
      "text/plain": [
       "0.025739185286368906"
      ]
     },
     "execution_count": 71,
     "metadata": {},
     "output_type": "execute_result"
    }
   ],
   "source": [
    "np.dot(weights.T, np.dot(rets.cov() * 252, weights))"
   ]
  },
  {
   "cell_type": "markdown",
   "metadata": {},
   "source": [
    "Finally, we take the square root of variance to get standard deviation. "
   ]
  },
  {
   "cell_type": "code",
   "execution_count": 72,
   "metadata": {},
   "outputs": [
    {
     "data": {
      "text/plain": [
       "0.16043436441850265"
      ]
     },
     "execution_count": 72,
     "metadata": {},
     "output_type": "execute_result"
    }
   ],
   "source": [
    "np.sqrt(np.dot(weights.T, np.dot(rets.cov() * 252, weights)))"
   ]
  },
  {
   "cell_type": "markdown",
   "metadata": {},
   "source": [
    "Ok, all of this was with random weights. Can we do any better than that, if we assume that our expected returns and variance co-variance matrix represent our best guess about how these assets will behave in the future? Note that his is a really big assumption. The past might not tells us much about the future."
   ]
  },
  {
   "cell_type": "markdown",
   "metadata": {},
   "source": [
    "## Plotting the efficient frontier\n",
    "\n",
    "The efficient frontier represents the relationship between risk and return. Each point on the curve is the best return that you can get for a given level of risk. Or, equivalently, each point is the lowest risk that you can take for a particular expected return. We would expect to see a positive relationship between risk and return. \n",
    "\n",
    "```{figure} ../images/10-cal.png\n",
    "---\n",
    "name: 10-cal_2.png\n",
    "align: center\n",
    "---\n",
    "The Capital Allocation Line, or CAL. The mean-variance frontier is the highest return you can get for a given level of risk. The CAL is all possible combinations have the highest Sharpe Ratio portfolio (the tangency portfolio) and the risk-free asset. If all investors have the same beliefs about all underlying assets, then they will all hold the same market portfolio, just in different quantities, depending on their risk preferences. Source: Asset Management by Andrew Ang\n",
    "```\n",
    "\n",
    "What if we picked a bunch of random portfolios, found their risk and return, and then plotted each on a scatter plot? We should see the efficient frontier \"emerge\" as we essentially throw darts, since some risk-return combinations are not possible for a given set of assets. There's only so much return you can get for a given level of risk. \n",
    "\n",
    "To do this, let's define two functions. One just takes weights and finds the portfolio return using the mean returns. The other finds the volatility of the portfolio using the weights passed to it. Note that both are just the formulas used above, but now in a function that we've defined. \n",
    "\n",
    "How do you **read the format of a user defined function**? You use `def` to define the function name. Inside of `()`, you put the items that are getting passed, or given to, the function. In this case, whatever we give the function will be called *weights* inside of the function. What's inside the function. You must end the first line with a `:`. Then, you need to **indent everything that happens when the function is used**. In this case, that's just one line. The function will **return** whatever is on the line with **return**. In this case, the portfolio return and volatility. "
   ]
  },
  {
   "cell_type": "code",
   "execution_count": 73,
   "metadata": {},
   "outputs": [],
   "source": [
    "def port_ret(weights):\n",
    "    return np.sum(ann_rets * weights)"
   ]
  },
  {
   "cell_type": "code",
   "execution_count": 74,
   "metadata": {},
   "outputs": [],
   "source": [
    "def port_vol(weights):\n",
    "    return np.sqrt(np.dot(weights.T, np.dot(rets.cov() * 252, weights)))"
   ]
  },
  {
   "cell_type": "markdown",
   "metadata": {},
   "source": [
    "Here's the main part. We are going to use those two functions above to write some cleaner code. We start by creating two empty arrays, *prets* and *pvols*. We'll then put a bunch of different portfolio mean returns and volatilities into these arrays. How are we going to get these different portfolio risk and return characteristics? Let's create a bunch of random portfolios with random asset weights. In fact, let's create 2500 random portfolios and see what each combination of risk and return looks like when we plot it. The shape should look familiar!"
   ]
  },
  {
   "cell_type": "code",
   "execution_count": 75,
   "metadata": {},
   "outputs": [],
   "source": [
    "prets = []\n",
    "pvols = []\n",
    "for p in range (2500):  \n",
    "    weights = np.random.random(noa)  \n",
    "    weights /= np.sum(weights)  \n",
    "    prets.append(port_ret(weights))  \n",
    "    pvols.append(port_vol(weights))  \n",
    "prets = np.array(prets)\n",
    "pvols = np.array(pvols)"
   ]
  },
  {
   "cell_type": "markdown",
   "metadata": {},
   "source": [
    "The **for** statement will have the value *p* go from 0 to 2499 (i.e. 2500 times). For each of these times through the loop, we calculate our random weights and the portfolio returns and volatility for these weights, using the same expected returns and volatility for the assets each time through. Only the weights are changing. We then **append**, or stack, the return and volatility values on top of each other, creating two **lists** with 2500 numbers in them. But, we don't want a list. We want an **array** of numbers. The last two lines convert the lists into `numpy` arrays which we can graph.\n",
    "\n",
    "Let's graph them. We'll make a **scatter plot** with volatility on the x-axis and returns on the y-axis. The `c=` option adds a third dimension to the graph, where we pick a color for each dot based on another value. That value is the return for that dot divided by the volatility of that dot. In other words, darker red means bigger return over risk ratio, or larger **Sharpe Ratio**. Notice how the dark red is along the edge of the curve? This is the **efficient frontier**! "
   ]
  },
  {
   "cell_type": "code",
   "execution_count": 76,
   "metadata": {},
   "outputs": [
    {
     "data": {
      "image/png": "[encoded data removed]",
      "text/plain": [
       "<Figure size 720x432 with 2 Axes>"
      ]
     },
     "metadata": {
      "needs_background": "light"
     },
     "output_type": "display_data"
    }
   ],
   "source": [
    "plt.figure(figsize=(10, 6))\n",
    "plt.scatter(pvols, prets, c=prets / pvols,\n",
    "            marker='o', cmap='coolwarm')\n",
    "plt.xlabel('expected volatility')\n",
    "plt.ylabel('expected return')\n",
    "plt.colorbar(label='Sharpe ratio');"
   ]
  },
  {
   "cell_type": "markdown",
   "metadata": {},
   "source": [
    "We've just generated the **efficient frontier** from a simulation. No \"formulas\", per se. Just make 2500 random portfolios and at least some of them are going to be good!\n",
    "\n",
    "Each portfolio on the **envelope**, the edge of the shape we see above, is on the efficient frontier. Each of these portfolios has the highest return for a given level of risk (or the lowest risk for a given return). \n",
    "\n",
    "We'll draw the efficient frontier below. "
   ]
  },
  {
   "cell_type": "markdown",
   "metadata": {},
   "source": [
    "## Optimizing\n",
    "\n",
    "Let's use an **optimizer** actually find the portfolio with the best Sharpe Ratio. This will be, for a given risk-free rate, the single portfolio with the best risk-reward trade-off. \n",
    "\n",
    "We'll also find the portfolio with the lower volatility (risk). This portfolio is sometimes called the **minimum variance portfolio**.\n",
    "\n",
    "We will assume in this example that the risk-free rate is zero. We are not subtracting the risk-free rate from the portfolio return in the numerator. Note that as you change the risk-free rate, then you get different maximum Sharpe Ratio portfolios. What you're doing, graphically, is **tracing** out the efficient frontier, finding different porfolios that are on the envelope. "
   ]
  },
  {
   "cell_type": "markdown",
   "metadata": {},
   "source": [
    "### Finding the max Sharpe portfolio\n",
    "We'll start by defining a new function. This is our **Sharpe Ratio**. The optimization process that we're going to use wants to find the **minimum** of something. So, we'll make the Sharpe Ratio negative. This will then be the equivalent of finding the **maximum. "
   ]
  },
  {
   "cell_type": "code",
   "execution_count": 77,
   "metadata": {},
   "outputs": [],
   "source": [
    "def min_func_sharpe(weights):  \n",
    "    return -port_ret(weights) / port_vol(weights)  "
   ]
  },
  {
   "cell_type": "markdown",
   "metadata": {},
   "source": [
    "That's the function that we are going to **minimize**. We are going to have Python find the weights that make that function as small as possible. Again, since the function has a negative sign in front, this is like finding the maximum. \n",
    "\n",
    "Portfolio optimization always has a **constraint** where your weights must add up to one. To add this constraint, we are now going to set up a **dictionary** that our optimizer is going to be able to understand. The dictionary will say that we are going to give the optimizer something that is type `eq`, or an equation, and that the equation is the sum of all of our weights minus 1. The optimizer is going to know that we want this to be set equal to zero when solving for weights. In other words, all of our weights must add up to one - we are forcing the optimizer to to this.\n",
    "\n",
    "By the way, see the `lambda x:`? This is a **lambda**, or anonymous, function. These let us quickly and easily define a simple function. In this case, we have a function that is going to take an argument *x* and then do something with it. We are adding up all of the elements of *x* and then subtracting one. When we use this function, *x* will be our weights."
   ]
  },
  {
   "cell_type": "code",
   "execution_count": 78,
   "metadata": {},
   "outputs": [
    {
     "data": {
      "text/plain": [
       "dict"
      ]
     },
     "execution_count": 78,
     "metadata": {},
     "output_type": "execute_result"
    }
   ],
   "source": [
    "cons = ({'type': 'eq', 'fun': lambda x:  np.sum(x) - 1})  \n",
    "type(cons)"
   ]
  },
  {
   "cell_type": "markdown",
   "metadata": {},
   "source": [
    "We can now put some bounds on our weights. Weights, in this case, need to be between 0 and 1. This isn't always the case! For example, short-selling means having weights less than 0. Leverage means weights greater than 1, potentially. To do this, we'll create a **tuple** that has the set (0,1) for each asset in our portfolio, four in this case. This will tell the optimizer to keep each asset weight between 0 and 1."
   ]
  },
  {
   "cell_type": "code",
   "execution_count": 79,
   "metadata": {},
   "outputs": [
    {
     "data": {
      "text/plain": [
       "((0, 1), (0, 1), (0, 1), (0, 1))"
      ]
     },
     "execution_count": 79,
     "metadata": {},
     "output_type": "execute_result"
    }
   ],
   "source": [
    "bnds = tuple((0, 1) for x in range(noa))  \n",
    "bnds"
   ]
  },
  {
   "cell_type": "markdown",
   "metadata": {},
   "source": [
    "We'll start by giving the optimizer an equally-weighted portfolio. It will change these weights to find the ones that minimize that negative Sharpe Ratio. This code will generate an array with equal weights, no matter how many assets you are using."
   ]
  },
  {
   "cell_type": "code",
   "execution_count": 80,
   "metadata": {},
   "outputs": [
    {
     "data": {
      "text/plain": [
       "array([0.25, 0.25, 0.25, 0.25])"
      ]
     },
     "execution_count": 80,
     "metadata": {},
     "output_type": "execute_result"
    }
   ],
   "source": [
    "eweights = np.array(noa * [1. / noa,])  \n",
    "eweights  "
   ]
  },
  {
   "cell_type": "markdown",
   "metadata": {},
   "source": [
    "Here's the negative Sharpe Ratio with the equal-weights. So, the \"real\" Sharpe is 1.09."
   ]
  },
  {
   "cell_type": "code",
   "execution_count": 81,
   "metadata": {},
   "outputs": [
    {
     "data": {
      "text/plain": [
       "-0.9936699253973043"
      ]
     },
     "execution_count": 81,
     "metadata": {},
     "output_type": "execute_result"
    }
   ],
   "source": [
    "min_func_sharpe(eweights)"
   ]
  },
  {
   "cell_type": "markdown",
   "metadata": {},
   "source": [
    "Finally, let's use the optimizer! We are going to use `sco.minimize` from the library `SciPy`, which we have brought in above. This function is like **Solver in Excel**. It is going to find the minimum value of some function by changing a set of variables in the function, subject to some constraints. The first argument is the function to minimize. The second argument is the initial guess. Then, we give it the method to use to find the minimum value. We're using something called Sequential Least Squares Programming (SLSQP) here. Not important for us. We then give the optimizer our bounds for the variables and the constraints.\n",
    "\n",
    "You can read more about this function in the `SciPy` manual [here](https://docs.scipy.org/doc/scipy/reference/generated/scipy.optimize.minimize.html). "
   ]
  },
  {
   "cell_type": "code",
   "execution_count": 82,
   "metadata": {},
   "outputs": [
    {
     "data": {
      "text/plain": [
       "scipy.optimize.optimize.OptimizeResult"
      ]
     },
     "execution_count": 82,
     "metadata": {},
     "output_type": "execute_result"
    }
   ],
   "source": [
    "opts = sco.minimize(min_func_sharpe, eweights,\n",
    "                    method='SLSQP', bounds=bnds,\n",
    "                    constraints=cons) \n",
    "type(opts)"
   ]
  },
  {
   "cell_type": "markdown",
   "metadata": {},
   "source": [
    "We've saved the results in this OptimizeResult **object**. This object contains information about our optimization, including the optimal values it found. It calls these *x* - they are our weights that give us the minimum negative (i.e. maximum) Sharpe Ratio."
   ]
  },
  {
   "cell_type": "code",
   "execution_count": 83,
   "metadata": {},
   "outputs": [
    {
     "data": {
      "text/plain": [
       "     fun: -1.039672055952566\n",
       "     jac: array([-6.12437725e-06, -2.13503838e-04,  5.58644533e-05,  3.93256545e-04])\n",
       " message: 'Optimization terminated successfully'\n",
       "    nfev: 35\n",
       "     nit: 7\n",
       "    njev: 7\n",
       "  status: 0\n",
       " success: True\n",
       "       x: array([0.50109745, 0.23793622, 0.14449823, 0.1164681 ])"
      ]
     },
     "execution_count": 83,
     "metadata": {},
     "output_type": "execute_result"
    }
   ],
   "source": [
    "opts"
   ]
  },
  {
   "cell_type": "markdown",
   "metadata": {},
   "source": [
    "Let's pull out just the weights from the object and round to three decimal palces."
   ]
  },
  {
   "cell_type": "code",
   "execution_count": 84,
   "metadata": {},
   "outputs": [
    {
     "data": {
      "text/plain": [
       "array([0.501, 0.238, 0.144, 0.116])"
      ]
     },
     "execution_count": 84,
     "metadata": {},
     "output_type": "execute_result"
    }
   ],
   "source": [
    "opts['x'].round(3)  "
   ]
  },
  {
   "cell_type": "markdown",
   "metadata": {},
   "source": [
    "Here's the portfolio return with those weights."
   ]
  },
  {
   "cell_type": "code",
   "execution_count": 85,
   "metadata": {},
   "outputs": [
    {
     "data": {
      "text/plain": [
       "0.18"
      ]
     },
     "execution_count": 85,
     "metadata": {},
     "output_type": "execute_result"
    }
   ],
   "source": [
    "port_ret(opts['x']).round(3)  "
   ]
  },
  {
   "cell_type": "markdown",
   "metadata": {},
   "source": [
    "And the portfolio volatility with those weights."
   ]
  },
  {
   "cell_type": "code",
   "execution_count": 86,
   "metadata": {},
   "outputs": [
    {
     "data": {
      "text/plain": [
       "0.173"
      ]
     },
     "execution_count": 86,
     "metadata": {},
     "output_type": "execute_result"
    }
   ],
   "source": [
    "port_vol(opts['x']).round(3)  "
   ]
  },
  {
   "cell_type": "markdown",
   "metadata": {},
   "source": [
    "And, the Sharpe Ratio with those weights."
   ]
  },
  {
   "cell_type": "code",
   "execution_count": 87,
   "metadata": {},
   "outputs": [
    {
     "data": {
      "text/plain": [
       "1.039672055952566"
      ]
     },
     "execution_count": 87,
     "metadata": {},
     "output_type": "execute_result"
    }
   ],
   "source": [
    "port_ret(opts['x']) / port_vol(opts['x'])  "
   ]
  },
  {
   "cell_type": "markdown",
   "metadata": {},
   "source": [
    "### Finding the minimum variance portfolio. \n",
    "\n",
    "We can do the same things and find the set of weights that **minimize portfolio variance**. Instead of minimizing the negative of the Sharpe Ratio, we'll minimize the function that contains the formula for portfolio volatility, *port_vol*. "
   ]
  },
  {
   "cell_type": "code",
   "execution_count": 88,
   "metadata": {},
   "outputs": [],
   "source": [
    "optv = sco.minimize(port_vol, eweights,\n",
    "                    method='SLSQP', bounds=bnds,\n",
    "                    constraints=cons)  "
   ]
  },
  {
   "cell_type": "code",
   "execution_count": 89,
   "metadata": {},
   "outputs": [
    {
     "data": {
      "text/plain": [
       "     fun: 0.10912534155379648\n",
       "     jac: array([0.11099017, 0.10919402, 0.10910396, 0.10915083])\n",
       " message: 'Optimization terminated successfully'\n",
       "    nfev: 45\n",
       "     nit: 9\n",
       "    njev: 9\n",
       "  status: 0\n",
       " success: True\n",
       "       x: array([1.40946282e-18, 0.00000000e+00, 5.43849155e-01, 4.56150845e-01])"
      ]
     },
     "execution_count": 89,
     "metadata": {},
     "output_type": "execute_result"
    }
   ],
   "source": [
    "optv\n"
   ]
  },
  {
   "cell_type": "code",
   "execution_count": 90,
   "metadata": {},
   "outputs": [
    {
     "data": {
      "text/plain": [
       "array([0.   , 0.   , 0.544, 0.456])"
      ]
     },
     "execution_count": 90,
     "metadata": {},
     "output_type": "execute_result"
    }
   ],
   "source": [
    "optv['x'].round(3)"
   ]
  },
  {
   "cell_type": "markdown",
   "metadata": {},
   "source": [
    "Nothing in our first asset, Apple. Since we are just minimizing variance, we don't care about Apple's nice return over this period. \n",
    "\n",
    "We can find the Sharpe Ratio for the minimum variance portfolio. Note how it is lower!\n",
    "\n",
    "Also, finding minimum variance and minimum volatility are the **same thing**, since volatility is just the square root of variance."
   ]
  },
  {
   "cell_type": "code",
   "execution_count": 91,
   "metadata": {},
   "outputs": [
    {
     "data": {
      "text/plain": [
       "0.109"
      ]
     },
     "execution_count": 91,
     "metadata": {},
     "output_type": "execute_result"
    }
   ],
   "source": [
    "port_vol(optv['x']).round(3)"
   ]
  },
  {
   "cell_type": "code",
   "execution_count": 92,
   "metadata": {},
   "outputs": [
    {
     "data": {
      "text/plain": [
       "0.072"
      ]
     },
     "execution_count": 92,
     "metadata": {},
     "output_type": "execute_result"
    }
   ],
   "source": [
    "port_ret(optv['x']).round(3)"
   ]
  },
  {
   "cell_type": "code",
   "execution_count": 93,
   "metadata": {},
   "outputs": [
    {
     "data": {
      "text/plain": [
       "0.6605053013045209"
      ]
     },
     "execution_count": 93,
     "metadata": {},
     "output_type": "execute_result"
    }
   ],
   "source": [
    "port_ret(optv['x']) / port_vol(optv['x'])"
   ]
  },
  {
   "cell_type": "markdown",
   "metadata": {},
   "source": [
    "## Efficient Frontier"
   ]
  },
  {
   "cell_type": "markdown",
   "metadata": {},
   "source": [
    "Let's now trace out the actual **efficient frontier**. We are going to follow an \"algorithm\", so to speak. Here are the steps:\n",
    "\n",
    "1) Pick a target return.\n",
    "2) Find the portfolio that gives you the minimum portfolio standard deviation (volatility) for that target return.\n",
    "3) Repeat this process for a large number of target returns."
   ]
  },
  {
   "cell_type": "markdown",
   "metadata": {},
   "source": [
    "These steps will find a bunch of different portfolios, all that live on the envelope of the set containing all of the possible portfolios. These are the portfolios on the efficient frontier. \n",
    "\n",
    "To do this, we now need two constraints. First, we want our portfolio return to be equal to some target return, *tret*. Second, we again have our weights must sum to one constraint.\n",
    "\n",
    "Both of these constraints can live inside of the *cons* tuple. This **tuple** contains two **dictionaries**. Kind of confusing, but we just need to understand the syntax for writing out different constraints. The only part that changes is the code after `lambda x:`. "
   ]
  },
  {
   "cell_type": "code",
   "execution_count": 94,
   "metadata": {},
   "outputs": [
    {
     "data": {
      "text/plain": [
       "tuple"
      ]
     },
     "execution_count": 94,
     "metadata": {},
     "output_type": "execute_result"
    }
   ],
   "source": [
    "cons = ({'type': 'eq', 'fun': lambda x:  port_ret(x) - tret},\n",
    "        {'type': 'eq', 'fun': lambda x:  np.sum(x) - 1})  \n",
    "type(cons)"
   ]
  },
  {
   "cell_type": "markdown",
   "metadata": {},
   "source": [
    "Our bounds again, same as before."
   ]
  },
  {
   "cell_type": "code",
   "execution_count": 95,
   "metadata": {},
   "outputs": [],
   "source": [
    "bnds = tuple((0, 1) for x in weights)"
   ]
  },
  {
   "cell_type": "markdown",
   "metadata": {},
   "source": [
    "Let's create an **array** of values from 0.05 to 0.20. This represents a minimum of a 5% return and a maximum of a 20% return. We'll do 50 evenly-spaced values. Each one of these represents one target return. We are going to find and store the minimum volatility that gives us each return."
   ]
  },
  {
   "cell_type": "code",
   "execution_count": 96,
   "metadata": {},
   "outputs": [
    {
     "name": "stdout",
     "output_type": "stream",
     "text": [
      "<class 'numpy.ndarray'>\n"
     ]
    },
    {
     "data": {
      "text/plain": [
       "array([0.05      , 0.05306122, 0.05612245, 0.05918367, 0.0622449 ,\n",
       "       0.06530612, 0.06836735, 0.07142857, 0.0744898 , 0.07755102,\n",
       "       0.08061224, 0.08367347, 0.08673469, 0.08979592, 0.09285714,\n",
       "       0.09591837, 0.09897959, 0.10204082, 0.10510204, 0.10816327,\n",
       "       0.11122449, 0.11428571, 0.11734694, 0.12040816, 0.12346939,\n",
       "       0.12653061, 0.12959184, 0.13265306, 0.13571429, 0.13877551,\n",
       "       0.14183673, 0.14489796, 0.14795918, 0.15102041, 0.15408163,\n",
       "       0.15714286, 0.16020408, 0.16326531, 0.16632653, 0.16938776,\n",
       "       0.17244898, 0.1755102 , 0.17857143, 0.18163265, 0.18469388,\n",
       "       0.1877551 , 0.19081633, 0.19387755, 0.19693878, 0.2       ])"
      ]
     },
     "execution_count": 96,
     "metadata": {},
     "output_type": "execute_result"
    }
   ],
   "source": [
    "trets = np.linspace(0.05, 0.2, 50)\n",
    "print(type(trets))\n",
    "trets"
   ]
  },
  {
   "cell_type": "markdown",
   "metadata": {},
   "source": [
    "And here's the optimization process. We start with an empty array that will eventually contain 50 different volatilities (standard deviations). Then, we loop through each target return in *trets*. Each one gets stored in *tret* and used in the For loop. The optimizer uses that target return as part of the constraint function that we included. We are then storing the value of the minimized portfolio volatility function in *tvols*. Note that we are not storing the weights for each portfolio. We only care about the minimum volatilities for each return."
   ]
  },
  {
   "cell_type": "code",
   "execution_count": 97,
   "metadata": {},
   "outputs": [
    {
     "name": "stdout",
     "output_type": "stream",
     "text": [
      "CPU times: user 10.2 s, sys: 186 ms, total: 10.4 s\n",
      "Wall time: 1.32 s\n"
     ]
    }
   ],
   "source": [
    "%%time\n",
    "tvols = []\n",
    "for tret in trets:\n",
    "    res = sco.minimize(port_vol, eweights, method='SLSQP',\n",
    "                       bounds=bnds, constraints=cons)  \n",
    "    tvols.append(res['fun'])\n",
    "tvols = np.array(tvols)"
   ]
  },
  {
   "cell_type": "markdown",
   "metadata": {},
   "source": [
    "And now we can plot our efficient frontier. The efficient frontier is each **target return, minimum volatility pair**. That blue line is the frontier and is being added by the first `plt.plot` statement. The second `plt.plot` adds the yellow star at the max Sharpe Ratio portfolio. The third `plt.plot` adds the red star at the global minimum variance portfolio. Notice how both of these are pulling the weights, *x*, out of their respective Optimizer objects. "
   ]
  },
  {
   "cell_type": "code",
   "execution_count": 98,
   "metadata": {},
   "outputs": [
    {
     "data": {
      "image/png": "[encoded data removed]",
      "text/plain": [
       "<Figure size 720x432 with 2 Axes>"
      ]
     },
     "metadata": {
      "needs_background": "light"
     },
     "output_type": "display_data"
    }
   ],
   "source": [
    "plt.figure(figsize=(10, 6))\n",
    "plt.scatter(pvols, prets, c=prets / pvols,\n",
    "            marker='.', alpha=0.8, cmap='coolwarm')\n",
    "plt.plot(tvols, trets, 'b', lw=4.0)\n",
    "plt.plot(port_vol(opts['x']), port_ret(opts['x']),\n",
    "         'y*', markersize=15.0)\n",
    "plt.plot(port_vol(optv['x']), port_ret(optv['x']),\n",
    "         'r*', markersize=15.0)\n",
    "plt.xlabel('expected volatility')\n",
    "plt.ylabel('expected return')\n",
    "plt.colorbar(label='Sharpe ratio');"
   ]
  },
  {
   "cell_type": "markdown",
   "metadata": {},
   "source": [
    "## PyPortfolioOpt\n",
    "\n",
    "To get started, you'll need to type `pip install PyPortfolioOpt` in your Terminal below. This will install the package, since it doesn't come with Anaconda. We can then bring in what we need.\n",
    "\n",
    "You can read all about the `PyPortfolioOpt` package [here](https://pypi.org/project/pyportfolioopt/).\n",
    "\n",
    "You can also find examples on the author's [Github page](https://github.com/robertmartin8/PyPortfolioOpt/tree/master/cookbook). The creator of this package runs a data/macro strategy consulting firm.\n",
    "\n",
    "```{figure} ../images/09-pyport.png\n",
    "---\n",
    "name: 09-pyport.png\n",
    "align: center\n",
    "---\n",
    "The portfolio optimization process. Source: PyPortfolioOpt\n",
    "```\n",
    "\n",
    "This [page](https://pyportfolioopt.readthedocs.io/en/latest/UserGuide.html) takes the explanations on the Github page and provides some nicer formatting."
   ]
  },
  {
   "cell_type": "code",
   "execution_count": 99,
   "metadata": {},
   "outputs": [],
   "source": [
    "from pypfopt.efficient_frontier import EfficientFrontier\n",
    "from pypfopt import risk_models, expected_returns, plotting"
   ]
  },
  {
   "cell_type": "markdown",
   "metadata": {},
   "source": [
    "We can find expected returns and the sample variance-covariance matrix using functions from `PyPortfolioOpt`. Notice that these functions want prices, not returns, by default. So, I'm using the DataFrame *data*, not *ret*. You can change this setting with the argument `returns_data = True`. \n",
    "\n",
    "I'll start by finding returns from prices. \n"
   ]
  },
  {
   "cell_type": "code",
   "execution_count": 100,
   "metadata": {},
   "outputs": [
    {
     "data": {
      "text/html": [
       "<div>\n",
       "<style scoped>\n",
       "    .dataframe tbody tr th:only-of-type {\n",
       "        vertical-align: middle;\n",
       "    }\n",
       "\n",
       "    .dataframe tbody tr th {\n",
       "        vertical-align: top;\n",
       "    }\n",
       "\n",
       "    .dataframe thead th {\n",
       "        text-align: right;\n",
       "    }\n",
       "</style>\n",
       "<table border=\"1\" class=\"dataframe\">\n",
       "  <thead>\n",
       "    <tr style=\"text-align: right;\">\n",
       "      <th></th>\n",
       "      <th>AAPL.O</th>\n",
       "      <th>MSFT.O</th>\n",
       "      <th>SPY</th>\n",
       "      <th>GLD</th>\n",
       "    </tr>\n",
       "    <tr>\n",
       "      <th>Date</th>\n",
       "      <th></th>\n",
       "      <th></th>\n",
       "      <th></th>\n",
       "      <th></th>\n",
       "    </tr>\n",
       "  </thead>\n",
       "  <tbody>\n",
       "    <tr>\n",
       "      <th>2010-01-05</th>\n",
       "      <td>0.001729</td>\n",
       "      <td>0.000323</td>\n",
       "      <td>0.002647</td>\n",
       "      <td>-0.000911</td>\n",
       "    </tr>\n",
       "    <tr>\n",
       "      <th>2010-01-06</th>\n",
       "      <td>-0.015906</td>\n",
       "      <td>-0.006137</td>\n",
       "      <td>0.000704</td>\n",
       "      <td>0.016500</td>\n",
       "    </tr>\n",
       "    <tr>\n",
       "      <th>2010-01-07</th>\n",
       "      <td>-0.001849</td>\n",
       "      <td>-0.010335</td>\n",
       "      <td>0.004221</td>\n",
       "      <td>-0.006188</td>\n",
       "    </tr>\n",
       "    <tr>\n",
       "      <th>2010-01-08</th>\n",
       "      <td>0.006648</td>\n",
       "      <td>0.006830</td>\n",
       "      <td>0.003328</td>\n",
       "      <td>0.004963</td>\n",
       "    </tr>\n",
       "    <tr>\n",
       "      <th>2010-01-11</th>\n",
       "      <td>-0.008822</td>\n",
       "      <td>-0.012720</td>\n",
       "      <td>0.001397</td>\n",
       "      <td>0.013289</td>\n",
       "    </tr>\n",
       "    <tr>\n",
       "      <th>...</th>\n",
       "      <td>...</td>\n",
       "      <td>...</td>\n",
       "      <td>...</td>\n",
       "      <td>...</td>\n",
       "    </tr>\n",
       "    <tr>\n",
       "      <th>2018-06-25</th>\n",
       "      <td>-0.014871</td>\n",
       "      <td>-0.020118</td>\n",
       "      <td>-0.013613</td>\n",
       "      <td>-0.003739</td>\n",
       "    </tr>\n",
       "    <tr>\n",
       "      <th>2018-06-26</th>\n",
       "      <td>0.012406</td>\n",
       "      <td>0.007013</td>\n",
       "      <td>0.002214</td>\n",
       "      <td>-0.005255</td>\n",
       "    </tr>\n",
       "    <tr>\n",
       "      <th>2018-06-27</th>\n",
       "      <td>-0.001464</td>\n",
       "      <td>-0.015543</td>\n",
       "      <td>-0.008284</td>\n",
       "      <td>-0.005702</td>\n",
       "    </tr>\n",
       "    <tr>\n",
       "      <th>2018-06-28</th>\n",
       "      <td>0.007276</td>\n",
       "      <td>0.011175</td>\n",
       "      <td>0.005717</td>\n",
       "      <td>-0.003036</td>\n",
       "    </tr>\n",
       "    <tr>\n",
       "      <th>2018-06-29</th>\n",
       "      <td>-0.002102</td>\n",
       "      <td>-0.000203</td>\n",
       "      <td>0.001440</td>\n",
       "      <td>0.003637</td>\n",
       "    </tr>\n",
       "  </tbody>\n",
       "</table>\n",
       "<p>2137 rows × 4 columns</p>\n",
       "</div>"
      ],
      "text/plain": [
       "              AAPL.O    MSFT.O       SPY       GLD\n",
       "Date                                              \n",
       "2010-01-05  0.001729  0.000323  0.002647 -0.000911\n",
       "2010-01-06 -0.015906 -0.006137  0.000704  0.016500\n",
       "2010-01-07 -0.001849 -0.010335  0.004221 -0.006188\n",
       "2010-01-08  0.006648  0.006830  0.003328  0.004963\n",
       "2010-01-11 -0.008822 -0.012720  0.001397  0.013289\n",
       "...              ...       ...       ...       ...\n",
       "2018-06-25 -0.014871 -0.020118 -0.013613 -0.003739\n",
       "2018-06-26  0.012406  0.007013  0.002214 -0.005255\n",
       "2018-06-27 -0.001464 -0.015543 -0.008284 -0.005702\n",
       "2018-06-28  0.007276  0.011175  0.005717 -0.003036\n",
       "2018-06-29 -0.002102 -0.000203  0.001440  0.003637\n",
       "\n",
       "[2137 rows x 4 columns]"
      ]
     },
     "execution_count": 100,
     "metadata": {},
     "output_type": "execute_result"
    }
   ],
   "source": [
    "rets_pyp = expected_returns.returns_from_prices(data)\n",
    "rets_pyp "
   ]
  },
  {
   "cell_type": "code",
   "execution_count": 101,
   "metadata": {},
   "outputs": [
    {
     "data": {
      "text/html": [
       "<div>\n",
       "<style scoped>\n",
       "    .dataframe tbody tr th:only-of-type {\n",
       "        vertical-align: middle;\n",
       "    }\n",
       "\n",
       "    .dataframe tbody tr th {\n",
       "        vertical-align: top;\n",
       "    }\n",
       "\n",
       "    .dataframe thead th {\n",
       "        text-align: right;\n",
       "    }\n",
       "</style>\n",
       "<table border=\"1\" class=\"dataframe\">\n",
       "  <thead>\n",
       "    <tr style=\"text-align: right;\">\n",
       "      <th></th>\n",
       "      <th>AAPL.O</th>\n",
       "      <th>MSFT.O</th>\n",
       "      <th>SPY</th>\n",
       "      <th>GLD</th>\n",
       "    </tr>\n",
       "    <tr>\n",
       "      <th>Date</th>\n",
       "      <th></th>\n",
       "      <th></th>\n",
       "      <th></th>\n",
       "      <th></th>\n",
       "    </tr>\n",
       "  </thead>\n",
       "  <tbody>\n",
       "    <tr>\n",
       "      <th>2010-01-05</th>\n",
       "      <td>0.001729</td>\n",
       "      <td>0.000323</td>\n",
       "      <td>0.002647</td>\n",
       "      <td>-0.000911</td>\n",
       "    </tr>\n",
       "    <tr>\n",
       "      <th>2010-01-06</th>\n",
       "      <td>-0.015906</td>\n",
       "      <td>-0.006137</td>\n",
       "      <td>0.000704</td>\n",
       "      <td>0.016500</td>\n",
       "    </tr>\n",
       "    <tr>\n",
       "      <th>2010-01-07</th>\n",
       "      <td>-0.001849</td>\n",
       "      <td>-0.010335</td>\n",
       "      <td>0.004221</td>\n",
       "      <td>-0.006188</td>\n",
       "    </tr>\n",
       "    <tr>\n",
       "      <th>2010-01-08</th>\n",
       "      <td>0.006648</td>\n",
       "      <td>0.006830</td>\n",
       "      <td>0.003328</td>\n",
       "      <td>0.004963</td>\n",
       "    </tr>\n",
       "    <tr>\n",
       "      <th>2010-01-11</th>\n",
       "      <td>-0.008822</td>\n",
       "      <td>-0.012720</td>\n",
       "      <td>0.001397</td>\n",
       "      <td>0.013289</td>\n",
       "    </tr>\n",
       "    <tr>\n",
       "      <th>...</th>\n",
       "      <td>...</td>\n",
       "      <td>...</td>\n",
       "      <td>...</td>\n",
       "      <td>...</td>\n",
       "    </tr>\n",
       "    <tr>\n",
       "      <th>2018-06-25</th>\n",
       "      <td>-0.014871</td>\n",
       "      <td>-0.020118</td>\n",
       "      <td>-0.013613</td>\n",
       "      <td>-0.003739</td>\n",
       "    </tr>\n",
       "    <tr>\n",
       "      <th>2018-06-26</th>\n",
       "      <td>0.012406</td>\n",
       "      <td>0.007013</td>\n",
       "      <td>0.002214</td>\n",
       "      <td>-0.005255</td>\n",
       "    </tr>\n",
       "    <tr>\n",
       "      <th>2018-06-27</th>\n",
       "      <td>-0.001464</td>\n",
       "      <td>-0.015543</td>\n",
       "      <td>-0.008284</td>\n",
       "      <td>-0.005702</td>\n",
       "    </tr>\n",
       "    <tr>\n",
       "      <th>2018-06-28</th>\n",
       "      <td>0.007276</td>\n",
       "      <td>0.011175</td>\n",
       "      <td>0.005717</td>\n",
       "      <td>-0.003036</td>\n",
       "    </tr>\n",
       "    <tr>\n",
       "      <th>2018-06-29</th>\n",
       "      <td>-0.002102</td>\n",
       "      <td>-0.000203</td>\n",
       "      <td>0.001440</td>\n",
       "      <td>0.003637</td>\n",
       "    </tr>\n",
       "  </tbody>\n",
       "</table>\n",
       "<p>2137 rows × 4 columns</p>\n",
       "</div>"
      ],
      "text/plain": [
       "              AAPL.O    MSFT.O       SPY       GLD\n",
       "Date                                              \n",
       "2010-01-05  0.001729  0.000323  0.002647 -0.000911\n",
       "2010-01-06 -0.015906 -0.006137  0.000704  0.016500\n",
       "2010-01-07 -0.001849 -0.010335  0.004221 -0.006188\n",
       "2010-01-08  0.006648  0.006830  0.003328  0.004963\n",
       "2010-01-11 -0.008822 -0.012720  0.001397  0.013289\n",
       "...              ...       ...       ...       ...\n",
       "2018-06-25 -0.014871 -0.020118 -0.013613 -0.003739\n",
       "2018-06-26  0.012406  0.007013  0.002214 -0.005255\n",
       "2018-06-27 -0.001464 -0.015543 -0.008284 -0.005702\n",
       "2018-06-28  0.007276  0.011175  0.005717 -0.003036\n",
       "2018-06-29 -0.002102 -0.000203  0.001440  0.003637\n",
       "\n",
       "[2137 rows x 4 columns]"
      ]
     },
     "execution_count": 101,
     "metadata": {},
     "output_type": "execute_result"
    }
   ],
   "source": [
    "rets"
   ]
  },
  {
   "cell_type": "markdown",
   "metadata": {},
   "source": [
    "We can compare that with our original return file and see that this function is calculating discrete returns by default, since the returns are the same. We can use the package to find annualized returns too. I'll give the function the price data again. I will also set compounding to False, as I don't want geometric means (CAGRs) for portfolio optimization. I want arithmetic means. The default for this function is that you have daily returns, or 252 time periods. Just like above. \n",
    "\n",
    "But, I'll add each option, just so that you can that they are there."
   ]
  },
  {
   "cell_type": "code",
   "execution_count": 102,
   "metadata": {},
   "outputs": [
    {
     "data": {
      "text/plain": [
       "AAPL.O    0.244313\n",
       "MSFT.O    0.162139\n",
       "SPY       0.113901\n",
       "GLD       0.022214\n",
       "dtype: float64"
      ]
     },
     "execution_count": 102,
     "metadata": {},
     "output_type": "execute_result"
    }
   ],
   "source": [
    "mu = expected_returns.mean_historical_return(data, compounding = False, log_returns = False, frequency = 252)\n",
    "mu"
   ]
  },
  {
   "cell_type": "markdown",
   "metadata": {},
   "source": [
    "You can actually see the [code for these functions](https://github.com/robertmartin8/PyPortfolioOpt/blob/master/pypfopt/expected_returns.py). I like looking through code like this to both learn what these functions are doing, what my options are, etc., as well as learning how to write better Python myself!\n",
    "\n",
    "You'll note that the annualized returns are different from the ones I got above. If you follow the code for this function, that's because, with the options that I've chosen, the function is taking the average daily return and multiplying by 252 to get the annual return.\n",
    "\n",
    "You can see that by taking my returns and doing the multiplication ourselves."
   ]
  },
  {
   "cell_type": "code",
   "execution_count": 103,
   "metadata": {},
   "outputs": [
    {
     "data": {
      "text/plain": [
       "AAPL.O    0.244313\n",
       "MSFT.O    0.162139\n",
       "SPY       0.113901\n",
       "GLD       0.022214\n",
       "dtype: float64"
      ]
     },
     "execution_count": 103,
     "metadata": {},
     "output_type": "execute_result"
    }
   ],
   "source": [
    "rets.mean()*252"
   ]
  },
  {
   "cell_type": "markdown",
   "metadata": {},
   "source": [
    "The package author has a good comment in his documents about the issues with using historical data for returns: \n",
    "\n",
    "> This is probably the default textbook approach. It is intuitive and easily interpretable,\n",
    "    however the estimates are subject to large uncertainty. This is a problem especially in the\n",
    "    context of a mean-variance optimizer, which will maximise the erroneous inputs.\n",
    "\n",
    "In other words, the assets with the largest historical returns are likely the assets with the greatest estimation error. But, the simplest optimization methods, like what we're doing, will choose those assets! And, the same is true for the worst performing assets. Their negative performance might be exaggerated too. \n"
   ]
  },
  {
   "cell_type": "markdown",
   "metadata": {},
   "source": [
    "Next, we can create and store the **sample variance-covariance matrix**. \"Sample\" means that we are using sample variance and covariance (as opposed to population variance and covariance). "
   ]
  },
  {
   "cell_type": "code",
   "execution_count": 104,
   "metadata": {},
   "outputs": [
    {
     "data": {
      "text/html": [
       "<div>\n",
       "<style scoped>\n",
       "    .dataframe tbody tr th:only-of-type {\n",
       "        vertical-align: middle;\n",
       "    }\n",
       "\n",
       "    .dataframe tbody tr th {\n",
       "        vertical-align: top;\n",
       "    }\n",
       "\n",
       "    .dataframe thead th {\n",
       "        text-align: right;\n",
       "    }\n",
       "</style>\n",
       "<table border=\"1\" class=\"dataframe\">\n",
       "  <thead>\n",
       "    <tr style=\"text-align: right;\">\n",
       "      <th></th>\n",
       "      <th>AAPL.O</th>\n",
       "      <th>MSFT.O</th>\n",
       "      <th>SPY</th>\n",
       "      <th>GLD</th>\n",
       "    </tr>\n",
       "  </thead>\n",
       "  <tbody>\n",
       "    <tr>\n",
       "      <th>AAPL.O</th>\n",
       "      <td>0.063710</td>\n",
       "      <td>0.023364</td>\n",
       "      <td>0.021015</td>\n",
       "      <td>0.001497</td>\n",
       "    </tr>\n",
       "    <tr>\n",
       "      <th>MSFT.O</th>\n",
       "      <td>0.023364</td>\n",
       "      <td>0.050965</td>\n",
       "      <td>0.022193</td>\n",
       "      <td>-0.000337</td>\n",
       "    </tr>\n",
       "    <tr>\n",
       "      <th>SPY</th>\n",
       "      <td>0.021015</td>\n",
       "      <td>0.022193</td>\n",
       "      <td>0.021858</td>\n",
       "      <td>0.000041</td>\n",
       "    </tr>\n",
       "    <tr>\n",
       "      <th>GLD</th>\n",
       "      <td>0.001497</td>\n",
       "      <td>-0.000337</td>\n",
       "      <td>0.000041</td>\n",
       "      <td>0.026063</td>\n",
       "    </tr>\n",
       "  </tbody>\n",
       "</table>\n",
       "</div>"
      ],
      "text/plain": [
       "          AAPL.O    MSFT.O       SPY       GLD\n",
       "AAPL.O  0.063710  0.023364  0.021015  0.001497\n",
       "MSFT.O  0.023364  0.050965  0.022193 -0.000337\n",
       "SPY     0.021015  0.022193  0.021858  0.000041\n",
       "GLD     0.001497 -0.000337  0.000041  0.026063"
      ]
     },
     "execution_count": 104,
     "metadata": {},
     "output_type": "execute_result"
    }
   ],
   "source": [
    "S = risk_models.sample_cov(data)\n",
    "S"
   ]
  },
  {
   "cell_type": "markdown",
   "metadata": {},
   "source": [
    "`PyPortfolioOpt` has built-in plotting functions that create `matplotlib` plots, among other plot types. Here's one showing the correlations among our four assets. Gold immediately stands out."
   ]
  },
  {
   "cell_type": "code",
   "execution_count": 105,
   "metadata": {},
   "outputs": [
    {
     "data": {
      "text/plain": [
       "<AxesSubplot:>"
      ]
     },
     "execution_count": 105,
     "metadata": {},
     "output_type": "execute_result"
    },
    {
     "data": {
      "image/png": "[encoded data removed]",
      "text/plain": [
       "<Figure size 432x288 with 2 Axes>"
      ]
     },
     "metadata": {
      "needs_background": "light"
     },
     "output_type": "display_data"
    }
   ],
   "source": [
    "plotting.plot_covariance(S, plot_correlation=True)"
   ]
  },
  {
   "cell_type": "markdown",
   "metadata": {},
   "source": [
    "Let's find our max Sharpe portfolio. We'll do this step-by-step. First, we'll use the function `EfficientFrontier` to find and create an object that contains the information needed to describe the efficient frontier for these assets. Note that you just need the expected returns and the variance-covariance matrix to define the efficient frontier. "
   ]
  },
  {
   "cell_type": "code",
   "execution_count": 106,
   "metadata": {},
   "outputs": [
    {
     "data": {
      "text/plain": [
       "<pypfopt.efficient_frontier.efficient_frontier.EfficientFrontier at 0x7fc500f44550>"
      ]
     },
     "execution_count": 106,
     "metadata": {},
     "output_type": "execute_result"
    }
   ],
   "source": [
    "ef = EfficientFrontier(mu, S)\n",
    "ef"
   ]
  },
  {
   "cell_type": "markdown",
   "metadata": {},
   "source": [
    "This *ef* object contains useful things. For example, it let's us pull our the max Sharpe portfolio for a given risk-free rate. Remember, you pick a risk-free rate and draw that tangency line over to the efficient frontier. So, different assumed risk-free rates give you different max Sharpe portfolios. "
   ]
  },
  {
   "cell_type": "code",
   "execution_count": 107,
   "metadata": {},
   "outputs": [
    {
     "data": {
      "text/plain": [
       "OrderedDict([('AAPL.O', 0.688149209643207),\n",
       "             ('MSFT.O', 0.311850790356793),\n",
       "             ('SPY', 0.0),\n",
       "             ('GLD', 0.0)])"
      ]
     },
     "execution_count": 107,
     "metadata": {},
     "output_type": "execute_result"
    }
   ],
   "source": [
    "raw_weights = ef.max_sharpe(risk_free_rate = 0.025)\n",
    "raw_weights\n"
   ]
  },
  {
   "cell_type": "markdown",
   "metadata": {},
   "source": [
    "This comes out as a type of **Dictionary**. We can use `clean_weights()` to get rid of some of the decimal places."
   ]
  },
  {
   "cell_type": "code",
   "execution_count": 108,
   "metadata": {},
   "outputs": [
    {
     "data": {
      "text/plain": [
       "OrderedDict([('AAPL.O', 0.68815),\n",
       "             ('MSFT.O', 0.31185),\n",
       "             ('SPY', 0.0),\n",
       "             ('GLD', 0.0)])"
      ]
     },
     "execution_count": 108,
     "metadata": {},
     "output_type": "execute_result"
    }
   ],
   "source": [
    "cleaned_weights = ef.clean_weights()\n",
    "cleaned_weights"
   ]
  },
  {
   "cell_type": "markdown",
   "metadata": {},
   "source": [
    "Finally, we can pull out the return and risk characteristics of this max Sharpe portfolio with that assumed risk-free rate. "
   ]
  },
  {
   "cell_type": "code",
   "execution_count": 109,
   "metadata": {},
   "outputs": [
    {
     "name": "stdout",
     "output_type": "stream",
     "text": [
      "Expected annual return: 21.9%\n",
      "Annual volatility: 21.2%\n",
      "Sharpe Ratio: 0.91\n"
     ]
    },
    {
     "data": {
      "text/plain": [
       "(0.21868665539725798, 0.2124945591992392, 0.9114899512116612)"
      ]
     },
     "execution_count": 109,
     "metadata": {},
     "output_type": "execute_result"
    }
   ],
   "source": [
    "perf = ef.portfolio_performance(verbose=True, risk_free_rate = 0.025)\n",
    "perf"
   ]
  },
  {
   "cell_type": "markdown",
   "metadata": {},
   "source": [
    "You can even access the individual values in this *perf* `tuple` I created. Here's the expected annual return"
   ]
  },
  {
   "cell_type": "code",
   "execution_count": 110,
   "metadata": {},
   "outputs": [
    {
     "data": {
      "text/plain": [
       "tuple"
      ]
     },
     "execution_count": 110,
     "metadata": {},
     "output_type": "execute_result"
    }
   ],
   "source": [
    "type(perf)"
   ]
  },
  {
   "cell_type": "code",
   "execution_count": 111,
   "metadata": {},
   "outputs": [
    {
     "data": {
      "text/plain": [
       "0.21868665539725798"
      ]
     },
     "execution_count": 111,
     "metadata": {},
     "output_type": "execute_result"
    }
   ],
   "source": [
    "perf[0]"
   ]
  },
  {
   "cell_type": "markdown",
   "metadata": {},
   "source": [
    "This package does much more than this. I encourage you to take a look! Here's one additional example, with some weight bounds for the assets added to the `EfficientFrontier` method. See how Apple hits the upper limit I set of 50%? Apple did so well during this period that the optimizer really wants us to put most of money in it. Is that a good idea?"
   ]
  },
  {
   "cell_type": "code",
   "execution_count": 112,
   "metadata": {},
   "outputs": [
    {
     "name": "stdout",
     "output_type": "stream",
     "text": [
      "OrderedDict([('AAPL.O', 0.5), ('MSFT.O', 0.28465), ('SPY', 0.15223), ('GLD', 0.06311)])\n",
      "Expected annual return: 18.7%\n",
      "Annual volatility: 18.0%\n",
      "Sharpe Ratio: 0.93\n"
     ]
    },
    {
     "data": {
      "text/plain": [
       "(0.18705115513924062, 0.18034328618093198, 0.9262953929521067)"
      ]
     },
     "execution_count": 112,
     "metadata": {},
     "output_type": "execute_result"
    }
   ],
   "source": [
    "ef = EfficientFrontier(mu, S, weight_bounds=(-0.2, 0.5))\n",
    "raw_weights = ef.max_sharpe()\n",
    "cleaned_weights = ef.clean_weights()\n",
    "print(cleaned_weights)\n",
    "ef.portfolio_performance(verbose=True)"
   ]
  }
 ],
 "metadata": {
  "interpreter": {
   "hash": "b67b392f8c699abfccff34ffff3abf55b26d6520ea7ac337064f990a3d8607af"
  },
  "kernelspec": {
   "display_name": "Python 3.9.7 ('base')",
   "language": "python",
   "name": "python3"
  },
  "language_info": {
   "codemirror_mode": {
    "name": "ipython",
    "version": 3
   },
   "file_extension": ".py",
   "mimetype": "text/x-python",
   "name": "python",
   "nbconvert_exporter": "python",
   "pygments_lexer": "ipython3",
   "version": "3.9.7"
  },
  "orig_nbformat": 4
 },
 "nbformat": 4,
 "nbformat_minor": 2
}
