{
 "cells": [
  {
   "attachments": {},
   "cell_type": "markdown",
   "metadata": {},
   "source": [
    "# Using ChatGPT\n",
    "\n",
    "There are now many AI-based tools to help us code. These tools can create code outlines for us, check our own code, write functions, and explain the steps. I'm going to show you a few examples using the free [OpenAI ChapGPT tools](https://chat.openai.com).\n",
    "\n",
    "If you use Github and VS Code, you can sign-up for [CoPilot](https://github.com/features/copilot/). \n",
    "\n",
    "This paper by [Liu, Miller, and Niu (2023)](https://papers.ssrn.com/sol3/papers.cfm?abstract_id=4412371) has some great examples of how to use ChatGPT in a course like this one.\n",
    "\n",
    "```{note}\n",
    "There's a trade-off when using AI code assists. They will make you faster and check your syntax. They work well for simple tasks in a introductory course like this. But, at some point, you want to understand the code. You'll need to tweak it to get it to work. And, if you're doing more interesting coding, they may be of limited use. So - use them, but with these caveats in mind!\n",
    "```\n",
    "\n",
    "## Using GPT to Write a Function For You\n",
    "\n",
    "Let's go to Chapter 7, where I show you how to write a function to generate asset paths using **geometric brownian motion**. We use the Nasdaq API to bring in some bitcoin data in that example. Now, I'm going to use ChatGPT to write the same function. I gave GPT4 the following prompt:\n",
    "\n",
    "> Write a function in Python that simulates geometric brownian motion for any number of assets. Create the appropriate inputs as arrays. The inputs should be the number of assets, the mean for each asset, the standard deviation for each asset, the number of periods, the initial value of each asset, and the number of simulations. The output should be an array that contains all of the simulations for each asset. These are uncorrelated assets, so don't worry about covariance.\n",
    "\n",
    "Here's the code that it gave me:"
   ]
  },
  {
   "cell_type": "code",
   "execution_count": null,
   "metadata": {},
   "outputs": [],
   "source": [
    "import numpy as np\n",
    "\n",
    "def geometric_brownian_motion(num_assets, means, std_devs, num_periods, initial_values, num_simulations):\n",
    "    if len(means) != num_assets or len(std_devs) != num_assets or len(initial_values) != num_assets:\n",
    "        raise ValueError(\"The length of means, std_devs, and initial_values should be equal to the number of assets\")\n",
    "\n",
    "    # Initialize an array to store the simulations\n",
    "    simulations = np.zeros((num_simulations, num_periods + 1, num_assets))\n",
    "\n",
    "    # Set the initial values for each simulation\n",
    "    simulations[:, 0, :] = initial_values\n",
    "\n",
    "    # Time step\n",
    "    dt = 1.0\n",
    "\n",
    "    # Loop through each simulation\n",
    "    for sim in range(num_simulations):\n",
    "        # Loop through each time period\n",
    "        for t in range(1, num_periods + 1):\n",
    "            # Loop through each asset\n",
    "            for asset in range(num_assets):\n",
    "                # Generate a random normal value (using mean=0 and std_dev=1) for the brownian motion\n",
    "                random_normal = np.random.normal(0, 1)\n",
    "\n",
    "                # Calculate the change in asset value using geometric brownian motion\n",
    "                change = means[asset] * dt + std_devs[asset] * np.sqrt(dt) * random_normal\n",
    "\n",
    "                # Update the asset value\n",
    "                simulations[sim, t, asset] = simulations[sim, t - 1, asset] * np.exp(change)\n",
    "\n",
    "    return simulations\n",
    "\n",
    "# Example usage\n",
    "num_assets = 3\n",
    "means = np.array([0.05, 0.06, 0.07])\n",
    "std_devs = np.array([0.1, 0.12, 0.14])\n",
    "num_periods = 100\n",
    "initial_values = np.array([100, 120, 140])\n",
    "num_simulations = 1000\n",
    "\n",
    "simulations = geometric_brownian_motion(num_assets, means, std_devs, num_periods, initial_values, num_simulations)\n",
    "print(simulations)"
   ]
  },
  {
   "attachments": {},
   "cell_type": "markdown",
   "metadata": {},
   "source": [
    "Here's the GPT explanation of the code.\n",
    "\n",
    "> This function accepts the following inputs:\n",
    "\n",
    "> num_assets: the number of assets \\\n",
    "means: a NumPy array containing the mean return for each asset \\\n",
    "std_devs: a NumPy array containing the standard deviation of return for each asset \\\n",
    "num_periods: the number of time periods \\\n",
    "initial_values: a NumPy array containing the initial value for each asset \\\n",
    "num_simulations: the number of simulations to run\n",
    "\n",
    "> The function returns a 3D NumPy array containing the simulations for each asset, with dimensions (num_simulations, num_periods + 1, num_assets)."
   ]
  },
  {
   "attachments": {},
   "cell_type": "markdown",
   "metadata": {},
   "source": [
    "Let's look a bit more at the output. I'll get its `.shape` attribute."
   ]
  },
  {
   "cell_type": "code",
   "execution_count": null,
   "metadata": {},
   "outputs": [],
   "source": [
    "type(simulations)"
   ]
  },
  {
   "cell_type": "code",
   "execution_count": null,
   "metadata": {},
   "outputs": [],
   "source": [
    "simulations.shape"
   ]
  },
  {
   "attachments": {},
   "cell_type": "markdown",
   "metadata": {},
   "source": [
    "The output is a **three-dimensional array**. We can pull out all of the simulations for one asset, as well as a single simulation for one asset. Or anything else."
   ]
  },
  {
   "cell_type": "code",
   "execution_count": null,
   "metadata": {},
   "outputs": [],
   "source": [
    "# All simulations for the first asset.\n",
    "simulations[:,:,0]"
   ]
  },
  {
   "cell_type": "code",
   "execution_count": null,
   "metadata": {},
   "outputs": [],
   "source": [
    "# All simulations for the second asset.\n",
    "simulations[:,:,1]"
   ]
  },
  {
   "cell_type": "code",
   "execution_count": null,
   "metadata": {},
   "outputs": [],
   "source": [
    "# First simulation for the first asset\n",
    "\n",
    "simulations[0,:,0]"
   ]
  },
  {
   "attachments": {},
   "cell_type": "markdown",
   "metadata": {},
   "source": [
    "Compare this code to the one we used above. What's different? What stands out to you? What assumptions did it make? What's up with these numbers?\n",
    "\n",
    "GPT is quite good at creating code that has been done in a lot of places. It has trained on millions of online tutorials and examples. However, you still want to follow the logic and check for errors. **There will be errors.**\n",
    "\n",
    "**You can have a \"dialog\" with GPT.** Look at the code. Is it what you want? You can ask it to change it for you.\n",
    "\n",
    "**What does that leave for us to do?** Use GPT to start sketching your code. Figure out the questions that you're trying answer. What's the problem that you're trying to solve? Who are you solving it for? What will the answer look like? What will it tell you?\n",
    "\n",
    "Using tools like GPT, Github Co-Pilot, etc. is like having a team of junior programmers working for you. They can make the job easier, but it is still up to you to know what's an interesting question in the first place. **You still need to use your domain expertise and creativity to come up with solutions to problems that aren't in an online Python tutorials.**"
   ]
  },
  {
   "attachments": {},
   "cell_type": "markdown",
   "metadata": {},
   "source": [
    "## Using ChatGPT to Check Our Code\n",
    "\n",
    "Below, I have borrowed some code from our portfolio optimization code. However, there is one small problem, based on one I encountered in class. One of those small, tiny errors that can be so frustrating! Do you see it?"
   ]
  },
  {
   "cell_type": "code",
   "execution_count": 3,
   "metadata": {},
   "outputs": [
    {
     "ename": "AxisError",
     "evalue": "axis -1 is out of bounds for array of dimension 0",
     "output_type": "error",
     "traceback": [
      "\u001b[0;31m---------------------------------------------------------------------------\u001b[0m",
      "\u001b[0;31mAxisError\u001b[0m                                 Traceback (most recent call last)",
      "\u001b[1;32m/Users/adamaiken/Documents/fin-data-analysis-text/chapters/17_using_chatgpt.ipynb Cell 13\u001b[0m in \u001b[0;36m<cell line: 36>\u001b[0;34m()\u001b[0m\n\u001b[1;32m     <a href='vscode-notebook-cell:/Users/adamaiken/Documents/fin-data-analysis-text/chapters/17_using_chatgpt.ipynb#X60sZmlsZQ%3D%3D?line=32'>33</a>\u001b[0m \u001b[39mdef\u001b[39;00m \u001b[39msharpe\u001b[39m(weights):  \n\u001b[1;32m     <a href='vscode-notebook-cell:/Users/adamaiken/Documents/fin-data-analysis-text/chapters/17_using_chatgpt.ipynb#X60sZmlsZQ%3D%3D?line=33'>34</a>\u001b[0m     \u001b[39mreturn\u001b[39;00m port_ret(weights) \u001b[39m/\u001b[39m port_vol(weights)  \n\u001b[0;32m---> <a href='vscode-notebook-cell:/Users/adamaiken/Documents/fin-data-analysis-text/chapters/17_using_chatgpt.ipynb#X60sZmlsZQ%3D%3D?line=35'>36</a>\u001b[0m sharpe(weights)\n",
      "\u001b[1;32m/Users/adamaiken/Documents/fin-data-analysis-text/chapters/17_using_chatgpt.ipynb Cell 13\u001b[0m in \u001b[0;36msharpe\u001b[0;34m(weights)\u001b[0m\n\u001b[1;32m     <a href='vscode-notebook-cell:/Users/adamaiken/Documents/fin-data-analysis-text/chapters/17_using_chatgpt.ipynb#X60sZmlsZQ%3D%3D?line=32'>33</a>\u001b[0m \u001b[39mdef\u001b[39;00m \u001b[39msharpe\u001b[39m(weights):  \n\u001b[0;32m---> <a href='vscode-notebook-cell:/Users/adamaiken/Documents/fin-data-analysis-text/chapters/17_using_chatgpt.ipynb#X60sZmlsZQ%3D%3D?line=33'>34</a>\u001b[0m     \u001b[39mreturn\u001b[39;00m port_ret(weights) \u001b[39m/\u001b[39m port_vol(weights)\n",
      "\u001b[1;32m/Users/adamaiken/Documents/fin-data-analysis-text/chapters/17_using_chatgpt.ipynb Cell 13\u001b[0m in \u001b[0;36mport_vol\u001b[0;34m(weights)\u001b[0m\n\u001b[1;32m     <a href='vscode-notebook-cell:/Users/adamaiken/Documents/fin-data-analysis-text/chapters/17_using_chatgpt.ipynb#X60sZmlsZQ%3D%3D?line=29'>30</a>\u001b[0m \u001b[39mdef\u001b[39;00m \u001b[39mport_vol\u001b[39m(weights):\n\u001b[0;32m---> <a href='vscode-notebook-cell:/Users/adamaiken/Documents/fin-data-analysis-text/chapters/17_using_chatgpt.ipynb#X60sZmlsZQ%3D%3D?line=30'>31</a>\u001b[0m     \u001b[39mreturn\u001b[39;00m np\u001b[39m.\u001b[39;49msort(np\u001b[39m.\u001b[39;49mdot(weights\u001b[39m.\u001b[39;49mT, np\u001b[39m.\u001b[39;49mdot(rets\u001b[39m.\u001b[39;49mcov() \u001b[39m*\u001b[39;49m \u001b[39m252\u001b[39;49m, weights)))\n",
      "File \u001b[0;32m<__array_function__ internals>:180\u001b[0m, in \u001b[0;36msort\u001b[0;34m(*args, **kwargs)\u001b[0m\n",
      "File \u001b[0;32m/opt/anaconda3/lib/python3.9/site-packages/numpy/core/fromnumeric.py:1004\u001b[0m, in \u001b[0;36msort\u001b[0;34m(a, axis, kind, order)\u001b[0m\n\u001b[1;32m   1002\u001b[0m \u001b[39melse\u001b[39;00m:\n\u001b[1;32m   1003\u001b[0m     a \u001b[39m=\u001b[39m asanyarray(a)\u001b[39m.\u001b[39mcopy(order\u001b[39m=\u001b[39m\u001b[39m\"\u001b[39m\u001b[39mK\u001b[39m\u001b[39m\"\u001b[39m)\n\u001b[0;32m-> 1004\u001b[0m a\u001b[39m.\u001b[39;49msort(axis\u001b[39m=\u001b[39;49maxis, kind\u001b[39m=\u001b[39;49mkind, order\u001b[39m=\u001b[39;49morder)\n\u001b[1;32m   1005\u001b[0m \u001b[39mreturn\u001b[39;00m a\n",
      "\u001b[0;31mAxisError\u001b[0m: axis -1 is out of bounds for array of dimension 0"
     ]
    }
   ],
   "source": [
    "# Read in some eod prices\n",
    "import numpy as np\n",
    "import pandas as pd\n",
    "\n",
    "from pylab import mpl, plt\n",
    "\n",
    "import scipy.optimize as sco\n",
    "\n",
    "raw = pd.read_csv('https://raw.githubusercontent.com/aaiken1/fin-data-analysis-python/main/data/tr_eikon_eod_data.csv',\n",
    "                  index_col=0, parse_dates=True).dropna() \n",
    "\n",
    "symbols = ['AAPL.O', 'MSFT.O', 'SPY', 'GLD'] #two stocks and two ETFs\n",
    "\n",
    "noa = len(symbols) #noa = number of assets\n",
    "\n",
    "data = raw[symbols]\n",
    "\n",
    "rets = data.pct_change().dropna()\n",
    "\n",
    "noa = 4\n",
    "\n",
    "weights = np.random.random(noa)\n",
    "weights /= np.sum(weights)\n",
    "\n",
    "ann_rets = rets.mean() * 252\n",
    "\n",
    "def port_ret(weights):\n",
    "    return np.sum(ann_rets * weights)\n",
    "\n",
    "def port_vol(weights):\n",
    "    return np.sort(np.dot(weights.T, np.dot(rets.cov() * 252, weights)))\n",
    "\n",
    "def sharpe(weights):  \n",
    "    return port_ret(weights) / port_vol(weights)  \n",
    "\n",
    "sharpe(weights)\n"
   ]
  },
  {
   "attachments": {},
   "cell_type": "markdown",
   "metadata": {},
   "source": [
    "Huh... Let's see if ChatGPT can help us out. I'm going to copy and paste the code and ask it to find the mistake. It does!\n",
    "\n",
    "```{figure} ../images/17-gpt-find-error.png\n",
    "---\n",
    "name: 17-gpt-find-error.png\n",
    "align: center\n",
    "class: with-border\n",
    "---\n",
    "You can use ChatGPT to find errors in your code.\n",
    "```"
   ]
  }
 ],
 "metadata": {
  "kernelspec": {
   "display_name": "base",
   "language": "python",
   "name": "python3"
  },
  "language_info": {
   "codemirror_mode": {
    "name": "ipython",
    "version": 3
   },
   "file_extension": ".py",
   "mimetype": "text/x-python",
   "name": "python",
   "nbconvert_exporter": "python",
   "pygments_lexer": "ipython3",
   "version": "3.9.13"
  },
  "orig_nbformat": 4,
  "vscode": {
   "interpreter": {
    "hash": "40d3a090f54c6569ab1632332b64b2c03c39dcf918b08424e98f38b5ae0af88f"
   }
  }
 },
 "nbformat": 4,
 "nbformat_minor": 2
}
