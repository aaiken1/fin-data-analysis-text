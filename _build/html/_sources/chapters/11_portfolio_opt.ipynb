{
 "cells": [
  {
   "cell_type": "markdown",
   "metadata": {},
   "source": [
    "# Portfolio optimization\n",
    "\n",
    "Portfolio optimization is an important part of many quantitative strategies. You take some inputs related to risk and return and you try to find the portfolio with the desired characteristics. Those characteristics might be something like the best risk-reward trade-off, often given with a Sharpe Ratio. Or, you might be trying to find a portfolio with a particular expected return and the lowest possible risk to get that return. \n",
    "\n",
    "We'll start with the example of portfolio optimization using `scipy.optimize`, very similar to the code found in Chapter 13 of our textbook. This is very much like using **Solver in Excel**. You are having Python numerically solve an optimization problem with some set of constraints or limits on the answer. This means that Python will try to guess values until it gets really, really close to the \"best\" possible solution.\n",
    "\n",
    "We are also going to see some interesting Python. We'll use **tuples**, a basic (primitive) data type in Python. We have **for** loops. We'll **define our own functions**. We'll even use something called a **lambda function**. \n",
    "\n",
    "Finally, we'll use the `PyPortfolioOpt` [package](https://pypi.org/project/pyportfolioopt/), which is also discussed in the DataCamp assignments. This lets us avoid some of the more math-like aspects of using `scipy.optimize` and have a library do the work for us using more familiar finance terms. Still, I think it is really important to understand at least a little bit about the optimization process itself. These tools are used in all sorts of applications.\n"
   ]
  },
  {
   "cell_type": "markdown",
   "metadata": {},
   "source": [
    "## Getting started\n",
    "Let's bring in our usual set of prices, pick four assets, calculate **discrete** returns, and plot a histogram of those returns.\n",
    "\n",
    "We are going to use **discrete** (or simple, or arithmetic) returns instead of **log** returns, because we are doing **portfolio optimization**. In short, the return of a portfolio is the weighted average of the mean discrete returns. This is not true for mean log returns."
   ]
  },
  {
   "cell_type": "code",
   "execution_count": 42,
   "metadata": {},
   "outputs": [
    {
     "data": {
      "image/png": "[encoded data removed]",
      "text/plain": [
       "<Figure size 720x576 with 4 Axes>"
      ]
     },
     "metadata": {
      "needs_background": "light"
     },
     "output_type": "display_data"
    }
   ],
   "source": [
    "# Read in some eod prices\n",
    "import numpy as np\n",
    "import pandas as pd\n",
    "\n",
    "from pylab import mpl, plt\n",
    "\n",
    "import scipy.optimize as sco\n",
    "\n",
    "raw = pd.read_csv('https://raw.githubusercontent.com/aaiken1/fin-data-analysis-python/main/data/tr_eikon_eod_data.csv',\n",
    "                  index_col=0, parse_dates=True).dropna() \n",
    "\n",
    "symbols = ['AAPL.O', 'MSFT.O', 'SPY', 'GLD'] #two stocks and two ETFs\n",
    "\n",
    "noa = len(symbols) #noa = number of assets\n",
    "\n",
    "data = raw[symbols]\n",
    "\n",
    "rets = data.pct_change().dropna()\n",
    "\n",
    "rets.hist(bins=40, figsize=(10, 8));"
   ]
  },
  {
   "cell_type": "markdown",
   "metadata": {},
   "source": [
    "We can the average daily return of each of these four sets of discrete returns and annualize them. You can annualize daily log returns by multiplying by 252, the number of trading days in a year. You can not do this with discrete returns, or $\\frac{P_t}{P_{t-1}} - 1$. Instead, you **compound them and do $(1+dailyaverage)^{252} - 1$."
   ]
  },
  {
   "cell_type": "code",
   "execution_count": 43,
   "metadata": {},
   "outputs": [
    {
     "data": {
      "text/plain": [
       "AAPL.O    0.276592\n",
       "MSFT.O    0.175962\n",
       "SPY       0.120612\n",
       "GLD       0.022462\n",
       "dtype: float64"
      ]
     },
     "execution_count": 43,
     "metadata": {},
     "output_type": "execute_result"
    }
   ],
   "source": [
    "(1+rets.mean())**252-1"
   ]
  },
  {
   "cell_type": "code",
   "execution_count": 44,
   "metadata": {},
   "outputs": [],
   "source": [
    "ann_rets = (1+rets.mean())**252-1"
   ]
  },
  {
   "cell_type": "markdown",
   "metadata": {},
   "source": [
    "Same thing with variance and covariance. We are going to take a short-cut and annualize the daily variances and covariances by multiplying by 252. You would annualize standard deviation by multiplying by $\\sqrt{252}$. Technically, you should only do this with log returns."
   ]
  },
  {
   "cell_type": "code",
   "execution_count": 45,
   "metadata": {},
   "outputs": [
    {
     "data": {
      "text/html": [
       "<div>\n",
       "<style scoped>\n",
       "    .dataframe tbody tr th:only-of-type {\n",
       "        vertical-align: middle;\n",
       "    }\n",
       "\n",
       "    .dataframe tbody tr th {\n",
       "        vertical-align: top;\n",
       "    }\n",
       "\n",
       "    .dataframe thead th {\n",
       "        text-align: right;\n",
       "    }\n",
       "</style>\n",
       "<table border=\"1\" class=\"dataframe\">\n",
       "  <thead>\n",
       "    <tr style=\"text-align: right;\">\n",
       "      <th></th>\n",
       "      <th>AAPL.O</th>\n",
       "      <th>MSFT.O</th>\n",
       "      <th>SPY</th>\n",
       "      <th>GLD</th>\n",
       "    </tr>\n",
       "  </thead>\n",
       "  <tbody>\n",
       "    <tr>\n",
       "      <th>AAPL.O</th>\n",
       "      <td>0.063710</td>\n",
       "      <td>0.023364</td>\n",
       "      <td>0.021015</td>\n",
       "      <td>0.001497</td>\n",
       "    </tr>\n",
       "    <tr>\n",
       "      <th>MSFT.O</th>\n",
       "      <td>0.023364</td>\n",
       "      <td>0.050965</td>\n",
       "      <td>0.022193</td>\n",
       "      <td>-0.000337</td>\n",
       "    </tr>\n",
       "    <tr>\n",
       "      <th>SPY</th>\n",
       "      <td>0.021015</td>\n",
       "      <td>0.022193</td>\n",
       "      <td>0.021858</td>\n",
       "      <td>0.000041</td>\n",
       "    </tr>\n",
       "    <tr>\n",
       "      <th>GLD</th>\n",
       "      <td>0.001497</td>\n",
       "      <td>-0.000337</td>\n",
       "      <td>0.000041</td>\n",
       "      <td>0.026063</td>\n",
       "    </tr>\n",
       "  </tbody>\n",
       "</table>\n",
       "</div>"
      ],
      "text/plain": [
       "          AAPL.O    MSFT.O       SPY       GLD\n",
       "AAPL.O  0.063710  0.023364  0.021015  0.001497\n",
       "MSFT.O  0.023364  0.050965  0.022193 -0.000337\n",
       "SPY     0.021015  0.022193  0.021858  0.000041\n",
       "GLD     0.001497 -0.000337  0.000041  0.026063"
      ]
     },
     "execution_count": 45,
     "metadata": {},
     "output_type": "execute_result"
    }
   ],
   "source": [
    "rets.cov() * 252"
   ]
  },
  {
   "cell_type": "markdown",
   "metadata": {},
   "source": [
    "When you form a portfolio, you of course need to know how much of your portfolio is in each asset. Let's pick some **random weights** to start. We'll do that by choosing random numbers between 0 and 1. How many random numbers? The variable *noa* has the number of assets stored in it, so we'll pick four. Then, we'll divide each random number by the sum of the four numbers. This \"trick\" let's us go from four numbers between 0 and 1 to four numbers that will add up to 1. Just like portfolio weights!\n",
    "\n",
    "Note the `/=`. This divides every item in *weights* by the sum of the weights and then saves the result back to *weights*."
   ]
  },
  {
   "cell_type": "code",
   "execution_count": 46,
   "metadata": {},
   "outputs": [],
   "source": [
    "weights = np.random.random(noa)\n",
    "weights /= np.sum(weights)"
   ]
  },
  {
   "cell_type": "code",
   "execution_count": 47,
   "metadata": {},
   "outputs": [
    {
     "data": {
      "text/plain": [
       "0.9999999999999999"
      ]
     },
     "execution_count": 47,
     "metadata": {},
     "output_type": "execute_result"
    }
   ],
   "source": [
    "weights.sum()"
   ]
  },
  {
   "cell_type": "markdown",
   "metadata": {},
   "source": [
    "Good! They add up to 1. Or, well, basically 1. Remember, computers try their best to store exact numbers, but there's only so much precision that you can get. "
   ]
  },
  {
   "cell_type": "code",
   "execution_count": 48,
   "metadata": {},
   "outputs": [
    {
     "data": {
      "text/plain": [
       "0.10991690839448047"
      ]
     },
     "execution_count": 48,
     "metadata": {},
     "output_type": "execute_result"
    }
   ],
   "source": [
    "np.sum(ann_rets * weights)"
   ]
  },
  {
   "cell_type": "markdown",
   "metadata": {},
   "source": [
    "We can also find portfolio variance using the random weights. Again, we're annualizing variances and covariances."
   ]
  },
  {
   "cell_type": "code",
   "execution_count": 49,
   "metadata": {},
   "outputs": [
    {
     "data": {
      "text/plain": [
       "0.015300870739402481"
      ]
     },
     "execution_count": 49,
     "metadata": {},
     "output_type": "execute_result"
    }
   ],
   "source": [
    "np.dot(weights.T, np.dot(rets.cov() * 252, weights))"
   ]
  },
  {
   "cell_type": "markdown",
   "metadata": {},
   "source": [
    "Finally, we take the square root of variance to get standard deviation. "
   ]
  },
  {
   "cell_type": "code",
   "execution_count": 50,
   "metadata": {},
   "outputs": [
    {
     "data": {
      "text/plain": [
       "0.12369668847387338"
      ]
     },
     "execution_count": 50,
     "metadata": {},
     "output_type": "execute_result"
    }
   ],
   "source": [
    "np.sqrt(np.dot(weights.T, np.dot(rets.cov() * 252, weights)))"
   ]
  },
  {
   "cell_type": "markdown",
   "metadata": {},
   "source": [
    "Ok, all of this was with random weights. Can we do any better than that, if we assume that our expected returns and variance co-variance matrix represent our best guess about how these assets will behave in the future? Note that his is a really big assumption. The past might not tells us much about the future."
   ]
  },
  {
   "cell_type": "markdown",
   "metadata": {},
   "source": [
    "## Plotting the efficient frontier\n",
    "\n",
    "The efficient frontier represents the relationship between risk and return. Each point on the curve is the best return that you can get for a given level of risk. Or, equivalently, each point is the lowest risk that you can take for a particular expected return. We would expect to see a positive relationship between risk and return. \n",
    "\n",
    "```{figure} ../images/09-cal.png\n",
    "---\n",
    "name: 09-cal.png\n",
    "align: center\n",
    "---\n",
    "The Capital Allocation Line, or CAL. The mean-variance frontier is the highest return you can get for a given level of risk. The CAL is all possible combinations have the highest Sharpe Ratio portfolio (the tangency portfolio) and the risk-free asset. If all investors have the same beliefs about all underlying assets, then they will all hold the same market portfolio, just in different quantities, depending on their risk preferences. Source: Asset Management by Andrew Ang\n",
    "```\n",
    "\n",
    "What if we picked a bunch of random portfolios, found their risk and return, and then plotted each on a scatter plot? We should see the efficient frontier \"emerge\" as we essentially throw darts, since some risk-return combinations are not possible for a given set of assets. There's only so much return you can get for a given level of risk. \n",
    "\n",
    "To do this, let's define two functions. One just takes weights and finds the portfolio return using the mean returns. The other finds the volatility of the portfolio using the weights passed to it. Note that both are just the formulas used above, but now in a function that we've defined. \n",
    "\n",
    "How do you **read the format of a user defined function**? You use `def` to define the function name. Inside of `()`, you put the items that are getting passed, or given to, the function. In this case, whatever we give the function will be called *weights* inside of the function. What's inside the function. You must end the first line with a `:`. Then, you need to **indent everything that happens when the function is used**. In this case, that's just one line. The function will **return** whatever is on the line with **return**. In this case, the portfolio return and volatility. "
   ]
  },
  {
   "cell_type": "code",
   "execution_count": 51,
   "metadata": {},
   "outputs": [],
   "source": [
    "def port_ret(weights):\n",
    "    return np.sum(ann_rets * weights)"
   ]
  },
  {
   "cell_type": "code",
   "execution_count": 52,
   "metadata": {},
   "outputs": [],
   "source": [
    "def port_vol(weights):\n",
    "    return np.sqrt(np.dot(weights.T, np.dot(rets.cov() * 252, weights)))"
   ]
  },
  {
   "cell_type": "markdown",
   "metadata": {},
   "source": [
    "Here's the main part. We are going to use those two functions above to write some cleaner code. We start by creating two empty arrays, *prets* and *pvols*. We'll then put a bunch of different portfolio mean returns and volatilities into these arrays. How are we going to get these different portfolio risk and return characteristics? Let's create a bunch of random portfolios with random asset weights. In fact, let's create 2500 random portfolios and see what each combination of risk and return looks like when we plot it. The shape should look familiar!"
   ]
  },
  {
   "cell_type": "code",
   "execution_count": 53,
   "metadata": {},
   "outputs": [],
   "source": [
    "prets = []\n",
    "pvols = []\n",
    "for p in range (2500):  \n",
    "    weights = np.random.random(noa)  \n",
    "    weights /= np.sum(weights)  \n",
    "    prets.append(port_ret(weights))  \n",
    "    pvols.append(port_vol(weights))  \n",
    "prets = np.array(prets)\n",
    "pvols = np.array(pvols)"
   ]
  },
  {
   "cell_type": "markdown",
   "metadata": {},
   "source": [
    "The **for** statement will have the value *p* go from 0 to 2499 (i.e. 2500 times). For each of these times through the loop, we calculate our random weights and the portfolio returns and volatility for these weights, using the same expected returns and volatility for the assets each time through. Only the weights are changing. We then **append**, or stack, the return and volatility values on top of each other, creating two **lists** with 2500 numbers in them. But, we don't want a list. We want an **array** of numbers. The last two lines convert the lists into `numpy` arrays which we can graph.\n",
    "\n",
    "Let's graph them. We'll make a **scatter plot** with volatility on the x-axis and returns on the y-axis. The `c=` option adds a third dimension to the graph, where we pick a color for each dot based on another value. That value is the return for that dot divided by the volatility of that dot. In other words, darker red means bigger return over risk ratio, or larger **Sharpe Ratio**. Notice how the dark red is along the edge of the curve? This is the **efficient frontier**! "
   ]
  },
  {
   "cell_type": "code",
   "execution_count": 54,
   "metadata": {},
   "outputs": [
    {
     "data": {
      "image/png": "[encoded data removed]",
      "text/plain": [
       "<Figure size 720x432 with 2 Axes>"
      ]
     },
     "metadata": {
      "needs_background": "light"
     },
     "output_type": "display_data"
    }
   ],
   "source": [
    "plt.figure(figsize=(10, 6))\n",
    "plt.scatter(pvols, prets, c=prets / pvols,\n",
    "            marker='o', cmap='coolwarm')\n",
    "plt.xlabel('expected volatility')\n",
    "plt.ylabel('expected return')\n",
    "plt.colorbar(label='Sharpe ratio');"
   ]
  },
  {
   "cell_type": "markdown",
   "metadata": {},
   "source": [
    "We've just generated the **efficient frontier** from a simulation. No \"formulas\", per se. Just make 2500 random portfolios and at least some of them are going to be good!\n",
    "\n",
    "Each portfolio on the **envelope**, the edge of the shape we see above, is on the efficient frontier. Each of these portfolios has the highest return for a given level of risk (or the lowest risk for a given return). \n",
    "\n",
    "We'll draw the efficient frontier below. "
   ]
  },
  {
   "cell_type": "markdown",
   "metadata": {},
   "source": [
    "## Optimizing\n",
    "\n",
    "Let's use an **optimizer** actually find the portfolio with the best Sharpe Ratio. This will be, for a given risk-free rate, the single portfolio with the best risk-reward trade-off. \n",
    "\n",
    "We'll also find the portfolio with the lower volatility (risk). This portfolio is sometimes called the **minimum variance portfolio**.\n",
    "\n",
    "We will assume in this example that the risk-free rate is zero. We are not subtracting the risk-free rate from the portfolio return in the numerator. Note that as you change the risk-free rate, then you get different maximum Sharpe Ratio portfolios. What you're doing, graphically, is **tracing** out the efficient frontier, finding different porfolios that are on the envelope. "
   ]
  },
  {
   "cell_type": "markdown",
   "metadata": {},
   "source": [
    "We'll start by defining a new function. This is our **Sharpe Ratio**. The optimization process that we're going to use wants to find the **minimum** of something. So, we'll make the Sharpe Ratio negative. This will then be the equivalent of finding the **maximum. "
   ]
  },
  {
   "cell_type": "code",
   "execution_count": 55,
   "metadata": {},
   "outputs": [],
   "source": [
    "def min_func_sharpe(weights):  \n",
    "    return -port_ret(weights) / port_vol(weights)  "
   ]
  },
  {
   "cell_type": "markdown",
   "metadata": {},
   "source": [
    "That's the function that we are going to **minimize**. We are going to have Python find the weights that make that function as small as possible. Again, since the function has a negative sign in front, this is like finding the maximum. \n",
    "\n",
    "Portfolio optimization always has a **constraint** where your weights must add up to one. To add this constraint, we are now going to set up a **dictionary** that our optimizer is going to be able to understand. The dictionary will say that we are going to give the optimizer something that is type `eq`, or an equation, and that the equation is the sum of all of our weights minus 1. The optimizer is going to know that we want this to be set equal to zero when solving for weights. In other words, all of our weights must add up to one - we are forcing the optimizer to to this.\n",
    "\n",
    "By the way, see the `lambda x:`? This is a **lambda**, or anonymous, function. These let us quickly and easily define a simple function. In this case, we have a function that is going to take an argument *x* and then do something with it. We are adding up all of the elements of *x* and then subtracting one. When we use this function, *x* will be our weights."
   ]
  },
  {
   "cell_type": "code",
   "execution_count": 56,
   "metadata": {},
   "outputs": [
    {
     "data": {
      "text/plain": [
       "dict"
      ]
     },
     "execution_count": 56,
     "metadata": {},
     "output_type": "execute_result"
    }
   ],
   "source": [
    "cons = ({'type': 'eq', 'fun': lambda x:  np.sum(x) - 1})  \n",
    "type(cons)"
   ]
  },
  {
   "cell_type": "markdown",
   "metadata": {},
   "source": [
    "We can now put some bounds on our weights. Weights, in this case, need to be between 0 and 1. This isn't always the case! For example, short-selling means having weights less than 0. Leverage means weights greater than 1, potentially. To do this, we'll create a **tuple** that has the set (0,1) for each asset in our portfolio, four in this case. This will tell the optimizer to keep each asset weight between 0 and 1."
   ]
  },
  {
   "cell_type": "code",
   "execution_count": 57,
   "metadata": {},
   "outputs": [
    {
     "data": {
      "text/plain": [
       "((0, 1), (0, 1), (0, 1), (0, 1))"
      ]
     },
     "execution_count": 57,
     "metadata": {},
     "output_type": "execute_result"
    }
   ],
   "source": [
    "bnds = tuple((0, 1) for x in range(noa))  \n",
    "bnds"
   ]
  },
  {
   "cell_type": "markdown",
   "metadata": {},
   "source": [
    "We'll start by giving the optimizer an equally-weighted portfolio. It will change these weights to find the ones that minimize that negative Sharpe Ratio."
   ]
  },
  {
   "cell_type": "code",
   "execution_count": 58,
   "metadata": {},
   "outputs": [
    {
     "data": {
      "text/plain": [
       "array([0.25, 0.25, 0.25, 0.25])"
      ]
     },
     "execution_count": 58,
     "metadata": {},
     "output_type": "execute_result"
    }
   ],
   "source": [
    "eweights = np.array(noa * [1. / noa,])  \n",
    "eweights  "
   ]
  },
  {
   "cell_type": "markdown",
   "metadata": {},
   "source": [
    "Here's the negative Sharpe Ratio with the equal-weights. So, the \"real\" Sharpe is 0.8436."
   ]
  },
  {
   "cell_type": "code",
   "execution_count": 59,
   "metadata": {},
   "outputs": [
    {
     "data": {
      "text/plain": [
       "-1.0908488751504752"
      ]
     },
     "execution_count": 59,
     "metadata": {},
     "output_type": "execute_result"
    }
   ],
   "source": [
    "min_func_sharpe(eweights)"
   ]
  },
  {
   "cell_type": "markdown",
   "metadata": {},
   "source": [
    "Finally, let's use the optimizer! We are going to use `sco.minimize` from the library `SciPy`, which we have brought in above. This function is like **Solver in Excel**. It is going to find the minimum value of some function by changing a set of variables in the function, subject to some constraints. The first argument is the function to minimize. The second argument is the initial guess. Then, we give it the method to use to find the minimum value. We're using something called Sequential Least Squares Programming (SLSQP) here. Not important for us. We then give the optimizer our bounds for the variables and the constraints.\n",
    "\n",
    "You can read more about this function in the `SciPy` manual (here)[https://docs.scipy.org/doc/scipy/reference/generated/scipy.optimize.minimize.html]. "
   ]
  },
  {
   "cell_type": "code",
   "execution_count": 60,
   "metadata": {},
   "outputs": [
    {
     "data": {
      "text/plain": [
       "scipy.optimize.optimize.OptimizeResult"
      ]
     },
     "execution_count": 60,
     "metadata": {},
     "output_type": "execute_result"
    }
   ],
   "source": [
    "opts = sco.minimize(min_func_sharpe, eweights,\n",
    "                    method='SLSQP', bounds=bnds,\n",
    "                    constraints=cons) \n",
    "type(opts)"
   ]
  },
  {
   "cell_type": "markdown",
   "metadata": {},
   "source": [
    "We've saved the results in this OptimizeResult **object**. This object contains information about our optimization, including the optimal values it found. It calls these *x* - they are our weights that give us the minimum negative (i.e. maximum) Sharpe Ratio."
   ]
  },
  {
   "cell_type": "code",
   "execution_count": 61,
   "metadata": {},
   "outputs": [
    {
     "data": {
      "text/plain": [
       "     fun: -1.1598432135999732\n",
       "     jac: array([-0.00023924,  0.00011204,  0.00012445,  0.00091708])\n",
       " message: 'Optimization terminated successfully'\n",
       "    nfev: 40\n",
       "     nit: 8\n",
       "    njev: 8\n",
       "  status: 0\n",
       " success: True\n",
       "       x: array([0.56886419, 0.25891539, 0.06413075, 0.10808967])"
      ]
     },
     "execution_count": 61,
     "metadata": {},
     "output_type": "execute_result"
    }
   ],
   "source": [
    "opts"
   ]
  },
  {
   "cell_type": "markdown",
   "metadata": {},
   "source": [
    "Let's pull out just the weights from the object and round to three decimal palces."
   ]
  },
  {
   "cell_type": "code",
   "execution_count": 62,
   "metadata": {},
   "outputs": [
    {
     "data": {
      "text/plain": [
       "array([0.569, 0.259, 0.064, 0.108])"
      ]
     },
     "execution_count": 62,
     "metadata": {},
     "output_type": "execute_result"
    }
   ],
   "source": [
    "opts['x'].round(3)  "
   ]
  },
  {
   "cell_type": "markdown",
   "metadata": {},
   "source": [
    "Here's the portfolio return with those weights."
   ]
  },
  {
   "cell_type": "code",
   "execution_count": 63,
   "metadata": {},
   "outputs": [
    {
     "data": {
      "text/plain": [
       "0.213"
      ]
     },
     "execution_count": 63,
     "metadata": {},
     "output_type": "execute_result"
    }
   ],
   "source": [
    "port_ret(opts['x']).round(3)  "
   ]
  },
  {
   "cell_type": "markdown",
   "metadata": {},
   "source": [
    "And the portfolio volatility with those weights."
   ]
  },
  {
   "cell_type": "code",
   "execution_count": 64,
   "metadata": {},
   "outputs": [
    {
     "data": {
      "text/plain": [
       "0.184"
      ]
     },
     "execution_count": 64,
     "metadata": {},
     "output_type": "execute_result"
    }
   ],
   "source": [
    "port_vol(opts['x']).round(3)  "
   ]
  },
  {
   "cell_type": "markdown",
   "metadata": {},
   "source": [
    "And, the Sharpe Ratio with those weights."
   ]
  },
  {
   "cell_type": "code",
   "execution_count": 65,
   "metadata": {},
   "outputs": [
    {
     "data": {
      "text/plain": [
       "1.1598432135999732"
      ]
     },
     "execution_count": 65,
     "metadata": {},
     "output_type": "execute_result"
    }
   ],
   "source": [
    "port_ret(opts['x']) / port_vol(opts['x'])  "
   ]
  },
  {
   "cell_type": "markdown",
   "metadata": {},
   "source": [
    "We can do the same things and find the set of weights that **minimize portfolio variance**. "
   ]
  },
  {
   "cell_type": "code",
   "execution_count": 66,
   "metadata": {},
   "outputs": [],
   "source": [
    "optv = sco.minimize(port_vol, eweights,\n",
    "                    method='SLSQP', bounds=bnds,\n",
    "                    constraints=cons)  "
   ]
  },
  {
   "cell_type": "code",
   "execution_count": 67,
   "metadata": {},
   "outputs": [
    {
     "data": {
      "text/plain": [
       "     fun: 0.10912534155379648\n",
       "     jac: array([0.11099017, 0.10919402, 0.10910396, 0.10915083])\n",
       " message: 'Optimization terminated successfully'\n",
       "    nfev: 45\n",
       "     nit: 9\n",
       "    njev: 9\n",
       "  status: 0\n",
       " success: True\n",
       "       x: array([1.40946282e-18, 0.00000000e+00, 5.43849155e-01, 4.56150845e-01])"
      ]
     },
     "execution_count": 67,
     "metadata": {},
     "output_type": "execute_result"
    }
   ],
   "source": [
    "optv\n"
   ]
  },
  {
   "cell_type": "code",
   "execution_count": 68,
   "metadata": {},
   "outputs": [
    {
     "data": {
      "text/plain": [
       "array([0.   , 0.   , 0.544, 0.456])"
      ]
     },
     "execution_count": 68,
     "metadata": {},
     "output_type": "execute_result"
    }
   ],
   "source": [
    "optv['x'].round(3)"
   ]
  },
  {
   "cell_type": "markdown",
   "metadata": {},
   "source": [
    "Nothing in our first asset, Apple. Since we are just minimizing variance, we don't care about Apple's nice return over this period. "
   ]
  },
  {
   "cell_type": "code",
   "execution_count": 69,
   "metadata": {},
   "outputs": [
    {
     "data": {
      "text/plain": [
       "0.109"
      ]
     },
     "execution_count": 69,
     "metadata": {},
     "output_type": "execute_result"
    }
   ],
   "source": [
    "port_vol(optv['x']).round(3)"
   ]
  },
  {
   "cell_type": "code",
   "execution_count": 70,
   "metadata": {},
   "outputs": [
    {
     "data": {
      "text/plain": [
       "0.076"
      ]
     },
     "execution_count": 70,
     "metadata": {},
     "output_type": "execute_result"
    }
   ],
   "source": [
    "port_ret(optv['x']).round(3)"
   ]
  },
  {
   "cell_type": "code",
   "execution_count": 71,
   "metadata": {},
   "outputs": [
    {
     "data": {
      "text/plain": [
       "0.6949874073267915"
      ]
     },
     "execution_count": 71,
     "metadata": {},
     "output_type": "execute_result"
    }
   ],
   "source": [
    "port_ret(optv['x']) / port_vol(optv['x'])"
   ]
  },
  {
   "cell_type": "markdown",
   "metadata": {},
   "source": [
    "## Efficient Frontier"
   ]
  },
  {
   "cell_type": "markdown",
   "metadata": {},
   "source": [
    "Let's now trace out the actual **efficient frontier**. We are going to follow an \"algorithm\", so to speak. Here are the steps:\n",
    "\n",
    "1) Pick a target return.\n",
    "2) Find the portfolio that gives you the minimum portfolio standard deviation (volatility) for that target return.\n",
    "3) Repeat this process for a large number of target returns."
   ]
  },
  {
   "cell_type": "markdown",
   "metadata": {},
   "source": [
    "These steps will find a bunch of different portfolios, all that live on the envelope of the set containing all of the possible portfolios. These are the portfolios on the efficient frontier. \n",
    "\n",
    "To do this, we now need two constraints. First, we want our portfolio return to be equal to some target return, *tret*. Second, we again have our weights must sum to one constraint.\n",
    "\n",
    "Both of these constraints can live inside of the *cons* tuple. This **tuple** contains two **dictionaries**. Kind of confusing, but we just need to understand the syntax for writing out different constraints."
   ]
  },
  {
   "cell_type": "code",
   "execution_count": 72,
   "metadata": {},
   "outputs": [
    {
     "data": {
      "text/plain": [
       "tuple"
      ]
     },
     "execution_count": 72,
     "metadata": {},
     "output_type": "execute_result"
    }
   ],
   "source": [
    "cons = ({'type': 'eq', 'fun': lambda x:  port_ret(x) - tret},\n",
    "        {'type': 'eq', 'fun': lambda x:  np.sum(x) - 1})  \n",
    "type(cons)"
   ]
  },
  {
   "cell_type": "markdown",
   "metadata": {},
   "source": [
    "Our bounds again, same as before."
   ]
  },
  {
   "cell_type": "code",
   "execution_count": 73,
   "metadata": {},
   "outputs": [],
   "source": [
    "bnds = tuple((0, 1) for x in weights)"
   ]
  },
  {
   "cell_type": "markdown",
   "metadata": {},
   "source": [
    "Let's create an **array** of values from 0.05 to 0.20. This represents a minimum of a 5% return and a maximum of a 20% return. We'll do 50 evenly-spaced values. Each one of these represents one target return. We are going to find and store the minimum volatility that gives us each return."
   ]
  },
  {
   "cell_type": "code",
   "execution_count": 74,
   "metadata": {},
   "outputs": [
    {
     "name": "stdout",
     "output_type": "stream",
     "text": [
      "<class 'numpy.ndarray'>\n"
     ]
    },
    {
     "data": {
      "text/plain": [
       "array([0.05      , 0.05306122, 0.05612245, 0.05918367, 0.0622449 ,\n",
       "       0.06530612, 0.06836735, 0.07142857, 0.0744898 , 0.07755102,\n",
       "       0.08061224, 0.08367347, 0.08673469, 0.08979592, 0.09285714,\n",
       "       0.09591837, 0.09897959, 0.10204082, 0.10510204, 0.10816327,\n",
       "       0.11122449, 0.11428571, 0.11734694, 0.12040816, 0.12346939,\n",
       "       0.12653061, 0.12959184, 0.13265306, 0.13571429, 0.13877551,\n",
       "       0.14183673, 0.14489796, 0.14795918, 0.15102041, 0.15408163,\n",
       "       0.15714286, 0.16020408, 0.16326531, 0.16632653, 0.16938776,\n",
       "       0.17244898, 0.1755102 , 0.17857143, 0.18163265, 0.18469388,\n",
       "       0.1877551 , 0.19081633, 0.19387755, 0.19693878, 0.2       ])"
      ]
     },
     "execution_count": 74,
     "metadata": {},
     "output_type": "execute_result"
    }
   ],
   "source": [
    "trets = np.linspace(0.05, 0.2, 50)\n",
    "print(type(trets))\n",
    "trets"
   ]
  },
  {
   "cell_type": "markdown",
   "metadata": {},
   "source": [
    "And here's the optimization process. We start with an empty array that will eventually contain 50 different volatilities (standard deviations). Then, we loop through each target return in *trets*. Each one gets stored in *tret* and used in the For loop. The optimizer uses that target return as part of the constraint function that we included. We are then storing the value of the minimized portfolio volatility function in *tvols*. Note that we are not storing the weights for each portfolio. We only care about the minimum volatilities for each return."
   ]
  },
  {
   "cell_type": "code",
   "execution_count": 75,
   "metadata": {},
   "outputs": [
    {
     "name": "stdout",
     "output_type": "stream",
     "text": [
      "CPU times: user 10.5 s, sys: 308 ms, total: 10.8 s\n",
      "Wall time: 1.38 s\n"
     ]
    }
   ],
   "source": [
    "%%time\n",
    "tvols = []\n",
    "for tret in trets:\n",
    "    res = sco.minimize(port_vol, eweights, method='SLSQP',\n",
    "                       bounds=bnds, constraints=cons)  \n",
    "    tvols.append(res['fun'])\n",
    "tvols = np.array(tvols)"
   ]
  },
  {
   "cell_type": "markdown",
   "metadata": {},
   "source": [
    "And now we can plot our efficient frontier. The efficient frontier is each **target return, minimum volatility pair**. That blue line is the frontier and is being added by the first `plt.plot` statement. The second `plt.plot` adds the yellow star at the max Sharpe Ratio portfolio. The third `plt.plot` adds the red star at the global minimum variance portfolio. Notice how both of these are pulling the weights, *x*, out of their respective Optimizer objects. "
   ]
  },
  {
   "cell_type": "code",
   "execution_count": 76,
   "metadata": {},
   "outputs": [
    {
     "data": {
      "image/png": "[encoded data removed]",
      "text/plain": [
       "<Figure size 720x432 with 2 Axes>"
      ]
     },
     "metadata": {
      "needs_background": "light"
     },
     "output_type": "display_data"
    }
   ],
   "source": [
    "plt.figure(figsize=(10, 6))\n",
    "plt.scatter(pvols, prets, c=prets / pvols,\n",
    "            marker='.', alpha=0.8, cmap='coolwarm')\n",
    "plt.plot(tvols, trets, 'b', lw=4.0)\n",
    "plt.plot(port_vol(opts['x']), port_ret(opts['x']),\n",
    "         'y*', markersize=15.0)\n",
    "plt.plot(port_vol(optv['x']), port_ret(optv['x']),\n",
    "         'r*', markersize=15.0)\n",
    "plt.xlabel('expected volatility')\n",
    "plt.ylabel('expected return')\n",
    "plt.colorbar(label='Sharpe ratio');"
   ]
  },
  {
   "cell_type": "markdown",
   "metadata": {},
   "source": [
    "## PyPortfolioOpt\n",
    "\n",
    "To get started, you'll need to type `pip install PyPortfolioOpt` in your Terminal below. This will install the package, since it doesn't come with Anaconda. We can then bring in what we need.\n",
    "\n",
    "You can read all about the `PyPortfolioOpt` package [here](https://pypi.org/project/pyportfolioopt/)."
   ]
  },
  {
   "cell_type": "code",
   "execution_count": 77,
   "metadata": {},
   "outputs": [],
   "source": [
    "from pypfopt.efficient_frontier import EfficientFrontier\n",
    "from pypfopt import risk_models\n",
    "from pypfopt import expected_returns"
   ]
  },
  {
   "cell_type": "markdown",
   "metadata": {},
   "source": [
    "We can find expected returns and the sample variance-covariance matrix using functions from `PyPortfolioOpt`. Notice that these functions want prices, not returns. So, I'm using the DataFrame *data*, not *ret*. \n"
   ]
  },
  {
   "cell_type": "code",
   "execution_count": 78,
   "metadata": {},
   "outputs": [
    {
     "data": {
      "text/plain": [
       "AAPL.O    0.236592\n",
       "MSFT.O    0.146425\n",
       "SPY       0.108412\n",
       "GLD       0.009183\n",
       "dtype: float64"
      ]
     },
     "execution_count": 78,
     "metadata": {},
     "output_type": "execute_result"
    }
   ],
   "source": [
    "mu = expected_returns.mean_historical_return(data)\n",
    "mu"
   ]
  },
  {
   "cell_type": "code",
   "execution_count": 79,
   "metadata": {},
   "outputs": [
    {
     "data": {
      "text/html": [
       "<div>\n",
       "<style scoped>\n",
       "    .dataframe tbody tr th:only-of-type {\n",
       "        vertical-align: middle;\n",
       "    }\n",
       "\n",
       "    .dataframe tbody tr th {\n",
       "        vertical-align: top;\n",
       "    }\n",
       "\n",
       "    .dataframe thead th {\n",
       "        text-align: right;\n",
       "    }\n",
       "</style>\n",
       "<table border=\"1\" class=\"dataframe\">\n",
       "  <thead>\n",
       "    <tr style=\"text-align: right;\">\n",
       "      <th></th>\n",
       "      <th>AAPL.O</th>\n",
       "      <th>MSFT.O</th>\n",
       "      <th>SPY</th>\n",
       "      <th>GLD</th>\n",
       "    </tr>\n",
       "  </thead>\n",
       "  <tbody>\n",
       "    <tr>\n",
       "      <th>AAPL.O</th>\n",
       "      <td>0.063710</td>\n",
       "      <td>0.023364</td>\n",
       "      <td>0.021015</td>\n",
       "      <td>0.001497</td>\n",
       "    </tr>\n",
       "    <tr>\n",
       "      <th>MSFT.O</th>\n",
       "      <td>0.023364</td>\n",
       "      <td>0.050965</td>\n",
       "      <td>0.022193</td>\n",
       "      <td>-0.000337</td>\n",
       "    </tr>\n",
       "    <tr>\n",
       "      <th>SPY</th>\n",
       "      <td>0.021015</td>\n",
       "      <td>0.022193</td>\n",
       "      <td>0.021858</td>\n",
       "      <td>0.000041</td>\n",
       "    </tr>\n",
       "    <tr>\n",
       "      <th>GLD</th>\n",
       "      <td>0.001497</td>\n",
       "      <td>-0.000337</td>\n",
       "      <td>0.000041</td>\n",
       "      <td>0.026063</td>\n",
       "    </tr>\n",
       "  </tbody>\n",
       "</table>\n",
       "</div>"
      ],
      "text/plain": [
       "          AAPL.O    MSFT.O       SPY       GLD\n",
       "AAPL.O  0.063710  0.023364  0.021015  0.001497\n",
       "MSFT.O  0.023364  0.050965  0.022193 -0.000337\n",
       "SPY     0.021015  0.022193  0.021858  0.000041\n",
       "GLD     0.001497 -0.000337  0.000041  0.026063"
      ]
     },
     "execution_count": 79,
     "metadata": {},
     "output_type": "execute_result"
    }
   ],
   "source": [
    "S = risk_models.sample_cov(data)\n",
    "S"
   ]
  },
  {
   "cell_type": "markdown",
   "metadata": {},
   "source": [
    "Let's find our max Sharpe portfolio."
   ]
  },
  {
   "cell_type": "code",
   "execution_count": 82,
   "metadata": {},
   "outputs": [
    {
     "name": "stdout",
     "output_type": "stream",
     "text": [
      "OrderedDict([('AAPL.O', 0.73998), ('MSFT.O', 0.26002), ('SPY', 0.0), ('GLD', 0.0)])\n",
      "Expected annual return: 21.3%\n",
      "Annual volatility: 21.8%\n",
      "Sharpe Ratio: 0.86\n"
     ]
    },
    {
     "data": {
      "text/plain": [
       "(0.2131463881758596, 0.2175366516660419, 0.8648951187531301)"
      ]
     },
     "execution_count": 82,
     "metadata": {},
     "output_type": "execute_result"
    }
   ],
   "source": [
    "# Optimize for maximal Sharpe ratio\n",
    "ef = EfficientFrontier(mu, S)\n",
    "raw_weights = ef.max_sharpe(risk_free_rate = 0.025)\n",
    "cleaned_weights = ef.clean_weights()\n",
    "print(cleaned_weights)\n",
    "ef.portfolio_performance(verbose=True, risk_free_rate = 0.025)"
   ]
  },
  {
   "cell_type": "code",
   "execution_count": 83,
   "metadata": {},
   "outputs": [
    {
     "name": "stdout",
     "output_type": "stream",
     "text": [
      "OrderedDict([('AAPL.O', 0.5), ('MSFT.O', 0.24894), ('SPY', 0.2758), ('GLD', -0.02475)])\n",
      "Expected annual return: 18.4%\n",
      "Annual volatility: 18.8%\n",
      "Sharpe Ratio: 0.85\n"
     ]
    },
    {
     "data": {
      "text/plain": [
       "(0.18442049729655216, 0.1881243454780499, 0.8474208741640679)"
      ]
     },
     "execution_count": 83,
     "metadata": {},
     "output_type": "execute_result"
    }
   ],
   "source": [
    "ef = EfficientFrontier(mu, S, weight_bounds=(-0.2, 0.5))\n",
    "raw_weights = ef.max_sharpe(risk_free_rate = 0.025)\n",
    "cleaned_weights = ef.clean_weights()\n",
    "print(cleaned_weights)\n",
    "ef.portfolio_performance(verbose=True, risk_free_rate = 0.025)"
   ]
  }
 ],
 "metadata": {
  "interpreter": {
   "hash": "b67b392f8c699abfccff34ffff3abf55b26d6520ea7ac337064f990a3d8607af"
  },
  "kernelspec": {
   "display_name": "Python 3.9.7 ('base')",
   "language": "python",
   "name": "python3"
  },
  "language_info": {
   "codemirror_mode": {
    "name": "ipython",
    "version": 3
   },
   "file_extension": ".py",
   "mimetype": "text/x-python",
   "name": "python",
   "nbconvert_exporter": "python",
   "pygments_lexer": "ipython3",
   "version": "3.9.7"
  },
  "orig_nbformat": 4
 },
 "nbformat": 4,
 "nbformat_minor": 2
}
