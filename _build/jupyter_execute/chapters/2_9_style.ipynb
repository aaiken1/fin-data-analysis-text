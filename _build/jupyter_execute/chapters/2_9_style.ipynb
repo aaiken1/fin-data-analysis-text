{
 "cells": [
  {
   "attachments": {},
   "cell_type": "markdown",
   "metadata": {},
   "source": [
    "# Code style, PEP8, and linting\n",
    "\n",
    "As we learn to write code, we want to strive for **readable** code. This means code that is both easy for someone else to read and code that is easy for a **future you** to read!\n",
    "\n",
    "I don't want to overwhelm you with rules right now, but we should be aware of how to format our Python code for readability and consistency. Python programmers like to follow a certain style, called [PEP8](https://pep8.org).\n",
    "\n",
    "PEP8 lays out conventions for indentation, spacing, commenting, naming, line length, etc. Some basics rules to know for now:\n",
    "\n",
    "- Use 4 spaces per indentation level.\n",
    "- Limit you code line length to 79 characters. You can indent onto the next line.\n",
    "- Package imports should be at the top and on separate lines. \n",
    "- Pay attention to how you are naming your variables, functions, etc. Pick a style and be consistent.\n",
    "  \n",
    "Here are some other style guides for you. Just keep them handy.\n",
    "\n",
    "<https://realpython.com/python-pep8/>\n",
    "\n",
    "<https://www.datacamp.com/tutorial/pep8-tutorial-python-code>\n",
    "\n",
    "<https://google.github.io/styleguide/pyguide.html>\n",
    "\n",
    "For the Google Style Guide, check out Section 3 first. \n",
    "\n",
    "All of this will make sense as we start to code. But, I think it is helpful to be aware that there are conventions before we start. However, don't get too hung up on them at first. They will start to feel natural as we look at examples and write our own.\n",
    "\n",
    "Here's an example of a style guide from the DataCamp tutorial.\n",
    "\n",
    "```{figure} ../images/02-style.png\n",
    "---\n",
    "name: 02-style.png\n",
    "align: center\n",
    "class: with-border\n",
    "---\n",
    "Indentation is important in Python. Improper indentation will lead to syntax errors and your code won't run.\n",
    "``\n",
    "\n",
    "**Comments** are also an important part of readability. We can add comments using `#`. For example,"
   ]
  },
  {
   "cell_type": "code",
   "execution_count": 1,
   "metadata": {},
   "outputs": [
    {
     "name": "stdout",
     "output_type": "stream",
     "text": [
      "Hello World!\n"
     ]
    }
   ],
   "source": [
    "# This prints Hello World!\n",
    "\n",
    "print(\"Hello World!\")"
   ]
  },
  {
   "attachments": {},
   "cell_type": "markdown",
   "metadata": {},
   "source": [
    "Notice the one space after the `#` in the comment. This is part of commenting style in Python."
   ]
  },
  {
   "attachments": {},
   "cell_type": "markdown",
   "metadata": {},
   "source": [
    "## Files, file paths, and the names of things\n",
    "\n",
    "We'll go over absolute and relative file paths in class. You can see the notebook `1-file-paths.ipynb` on our Github page for some examples.\n",
    "\n",
    "```{margin} Know where your stuff is!\n",
    "It is very important that you use a consistent organization and structure. Files, folders, and paths are very important. **If you are using the lab computers, bring your own USB Drive**.\n",
    "```\n",
    "\n",
    "My layout is simple. A folder for this class. Then, inside that folder, I have the following sub-folders: data, output, images, and code. \n",
    "\n",
    "```{figure} ../images/02-my-files.png\n",
    "---\n",
    "name: 02-my-files.png\n",
    "align: center\n",
    "class: with-border\n",
    "---\n",
    "My class folder, **fin-data-analysis-python** and sub-folders. You won't have the readme.md file. That is generating the Read Me text on Github. You also probably don't have hidden files and folders visible on your machine.\n",
    "```\n",
    "\n",
    "When I open up Jupyter or VS Code, I open up that class folder. Then, I can see my folder structure. I then use **relative file paths** to open and save files. \n",
    "\n",
    "And, instead of a single code folder, you can set-up a folder for each assignment. Then, inside each of these folders are folders called *code*, *data*, etc.\n",
    "\n",
    "```{figure} ../images/02-file-paths.png\n",
    "---\n",
    "name: 02-file-paths.png\n",
    "align: center\n",
    "class: with-border\n",
    "---\n",
    "Each assignment can get its own folder and sub-folder structure.\n",
    "```\n",
    "\n",
    "And, this is a [great presentation](https://speakerdeck.com/jennybc/how-to-name-files) on how to name files. You want your file names to be machine readable, human readable, easily searchable, and easily sorted. There's something of a science to doing this correctly. \n",
    "\n",
    "Getting this stuff right will make your life easier."
   ]
  },
  {
   "attachments": {},
   "cell_type": "markdown",
   "metadata": {},
   "source": [
    "## Linting\n",
    "\n",
    "**Linting** refers to not just properly formatted code, but also checking for unintentional errors and issues, such as functions that never get called, missing parentheses, and other \"bugs\".\n",
    "\n",
    "VS code has built-in linting support when you are working in a `.py` file. Note that this is different from working in a Jupyter notebook.\n",
    "\n",
    "<https://code.visualstudio.com/docs/python/linting>"
   ]
  }
 ],
 "metadata": {
  "kernelspec": {
   "display_name": "base",
   "language": "python",
   "name": "python3"
  },
  "language_info": {
   "codemirror_mode": {
    "name": "ipython",
    "version": 3
   },
   "file_extension": ".py",
   "mimetype": "text/x-python",
   "name": "python",
   "nbconvert_exporter": "python",
   "pygments_lexer": "ipython3",
   "version": "3.9.13"
  },
  "vscode": {
   "interpreter": {
    "hash": "40d3a090f54c6569ab1632332b64b2c03c39dcf918b08424e98f38b5ae0af88f"
   }
  }
 },
 "nbformat": 4,
 "nbformat_minor": 2
}