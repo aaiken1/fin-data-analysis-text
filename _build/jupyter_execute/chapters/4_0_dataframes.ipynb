{
 "cells": [
  {
   "cell_type": "markdown",
   "metadata": {},
   "source": [
    "# Data importing\n",
    "\n",
    "Let's start by getting some data into Python. This will usually be the first step in our code, right after we import any of the libraries, like `numpy` and `pandas` that we need.\n",
    "\n",
    "There is a [DataCamp tutorial on Excel files and Python](https://www.datacamp.com/community/tutorials/python-excel-tutorial) that you might find helpful. You can read also more about [reading in CSV files at DataCamp](https://www.datacamp.com/community/tutorials/pandas-read-csv). \n",
    "\n",
    "The second DataCamp assignment, **Intermediate Python for Finance**, covers how to create `DataFrames` from `dictionaries` and `lists`. \n",
    "\n",
    "The fifth DataCamp assignment, **Importing and Managing Financial Data in Python** covers all of this in great detail.\n",
    "\n",
    "We'll typically be importing our data from CSV and Excel files. "
   ]
  },
  {
   "cell_type": "markdown",
   "metadata": {},
   "source": [
    "\n",
    "\n",
    "There's some price data up on our [course Github page](https://github.com/aaiken1/fin-data-analysis-python). Let's import this both as a downloaded CSV file and then directly from Github. No need to download the file to your computer and deal with folders. \n",
    "\n",
    "First, we need to import `pandas`. Just like `numpy`. In fact, at the top of basically all of your code, you will import both of these libraries (and more!).\n",
    "\n",
    "Everyone imports `pandas` as pd."
   ]
  },
  {
   "cell_type": "code",
   "execution_count": 1,
   "metadata": {},
   "outputs": [],
   "source": [
    "import pandas as pd"
   ]
  },
  {
   "cell_type": "markdown",
   "metadata": {},
   "source": [
    "Let's start by making a DataFrame ourself, just to see how they are different from `numpy` arrays."
   ]
  },
  {
   "cell_type": "code",
   "execution_count": 2,
   "metadata": {},
   "outputs": [],
   "source": [
    "df = pd.DataFrame([75,79,82,60], columns = ['Prices'], index =[1,2,3,4])"
   ]
  },
  {
   "cell_type": "markdown",
   "metadata": {},
   "source": [
    "This is similar to the example on pgs. 114 - 115 of our textbook. I am creating a DataFrame with one column. This column has four stock prices. I am labeling that column as `Prices`. I then have an `index` value that refers to each row. I am using numbers. This could easily be a date!\n",
    "\n",
    "See how this is kind of like a spreadsheet? And, unlike an array, we have **labels** or **headers** for columns. And we have indexes for each row that aren't really part of the data. \n",
    "\n",
    "We'll do more with this in the next section.\n",
    "\n",
    "Ok, let's import that CSV file into a `DataFrame`."
   ]
  },
  {
   "cell_type": "code",
   "execution_count": 3,
   "metadata": {},
   "outputs": [],
   "source": [
    "prices = pd.read_csv('../data/tr_eikon_eod_data.csv',\n",
    "                  index_col=0, parse_dates=True)"
   ]
  },
  {
   "cell_type": "markdown",
   "metadata": {},
   "source": [
    "First, click the **Variables** button at the top. You'll see the two DataFrames that we now have in memory appear below. Click the pop-out button to view them.\n",
    "\n",
    "Notice how I did the path name. `../` means to start start from my home directory. What's my home directory? That's where you `.ipynb` file lives. **Relative** to that directory, Python looks for a folder called `data`. Finally, it looks for the .csv file called `tr_eikon_eod_data.csv` inside of that folder.\n",
    "\n",
    "What are those other options doing? `index_col=0` tells `pandas` to create a DataFrame where column 0 (the first column in the .csv file) is the index. Check out the CSV file - that's the date. With finance data, the date will often be the index, since we are dealing with time series data (e.g. stock prices or returns).\n",
    "\n",
    "Sometimes data will be **multi-index**. For example, if we have multiple stocks and dates. More on this later - it depends on how the data are organized.\n",
    "\n",
    "The option `parse_dates` is telling `pandas` to look at the index column and try to turn what it sees into official Python dates. That works in this case. Finance coders will joke that 90% of their time is spend doing date corrections. For example, what happens if you have multiple markets in different time zones and you're trying to deal with time series at a trade-level frequency (i.e. less than a second)? Have fun!\n",
    "\n",
    "You can read about the `pd.read_csv` method on the [`pandas` web page](https://pandas.pydata.org/docs/reference/api/pandas.read_csv.html).\n",
    "\n",
    "You can also write Python data to a .csv or Excel file. Our DataCamp assignments will go over all of this.\n",
    "\n",
    "Let's now read in this file directly from our class Github. I'll call the resulting DataFrame `prices2`, just so that we can see that we actually have the same thing twice.\n"
   ]
  },
  {
   "cell_type": "code",
   "execution_count": 4,
   "metadata": {},
   "outputs": [],
   "source": [
    "prices2 = pd.read_csv('https://github.com/aaiken1/fin-data-analysis-python/raw/main/data/tr_eikon_eod_data.csv')"
   ]
  },
  {
   "cell_type": "markdown",
   "metadata": {},
   "source": [
    "I made a \"mistake\" on purpose there. Notice how I didn't do the `index_col`? Check out the `prices2` DataFrame below. You'll see an index column with 1, 2, 3,.. and then the date column. The `read_csv` created an index for me, since I didn't specify one. Let's redo that."
   ]
  },
  {
   "cell_type": "code",
   "execution_count": 5,
   "metadata": {},
   "outputs": [],
   "source": [
    "prices2 = pd.read_csv('https://github.com/aaiken1/fin-data-analysis-python/raw/main/data/tr_eikon_eod_data.csv',\n",
    "                      index_col=0, parse_dates=True)"
   ]
  },
  {
   "cell_type": "markdown",
   "metadata": {},
   "source": [
    "That's better! We'll end by looking at some of the **attributes** of our `prices` DataFrame.\n",
    "\n",
    "First, let's check our index. Is it really a date?"
   ]
  },
  {
   "cell_type": "code",
   "execution_count": 6,
   "metadata": {},
   "outputs": [
    {
     "data": {
      "text/plain": [
       "DatetimeIndex(['2010-01-01', '2010-01-04', '2010-01-05', '2010-01-06',\n",
       "               '2010-01-07', '2010-01-08', '2010-01-11', '2010-01-12',\n",
       "               '2010-01-13', '2010-01-14',\n",
       "               ...\n",
       "               '2018-06-18', '2018-06-19', '2018-06-20', '2018-06-21',\n",
       "               '2018-06-22', '2018-06-25', '2018-06-26', '2018-06-27',\n",
       "               '2018-06-28', '2018-06-29'],\n",
       "              dtype='datetime64[ns]', name='Date', length=2216, freq=None)"
      ]
     },
     "execution_count": 6,
     "metadata": {},
     "output_type": "execute_result"
    }
   ],
   "source": [
    "prices.index"
   ]
  },
  {
   "cell_type": "markdown",
   "metadata": {},
   "source": [
    "It is! We'll do more with dates. A lot more. \n",
    "\n",
    "Let's look at the columns."
   ]
  },
  {
   "cell_type": "code",
   "execution_count": 7,
   "metadata": {},
   "outputs": [
    {
     "data": {
      "text/plain": [
       "Index(['AAPL.O', 'MSFT.O', 'INTC.O', 'AMZN.O', 'GS.N', 'SPY', '.SPX', '.VIX',\n",
       "       'EUR=', 'XAU=', 'GDX', 'GLD'],\n",
       "      dtype='object')"
      ]
     },
     "execution_count": 7,
     "metadata": {},
     "output_type": "execute_result"
    }
   ],
   "source": [
    "prices.columns"
   ]
  },
  {
   "cell_type": "markdown",
   "metadata": {},
   "source": [
    "Yup, those are our column headers from the .csv file.\n",
    "\n",
    "There are many options that can go into the `pd.read_csv` function. For example, you can load just a certain number of rows.\n",
    "\n",
    "\n"
   ]
  },
  {
   "cell_type": "code",
   "execution_count": 8,
   "metadata": {},
   "outputs": [],
   "source": [
    "prices100 = pd.read_csv('https://github.com/aaiken1/fin-data-analysis-python/raw/main/data/tr_eikon_eod_data.csv',\n",
    "                      index_col=0, parse_dates=True, nrows=100)"
   ]
  },
  {
   "cell_type": "markdown",
   "metadata": {},
   "source": [
    "You can bring in just certain columns. In `pandas`, we select columns using `['COLUMN']`."
   ]
  },
  {
   "cell_type": "code",
   "execution_count": 9,
   "metadata": {},
   "outputs": [],
   "source": [
    "prices_spx= pd.read_csv('https://github.com/aaiken1/fin-data-analysis-python/raw/main/data/tr_eikon_eod_data.csv',\n",
    "                      index_col=0, parse_dates=True, usecols=(['.SPX']))"
   ]
  },
  {
   "cell_type": "markdown",
   "metadata": {},
   "source": [
    "You can also specify if a particular value should be set to missing. `read_csv()` already looks for common items, like 'NA' or 'n/a'. I'll have it look for '-' as well, though that isn't a missing value in this data."
   ]
  },
  {
   "cell_type": "code",
   "execution_count": 10,
   "metadata": {},
   "outputs": [],
   "source": [
    "prices2 = pd.read_csv('https://github.com/aaiken1/fin-data-analysis-python/raw/main/data/tr_eikon_eod_data.csv',\n",
    "                      index_col=0, parse_dates=True, na_values='-')"
   ]
  },
  {
   "cell_type": "markdown",
   "metadata": {},
   "source": [
    "We can also read data in from **Excel files**, using `.read_excel()`. I'll read in some HF return data."
   ]
  },
  {
   "cell_type": "code",
   "execution_count": 11,
   "metadata": {},
   "outputs": [],
   "source": [
    "\n",
    "hf = pd.read_excel('https://raw.githubusercontent.com/aaiken1/fin-data-analysis-python/main/data/hf_rets.xlsx',\n",
    "                  index_col=0, parse_dates=True, sheet_name='rets')  "
   ]
  },
  {
   "cell_type": "markdown",
   "metadata": {},
   "source": [
    "We can use the option `sheet_name=` to specific a particular sheet from the Excel file. You can read more about the various options [here](https://pandas.pydata.org/pandas-docs/stable/reference/api/pandas.read_excel.html). "
   ]
  },
  {
   "cell_type": "markdown",
   "metadata": {},
   "source": [
    "We have our data in Python! Now, we can manipulate it, clean it, merge it with something else, summarize it, plot it, and do some actual finance."
   ]
  }
 ],
 "metadata": {
  "interpreter": {
   "hash": "b67b392f8c699abfccff34ffff3abf55b26d6520ea7ac337064f990a3d8607af"
  },
  "kernelspec": {
   "display_name": "Python 3.9.7 ('base')",
   "language": "python",
   "name": "python3"
  },
  "language_info": {
   "codemirror_mode": {
    "name": "ipython",
    "version": 3
   },
   "file_extension": ".py",
   "mimetype": "text/x-python",
   "name": "python",
   "nbconvert_exporter": "python",
   "pygments_lexer": "ipython3",
   "version": "3.9.7"
  }
 },
 "nbformat": 4,
 "nbformat_minor": 2
}