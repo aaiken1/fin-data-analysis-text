{
 "cells": [
  {
   "cell_type": "markdown",
   "metadata": {},
   "source": [
    "# Cleaning our data\n",
    "\n",
    "Cleaning your data and dealing with dates. That's the life of anyone who deals with data, especially in finance. Most data sets are messy. This is especially true if you or your firm is the one collecting the data and not just purchasing something.\n",
    "\n",
    "DataCamp has an article on [cleaning data in `pandas`](https://www.datacamp.com/community/tutorials/data-preparation-with-pandas).\n",
    "\n",
    "[Chapter 7](https://wesmckinney.com/book/data-cleaning.html) of *Python for Data Analysis* for more data cleaning tips.\n",
    "\n",
    "## Underwater exploration\n",
    "\n",
    "We'll start by bringing in our Zillow data again.\n"
   ]
  },
  {
   "cell_type": "code",
   "execution_count": 1,
   "metadata": {},
   "outputs": [
    {
     "name": "stdout",
     "output_type": "stream",
     "text": [
      "<class 'pandas.core.frame.DataFrame'>\n",
      "RangeIndex: 2610 entries, 0 to 2609\n",
      "Data columns (total 24 columns):\n",
      " #   Column                        Non-Null Count  Dtype  \n",
      "---  ------                        --------------  -----  \n",
      " 0   RegionType                    2610 non-null   object \n",
      " 1   RegionName                    2610 non-null   object \n",
      " 2   StateName                     2609 non-null   object \n",
      " 3   MSAName                       1071 non-null   object \n",
      " 4   AllHomes_Tier1                2610 non-null   float64\n",
      " 5   AllHomes_Tier2                2610 non-null   float64\n",
      " 6   AllHomes_Tier3                2610 non-null   float64\n",
      " 7   AllHomes_AllTiers             2610 non-null   float64\n",
      " 8   UWHomes_Tier1                 2610 non-null   float64\n",
      " 9   UWHomes_Tier2                 2610 non-null   int64  \n",
      " 10  UWHomes_Tier3                 2610 non-null   float64\n",
      " 11  UWHomes_AllTiers              2610 non-null   float64\n",
      " 12  UWHomes_TotalValue_Tier1      2610 non-null   float64\n",
      " 13  UWHomes_TotalValue_Tier2      2610 non-null   float64\n",
      " 14  UWHomes_TotalValue_Tier3      2610 non-null   float64\n",
      " 15  UWHomes_TotalValue_AllTiers   2610 non-null   float64\n",
      " 16  UWHomes_MedianValue_AllTiers  2610 non-null   float64\n",
      " 17  AllHomes_Tier1_ShareUW        2610 non-null   float64\n",
      " 18  AllHomes_Tier2_ShareUW        2610 non-null   float64\n",
      " 19  AllHomes_Tier3_ShareUW        2610 non-null   float64\n",
      " 20  AllHomes_AllTiers_ShareUW     2610 non-null   float64\n",
      " 21  UWHomes_ShareInTier1          2610 non-null   float64\n",
      " 22  UWHomes_ShareInTier2          2610 non-null   float64\n",
      " 23  UWHomes_ShareInTier3          2610 non-null   float64\n",
      "dtypes: float64(19), int64(1), object(4)\n",
      "memory usage: 489.5+ KB\n"
     ]
    }
   ],
   "source": [
    "import numpy as np\n",
    "import pandas as pd\n",
    "\n",
    "uw = pd.read_csv('https://github.com/aaiken1/fin-data-analysis-python/raw/main/data/zestimatesAndCutoffs_byGeo_uw_2017-10-10_forDataPage.csv')\n",
    "uw.info()"
   ]
  },
  {
   "cell_type": "markdown",
   "metadata": {},
   "source": [
    "Once of the most important steps in data cleaning is just looking at what we have. What are the variables? What are their types? How many unique values of each variable do we have? Any missings? Do we see anything unexpected?\n",
    "\n",
    "This [page](https://datagy.io/pandas-unique/) has a nice summary."
   ]
  },
  {
   "cell_type": "code",
   "execution_count": 2,
   "metadata": {},
   "outputs": [],
   "source": [
    "uw['UWHomes_Tier2'] = uw[\"UWHomes_Tier2\"].astype('float64')\n"
   ]
  },
  {
   "cell_type": "markdown",
   "metadata": {},
   "source": [
    "We can count the number of times a category appears in a variable. Note that this is only useful for variables that have an sense of category. You would do this for any of the home count or dollar value variables, for example."
   ]
  },
  {
   "cell_type": "code",
   "execution_count": 3,
   "metadata": {},
   "outputs": [
    {
     "data": {
      "text/plain": [
       "Zip       1247\n",
       "City      1017\n",
       "County     227\n",
       "MSA         95\n",
       "State       23\n",
       "Nation       1\n",
       "Name: RegionType, dtype: int64"
      ]
     },
     "execution_count": 3,
     "metadata": {},
     "output_type": "execute_result"
    }
   ],
   "source": [
    "uw['RegionType'].value_counts()\n"
   ]
  },
  {
   "cell_type": "markdown",
   "metadata": {},
   "source": [
    "We should look for missing values for each variable. `isna()` returns a `TRUE` or `FALSE` for each value, depending on whether or not it is `NaN`, or missing. We can then take those 1/0, true or false, values and add them up with `sum()`. "
   ]
  },
  {
   "cell_type": "code",
   "execution_count": 4,
   "metadata": {},
   "outputs": [
    {
     "data": {
      "text/plain": [
       "RegionType                         0\n",
       "RegionName                         0\n",
       "StateName                          1\n",
       "MSAName                         1539\n",
       "AllHomes_Tier1                     0\n",
       "AllHomes_Tier2                     0\n",
       "AllHomes_Tier3                     0\n",
       "AllHomes_AllTiers                  0\n",
       "UWHomes_Tier1                      0\n",
       "UWHomes_Tier2                      0\n",
       "UWHomes_Tier3                      0\n",
       "UWHomes_AllTiers                   0\n",
       "UWHomes_TotalValue_Tier1           0\n",
       "UWHomes_TotalValue_Tier2           0\n",
       "UWHomes_TotalValue_Tier3           0\n",
       "UWHomes_TotalValue_AllTiers        0\n",
       "UWHomes_MedianValue_AllTiers       0\n",
       "AllHomes_Tier1_ShareUW             0\n",
       "AllHomes_Tier2_ShareUW             0\n",
       "AllHomes_Tier3_ShareUW             0\n",
       "AllHomes_AllTiers_ShareUW          0\n",
       "UWHomes_ShareInTier1               0\n",
       "UWHomes_ShareInTier2               0\n",
       "UWHomes_ShareInTier3               0\n",
       "dtype: int64"
      ]
     },
     "execution_count": 4,
     "metadata": {},
     "output_type": "execute_result"
    }
   ],
   "source": [
    "uw.isna().sum()"
   ]
  },
  {
   "cell_type": "markdown",
   "metadata": {},
   "source": [
    "You can see the logic in how these functions work. We take our DataFrame uw and we send it to `isna()`. This actually creates another DataFrame, that we then pass to `sum()`. Check it out."
   ]
  },
  {
   "cell_type": "code",
   "execution_count": 5,
   "metadata": {},
   "outputs": [
    {
     "data": {
      "text/html": [
       "<div>\n",
       "<style scoped>\n",
       "    .dataframe tbody tr th:only-of-type {\n",
       "        vertical-align: middle;\n",
       "    }\n",
       "\n",
       "    .dataframe tbody tr th {\n",
       "        vertical-align: top;\n",
       "    }\n",
       "\n",
       "    .dataframe thead th {\n",
       "        text-align: right;\n",
       "    }\n",
       "</style>\n",
       "<table border=\"1\" class=\"dataframe\">\n",
       "  <thead>\n",
       "    <tr style=\"text-align: right;\">\n",
       "      <th></th>\n",
       "      <th>RegionType</th>\n",
       "      <th>RegionName</th>\n",
       "      <th>StateName</th>\n",
       "      <th>MSAName</th>\n",
       "      <th>AllHomes_Tier1</th>\n",
       "      <th>AllHomes_Tier2</th>\n",
       "      <th>AllHomes_Tier3</th>\n",
       "      <th>AllHomes_AllTiers</th>\n",
       "      <th>UWHomes_Tier1</th>\n",
       "      <th>UWHomes_Tier2</th>\n",
       "      <th>...</th>\n",
       "      <th>UWHomes_TotalValue_Tier3</th>\n",
       "      <th>UWHomes_TotalValue_AllTiers</th>\n",
       "      <th>UWHomes_MedianValue_AllTiers</th>\n",
       "      <th>AllHomes_Tier1_ShareUW</th>\n",
       "      <th>AllHomes_Tier2_ShareUW</th>\n",
       "      <th>AllHomes_Tier3_ShareUW</th>\n",
       "      <th>AllHomes_AllTiers_ShareUW</th>\n",
       "      <th>UWHomes_ShareInTier1</th>\n",
       "      <th>UWHomes_ShareInTier2</th>\n",
       "      <th>UWHomes_ShareInTier3</th>\n",
       "    </tr>\n",
       "  </thead>\n",
       "  <tbody>\n",
       "    <tr>\n",
       "      <th>0</th>\n",
       "      <td>False</td>\n",
       "      <td>False</td>\n",
       "      <td>True</td>\n",
       "      <td>True</td>\n",
       "      <td>False</td>\n",
       "      <td>False</td>\n",
       "      <td>False</td>\n",
       "      <td>False</td>\n",
       "      <td>False</td>\n",
       "      <td>False</td>\n",
       "      <td>...</td>\n",
       "      <td>False</td>\n",
       "      <td>False</td>\n",
       "      <td>False</td>\n",
       "      <td>False</td>\n",
       "      <td>False</td>\n",
       "      <td>False</td>\n",
       "      <td>False</td>\n",
       "      <td>False</td>\n",
       "      <td>False</td>\n",
       "      <td>False</td>\n",
       "    </tr>\n",
       "    <tr>\n",
       "      <th>1</th>\n",
       "      <td>False</td>\n",
       "      <td>False</td>\n",
       "      <td>False</td>\n",
       "      <td>True</td>\n",
       "      <td>False</td>\n",
       "      <td>False</td>\n",
       "      <td>False</td>\n",
       "      <td>False</td>\n",
       "      <td>False</td>\n",
       "      <td>False</td>\n",
       "      <td>...</td>\n",
       "      <td>False</td>\n",
       "      <td>False</td>\n",
       "      <td>False</td>\n",
       "      <td>False</td>\n",
       "      <td>False</td>\n",
       "      <td>False</td>\n",
       "      <td>False</td>\n",
       "      <td>False</td>\n",
       "      <td>False</td>\n",
       "      <td>False</td>\n",
       "    </tr>\n",
       "    <tr>\n",
       "      <th>2</th>\n",
       "      <td>False</td>\n",
       "      <td>False</td>\n",
       "      <td>False</td>\n",
       "      <td>True</td>\n",
       "      <td>False</td>\n",
       "      <td>False</td>\n",
       "      <td>False</td>\n",
       "      <td>False</td>\n",
       "      <td>False</td>\n",
       "      <td>False</td>\n",
       "      <td>...</td>\n",
       "      <td>False</td>\n",
       "      <td>False</td>\n",
       "      <td>False</td>\n",
       "      <td>False</td>\n",
       "      <td>False</td>\n",
       "      <td>False</td>\n",
       "      <td>False</td>\n",
       "      <td>False</td>\n",
       "      <td>False</td>\n",
       "      <td>False</td>\n",
       "    </tr>\n",
       "    <tr>\n",
       "      <th>3</th>\n",
       "      <td>False</td>\n",
       "      <td>False</td>\n",
       "      <td>False</td>\n",
       "      <td>True</td>\n",
       "      <td>False</td>\n",
       "      <td>False</td>\n",
       "      <td>False</td>\n",
       "      <td>False</td>\n",
       "      <td>False</td>\n",
       "      <td>False</td>\n",
       "      <td>...</td>\n",
       "      <td>False</td>\n",
       "      <td>False</td>\n",
       "      <td>False</td>\n",
       "      <td>False</td>\n",
       "      <td>False</td>\n",
       "      <td>False</td>\n",
       "      <td>False</td>\n",
       "      <td>False</td>\n",
       "      <td>False</td>\n",
       "      <td>False</td>\n",
       "    </tr>\n",
       "    <tr>\n",
       "      <th>4</th>\n",
       "      <td>False</td>\n",
       "      <td>False</td>\n",
       "      <td>False</td>\n",
       "      <td>True</td>\n",
       "      <td>False</td>\n",
       "      <td>False</td>\n",
       "      <td>False</td>\n",
       "      <td>False</td>\n",
       "      <td>False</td>\n",
       "      <td>False</td>\n",
       "      <td>...</td>\n",
       "      <td>False</td>\n",
       "      <td>False</td>\n",
       "      <td>False</td>\n",
       "      <td>False</td>\n",
       "      <td>False</td>\n",
       "      <td>False</td>\n",
       "      <td>False</td>\n",
       "      <td>False</td>\n",
       "      <td>False</td>\n",
       "      <td>False</td>\n",
       "    </tr>\n",
       "    <tr>\n",
       "      <th>...</th>\n",
       "      <td>...</td>\n",
       "      <td>...</td>\n",
       "      <td>...</td>\n",
       "      <td>...</td>\n",
       "      <td>...</td>\n",
       "      <td>...</td>\n",
       "      <td>...</td>\n",
       "      <td>...</td>\n",
       "      <td>...</td>\n",
       "      <td>...</td>\n",
       "      <td>...</td>\n",
       "      <td>...</td>\n",
       "      <td>...</td>\n",
       "      <td>...</td>\n",
       "      <td>...</td>\n",
       "      <td>...</td>\n",
       "      <td>...</td>\n",
       "      <td>...</td>\n",
       "      <td>...</td>\n",
       "      <td>...</td>\n",
       "      <td>...</td>\n",
       "    </tr>\n",
       "    <tr>\n",
       "      <th>2605</th>\n",
       "      <td>False</td>\n",
       "      <td>False</td>\n",
       "      <td>False</td>\n",
       "      <td>True</td>\n",
       "      <td>False</td>\n",
       "      <td>False</td>\n",
       "      <td>False</td>\n",
       "      <td>False</td>\n",
       "      <td>False</td>\n",
       "      <td>False</td>\n",
       "      <td>...</td>\n",
       "      <td>False</td>\n",
       "      <td>False</td>\n",
       "      <td>False</td>\n",
       "      <td>False</td>\n",
       "      <td>False</td>\n",
       "      <td>False</td>\n",
       "      <td>False</td>\n",
       "      <td>False</td>\n",
       "      <td>False</td>\n",
       "      <td>False</td>\n",
       "    </tr>\n",
       "    <tr>\n",
       "      <th>2606</th>\n",
       "      <td>False</td>\n",
       "      <td>False</td>\n",
       "      <td>False</td>\n",
       "      <td>True</td>\n",
       "      <td>False</td>\n",
       "      <td>False</td>\n",
       "      <td>False</td>\n",
       "      <td>False</td>\n",
       "      <td>False</td>\n",
       "      <td>False</td>\n",
       "      <td>...</td>\n",
       "      <td>False</td>\n",
       "      <td>False</td>\n",
       "      <td>False</td>\n",
       "      <td>False</td>\n",
       "      <td>False</td>\n",
       "      <td>False</td>\n",
       "      <td>False</td>\n",
       "      <td>False</td>\n",
       "      <td>False</td>\n",
       "      <td>False</td>\n",
       "    </tr>\n",
       "    <tr>\n",
       "      <th>2607</th>\n",
       "      <td>False</td>\n",
       "      <td>False</td>\n",
       "      <td>False</td>\n",
       "      <td>True</td>\n",
       "      <td>False</td>\n",
       "      <td>False</td>\n",
       "      <td>False</td>\n",
       "      <td>False</td>\n",
       "      <td>False</td>\n",
       "      <td>False</td>\n",
       "      <td>...</td>\n",
       "      <td>False</td>\n",
       "      <td>False</td>\n",
       "      <td>False</td>\n",
       "      <td>False</td>\n",
       "      <td>False</td>\n",
       "      <td>False</td>\n",
       "      <td>False</td>\n",
       "      <td>False</td>\n",
       "      <td>False</td>\n",
       "      <td>False</td>\n",
       "    </tr>\n",
       "    <tr>\n",
       "      <th>2608</th>\n",
       "      <td>False</td>\n",
       "      <td>False</td>\n",
       "      <td>False</td>\n",
       "      <td>True</td>\n",
       "      <td>False</td>\n",
       "      <td>False</td>\n",
       "      <td>False</td>\n",
       "      <td>False</td>\n",
       "      <td>False</td>\n",
       "      <td>False</td>\n",
       "      <td>...</td>\n",
       "      <td>False</td>\n",
       "      <td>False</td>\n",
       "      <td>False</td>\n",
       "      <td>False</td>\n",
       "      <td>False</td>\n",
       "      <td>False</td>\n",
       "      <td>False</td>\n",
       "      <td>False</td>\n",
       "      <td>False</td>\n",
       "      <td>False</td>\n",
       "    </tr>\n",
       "    <tr>\n",
       "      <th>2609</th>\n",
       "      <td>False</td>\n",
       "      <td>False</td>\n",
       "      <td>False</td>\n",
       "      <td>True</td>\n",
       "      <td>False</td>\n",
       "      <td>False</td>\n",
       "      <td>False</td>\n",
       "      <td>False</td>\n",
       "      <td>False</td>\n",
       "      <td>False</td>\n",
       "      <td>...</td>\n",
       "      <td>False</td>\n",
       "      <td>False</td>\n",
       "      <td>False</td>\n",
       "      <td>False</td>\n",
       "      <td>False</td>\n",
       "      <td>False</td>\n",
       "      <td>False</td>\n",
       "      <td>False</td>\n",
       "      <td>False</td>\n",
       "      <td>False</td>\n",
       "    </tr>\n",
       "  </tbody>\n",
       "</table>\n",
       "<p>2610 rows × 24 columns</p>\n",
       "</div>"
      ],
      "text/plain": [
       "      RegionType  RegionName  StateName  MSAName  AllHomes_Tier1  \\\n",
       "0          False       False       True     True           False   \n",
       "1          False       False      False     True           False   \n",
       "2          False       False      False     True           False   \n",
       "3          False       False      False     True           False   \n",
       "4          False       False      False     True           False   \n",
       "...          ...         ...        ...      ...             ...   \n",
       "2605       False       False      False     True           False   \n",
       "2606       False       False      False     True           False   \n",
       "2607       False       False      False     True           False   \n",
       "2608       False       False      False     True           False   \n",
       "2609       False       False      False     True           False   \n",
       "\n",
       "      AllHomes_Tier2  AllHomes_Tier3  AllHomes_AllTiers  UWHomes_Tier1  \\\n",
       "0              False           False              False          False   \n",
       "1              False           False              False          False   \n",
       "2              False           False              False          False   \n",
       "3              False           False              False          False   \n",
       "4              False           False              False          False   \n",
       "...              ...             ...                ...            ...   \n",
       "2605           False           False              False          False   \n",
       "2606           False           False              False          False   \n",
       "2607           False           False              False          False   \n",
       "2608           False           False              False          False   \n",
       "2609           False           False              False          False   \n",
       "\n",
       "      UWHomes_Tier2  ...  UWHomes_TotalValue_Tier3  \\\n",
       "0             False  ...                     False   \n",
       "1             False  ...                     False   \n",
       "2             False  ...                     False   \n",
       "3             False  ...                     False   \n",
       "4             False  ...                     False   \n",
       "...             ...  ...                       ...   \n",
       "2605          False  ...                     False   \n",
       "2606          False  ...                     False   \n",
       "2607          False  ...                     False   \n",
       "2608          False  ...                     False   \n",
       "2609          False  ...                     False   \n",
       "\n",
       "      UWHomes_TotalValue_AllTiers  UWHomes_MedianValue_AllTiers  \\\n",
       "0                           False                         False   \n",
       "1                           False                         False   \n",
       "2                           False                         False   \n",
       "3                           False                         False   \n",
       "4                           False                         False   \n",
       "...                           ...                           ...   \n",
       "2605                        False                         False   \n",
       "2606                        False                         False   \n",
       "2607                        False                         False   \n",
       "2608                        False                         False   \n",
       "2609                        False                         False   \n",
       "\n",
       "      AllHomes_Tier1_ShareUW  AllHomes_Tier2_ShareUW  AllHomes_Tier3_ShareUW  \\\n",
       "0                      False                   False                   False   \n",
       "1                      False                   False                   False   \n",
       "2                      False                   False                   False   \n",
       "3                      False                   False                   False   \n",
       "4                      False                   False                   False   \n",
       "...                      ...                     ...                     ...   \n",
       "2605                   False                   False                   False   \n",
       "2606                   False                   False                   False   \n",
       "2607                   False                   False                   False   \n",
       "2608                   False                   False                   False   \n",
       "2609                   False                   False                   False   \n",
       "\n",
       "      AllHomes_AllTiers_ShareUW  UWHomes_ShareInTier1  UWHomes_ShareInTier2  \\\n",
       "0                         False                 False                 False   \n",
       "1                         False                 False                 False   \n",
       "2                         False                 False                 False   \n",
       "3                         False                 False                 False   \n",
       "4                         False                 False                 False   \n",
       "...                         ...                   ...                   ...   \n",
       "2605                      False                 False                 False   \n",
       "2606                      False                 False                 False   \n",
       "2607                      False                 False                 False   \n",
       "2608                      False                 False                 False   \n",
       "2609                      False                 False                 False   \n",
       "\n",
       "      UWHomes_ShareInTier3  \n",
       "0                    False  \n",
       "1                    False  \n",
       "2                    False  \n",
       "3                    False  \n",
       "4                    False  \n",
       "...                    ...  \n",
       "2605                 False  \n",
       "2606                 False  \n",
       "2607                 False  \n",
       "2608                 False  \n",
       "2609                 False  \n",
       "\n",
       "[2610 rows x 24 columns]"
      ]
     },
     "execution_count": 5,
     "metadata": {},
     "output_type": "execute_result"
    }
   ],
   "source": [
    "uw.isna()"
   ]
  },
  {
   "cell_type": "markdown",
   "metadata": {},
   "source": [
    "The same sort of logic applies to the method `unique()`. This one gives an `array` of each unique value in a column or set of columns."
   ]
  },
  {
   "cell_type": "code",
   "execution_count": 6,
   "metadata": {},
   "outputs": [
    {
     "data": {
      "text/plain": [
       "array(['United States', 'Alabama', 'California', ..., '98612', '32081',\n",
       "       '33578'], dtype=object)"
      ]
     },
     "execution_count": 6,
     "metadata": {},
     "output_type": "execute_result"
    }
   ],
   "source": [
    "uw.RegionName.unique()"
   ]
  },
  {
   "cell_type": "markdown",
   "metadata": {},
   "source": [
    "And, to look across multiple columns, we could use `drop_duplicates()'. This will find the unique values for set of variables given it."
   ]
  },
  {
   "cell_type": "code",
   "execution_count": 7,
   "metadata": {},
   "outputs": [
    {
     "data": {
      "text/html": [
       "<div>\n",
       "<style scoped>\n",
       "    .dataframe tbody tr th:only-of-type {\n",
       "        vertical-align: middle;\n",
       "    }\n",
       "\n",
       "    .dataframe tbody tr th {\n",
       "        vertical-align: top;\n",
       "    }\n",
       "\n",
       "    .dataframe thead th {\n",
       "        text-align: right;\n",
       "    }\n",
       "</style>\n",
       "<table border=\"1\" class=\"dataframe\">\n",
       "  <thead>\n",
       "    <tr style=\"text-align: right;\">\n",
       "      <th></th>\n",
       "      <th>RegionName</th>\n",
       "      <th>StateName</th>\n",
       "    </tr>\n",
       "  </thead>\n",
       "  <tbody>\n",
       "    <tr>\n",
       "      <th>0</th>\n",
       "      <td>United States</td>\n",
       "      <td>NaN</td>\n",
       "    </tr>\n",
       "    <tr>\n",
       "      <th>1</th>\n",
       "      <td>Alabama</td>\n",
       "      <td>Alabama</td>\n",
       "    </tr>\n",
       "    <tr>\n",
       "      <th>2</th>\n",
       "      <td>California</td>\n",
       "      <td>California</td>\n",
       "    </tr>\n",
       "    <tr>\n",
       "      <th>3</th>\n",
       "      <td>Connecticut</td>\n",
       "      <td>Connecticut</td>\n",
       "    </tr>\n",
       "    <tr>\n",
       "      <th>4</th>\n",
       "      <td>Delaware</td>\n",
       "      <td>Delaware</td>\n",
       "    </tr>\n",
       "    <tr>\n",
       "      <th>...</th>\n",
       "      <td>...</td>\n",
       "      <td>...</td>\n",
       "    </tr>\n",
       "    <tr>\n",
       "      <th>2605</th>\n",
       "      <td>98592</td>\n",
       "      <td>Washington</td>\n",
       "    </tr>\n",
       "    <tr>\n",
       "      <th>2606</th>\n",
       "      <td>98595</td>\n",
       "      <td>Washington</td>\n",
       "    </tr>\n",
       "    <tr>\n",
       "      <th>2607</th>\n",
       "      <td>98612</td>\n",
       "      <td>Washington</td>\n",
       "    </tr>\n",
       "    <tr>\n",
       "      <th>2608</th>\n",
       "      <td>32081</td>\n",
       "      <td>Florida</td>\n",
       "    </tr>\n",
       "    <tr>\n",
       "      <th>2609</th>\n",
       "      <td>33578</td>\n",
       "      <td>Florida</td>\n",
       "    </tr>\n",
       "  </tbody>\n",
       "</table>\n",
       "<p>2571 rows × 2 columns</p>\n",
       "</div>"
      ],
      "text/plain": [
       "         RegionName    StateName\n",
       "0     United States          NaN\n",
       "1           Alabama      Alabama\n",
       "2        California   California\n",
       "3       Connecticut  Connecticut\n",
       "4          Delaware     Delaware\n",
       "...             ...          ...\n",
       "2605          98592   Washington\n",
       "2606          98595   Washington\n",
       "2607          98612   Washington\n",
       "2608          32081      Florida\n",
       "2609          33578      Florida\n",
       "\n",
       "[2571 rows x 2 columns]"
      ]
     },
     "execution_count": 7,
     "metadata": {},
     "output_type": "execute_result"
    }
   ],
   "source": [
    "uw[['RegionName','StateName']].drop_duplicates()"
   ]
  },
  {
   "cell_type": "markdown",
   "metadata": {},
   "source": [
    "We can count the number of unique values for a variable."
   ]
  },
  {
   "cell_type": "code",
   "execution_count": 8,
   "metadata": {},
   "outputs": [
    {
     "data": {
      "text/plain": [
       "2496"
      ]
     },
     "execution_count": 8,
     "metadata": {},
     "output_type": "execute_result"
    }
   ],
   "source": [
    "uw.RegionName.nunique()"
   ]
  },
  {
   "cell_type": "markdown",
   "metadata": {},
   "source": [
    "We can filter on one variable and count another. We're looking for unexpected things, just trying to get a sense for what we have."
   ]
  },
  {
   "cell_type": "code",
   "execution_count": 9,
   "metadata": {},
   "outputs": [
    {
     "data": {
      "text/plain": [
       "95"
      ]
     },
     "execution_count": 9,
     "metadata": {},
     "output_type": "execute_result"
    }
   ],
   "source": [
    "uw[uw['RegionType'] == 'MSA'].MSAName.nunique()"
   ]
  },
  {
   "cell_type": "markdown",
   "metadata": {},
   "source": [
    "This syntax works too!"
   ]
  },
  {
   "cell_type": "code",
   "execution_count": 10,
   "metadata": {},
   "outputs": [
    {
     "data": {
      "text/plain": [
       "95"
      ]
     },
     "execution_count": 10,
     "metadata": {},
     "output_type": "execute_result"
    }
   ],
   "source": [
    "uw[uw['RegionType'] == 'MSA']['MSAName'].nunique()"
   ]
  },
  {
   "cell_type": "markdown",
   "metadata": {},
   "source": [
    "We have 95 unique MSA is our data. Seems reasonable. MSAs are like city-regions.\n",
    "\n",
    "Finally, let's try some more complicated code. I found this example [here](https://towardsdatascience.com/a-better-eda-with-pandas-profiling-e842a00e1136).\n",
    "\n",
    "First, we will create a DataFrame that has the total number of missing values for each variable. We can sort the data using `sort_values()`. The `ascending=False` option will have the variable with the largest number of missings at the top.\n"
   ]
  },
  {
   "cell_type": "code",
   "execution_count": 11,
   "metadata": {},
   "outputs": [],
   "source": [
    "total = uw.isna().sum().sort_values(ascending=False)"
   ]
  },
  {
   "cell_type": "markdown",
   "metadata": {},
   "source": [
    "By the way, you'll also see a `isnull()` method that does the same thing as `isna()`. \n",
    "\n",
    "Next, let's create a DataFrame that that has the percentage of values that are missing for each variable. This is neat one - we are creating a DataFrame of values (total number missing) for the numerator and another DataFrame of values (total number) for the denominator. Then, we are dividing two DataFrames, giving us another DataFrame of the resulting division. We then sort."
   ]
  },
  {
   "cell_type": "code",
   "execution_count": 12,
   "metadata": {},
   "outputs": [],
   "source": [
    "percent = (uw.isnull().sum()/uw.isnull().count()).sort_values(ascending=False)\n"
   ]
  },
  {
   "cell_type": "markdown",
   "metadata": {},
   "source": [
    "We can use a new function called `concat` from `pandas` that combines data, either as rows (stacking) or columns (combining). We'll combine columns, with means concatenating along axis=1. We'll name both columns. We can do this because each DataFrame has the same index created by `pandas`, all of our variable names. So, there's a one-to-one correspondence between the two DataFrames."
   ]
  },
  {
   "cell_type": "code",
   "execution_count": 13,
   "metadata": {},
   "outputs": [],
   "source": [
    "missing_data = pd.concat([total, percent], axis=1, keys=['Total', 'Missing Percent'])\n"
   ]
  },
  {
   "cell_type": "markdown",
   "metadata": {},
   "source": [
    "Let's take the percents and multiply all of them by 100, just to make them look like percents. And to show you, again, that you can."
   ]
  },
  {
   "cell_type": "code",
   "execution_count": 14,
   "metadata": {},
   "outputs": [],
   "source": [
    "missing_data['Missing Percent'] = missing_data['Missing Percent'] * 100\n"
   ]
  },
  {
   "cell_type": "markdown",
   "metadata": {},
   "source": [
    "For the last step, we can filter and just get the variable names where more than 10% of our data are missing."
   ]
  },
  {
   "cell_type": "code",
   "execution_count": 15,
   "metadata": {},
   "outputs": [
    {
     "data": {
      "text/html": [
       "<div>\n",
       "<style scoped>\n",
       "    .dataframe tbody tr th:only-of-type {\n",
       "        vertical-align: middle;\n",
       "    }\n",
       "\n",
       "    .dataframe tbody tr th {\n",
       "        vertical-align: top;\n",
       "    }\n",
       "\n",
       "    .dataframe thead th {\n",
       "        text-align: right;\n",
       "    }\n",
       "</style>\n",
       "<table border=\"1\" class=\"dataframe\">\n",
       "  <thead>\n",
       "    <tr style=\"text-align: right;\">\n",
       "      <th></th>\n",
       "      <th>Total</th>\n",
       "      <th>Missing Percent</th>\n",
       "    </tr>\n",
       "  </thead>\n",
       "  <tbody>\n",
       "    <tr>\n",
       "      <th>MSAName</th>\n",
       "      <td>1539</td>\n",
       "      <td>58.965517</td>\n",
       "    </tr>\n",
       "  </tbody>\n",
       "</table>\n",
       "</div>"
      ],
      "text/plain": [
       "         Total  Missing Percent\n",
       "MSAName   1539        58.965517"
      ]
     },
     "execution_count": 15,
     "metadata": {},
     "output_type": "execute_result"
    }
   ],
   "source": [
    "missing_data[missing_data['Missing Percent'] > 10]"
   ]
  },
  {
   "cell_type": "markdown",
   "metadata": {},
   "source": [
    "\n",
    "## Back to stocks\n",
    "\n",
    "We can bring back the stock data too, as that data has some missing values."
   ]
  },
  {
   "cell_type": "code",
   "execution_count": 16,
   "metadata": {},
   "outputs": [],
   "source": [
    "prices = pd.read_csv('https://github.com/aaiken1/fin-data-analysis-python/raw/main/data/tr_eikon_eod_data.csv',\n",
    "                      index_col=0, parse_dates=True)"
   ]
  },
  {
   "cell_type": "markdown",
   "metadata": {},
   "source": [
    "Why are there missing values? Holidays and weekends, when trading doesn't take place."
   ]
  },
  {
   "cell_type": "code",
   "execution_count": 17,
   "metadata": {},
   "outputs": [
    {
     "data": {
      "text/plain": [
       "AAPL.O    78\n",
       "MSFT.O    78\n",
       "INTC.O    78\n",
       "AMZN.O    78\n",
       "GS.N      78\n",
       "SPY       78\n",
       ".SPX      78\n",
       ".VIX      78\n",
       "EUR=       0\n",
       "XAU=       5\n",
       "GDX       78\n",
       "GLD       78\n",
       "dtype: int64"
      ]
     },
     "execution_count": 17,
     "metadata": {},
     "output_type": "execute_result"
    }
   ],
   "source": [
    "prices.isna().sum()"
   ]
  },
  {
   "cell_type": "markdown",
   "metadata": {},
   "source": [
    "We can drop these rows. We'll specify `axis=0`, or rows."
   ]
  },
  {
   "cell_type": "code",
   "execution_count": 18,
   "metadata": {},
   "outputs": [
    {
     "data": {
      "text/plain": [
       "AAPL.O    0\n",
       "MSFT.O    0\n",
       "INTC.O    0\n",
       "AMZN.O    0\n",
       "GS.N      0\n",
       "SPY       0\n",
       ".SPX      0\n",
       ".VIX      0\n",
       "EUR=      0\n",
       "XAU=      0\n",
       "GDX       0\n",
       "GLD       0\n",
       "dtype: int64"
      ]
     },
     "execution_count": 18,
     "metadata": {},
     "output_type": "execute_result"
    }
   ],
   "source": [
    "prices = prices.dropna(axis=0)\n",
    "prices.isna().sum()"
   ]
  },
  {
   "cell_type": "code",
   "execution_count": 19,
   "metadata": {},
   "outputs": [
    {
     "data": {
      "text/html": [
       "<div>\n",
       "<style scoped>\n",
       "    .dataframe tbody tr th:only-of-type {\n",
       "        vertical-align: middle;\n",
       "    }\n",
       "\n",
       "    .dataframe tbody tr th {\n",
       "        vertical-align: top;\n",
       "    }\n",
       "\n",
       "    .dataframe thead th {\n",
       "        text-align: right;\n",
       "    }\n",
       "</style>\n",
       "<table border=\"1\" class=\"dataframe\">\n",
       "  <thead>\n",
       "    <tr style=\"text-align: right;\">\n",
       "      <th></th>\n",
       "      <th>AAPL.O</th>\n",
       "      <th>MSFT.O</th>\n",
       "      <th>INTC.O</th>\n",
       "      <th>AMZN.O</th>\n",
       "      <th>GS.N</th>\n",
       "      <th>SPY</th>\n",
       "      <th>.SPX</th>\n",
       "      <th>.VIX</th>\n",
       "      <th>EUR=</th>\n",
       "      <th>XAU=</th>\n",
       "      <th>GDX</th>\n",
       "      <th>GLD</th>\n",
       "    </tr>\n",
       "    <tr>\n",
       "      <th>Date</th>\n",
       "      <th></th>\n",
       "      <th></th>\n",
       "      <th></th>\n",
       "      <th></th>\n",
       "      <th></th>\n",
       "      <th></th>\n",
       "      <th></th>\n",
       "      <th></th>\n",
       "      <th></th>\n",
       "      <th></th>\n",
       "      <th></th>\n",
       "      <th></th>\n",
       "    </tr>\n",
       "  </thead>\n",
       "  <tbody>\n",
       "    <tr>\n",
       "      <th>2010-01-04</th>\n",
       "      <td>30.572827</td>\n",
       "      <td>30.950</td>\n",
       "      <td>20.880</td>\n",
       "      <td>133.900</td>\n",
       "      <td>173.08</td>\n",
       "      <td>113.33</td>\n",
       "      <td>1132.99</td>\n",
       "      <td>20.04</td>\n",
       "      <td>1.4411</td>\n",
       "      <td>1120.00</td>\n",
       "      <td>47.71</td>\n",
       "      <td>109.80</td>\n",
       "    </tr>\n",
       "    <tr>\n",
       "      <th>2010-01-05</th>\n",
       "      <td>30.625684</td>\n",
       "      <td>30.960</td>\n",
       "      <td>20.870</td>\n",
       "      <td>134.690</td>\n",
       "      <td>176.14</td>\n",
       "      <td>113.63</td>\n",
       "      <td>1136.52</td>\n",
       "      <td>19.35</td>\n",
       "      <td>1.4368</td>\n",
       "      <td>1118.65</td>\n",
       "      <td>48.17</td>\n",
       "      <td>109.70</td>\n",
       "    </tr>\n",
       "    <tr>\n",
       "      <th>2010-01-06</th>\n",
       "      <td>30.138541</td>\n",
       "      <td>30.770</td>\n",
       "      <td>20.800</td>\n",
       "      <td>132.250</td>\n",
       "      <td>174.26</td>\n",
       "      <td>113.71</td>\n",
       "      <td>1137.14</td>\n",
       "      <td>19.16</td>\n",
       "      <td>1.4412</td>\n",
       "      <td>1138.50</td>\n",
       "      <td>49.34</td>\n",
       "      <td>111.51</td>\n",
       "    </tr>\n",
       "    <tr>\n",
       "      <th>2010-01-07</th>\n",
       "      <td>30.082827</td>\n",
       "      <td>30.452</td>\n",
       "      <td>20.600</td>\n",
       "      <td>130.000</td>\n",
       "      <td>177.67</td>\n",
       "      <td>114.19</td>\n",
       "      <td>1141.69</td>\n",
       "      <td>19.06</td>\n",
       "      <td>1.4318</td>\n",
       "      <td>1131.90</td>\n",
       "      <td>49.10</td>\n",
       "      <td>110.82</td>\n",
       "    </tr>\n",
       "    <tr>\n",
       "      <th>2010-01-08</th>\n",
       "      <td>30.282827</td>\n",
       "      <td>30.660</td>\n",
       "      <td>20.830</td>\n",
       "      <td>133.520</td>\n",
       "      <td>174.31</td>\n",
       "      <td>114.57</td>\n",
       "      <td>1144.98</td>\n",
       "      <td>18.13</td>\n",
       "      <td>1.4412</td>\n",
       "      <td>1136.10</td>\n",
       "      <td>49.84</td>\n",
       "      <td>111.37</td>\n",
       "    </tr>\n",
       "    <tr>\n",
       "      <th>2010-01-11</th>\n",
       "      <td>30.015684</td>\n",
       "      <td>30.270</td>\n",
       "      <td>20.950</td>\n",
       "      <td>130.308</td>\n",
       "      <td>171.56</td>\n",
       "      <td>114.73</td>\n",
       "      <td>1146.98</td>\n",
       "      <td>17.55</td>\n",
       "      <td>1.4513</td>\n",
       "      <td>1152.60</td>\n",
       "      <td>50.17</td>\n",
       "      <td>112.85</td>\n",
       "    </tr>\n",
       "    <tr>\n",
       "      <th>2010-01-12</th>\n",
       "      <td>29.674256</td>\n",
       "      <td>30.070</td>\n",
       "      <td>20.608</td>\n",
       "      <td>127.350</td>\n",
       "      <td>167.82</td>\n",
       "      <td>113.66</td>\n",
       "      <td>1136.22</td>\n",
       "      <td>18.25</td>\n",
       "      <td>1.4494</td>\n",
       "      <td>1127.30</td>\n",
       "      <td>48.35</td>\n",
       "      <td>110.49</td>\n",
       "    </tr>\n",
       "    <tr>\n",
       "      <th>2010-01-13</th>\n",
       "      <td>30.092827</td>\n",
       "      <td>30.350</td>\n",
       "      <td>20.960</td>\n",
       "      <td>129.110</td>\n",
       "      <td>169.07</td>\n",
       "      <td>114.62</td>\n",
       "      <td>1145.68</td>\n",
       "      <td>17.85</td>\n",
       "      <td>1.4510</td>\n",
       "      <td>1138.40</td>\n",
       "      <td>48.86</td>\n",
       "      <td>111.54</td>\n",
       "    </tr>\n",
       "    <tr>\n",
       "      <th>2010-01-14</th>\n",
       "      <td>29.918542</td>\n",
       "      <td>30.960</td>\n",
       "      <td>21.480</td>\n",
       "      <td>127.350</td>\n",
       "      <td>168.53</td>\n",
       "      <td>114.93</td>\n",
       "      <td>1148.46</td>\n",
       "      <td>17.63</td>\n",
       "      <td>1.4502</td>\n",
       "      <td>1142.85</td>\n",
       "      <td>48.60</td>\n",
       "      <td>112.03</td>\n",
       "    </tr>\n",
       "    <tr>\n",
       "      <th>2010-01-15</th>\n",
       "      <td>29.418542</td>\n",
       "      <td>30.860</td>\n",
       "      <td>20.800</td>\n",
       "      <td>127.140</td>\n",
       "      <td>165.21</td>\n",
       "      <td>113.64</td>\n",
       "      <td>1136.03</td>\n",
       "      <td>17.91</td>\n",
       "      <td>1.4382</td>\n",
       "      <td>1129.90</td>\n",
       "      <td>47.42</td>\n",
       "      <td>110.86</td>\n",
       "    </tr>\n",
       "    <tr>\n",
       "      <th>2010-01-19</th>\n",
       "      <td>30.719969</td>\n",
       "      <td>31.100</td>\n",
       "      <td>21.050</td>\n",
       "      <td>127.610</td>\n",
       "      <td>166.86</td>\n",
       "      <td>115.06</td>\n",
       "      <td>1150.23</td>\n",
       "      <td>17.58</td>\n",
       "      <td>1.4298</td>\n",
       "      <td>1137.70</td>\n",
       "      <td>47.69</td>\n",
       "      <td>111.52</td>\n",
       "    </tr>\n",
       "    <tr>\n",
       "      <th>2010-01-20</th>\n",
       "      <td>30.246398</td>\n",
       "      <td>30.585</td>\n",
       "      <td>21.080</td>\n",
       "      <td>125.780</td>\n",
       "      <td>167.79</td>\n",
       "      <td>113.89</td>\n",
       "      <td>1138.04</td>\n",
       "      <td>18.68</td>\n",
       "      <td>1.4101</td>\n",
       "      <td>1111.30</td>\n",
       "      <td>45.73</td>\n",
       "      <td>108.94</td>\n",
       "    </tr>\n",
       "    <tr>\n",
       "      <th>2010-01-21</th>\n",
       "      <td>29.724542</td>\n",
       "      <td>30.010</td>\n",
       "      <td>20.840</td>\n",
       "      <td>126.620</td>\n",
       "      <td>160.87</td>\n",
       "      <td>111.70</td>\n",
       "      <td>1116.48</td>\n",
       "      <td>22.27</td>\n",
       "      <td>1.4090</td>\n",
       "      <td>1094.75</td>\n",
       "      <td>43.75</td>\n",
       "      <td>107.37</td>\n",
       "    </tr>\n",
       "    <tr>\n",
       "      <th>2010-01-22</th>\n",
       "      <td>28.249972</td>\n",
       "      <td>28.960</td>\n",
       "      <td>19.910</td>\n",
       "      <td>121.430</td>\n",
       "      <td>154.12</td>\n",
       "      <td>109.21</td>\n",
       "      <td>1091.76</td>\n",
       "      <td>27.31</td>\n",
       "      <td>1.4137</td>\n",
       "      <td>1092.60</td>\n",
       "      <td>43.79</td>\n",
       "      <td>107.17</td>\n",
       "    </tr>\n",
       "    <tr>\n",
       "      <th>2010-01-25</th>\n",
       "      <td>29.010685</td>\n",
       "      <td>29.320</td>\n",
       "      <td>20.320</td>\n",
       "      <td>120.310</td>\n",
       "      <td>154.98</td>\n",
       "      <td>109.77</td>\n",
       "      <td>1096.78</td>\n",
       "      <td>25.41</td>\n",
       "      <td>1.4150</td>\n",
       "      <td>1097.85</td>\n",
       "      <td>43.19</td>\n",
       "      <td>107.48</td>\n",
       "    </tr>\n",
       "  </tbody>\n",
       "</table>\n",
       "</div>"
      ],
      "text/plain": [
       "               AAPL.O  MSFT.O  INTC.O   AMZN.O    GS.N     SPY     .SPX  \\\n",
       "Date                                                                      \n",
       "2010-01-04  30.572827  30.950  20.880  133.900  173.08  113.33  1132.99   \n",
       "2010-01-05  30.625684  30.960  20.870  134.690  176.14  113.63  1136.52   \n",
       "2010-01-06  30.138541  30.770  20.800  132.250  174.26  113.71  1137.14   \n",
       "2010-01-07  30.082827  30.452  20.600  130.000  177.67  114.19  1141.69   \n",
       "2010-01-08  30.282827  30.660  20.830  133.520  174.31  114.57  1144.98   \n",
       "2010-01-11  30.015684  30.270  20.950  130.308  171.56  114.73  1146.98   \n",
       "2010-01-12  29.674256  30.070  20.608  127.350  167.82  113.66  1136.22   \n",
       "2010-01-13  30.092827  30.350  20.960  129.110  169.07  114.62  1145.68   \n",
       "2010-01-14  29.918542  30.960  21.480  127.350  168.53  114.93  1148.46   \n",
       "2010-01-15  29.418542  30.860  20.800  127.140  165.21  113.64  1136.03   \n",
       "2010-01-19  30.719969  31.100  21.050  127.610  166.86  115.06  1150.23   \n",
       "2010-01-20  30.246398  30.585  21.080  125.780  167.79  113.89  1138.04   \n",
       "2010-01-21  29.724542  30.010  20.840  126.620  160.87  111.70  1116.48   \n",
       "2010-01-22  28.249972  28.960  19.910  121.430  154.12  109.21  1091.76   \n",
       "2010-01-25  29.010685  29.320  20.320  120.310  154.98  109.77  1096.78   \n",
       "\n",
       "             .VIX    EUR=     XAU=    GDX     GLD  \n",
       "Date                                               \n",
       "2010-01-04  20.04  1.4411  1120.00  47.71  109.80  \n",
       "2010-01-05  19.35  1.4368  1118.65  48.17  109.70  \n",
       "2010-01-06  19.16  1.4412  1138.50  49.34  111.51  \n",
       "2010-01-07  19.06  1.4318  1131.90  49.10  110.82  \n",
       "2010-01-08  18.13  1.4412  1136.10  49.84  111.37  \n",
       "2010-01-11  17.55  1.4513  1152.60  50.17  112.85  \n",
       "2010-01-12  18.25  1.4494  1127.30  48.35  110.49  \n",
       "2010-01-13  17.85  1.4510  1138.40  48.86  111.54  \n",
       "2010-01-14  17.63  1.4502  1142.85  48.60  112.03  \n",
       "2010-01-15  17.91  1.4382  1129.90  47.42  110.86  \n",
       "2010-01-19  17.58  1.4298  1137.70  47.69  111.52  \n",
       "2010-01-20  18.68  1.4101  1111.30  45.73  108.94  \n",
       "2010-01-21  22.27  1.4090  1094.75  43.75  107.37  \n",
       "2010-01-22  27.31  1.4137  1092.60  43.79  107.17  \n",
       "2010-01-25  25.41  1.4150  1097.85  43.19  107.48  "
      ]
     },
     "execution_count": 19,
     "metadata": {},
     "output_type": "execute_result"
    }
   ],
   "source": [
    "prices.head(15)"
   ]
  },
  {
   "cell_type": "markdown",
   "metadata": {},
   "source": [
    "## Pyjanitor\n",
    "\n",
    "We are going to look at a fun package that is based on something from the [R](https://www.r-project.org) statistical programming language, called [pyjanitor](https://pyjanitor-devs.github.io/pyjanitor/). \n",
    "\n",
    "To use this package, you'll need to type the following in the terminal (Mac) or command prompt (Windows).\n",
    "\n",
    "```\n",
    "conda install -c conda-forge pyjanitor\n",
    "```\n",
    "This will install `pyjanitor` using Ananconda. So, it should show up when you select the Anaconda distribution of Python. You'll need to restart VS Code once you've installed it.\n",
    "\n",
    "There are even [finance specific tools](https://pyjanitor-devs.github.io/pyjanitor/api/finance/)."
   ]
  },
  {
   "cell_type": "code",
   "execution_count": 20,
   "metadata": {},
   "outputs": [],
   "source": [
    "import janitor\n",
    "from janitor import clean_names\n"
   ]
  },
  {
   "cell_type": "markdown",
   "metadata": {},
   "source": [
    "`pyjanitor` lets us have an interesting workflow. We can read in our data set, remove columns, drop missings, and rename columns, all in one series of steps."
   ]
  },
  {
   "cell_type": "code",
   "execution_count": 21,
   "metadata": {},
   "outputs": [],
   "source": [
    "prices = (\n",
    "    pd.read_csv('https://github.com/aaiken1/fin-data-analysis-python/raw/main/data/tr_eikon_eod_data.csv',\n",
    "                      index_col=0, parse_dates=True)\n",
    "    .remove_columns(['GLD'])\n",
    "    .dropna()\n",
    "    .rename_column('AAPL.O', 'AAPL')\n",
    "    .rename_column('MSFT.O', 'MSFT')\n",
    ")"
   ]
  },
  {
   "cell_type": "markdown",
   "metadata": {},
   "source": [
    "There are also some built-in, general functions. `clean_names()` does what it says. For example, it sets all characters in a variable name to lower case."
   ]
  },
  {
   "cell_type": "code",
   "execution_count": 22,
   "metadata": {},
   "outputs": [],
   "source": [
    "prices = pd.read_csv('https://github.com/aaiken1/fin-data-analysis-python/raw/main/data/tr_eikon_eod_data.csv',\n",
    "                      index_col=0, parse_dates=True)\n",
    "\n",
    "prices = prices.clean_names()"
   ]
  },
  {
   "cell_type": "markdown",
   "metadata": {},
   "source": [
    "Again, a variety of syntaxes to do the same thing."
   ]
  },
  {
   "cell_type": "code",
   "execution_count": 23,
   "metadata": {},
   "outputs": [],
   "source": [
    "prices = pd.read_csv('https://github.com/aaiken1/fin-data-analysis-python/raw/main/data/tr_eikon_eod_data.csv',\n",
    "                      index_col=0, parse_dates=True)\n",
    "\n",
    "prices = clean_names(prices)"
   ]
  },
  {
   "cell_type": "markdown",
   "metadata": {},
   "source": [
    "The method `flag_nulls` creates a new variable that will have a 1 if any of the variables specified are missing. In this case, I didn't specify anything, so it will look across all of the variables. If any variable is `NaN`, then that row gets a 1. Notice the **any**."
   ]
  },
  {
   "cell_type": "code",
   "execution_count": 24,
   "metadata": {},
   "outputs": [],
   "source": [
    "prices = pd.read_csv('https://github.com/aaiken1/fin-data-analysis-python/raw/main/data/tr_eikon_eod_data.csv',\n",
    "                      index_col=0, parse_dates=True)\n",
    "\n",
    "prices = prices.flag_nulls()"
   ]
  },
  {
   "cell_type": "markdown",
   "metadata": {},
   "source": [
    "Finally, simple way to see if we have any rows of duplicate data. This will happen surprisingly (and unfortunately) often when we start merging data together. "
   ]
  },
  {
   "cell_type": "code",
   "execution_count": 25,
   "metadata": {},
   "outputs": [
    {
     "data": {
      "text/html": [
       "<div>\n",
       "<style scoped>\n",
       "    .dataframe tbody tr th:only-of-type {\n",
       "        vertical-align: middle;\n",
       "    }\n",
       "\n",
       "    .dataframe tbody tr th {\n",
       "        vertical-align: top;\n",
       "    }\n",
       "\n",
       "    .dataframe thead th {\n",
       "        text-align: right;\n",
       "    }\n",
       "</style>\n",
       "<table border=\"1\" class=\"dataframe\">\n",
       "  <thead>\n",
       "    <tr style=\"text-align: right;\">\n",
       "      <th></th>\n",
       "      <th>AAPL.O</th>\n",
       "      <th>MSFT.O</th>\n",
       "      <th>INTC.O</th>\n",
       "      <th>AMZN.O</th>\n",
       "      <th>GS.N</th>\n",
       "      <th>SPY</th>\n",
       "      <th>.SPX</th>\n",
       "      <th>.VIX</th>\n",
       "      <th>EUR=</th>\n",
       "      <th>XAU=</th>\n",
       "      <th>GDX</th>\n",
       "      <th>GLD</th>\n",
       "      <th>null_flag</th>\n",
       "    </tr>\n",
       "    <tr>\n",
       "      <th>Date</th>\n",
       "      <th></th>\n",
       "      <th></th>\n",
       "      <th></th>\n",
       "      <th></th>\n",
       "      <th></th>\n",
       "      <th></th>\n",
       "      <th></th>\n",
       "      <th></th>\n",
       "      <th></th>\n",
       "      <th></th>\n",
       "      <th></th>\n",
       "      <th></th>\n",
       "      <th></th>\n",
       "    </tr>\n",
       "  </thead>\n",
       "  <tbody>\n",
       "  </tbody>\n",
       "</table>\n",
       "</div>"
      ],
      "text/plain": [
       "Empty DataFrame\n",
       "Columns: [AAPL.O, MSFT.O, INTC.O, AMZN.O, GS.N, SPY, .SPX, .VIX, EUR=, XAU=, GDX, GLD, null_flag]\n",
       "Index: []"
      ]
     },
     "execution_count": 25,
     "metadata": {},
     "output_type": "execute_result"
    }
   ],
   "source": [
    "prices.get_dupes()"
   ]
  }
 ],
 "metadata": {
  "interpreter": {
   "hash": "b67b392f8c699abfccff34ffff3abf55b26d6520ea7ac337064f990a3d8607af"
  },
  "kernelspec": {
   "display_name": "Python 3.9.7 ('base')",
   "language": "python",
   "name": "python3"
  },
  "language_info": {
   "codemirror_mode": {
    "name": "ipython",
    "version": 3
   },
   "file_extension": ".py",
   "mimetype": "text/x-python",
   "name": "python",
   "nbconvert_exporter": "python",
   "pygments_lexer": "ipython3",
   "version": "3.9.7"
  }
 },
 "nbformat": 4,
 "nbformat_minor": 2
}