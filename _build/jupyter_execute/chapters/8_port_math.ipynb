{
 "cells": [
  {
   "attachments": {},
   "cell_type": "markdown",
   "metadata": {},
   "source": [
    "# Essential portfolio math\n",
    "\n",
    "This brief chapter will cover the type of statistics that we often see when looking at **portfolios**. Parts of the material, such as skewness and kurtosis, are also covered in **Chapter 13** of [Python for Finance, 2e](https://www.oreilly.com/library/view/python-for-finance/9781492024323/)\n",
    "\n",
    "This material will have us thinking about **portfolio construction**. This type of portfolio construction is, typically, most helpful in a quantitative, or \"quant\", strategy. If you're picking 20 stocks to buy, you aren't going to run an optimizer. You'll probably just 1/n, or equally-weight, the positions. \n",
    "\n",
    "But, what if you have a lot of positions, probably chosen by some kind of quant or algorithmic strategy? You will be choosing and sizing the various trades (or, assets, more generally) to achieve a good trade-off between risk and expected return. What should you consider?\n",
    "\n",
    "1. Diversification! Quant strategies might have 1000's of positions.\n",
    "2. Position limits and risk limits: At the level of securities, asset classes, and overall portfolio. \n",
    "3. Larger bets on higher conviction trade. You can weight a position based on the strength of your signal.\n",
    "4. Size bets in terms of risk.\n",
    "5. Correlations matter: For a long position, correlation with other longs is bad, corr. with shorts is good. Powerful to go long/short within each industry, diversify across industries. Can use ETFs and futures to “hedge” out sector and market exposure.\n",
    "6. Resize positions according to forward-looking risk and conviction.\n",
    "\n",
    "We won't start with full-on quantitative-based strategies though. Let's look at a few, basic return series. \n",
    "   \n",
    "We'll start by bringing in some **monthly hedge fund return data**. We'll calculate some portfolio returns, using assumed weights. We'll then move on to portfolio-level **variance and standard deviation**. We'll see how to **annualize returns and volatility**. We'll look at other risk measures, like **skewness** and **kurtosis**. We'll see **Sharpe** and **Sortino** ratios. Finally, we'll make a graph showing the **drawdown**, or worse loss, of our portfolio.\n",
    "\n",
    "These ideas will get us thinking about portfolios, trading strategies, risk management, and portfolio optimization. We'll go into more detail in later chapters.\n",
    "\n",
    "The formulas are **must knows** for finance folks! For example, you need these on CFA Level 1.\n"
   ]
  },
  {
   "cell_type": "code",
   "execution_count": 1,
   "metadata": {},
   "outputs": [
    {
     "data": {
      "text/html": [
       "<div>\n",
       "<style scoped>\n",
       "    .dataframe tbody tr th:only-of-type {\n",
       "        vertical-align: middle;\n",
       "    }\n",
       "\n",
       "    .dataframe tbody tr th {\n",
       "        vertical-align: top;\n",
       "    }\n",
       "\n",
       "    .dataframe thead th {\n",
       "        text-align: right;\n",
       "    }\n",
       "</style>\n",
       "<table border=\"1\" class=\"dataframe\">\n",
       "  <thead>\n",
       "    <tr style=\"text-align: right;\">\n",
       "      <th></th>\n",
       "      <th>rf</th>\n",
       "      <th>mkt_rf</th>\n",
       "      <th>smb</th>\n",
       "      <th>hml</th>\n",
       "      <th>umd</th>\n",
       "      <th>ln_sh_eq_hedge_fund_usd</th>\n",
       "      <th>eq_mkt_ntr_hedge_fund_usd</th>\n",
       "      <th>ded_sh_bs_hedge_fund_usd</th>\n",
       "      <th>global_mac_hedge_fund_usd</th>\n",
       "      <th>mngd_fut_hedge_fund_usd</th>\n",
       "      <th>emg_mkts_hedge_fund_usd</th>\n",
       "      <th>evnt_drvn_hedge_fund_usd</th>\n",
       "      <th>_cnvrt_arb_hedge_fund_usd</th>\n",
       "      <th>fx_inc_arb_hedge_fund_usd</th>\n",
       "      <th>djcs_hedge_fund_usd</th>\n",
       "    </tr>\n",
       "  </thead>\n",
       "  <tbody>\n",
       "    <tr>\n",
       "      <th>count</th>\n",
       "      <td>222.000000</td>\n",
       "      <td>222.000000</td>\n",
       "      <td>222.000000</td>\n",
       "      <td>222.000000</td>\n",
       "      <td>222.000000</td>\n",
       "      <td>222.000000</td>\n",
       "      <td>222.000000</td>\n",
       "      <td>222.000000</td>\n",
       "      <td>222.000000</td>\n",
       "      <td>222.000000</td>\n",
       "      <td>222.000000</td>\n",
       "      <td>222.000000</td>\n",
       "      <td>222.000000</td>\n",
       "      <td>222.000000</td>\n",
       "      <td>222.000000</td>\n",
       "    </tr>\n",
       "    <tr>\n",
       "      <th>mean</th>\n",
       "      <td>0.002536</td>\n",
       "      <td>0.005089</td>\n",
       "      <td>0.002121</td>\n",
       "      <td>0.002133</td>\n",
       "      <td>0.004886</td>\n",
       "      <td>0.007535</td>\n",
       "      <td>0.004410</td>\n",
       "      <td>-0.002217</td>\n",
       "      <td>0.009594</td>\n",
       "      <td>0.005108</td>\n",
       "      <td>0.006656</td>\n",
       "      <td>0.007360</td>\n",
       "      <td>0.006129</td>\n",
       "      <td>0.004366</td>\n",
       "      <td>0.007011</td>\n",
       "    </tr>\n",
       "    <tr>\n",
       "      <th>std</th>\n",
       "      <td>0.001742</td>\n",
       "      <td>0.047007</td>\n",
       "      <td>0.035581</td>\n",
       "      <td>0.033738</td>\n",
       "      <td>0.054827</td>\n",
       "      <td>0.028745</td>\n",
       "      <td>0.029770</td>\n",
       "      <td>0.049144</td>\n",
       "      <td>0.028000</td>\n",
       "      <td>0.033738</td>\n",
       "      <td>0.042929</td>\n",
       "      <td>0.018291</td>\n",
       "      <td>0.019981</td>\n",
       "      <td>0.016485</td>\n",
       "      <td>0.021820</td>\n",
       "    </tr>\n",
       "    <tr>\n",
       "      <th>min</th>\n",
       "      <td>0.000000</td>\n",
       "      <td>-0.185500</td>\n",
       "      <td>-0.166200</td>\n",
       "      <td>-0.128700</td>\n",
       "      <td>-0.347500</td>\n",
       "      <td>-0.114806</td>\n",
       "      <td>-0.404590</td>\n",
       "      <td>-0.112825</td>\n",
       "      <td>-0.115652</td>\n",
       "      <td>-0.093702</td>\n",
       "      <td>-0.230716</td>\n",
       "      <td>-0.118201</td>\n",
       "      <td>-0.126007</td>\n",
       "      <td>-0.140442</td>\n",
       "      <td>-0.075948</td>\n",
       "    </tr>\n",
       "    <tr>\n",
       "      <th>25%</th>\n",
       "      <td>0.000900</td>\n",
       "      <td>-0.023225</td>\n",
       "      <td>-0.019750</td>\n",
       "      <td>-0.015275</td>\n",
       "      <td>-0.011225</td>\n",
       "      <td>-0.008805</td>\n",
       "      <td>0.001250</td>\n",
       "      <td>-0.033677</td>\n",
       "      <td>-0.001949</td>\n",
       "      <td>-0.018947</td>\n",
       "      <td>-0.012924</td>\n",
       "      <td>0.000110</td>\n",
       "      <td>-0.000482</td>\n",
       "      <td>0.001716</td>\n",
       "      <td>-0.002376</td>\n",
       "    </tr>\n",
       "    <tr>\n",
       "      <th>50%</th>\n",
       "      <td>0.003000</td>\n",
       "      <td>0.011550</td>\n",
       "      <td>-0.001450</td>\n",
       "      <td>0.002150</td>\n",
       "      <td>0.006300</td>\n",
       "      <td>0.007663</td>\n",
       "      <td>0.006715</td>\n",
       "      <td>-0.007478</td>\n",
       "      <td>0.010404</td>\n",
       "      <td>0.003235</td>\n",
       "      <td>0.012111</td>\n",
       "      <td>0.009848</td>\n",
       "      <td>0.009817</td>\n",
       "      <td>0.007131</td>\n",
       "      <td>0.007447</td>\n",
       "    </tr>\n",
       "    <tr>\n",
       "      <th>75%</th>\n",
       "      <td>0.004100</td>\n",
       "      <td>0.035600</td>\n",
       "      <td>0.023025</td>\n",
       "      <td>0.017750</td>\n",
       "      <td>0.030425</td>\n",
       "      <td>0.023168</td>\n",
       "      <td>0.012581</td>\n",
       "      <td>0.029215</td>\n",
       "      <td>0.021420</td>\n",
       "      <td>0.028790</td>\n",
       "      <td>0.028144</td>\n",
       "      <td>0.018590</td>\n",
       "      <td>0.014712</td>\n",
       "      <td>0.011529</td>\n",
       "      <td>0.018074</td>\n",
       "    </tr>\n",
       "    <tr>\n",
       "      <th>max</th>\n",
       "      <td>0.005600</td>\n",
       "      <td>0.115300</td>\n",
       "      <td>0.220600</td>\n",
       "      <td>0.138800</td>\n",
       "      <td>0.184000</td>\n",
       "      <td>0.129913</td>\n",
       "      <td>0.036573</td>\n",
       "      <td>0.226661</td>\n",
       "      <td>0.105808</td>\n",
       "      <td>0.099063</td>\n",
       "      <td>0.164018</td>\n",
       "      <td>0.042168</td>\n",
       "      <td>0.058055</td>\n",
       "      <td>0.043331</td>\n",
       "      <td>0.085117</td>\n",
       "    </tr>\n",
       "  </tbody>\n",
       "</table>\n",
       "</div>"
      ],
      "text/plain": [
       "               rf      mkt_rf         smb         hml         umd  \\\n",
       "count  222.000000  222.000000  222.000000  222.000000  222.000000   \n",
       "mean     0.002536    0.005089    0.002121    0.002133    0.004886   \n",
       "std      0.001742    0.047007    0.035581    0.033738    0.054827   \n",
       "min      0.000000   -0.185500   -0.166200   -0.128700   -0.347500   \n",
       "25%      0.000900   -0.023225   -0.019750   -0.015275   -0.011225   \n",
       "50%      0.003000    0.011550   -0.001450    0.002150    0.006300   \n",
       "75%      0.004100    0.035600    0.023025    0.017750    0.030425   \n",
       "max      0.005600    0.115300    0.220600    0.138800    0.184000   \n",
       "\n",
       "       ln_sh_eq_hedge_fund_usd  eq_mkt_ntr_hedge_fund_usd  \\\n",
       "count               222.000000                 222.000000   \n",
       "mean                  0.007535                   0.004410   \n",
       "std                   0.028745                   0.029770   \n",
       "min                  -0.114806                  -0.404590   \n",
       "25%                  -0.008805                   0.001250   \n",
       "50%                   0.007663                   0.006715   \n",
       "75%                   0.023168                   0.012581   \n",
       "max                   0.129913                   0.036573   \n",
       "\n",
       "       ded_sh_bs_hedge_fund_usd  global_mac_hedge_fund_usd  \\\n",
       "count                222.000000                 222.000000   \n",
       "mean                  -0.002217                   0.009594   \n",
       "std                    0.049144                   0.028000   \n",
       "min                   -0.112825                  -0.115652   \n",
       "25%                   -0.033677                  -0.001949   \n",
       "50%                   -0.007478                   0.010404   \n",
       "75%                    0.029215                   0.021420   \n",
       "max                    0.226661                   0.105808   \n",
       "\n",
       "       mngd_fut_hedge_fund_usd  emg_mkts_hedge_fund_usd  \\\n",
       "count               222.000000               222.000000   \n",
       "mean                  0.005108                 0.006656   \n",
       "std                   0.033738                 0.042929   \n",
       "min                  -0.093702                -0.230716   \n",
       "25%                  -0.018947                -0.012924   \n",
       "50%                   0.003235                 0.012111   \n",
       "75%                   0.028790                 0.028144   \n",
       "max                   0.099063                 0.164018   \n",
       "\n",
       "       evnt_drvn_hedge_fund_usd  _cnvrt_arb_hedge_fund_usd  \\\n",
       "count                222.000000                 222.000000   \n",
       "mean                   0.007360                   0.006129   \n",
       "std                    0.018291                   0.019981   \n",
       "min                   -0.118201                  -0.126007   \n",
       "25%                    0.000110                  -0.000482   \n",
       "50%                    0.009848                   0.009817   \n",
       "75%                    0.018590                   0.014712   \n",
       "max                    0.042168                   0.058055   \n",
       "\n",
       "       fx_inc_arb_hedge_fund_usd  djcs_hedge_fund_usd  \n",
       "count                 222.000000           222.000000  \n",
       "mean                    0.004366             0.007011  \n",
       "std                     0.016485             0.021820  \n",
       "min                    -0.140442            -0.075948  \n",
       "25%                     0.001716            -0.002376  \n",
       "50%                     0.007131             0.007447  \n",
       "75%                     0.011529             0.018074  \n",
       "max                     0.043331             0.085117  "
      ]
     },
     "execution_count": 1,
     "metadata": {},
     "output_type": "execute_result"
    }
   ],
   "source": [
    "import numpy as np\n",
    "import pandas as pd\n",
    "import statsmodels.formula.api as smf\n",
    "import janitor\n",
    "from janitor import clean_names\n",
    "\n",
    "# This brings in all of matplotlib\n",
    "import matplotlib as mpl \n",
    "\n",
    "# This lets us refer to the pyplot part of matplot lib more easily. Just use plt!\n",
    "import matplotlib.pyplot as plt\n",
    "\n",
    "# Include this to have plots show up in your Jupyter notebook.\n",
    "%matplotlib inline \n",
    "\n",
    "hf = pd.read_excel('https://raw.githubusercontent.com/aaiken1/fin-data-analysis-python/main/data/hf_rets.xlsx',\n",
    "                  index_col=0, parse_dates=True)  \n",
    "\n",
    "hf = hf.clean_names()\n",
    "\n",
    "hf.describe()"
   ]
  },
  {
   "attachments": {},
   "cell_type": "markdown",
   "metadata": {},
   "source": [
    "There's a lot there, so let's just keep four different columns. These columns represent the average monthly return for that hedge fund type. I'm keeping long/short equity, equity market neutral, global macro, managed futures.\n",
    "\n",
    "Long/short equity funds do what the name says -- they go long and short stocks, generally keeping their market beta less than one. But not that different from traditional mutual funds.\n",
    "\n",
    "Equity market neutral might aim for a beta of zero, but usually have more exposure than that. They are trying to get rid of their risk exposures and just earn alpha from security mispricings. Easier said than done.\n",
    "\n",
    "Global macro funds make trades based on broad market trends, currencies, and other markets affected by macro events, like inflation or economic growth. They don't buy or sell individual stocks and often use futures contracts to get their exposures. \n",
    "\n",
    "Finally, managed futures are similar, but tend to follow trend-following strategies. They buy stuff that's been going up and sell stuff that's been going down. Some investors use them as diversifiers in their portfolios.\n",
    "\n",
    "You'll see more on these ideas in the factor model notes."
   ]
  },
  {
   "cell_type": "code",
   "execution_count": 2,
   "metadata": {},
   "outputs": [
    {
     "data": {
      "text/html": [
       "<div>\n",
       "<style scoped>\n",
       "    .dataframe tbody tr th:only-of-type {\n",
       "        vertical-align: middle;\n",
       "    }\n",
       "\n",
       "    .dataframe tbody tr th {\n",
       "        vertical-align: top;\n",
       "    }\n",
       "\n",
       "    .dataframe thead th {\n",
       "        text-align: right;\n",
       "    }\n",
       "</style>\n",
       "<table border=\"1\" class=\"dataframe\">\n",
       "  <thead>\n",
       "    <tr style=\"text-align: right;\">\n",
       "      <th></th>\n",
       "      <th>ln_sh_eq_hedge_fund_usd</th>\n",
       "      <th>eq_mkt_ntr_hedge_fund_usd</th>\n",
       "      <th>global_mac_hedge_fund_usd</th>\n",
       "      <th>mngd_fut_hedge_fund_usd</th>\n",
       "    </tr>\n",
       "    <tr>\n",
       "      <th>date</th>\n",
       "      <th></th>\n",
       "      <th></th>\n",
       "      <th></th>\n",
       "      <th></th>\n",
       "    </tr>\n",
       "  </thead>\n",
       "  <tbody>\n",
       "    <tr>\n",
       "      <th>1994-01-31</th>\n",
       "      <td>0.011733</td>\n",
       "      <td>-0.005467</td>\n",
       "      <td>0.001433</td>\n",
       "      <td>0.001933</td>\n",
       "    </tr>\n",
       "    <tr>\n",
       "      <th>1994-02-28</th>\n",
       "      <td>-0.025011</td>\n",
       "      <td>0.002106</td>\n",
       "      <td>-0.056811</td>\n",
       "      <td>0.011667</td>\n",
       "    </tr>\n",
       "    <tr>\n",
       "      <th>1994-03-31</th>\n",
       "      <td>-0.039114</td>\n",
       "      <td>-0.002514</td>\n",
       "      <td>-0.042854</td>\n",
       "      <td>0.025923</td>\n",
       "    </tr>\n",
       "    <tr>\n",
       "      <th>1994-04-29</th>\n",
       "      <td>-0.015720</td>\n",
       "      <td>0.002397</td>\n",
       "      <td>-0.016033</td>\n",
       "      <td>0.008437</td>\n",
       "    </tr>\n",
       "    <tr>\n",
       "      <th>1994-05-31</th>\n",
       "      <td>0.005550</td>\n",
       "      <td>-0.001229</td>\n",
       "      <td>0.037839</td>\n",
       "      <td>0.007497</td>\n",
       "    </tr>\n",
       "    <tr>\n",
       "      <th>...</th>\n",
       "      <td>...</td>\n",
       "      <td>...</td>\n",
       "      <td>...</td>\n",
       "      <td>...</td>\n",
       "    </tr>\n",
       "    <tr>\n",
       "      <th>2012-02-29</th>\n",
       "      <td>0.026418</td>\n",
       "      <td>0.013335</td>\n",
       "      <td>0.007852</td>\n",
       "      <td>0.012039</td>\n",
       "    </tr>\n",
       "    <tr>\n",
       "      <th>2012-03-30</th>\n",
       "      <td>0.004998</td>\n",
       "      <td>-0.001553</td>\n",
       "      <td>-0.004271</td>\n",
       "      <td>-0.029648</td>\n",
       "    </tr>\n",
       "    <tr>\n",
       "      <th>2012-04-30</th>\n",
       "      <td>-0.004680</td>\n",
       "      <td>-0.004139</td>\n",
       "      <td>-0.002522</td>\n",
       "      <td>0.004299</td>\n",
       "    </tr>\n",
       "    <tr>\n",
       "      <th>2012-05-31</th>\n",
       "      <td>-0.045274</td>\n",
       "      <td>-0.031806</td>\n",
       "      <td>0.001936</td>\n",
       "      <td>0.023829</td>\n",
       "    </tr>\n",
       "    <tr>\n",
       "      <th>2012-06-29</th>\n",
       "      <td>0.003438</td>\n",
       "      <td>0.009249</td>\n",
       "      <td>-0.013726</td>\n",
       "      <td>-0.035612</td>\n",
       "    </tr>\n",
       "  </tbody>\n",
       "</table>\n",
       "<p>222 rows × 4 columns</p>\n",
       "</div>"
      ],
      "text/plain": [
       "            ln_sh_eq_hedge_fund_usd  eq_mkt_ntr_hedge_fund_usd  \\\n",
       "date                                                             \n",
       "1994-01-31                 0.011733                  -0.005467   \n",
       "1994-02-28                -0.025011                   0.002106   \n",
       "1994-03-31                -0.039114                  -0.002514   \n",
       "1994-04-29                -0.015720                   0.002397   \n",
       "1994-05-31                 0.005550                  -0.001229   \n",
       "...                             ...                        ...   \n",
       "2012-02-29                 0.026418                   0.013335   \n",
       "2012-03-30                 0.004998                  -0.001553   \n",
       "2012-04-30                -0.004680                  -0.004139   \n",
       "2012-05-31                -0.045274                  -0.031806   \n",
       "2012-06-29                 0.003438                   0.009249   \n",
       "\n",
       "            global_mac_hedge_fund_usd  mngd_fut_hedge_fund_usd  \n",
       "date                                                            \n",
       "1994-01-31                   0.001433                 0.001933  \n",
       "1994-02-28                  -0.056811                 0.011667  \n",
       "1994-03-31                  -0.042854                 0.025923  \n",
       "1994-04-29                  -0.016033                 0.008437  \n",
       "1994-05-31                   0.037839                 0.007497  \n",
       "...                               ...                      ...  \n",
       "2012-02-29                   0.007852                 0.012039  \n",
       "2012-03-30                  -0.004271                -0.029648  \n",
       "2012-04-30                  -0.002522                 0.004299  \n",
       "2012-05-31                   0.001936                 0.023829  \n",
       "2012-06-29                  -0.013726                -0.035612  \n",
       "\n",
       "[222 rows x 4 columns]"
      ]
     },
     "execution_count": 2,
     "metadata": {},
     "output_type": "execute_result"
    }
   ],
   "source": [
    "rets = hf.iloc[:,[5, 6, 8, 9]]\n",
    "rets"
   ]
  },
  {
   "attachments": {},
   "cell_type": "markdown",
   "metadata": {},
   "source": [
    "I used `.iloc` to keep the columns I wanted. Easier to use a column number reference than type out these long names."
   ]
  },
  {
   "attachments": {},
   "cell_type": "markdown",
   "metadata": {},
   "source": [
    "## Geometric vs. arithmetic averages\n",
    "\n",
    "In order to think about portfolio returns, we also need to understand the relationship between an arithmetic average and the geometric average, and when to use one vs. another.\n",
    "\n",
    "This article, [by the financial planner Michael Kitches](https://www.kitces.com/blog/volatility-drag-variance-drain-mean-arithmetic-vs-geometric-average-investment-returns/), is a great explanation of why the difference matters and how **volatility drag** affects your total return. From his summary:\n",
    "\n",
    "> In the investment world, it’s common to discuss average rates of return, both in a backward-looking fashion (e.g., to report investment results), and in a more forward-looking manner (e.g., to project the average growth rate of investments for funding future goals in retirement planning software). However, the reality is that because returns are linked to each other – the return in one year increases or decreases the available wealth to compound in the subsequent year – it’s not sufficient to simply determine an “average” return by adding up all the historical returns and dividing by how many there are.\n",
    "\n",
    "> Instead of this traditional “arithmetic mean” approach to calculating an average, in the case of investment returns, the proper way to calculate average returns is with a geometric mean, that takes into account the compounding effects of a series of volatile returns over time. Which is important, because in practice the geometric average return is never as high as its arithmetic mean counterpart, due to the fact that volatility always produces some level of “volatility drag”, which can be estimated by subtracting ½ of the investment’s variance (standard deviation squared) from its arithmetic return.\n",
    "\n",
    "> Fortunately, the reality is that most investment returns, as commonly discussed by financial advisors, are already reported as geometric returns, typically stated as either a Compound Average Growth Rate (CAGR), an annualized return, or some similar label. Which means, intended or not, most financial advisors already project future wealth values in a retirement plan using the (proper) geometric return assumption.\n",
    "\n",
    "> However, the variance drain on a sequence of volatile returns still matters when financial advisors use Monte Carlo analysis, which by design actually projects sequences of random volatile returns (based on the probability that they will occur) to determine the outcome of particular retirement strategies. Because the fact that volatility drag is already part of a Monte Carlo analysis means that the return assumption plugged into a Monte Carlo projection should actually be the (higher) arithmetic return, and not the investment’s long-term compound average growth rate. Otherwise, the impact of volatility drag is effectively counted twice, which can understate long-term returns and overstate the actual risk of the prospective retirement plan!\n",
    "\n",
    "We can put that reasoning into a simple, but important formula.\n",
    "\n",
    "\\begin{align}\n",
    "\\text{Compound Return}_i = E[R_p] - \\frac{1}{2}\\sigma^2_p\n",
    "\\end{align}\n",
    "\n",
    "where $E[R_i]$ is the arithmetic mean of the portfolio (i.e. the expected return) and $\\sigma^2_p$ is the variance of the portfolio. Note that this math works for single assets, too. It isn't portfolio specific.\n",
    "\n",
    "```{hint}\n",
    "This is yet another formula that appears on the CFA and CFP exams.\n",
    "```\n",
    "\n",
    "Believe it or not, just figuring out how to calculate returns in order to create projections (e.g. for a client portfolio) is a controversial, non-trivial task. Two of the authors of your FIN 4120 investments textbook suggest that you should forecast the value of a portfolio using an average [between the arithmetic and geometric](https://www.tandfonline.com/doi/abs/10.2469/faj.v59.n6.2574?src=recsys).\n",
    "\n",
    "I like this discussion, too, by Kris Abdelmessih, an options trader who also writes the [Moontower Substack](https://moontower.substack.com/p/well-what-did-you-expect):\n",
    "\n",
    "> What you expect to happen in the colloquial sense of the term is the geometric mean. The arithmetic average is a measure of centrality when you sum the results and divide by the number of results. (In our examples you are summing results weighted by their probabilities, but you are still summing). The geometric mean corresponds to the median result of a compounding process. Compounding means “multiplying not summing”. The median is the measure that maps to our colloquial use of “expected” because it’s the 50/50 point of the distribution. That’s the number you plan life around.\n",
    "\n",
    "> The theoretical arithmetic mean result of playing the lotto might be losing 50% of your $2 Powerball ticket (which is another way of saying you are paying 2x what the ticket is mathematically worth). The median result is you lit your cash on fire. You plan your life around the median, especially when it’s far away from the mean. We’ll come back to that.\n",
    "\n",
    "\n",
    "Here's [a link](https://www.dropbox.com/s/ph4xmjt5wsobeuv/Well%20What%20Did%20You%20%22Expect%22%3F%20-%20Party%20at%20the%20Moontower.pdf?dl=0) to a PDF of that Substack post. If you're interested in trading, options, math puzzles, etc., check out his work. I don't agree with every conclusion, but I like the way he breaks things down into the step-by-step logic of underlying math."
   ]
  },
  {
   "attachments": {},
   "cell_type": "markdown",
   "metadata": {},
   "source": [
    "## Portfolio-level returns\n",
    "\n",
    "Let's define an array of weights. We'll put 25% of our money into each style category. This isn't actually an investable strategy, since you can't invest in the average hedge fund!"
   ]
  },
  {
   "cell_type": "code",
   "execution_count": 3,
   "metadata": {},
   "outputs": [],
   "source": [
    "wgts = np.array([0.25, 0.25, 0.25, 0.25])"
   ]
  },
  {
   "attachments": {},
   "cell_type": "markdown",
   "metadata": {},
   "source": [
    "We can find the monthly means for each strategy. I'll multiply each by 100, name the column, and then turn the series into a DataFrame. You need the table to be a DataFrame in order to style it. I then use a **dictionary** to change the row names. Remember, a Python dictionary matches one item to another. I finally style the number format."
   ]
  },
  {
   "cell_type": "code",
   "execution_count": 4,
   "metadata": {},
   "outputs": [
    {
     "data": {
      "text/html": [
       "<style type=\"text/css\">\n",
       "</style>\n",
       "<table id=\"T_5e7e1\">\n",
       "  <caption>Hedge Fund Style Returns</caption>\n",
       "  <thead>\n",
       "    <tr>\n",
       "      <th class=\"blank level0\" >&nbsp;</th>\n",
       "      <th id=\"T_5e7e1_level0_col0\" class=\"col_heading level0 col0\" >Monthly Return</th>\n",
       "    </tr>\n",
       "  </thead>\n",
       "  <tbody>\n",
       "    <tr>\n",
       "      <th id=\"T_5e7e1_level0_row0\" class=\"row_heading level0 row0\" >L/S Equity</th>\n",
       "      <td id=\"T_5e7e1_row0_col0\" class=\"data row0 col0\" >0.754%</td>\n",
       "    </tr>\n",
       "    <tr>\n",
       "      <th id=\"T_5e7e1_level0_row1\" class=\"row_heading level0 row1\" >Equity Market Neutral</th>\n",
       "      <td id=\"T_5e7e1_row1_col0\" class=\"data row1 col0\" >0.441%</td>\n",
       "    </tr>\n",
       "    <tr>\n",
       "      <th id=\"T_5e7e1_level0_row2\" class=\"row_heading level0 row2\" >Global Macro</th>\n",
       "      <td id=\"T_5e7e1_row2_col0\" class=\"data row2 col0\" >0.959%</td>\n",
       "    </tr>\n",
       "    <tr>\n",
       "      <th id=\"T_5e7e1_level0_row3\" class=\"row_heading level0 row3\" >Managed Futures</th>\n",
       "      <td id=\"T_5e7e1_row3_col0\" class=\"data row3 col0\" >0.511%</td>\n",
       "    </tr>\n",
       "  </tbody>\n",
       "</table>\n"
      ],
      "text/plain": [
       "<pandas.io.formats.style.Styler at 0x106c7c3a0>"
      ]
     },
     "execution_count": 4,
     "metadata": {},
     "output_type": "execute_result"
    }
   ],
   "source": [
    "monthly_rets_avg = rets.mean().mul(100)\n",
    "\n",
    "monthly_rets_avg = monthly_rets_avg.rename('Monthly Return')\n",
    "\n",
    "monthly_rets_avg = monthly_rets_avg.to_frame()\n",
    "\n",
    "monthly_rets_avg = monthly_rets_avg.rename({'ln_sh_eq_hedge_fund_usd':'L/S Equity','eq_mkt_ntr_hedge_fund_usd':'Equity Market Neutral','global_mac_hedge_fund_usd':'Global Macro','mngd_fut_hedge_fund_usd':'Managed Futures'}, axis='rows')\n",
    "\n",
    "monthly_rets_avg = monthly_rets_avg.style.format('{:.3f}%').set_caption('Hedge Fund Style Returns') \n",
    "\n",
    "monthly_rets_avg"
   ]
  },
  {
   "attachments": {},
   "cell_type": "markdown",
   "metadata": {},
   "source": [
    "The **method chaining** to writing the code step-by-step to make the table works too. I find this easier to read. Note that I'm **not** saving the table as a DataFrame anywhere, though I could. I do one action and then the output gets passed on to the next action."
   ]
  },
  {
   "cell_type": "code",
   "execution_count": 5,
   "metadata": {},
   "outputs": [
    {
     "data": {
      "text/html": [
       "<style type=\"text/css\">\n",
       "</style>\n",
       "<table id=\"T_3ce8c\">\n",
       "  <caption>Hedge Fund Style Returns</caption>\n",
       "  <thead>\n",
       "    <tr>\n",
       "      <th class=\"blank level0\" >&nbsp;</th>\n",
       "      <th id=\"T_3ce8c_level0_col0\" class=\"col_heading level0 col0\" >Monthly Return</th>\n",
       "    </tr>\n",
       "  </thead>\n",
       "  <tbody>\n",
       "    <tr>\n",
       "      <th id=\"T_3ce8c_level0_row0\" class=\"row_heading level0 row0\" >L/S Equity</th>\n",
       "      <td id=\"T_3ce8c_row0_col0\" class=\"data row0 col0\" >0.754%</td>\n",
       "    </tr>\n",
       "    <tr>\n",
       "      <th id=\"T_3ce8c_level0_row1\" class=\"row_heading level0 row1\" >Equity Market Neutral</th>\n",
       "      <td id=\"T_3ce8c_row1_col0\" class=\"data row1 col0\" >0.441%</td>\n",
       "    </tr>\n",
       "    <tr>\n",
       "      <th id=\"T_3ce8c_level0_row2\" class=\"row_heading level0 row2\" >Global Macro</th>\n",
       "      <td id=\"T_3ce8c_row2_col0\" class=\"data row2 col0\" >0.959%</td>\n",
       "    </tr>\n",
       "    <tr>\n",
       "      <th id=\"T_3ce8c_level0_row3\" class=\"row_heading level0 row3\" >Managed Futures</th>\n",
       "      <td id=\"T_3ce8c_row3_col0\" class=\"data row3 col0\" >0.511%</td>\n",
       "    </tr>\n",
       "  </tbody>\n",
       "</table>\n"
      ],
      "text/plain": [
       "<pandas.io.formats.style.Styler at 0x106cb70d0>"
      ]
     },
     "execution_count": 5,
     "metadata": {},
     "output_type": "execute_result"
    }
   ],
   "source": [
    "(\n",
    "    rets.mean()\n",
    "    .mul(100)\n",
    "    .rename('Monthly Return')\n",
    "    .to_frame()\n",
    "    .rename({'ln_sh_eq_hedge_fund_usd':'L/S Equity','eq_mkt_ntr_hedge_fund_usd':'Equity Market Neutral','global_mac_hedge_fund_usd':'Global Macro','mngd_fut_hedge_fund_usd':'Managed Futures'}, axis='rows')\n",
    "    .style\n",
    "        .format('{:.3f}%')\n",
    "        .set_caption('Hedge Fund Style Returns')   \n",
    ")"
   ]
  },
  {
   "attachments": {},
   "cell_type": "markdown",
   "metadata": {},
   "source": [
    "We can also see what our equally-weighted portfolio would have done per month over that time period. I'll remake the monthly average returns, since you can't use it for math now that it's been styled."
   ]
  },
  {
   "cell_type": "code",
   "execution_count": 6,
   "metadata": {},
   "outputs": [
    {
     "data": {
      "text/plain": [
       "0.0066618444208333735"
      ]
     },
     "execution_count": 6,
     "metadata": {},
     "output_type": "execute_result"
    }
   ],
   "source": [
    "monthly_rets_avg = rets.mean()\n",
    "hf_port_ret = np.sum(monthly_rets_avg * wgts)\n",
    "hf_port_ret"
   ]
  },
  {
   "attachments": {},
   "cell_type": "markdown",
   "metadata": {},
   "source": [
    "Let's weight each month's returns by our weights so that we can then calculate monthly portfolio returns."
   ]
  },
  {
   "cell_type": "code",
   "execution_count": 7,
   "metadata": {},
   "outputs": [],
   "source": [
    "weighted_returns = (wgts * rets)"
   ]
  },
  {
   "attachments": {},
   "cell_type": "markdown",
   "metadata": {},
   "source": [
    "I'm calculating monthly returns by summing up across each row. That's the `axis=1` argument. I'm then naming this series *port_ret*."
   ]
  },
  {
   "cell_type": "code",
   "execution_count": 8,
   "metadata": {},
   "outputs": [],
   "source": [
    "port_ret = weighted_returns.sum(axis=1).rename('port_ret')\n"
   ]
  },
  {
   "attachments": {},
   "cell_type": "markdown",
   "metadata": {},
   "source": [
    "I'll join my portfolio returns to the monthly fund returns. There should be the same number of portfolio returns as individual hedge fund returns."
   ]
  },
  {
   "cell_type": "code",
   "execution_count": 9,
   "metadata": {},
   "outputs": [],
   "source": [
    "rets_with_port = rets.join(port_ret)"
   ]
  },
  {
   "attachments": {},
   "cell_type": "markdown",
   "metadata": {},
   "source": [
    "And, I can calculate cumulative returns and then graph them. As we've seen using a function like `.cumprod()` like this is an example of **broadcasting** and **vectorization**. I am adding 1 to every monthly return and then applying the `.cumprod()` function to each observation. Take a look at the result to see what happened. \n",
    "\n",
    "I'll also rename the columns a slightly different way. Notice that I'm using `inplace=True` and have the column names inside of a **dictionary**. "
   ]
  },
  {
   "cell_type": "code",
   "execution_count": 10,
   "metadata": {},
   "outputs": [],
   "source": [
    "monthly_cum_rets = (1+rets_with_port).cumprod()\n",
    "monthly_cum_rets.rename(columns={'ln_sh_eq_hedge_fund_usd':'L/S Equity', 'eq_mkt_ntr_hedge_fund_usd':'Equity Market Neutral', 'global_mac_hedge_fund_usd':'Global Macro', 'mngd_fut_hedge_fund_usd':'Managed Futures', 'port_ret':'EW Port Ret' }, inplace=True)"
   ]
  },
  {
   "cell_type": "code",
   "execution_count": 11,
   "metadata": {},
   "outputs": [
    {
     "data": {
      "image/png": "[encoded data removed]",
      "text/plain": [
       "<Figure size 640x480 with 1 Axes>"
      ]
     },
     "metadata": {
      "filenames": {
       "image/png": "/Users/adamaiken/Documents/fin-data-analysis-text/_build/jupyter_execute/chapters/8_port_math_22_0.png"
      }
     },
     "output_type": "display_data"
    }
   ],
   "source": [
    "monthly_cum_rets.plot();"
   ]
  },
  {
   "attachments": {},
   "cell_type": "markdown",
   "metadata": {},
   "source": [
    "Yikes! Check out the orange line - equity market neutral funds aren't necessarily very market neutral!"
   ]
  },
  {
   "attachments": {},
   "cell_type": "markdown",
   "metadata": {},
   "source": [
    "## Risk measures at the portfolio-level\n",
    "\n",
    "As you know from your investments class, the variance of a portfolio is **not** the average variance of the assets in the portfolio. We need to take into account the effects of **diversification**. For example, here's the formula for the variance of a portfolio with two assets. We need weights, variances, and the covariance between the two.\n",
    "\n",
    "\\begin{align}\n",
    "\\sigma^2_p = w^2_1 \\sigma^2_1 + w^2_2 \\sigma^2_2 + 2 w_1 w_2 \\sigma^2_{1,2}\n",
    "\\end{align}\n",
    "\n",
    "That last sigma, $\\sigma^2_{1,2}$, is the **covariance** between the two assets. \n",
    "\n",
    "This formula generalizes for **any number of assets**. \n",
    "\n",
    "\\begin{align}\n",
    "\\sigma^2_p = w^T \\Sigma w\n",
    "\\end{align}\n",
    "\n",
    "where $w$ is a **vector** containing all of our portfolio weights and sigma is the variance-covariance matrix for our assets. The \"T\" means the matrix operation **transpose**. This is necessary for the matrix multiplication. \n",
    "\n",
    "Let's use Python to find the variance-covariance matrix. There are variances along with diagonal of the matrix and covariance terms **between assets** in the off-diagonals. Note that upper-right and lower-left of the matrix are identical. This is because the covariance between Asset 1 and Asset 2 is the same as the covariance between Asset 2 and Asset 1. "
   ]
  },
  {
   "cell_type": "code",
   "execution_count": 12,
   "metadata": {},
   "outputs": [
    {
     "data": {
      "text/html": [
       "<div>\n",
       "<style scoped>\n",
       "    .dataframe tbody tr th:only-of-type {\n",
       "        vertical-align: middle;\n",
       "    }\n",
       "\n",
       "    .dataframe tbody tr th {\n",
       "        vertical-align: top;\n",
       "    }\n",
       "\n",
       "    .dataframe thead th {\n",
       "        text-align: right;\n",
       "    }\n",
       "</style>\n",
       "<table border=\"1\" class=\"dataframe\">\n",
       "  <thead>\n",
       "    <tr style=\"text-align: right;\">\n",
       "      <th></th>\n",
       "      <th>ln_sh_eq_hedge_fund_usd</th>\n",
       "      <th>eq_mkt_ntr_hedge_fund_usd</th>\n",
       "      <th>global_mac_hedge_fund_usd</th>\n",
       "      <th>mngd_fut_hedge_fund_usd</th>\n",
       "    </tr>\n",
       "  </thead>\n",
       "  <tbody>\n",
       "    <tr>\n",
       "      <th>ln_sh_eq_hedge_fund_usd</th>\n",
       "      <td>0.000826</td>\n",
       "      <td>0.000192</td>\n",
       "      <td>0.000362</td>\n",
       "      <td>0.000066</td>\n",
       "    </tr>\n",
       "    <tr>\n",
       "      <th>eq_mkt_ntr_hedge_fund_usd</th>\n",
       "      <td>0.000192</td>\n",
       "      <td>0.000886</td>\n",
       "      <td>0.000069</td>\n",
       "      <td>0.000005</td>\n",
       "    </tr>\n",
       "    <tr>\n",
       "      <th>global_mac_hedge_fund_usd</th>\n",
       "      <td>0.000362</td>\n",
       "      <td>0.000069</td>\n",
       "      <td>0.000784</td>\n",
       "      <td>0.000283</td>\n",
       "    </tr>\n",
       "    <tr>\n",
       "      <th>mngd_fut_hedge_fund_usd</th>\n",
       "      <td>0.000066</td>\n",
       "      <td>0.000005</td>\n",
       "      <td>0.000283</td>\n",
       "      <td>0.001138</td>\n",
       "    </tr>\n",
       "  </tbody>\n",
       "</table>\n",
       "</div>"
      ],
      "text/plain": [
       "                           ln_sh_eq_hedge_fund_usd  eq_mkt_ntr_hedge_fund_usd  \\\n",
       "ln_sh_eq_hedge_fund_usd                   0.000826                   0.000192   \n",
       "eq_mkt_ntr_hedge_fund_usd                 0.000192                   0.000886   \n",
       "global_mac_hedge_fund_usd                 0.000362                   0.000069   \n",
       "mngd_fut_hedge_fund_usd                   0.000066                   0.000005   \n",
       "\n",
       "                           global_mac_hedge_fund_usd  mngd_fut_hedge_fund_usd  \n",
       "ln_sh_eq_hedge_fund_usd                     0.000362                 0.000066  \n",
       "eq_mkt_ntr_hedge_fund_usd                   0.000069                 0.000005  \n",
       "global_mac_hedge_fund_usd                   0.000784                 0.000283  \n",
       "mngd_fut_hedge_fund_usd                     0.000283                 0.001138  "
      ]
     },
     "execution_count": 12,
     "metadata": {},
     "output_type": "execute_result"
    }
   ],
   "source": [
    "cov_matrix = rets.cov()\n",
    "cov_matrix"
   ]
  },
  {
   "attachments": {},
   "cell_type": "markdown",
   "metadata": {},
   "source": [
    "We can also find the correlation matrix. Correlation ($\\rho$) is the **covariance between two assets divided by the standard deviation of each asset multiplied together**: $\\rho_{1,2} = \\frac{\\sigma_{1,2}}{\\sigma_1 \\sigma_2}$"
   ]
  },
  {
   "cell_type": "code",
   "execution_count": 13,
   "metadata": {},
   "outputs": [
    {
     "data": {
      "text/html": [
       "<div>\n",
       "<style scoped>\n",
       "    .dataframe tbody tr th:only-of-type {\n",
       "        vertical-align: middle;\n",
       "    }\n",
       "\n",
       "    .dataframe tbody tr th {\n",
       "        vertical-align: top;\n",
       "    }\n",
       "\n",
       "    .dataframe thead th {\n",
       "        text-align: right;\n",
       "    }\n",
       "</style>\n",
       "<table border=\"1\" class=\"dataframe\">\n",
       "  <thead>\n",
       "    <tr style=\"text-align: right;\">\n",
       "      <th></th>\n",
       "      <th>ln_sh_eq_hedge_fund_usd</th>\n",
       "      <th>eq_mkt_ntr_hedge_fund_usd</th>\n",
       "      <th>global_mac_hedge_fund_usd</th>\n",
       "      <th>mngd_fut_hedge_fund_usd</th>\n",
       "    </tr>\n",
       "  </thead>\n",
       "  <tbody>\n",
       "    <tr>\n",
       "      <th>ln_sh_eq_hedge_fund_usd</th>\n",
       "      <td>1.000000</td>\n",
       "      <td>0.224745</td>\n",
       "      <td>0.450291</td>\n",
       "      <td>0.068435</td>\n",
       "    </tr>\n",
       "    <tr>\n",
       "      <th>eq_mkt_ntr_hedge_fund_usd</th>\n",
       "      <td>0.224745</td>\n",
       "      <td>1.000000</td>\n",
       "      <td>0.083255</td>\n",
       "      <td>0.005156</td>\n",
       "    </tr>\n",
       "    <tr>\n",
       "      <th>global_mac_hedge_fund_usd</th>\n",
       "      <td>0.450291</td>\n",
       "      <td>0.083255</td>\n",
       "      <td>1.000000</td>\n",
       "      <td>0.299970</td>\n",
       "    </tr>\n",
       "    <tr>\n",
       "      <th>mngd_fut_hedge_fund_usd</th>\n",
       "      <td>0.068435</td>\n",
       "      <td>0.005156</td>\n",
       "      <td>0.299970</td>\n",
       "      <td>1.000000</td>\n",
       "    </tr>\n",
       "  </tbody>\n",
       "</table>\n",
       "</div>"
      ],
      "text/plain": [
       "                           ln_sh_eq_hedge_fund_usd  eq_mkt_ntr_hedge_fund_usd  \\\n",
       "ln_sh_eq_hedge_fund_usd                   1.000000                   0.224745   \n",
       "eq_mkt_ntr_hedge_fund_usd                 0.224745                   1.000000   \n",
       "global_mac_hedge_fund_usd                 0.450291                   0.083255   \n",
       "mngd_fut_hedge_fund_usd                   0.068435                   0.005156   \n",
       "\n",
       "                           global_mac_hedge_fund_usd  mngd_fut_hedge_fund_usd  \n",
       "ln_sh_eq_hedge_fund_usd                     0.450291                 0.068435  \n",
       "eq_mkt_ntr_hedge_fund_usd                   0.083255                 0.005156  \n",
       "global_mac_hedge_fund_usd                   1.000000                 0.299970  \n",
       "mngd_fut_hedge_fund_usd                     0.299970                 1.000000  "
      ]
     },
     "execution_count": 13,
     "metadata": {},
     "output_type": "execute_result"
    }
   ],
   "source": [
    "corr_matrix = rets.corr()\n",
    "corr_matrix"
   ]
  },
  {
   "attachments": {},
   "cell_type": "markdown",
   "metadata": {},
   "source": [
    "The correlation among these general strategies is pretty low! That's good for portfolio formation. In fact, strategies like managed futures are often considered a diversifier in a traditional equity and bond portfolio. \n",
    "\n",
    "Let's use our general formula, our weights, and the cov matrix to find **portfolio variance**. We'll use `np.dot()` from `numpy` to do the dot product. This is like **mmult** in Excel. The `.T` transposes, or flips, the vector of returns so that we can multiply. "
   ]
  },
  {
   "cell_type": "code",
   "execution_count": 14,
   "metadata": {},
   "outputs": [
    {
     "data": {
      "text/plain": [
       "0.0003495578603062863"
      ]
     },
     "execution_count": 14,
     "metadata": {},
     "output_type": "execute_result"
    }
   ],
   "source": [
    "port_variance = np.dot(wgts.T, np.dot(cov_matrix, wgts))\n",
    "port_variance"
   ]
  },
  {
   "attachments": {},
   "cell_type": "markdown",
   "metadata": {},
   "source": [
    "Here's a [refresher on matrix multiplication](https://www.mathsisfun.com/algebra/matrix-multiplying.html) in case you need it."
   ]
  },
  {
   "attachments": {},
   "cell_type": "markdown",
   "metadata": {},
   "source": [
    "Portfolio standard deviation is, of course, just the square root of variance. We can use `np.sqrt()`. "
   ]
  },
  {
   "cell_type": "code",
   "execution_count": 15,
   "metadata": {},
   "outputs": [
    {
     "name": "stdout",
     "output_type": "stream",
     "text": [
      "1.9%\n"
     ]
    }
   ],
   "source": [
    "port_stddev = np.sqrt(np.dot(wgts.T, np.dot(cov_matrix, wgts)))\n",
    "print(str(np.round(port_stddev, 3) * 100) + '%')"
   ]
  },
  {
   "attachments": {},
   "cell_type": "markdown",
   "metadata": {},
   "source": [
    "## Skewness and kurtosis\n",
    "\n",
    "We'll look more at the distribution of asset returns when we get to a more formal treatment of risk management. But, for now, we need to know that asset returns, like stocks, and even portfolio returns, like those of a hedge fund, are not typically normally distributed. They \"lean\", or have **skewness**. That skewness can be either positive or negative, depending on the strategy. They also have **kurtosis**, or \"fat tails\". This means that there are more extreme returns than you would expect if they followed a normal distribution.\n",
    "\n",
    "It is easy to find both in Python."
   ]
  },
  {
   "cell_type": "code",
   "execution_count": 16,
   "metadata": {},
   "outputs": [
    {
     "data": {
      "text/plain": [
       "ln_sh_eq_hedge_fund_usd      -0.012623\n",
       "eq_mkt_ntr_hedge_fund_usd   -11.866451\n",
       "global_mac_hedge_fund_usd     0.016477\n",
       "mngd_fut_hedge_fund_usd       0.026489\n",
       "port_ret                     -0.386969\n",
       "dtype: float64"
      ]
     },
     "execution_count": 16,
     "metadata": {},
     "output_type": "execute_result"
    }
   ],
   "source": [
    "rets_with_port.skew()"
   ]
  },
  {
   "attachments": {},
   "cell_type": "markdown",
   "metadata": {},
   "source": [
    "It's easier to see what skewness and kurtosis mean with pictures.\n",
    "\n",
    "```{figure} ../images/08-skew.png\n",
    "---\n",
    "name: 08-skew.png\n",
    "align: center\n",
    "---\n",
    "Some strategies, like selling options, have negative skewness. You make a small profit much of the time -- until you don't. Other investments have positive skewness. You'll lose money much of the time, but occasionally get a large payoff. Some volatility-protection strategies look like this. Source: DataCamp.\n",
    "```"
   ]
  },
  {
   "cell_type": "code",
   "execution_count": 17,
   "metadata": {},
   "outputs": [
    {
     "data": {
      "text/plain": [
       "ln_sh_eq_hedge_fund_usd        3.186683\n",
       "eq_mkt_ntr_hedge_fund_usd    162.760371\n",
       "global_mac_hedge_fund_usd      3.888268\n",
       "mngd_fut_hedge_fund_usd       -0.017587\n",
       "port_ret                       3.306429\n",
       "dtype: float64"
      ]
     },
     "execution_count": 17,
     "metadata": {},
     "output_type": "execute_result"
    }
   ],
   "source": [
    "rets_with_port.kurt()"
   ]
  },
  {
   "attachments": {},
   "cell_type": "markdown",
   "metadata": {},
   "source": [
    "```{figure} ../images/08-kurt.png\n",
    "---\n",
    "name: 08-kurt.png\n",
    "align: center\n",
    "---\n",
    "Many investment strategies have more \"rare events\" or larger gains and losses than you would expect if returns followed the normal distribution. Source: DataCamp.\n",
    "```"
   ]
  },
  {
   "attachments": {},
   "cell_type": "markdown",
   "metadata": {},
   "source": [
    "## Annualizing and adjusting for risk\n",
    "\n",
    "There are many ways to report returns. We've seen discrete vs. log returns. There are returns for specific period, like a day or a month. We can then take that specific period return and **annualize** it. This takes a return over a shorter time frame and asks what are return would be if we earned that return over a year.\n",
    "\n",
    "We can also annualize a multi-year return and ask what annual return would have gotten us the same multi-year return.\n",
    "\n",
    "Both of these ideas are really the same thing mathematically and take into account **compounding**. They let us compare returns that are different time periods. Fund managers that fall under the SEC '40 Act are required to report calculations like this.\n",
    "\n",
    "There are also many ways to **adjust for risk**. Why do we need to adjust for risk? Simply put, you can go to a casino and put all of your money on black, get lucky, and double your \"investment\". But I don't want you managing my money! Your risk-adjusted return is zero. \n",
    "\n",
    "The same thing is true for trading securities, like stocks, bonds, options, and crypto. You can buy a penny stock, or a Dog coin, or a deep out-of-the-money call option and make a lot of money. And that money is real - you can spend it! But, we need ways to disentangle return, risk, and luck if we're going to assign skill to someone's good forture. \n",
    "\n",
    "Let's combine these two ideas, getting our return and risk measures in the same time units and taking risk into account, to calculate to basic risk-adjustment measures: the **Sharpe Ratio** and the **Sortino Ratio**.\n",
    "\n",
    "We'll look at **factor models** in another chapter. This is a more comprehensive way to adjust our returns for the risks that we're taking in order to see if we have skill. \n",
    "\n",
    "Let's use the monthly portfolio returns that I created above to find our measures of risk/return trade-off. I will first annualize my monthly return. I will then annualize my monthly standard deviation, or volatility as we say in finance. I am \"cheating\" a bit on my volatility annualization. These are discrete returns. Multiplying by the square root of the number of your time periods in a year (12, because we have montly returns) really only works if you have log returns.\n",
    "\n",
    "See your Principles of Finance notes for more on these calculations."
   ]
  },
  {
   "cell_type": "code",
   "execution_count": 18,
   "metadata": {},
   "outputs": [
    {
     "data": {
      "text/plain": [
       "count    222.000000\n",
       "mean       0.006662\n",
       "std        0.018696\n",
       "min       -0.092835\n",
       "25%       -0.004634\n",
       "50%        0.006880\n",
       "75%        0.017815\n",
       "max        0.065128\n",
       "Name: port_ret, dtype: float64"
      ]
     },
     "execution_count": 18,
     "metadata": {},
     "output_type": "execute_result"
    }
   ],
   "source": [
    "risk_free = 0.02\n",
    " \n",
    "port_ret = rets_with_port.port_ret\n",
    "port_ret.describe()"
   ]
  },
  {
   "cell_type": "code",
   "execution_count": 19,
   "metadata": {},
   "outputs": [],
   "source": [
    "annualized_return=((1 + port_ret.mean())**(12))-1\n",
    "annualized_vol = port_ret.std()*np.sqrt(12)"
   ]
  },
  {
   "attachments": {},
   "cell_type": "markdown",
   "metadata": {},
   "source": [
    "Note that `**` denotes exponent, while `*` is multiplication in Python. \n",
    "\n",
    "We can then calculate the **Sharpe Ratio**, which is the ratio of returns above the risk-free rate to the volatility (i.e. the risk) in the portfolio."
   ]
  },
  {
   "cell_type": "code",
   "execution_count": 20,
   "metadata": {},
   "outputs": [
    {
     "data": {
      "text/plain": [
       "0.9717568897720553"
      ]
     },
     "execution_count": 20,
     "metadata": {},
     "output_type": "execute_result"
    }
   ],
   "source": [
    "sharpe_ratio = (annualized_return - risk_free) / annualized_vol\n",
    "sharpe_ratio"
   ]
  },
  {
   "attachments": {},
   "cell_type": "markdown",
   "metadata": {},
   "source": [
    "We have a Sharpe near 1. That's pretty high! Hedge fund strategies often take risks that are not well-defined by standard deviation. For example, if a strategy has a lot of negative skewness, then we would expect to occasionally have large losses. Volatility doesn't capture that type of risk.\n",
    "\n",
    "Returns that are \"too smooth\" can also create artificially low Sharpe Ratios. For example, if a strategy holds illiquid securities that are not marked-to-market (or priced) consistently, then the reported returns won't affect the actual volatility of the positions if they were priced, say, daily. For example, many venture capital and private equity strategies only mark, or change the prices of their investments, quarterly. A mutual fund is going to see their positions market daily. ETFs trade throughout the day. Private equity strategies look less volatile than they really are and, so, have higher Sharpe ratios than they do in reality. "
   ]
  },
  {
   "attachments": {},
   "cell_type": "markdown",
   "metadata": {},
   "source": [
    "We can also calculate the **Sortino Ratio**. This looks very similar to the Sharpe Ratio, expect that we only calculate the standard deviation using returns below some target, or threshold. So, we are interesting in volatility during bad times, not just overall volatility. We often use a target of 0 to look at negative returns, but you can choose something else if that's appropriate.\n",
    "\n",
    "Note that I am masking with `.loc` to get just the negative returns from the *port_ret* Series."
   ]
  },
  {
   "cell_type": "code",
   "execution_count": 21,
   "metadata": {},
   "outputs": [
    {
     "data": {
      "text/plain": [
       "1.4514485366477672"
      ]
     },
     "execution_count": 21,
     "metadata": {},
     "output_type": "execute_result"
    }
   ],
   "source": [
    "target_return = 0\n",
    "\n",
    "negative_returns = port_ret.loc[port_ret < target_return]\n",
    "\n",
    "down_stdev = negative_returns.std()*np.sqrt(12)\n",
    "\n",
    "sortino_ratio = (annualized_return - risk_free)/down_stdev\n",
    "\n",
    "sortino_ratio"
   ]
  },
  {
   "attachments": {},
   "cell_type": "markdown",
   "metadata": {},
   "source": [
    "## Drawdowns\n",
    "\n",
    "We might also be interested in draw-downs, or what the bad times look like, how long they last, and how long it takes to get our money back.\n",
    "\n",
    "We will calculate the cumulative portfolio return, the previous maximum cumulative return (often called a **high water mark**), and the percentage below the high water mark at any point. \n",
    "\n",
    "I print my index, just to show you that *date* is the index of the *port_drawdown* DataFrame. So, my x-axis in my plots can just be `port_drawdown.index`. \n",
    "\n",
    "I am using `matplotlib` and `plt.plot` to make two stacked line charts. I find this to be the easiest way, even if it is more verbose. You can really see what you're doing in each step."
   ]
  },
  {
   "cell_type": "code",
   "execution_count": 22,
   "metadata": {},
   "outputs": [
    {
     "name": "stdout",
     "output_type": "stream",
     "text": [
      "DatetimeIndex(['1994-01-31', '1994-02-28', '1994-03-31', '1994-04-29',\n",
      "               '1994-05-31', '1994-06-30', '1994-07-29', '1994-08-31',\n",
      "               '1994-09-30', '1994-10-31',\n",
      "               ...\n",
      "               '2011-09-30', '2011-10-31', '2011-11-30', '2011-12-30',\n",
      "               '2012-01-31', '2012-02-29', '2012-03-30', '2012-04-30',\n",
      "               '2012-05-31', '2012-06-29'],\n",
      "              dtype='datetime64[ns]', name='date', length=222, freq=None)\n"
     ]
    }
   ],
   "source": [
    "port_ret_cum = (1+port_ret).cumprod()\n",
    "previous_peaks = port_ret_cum.cummax()\n",
    "drawdowns = (port_ret_cum - previous_peaks)/previous_peaks\n",
    "\n",
    "port_drawdown = pd.DataFrame({'Cumulative Return': port_ret_cum, 'Previous Peak': previous_peaks, 'Drawdown': drawdowns})\n",
    "\n",
    "print(port_drawdown.index)"
   ]
  },
  {
   "attachments": {},
   "cell_type": "markdown",
   "metadata": {},
   "source": [
    "Let's make the graph. You'll see that the Great Financial Crisis was the high water mark, at least in this data."
   ]
  },
  {
   "cell_type": "code",
   "execution_count": 23,
   "metadata": {},
   "outputs": [
    {
     "data": {
      "image/png": "[encoded data removed]",
      "text/plain": [
       "<Figure size 1000x600 with 2 Axes>"
      ]
     },
     "metadata": {
      "filenames": {
       "image/png": "/Users/adamaiken/Documents/fin-data-analysis-text/_build/jupyter_execute/chapters/8_port_math_49_0.png"
      }
     },
     "output_type": "display_data"
    }
   ],
   "source": [
    "plt.figure(figsize=(10, 6))\n",
    "\n",
    "plt.subplot(211)\n",
    "plt.plot(port_drawdown.index, port_drawdown['Cumulative Return'], lw=1.5, label='Cumulative Portfolio Returns')\n",
    "plt.plot(port_drawdown.index, port_drawdown['Previous Peak'], lw=1.5, label='Previous High Water Mark')\n",
    "plt.legend(loc=0)\n",
    "plt.ylabel('Cumulative Returns')\n",
    "plt.title('Hedge Fund Portfolio Drawdowns')\n",
    "\n",
    "plt.subplot(212)\n",
    "plt.plot(port_drawdown.index, port_drawdown['Drawdown'], lw=1.5, label='Drawdown')\n",
    "plt.legend(loc=0)\n",
    "plt.xlabel('Date')\n",
    "plt.ylabel('Return');"
   ]
  }
 ],
 "metadata": {
  "interpreter": {
   "hash": "b67b392f8c699abfccff34ffff3abf55b26d6520ea7ac337064f990a3d8607af"
  },
  "kernelspec": {
   "display_name": "Python 3.9.7 ('base')",
   "language": "python",
   "name": "python3"
  },
  "language_info": {
   "codemirror_mode": {
    "name": "ipython",
    "version": 3
   },
   "file_extension": ".py",
   "mimetype": "text/x-python",
   "name": "python",
   "nbconvert_exporter": "python",
   "pygments_lexer": "ipython3",
   "version": "3.9.13"
  }
 },
 "nbformat": 4,
 "nbformat_minor": 2
}