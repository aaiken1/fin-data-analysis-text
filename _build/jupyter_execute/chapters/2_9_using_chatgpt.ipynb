{
 "cells": [
  {
   "attachments": {},
   "cell_type": "markdown",
   "metadata": {},
   "source": [
    "# Using ChatGPT\n",
    "\n",
    "There are now many AI-based tools to help us code. These tools can create code outlines for us, check our own code, write functions, and explain the steps. I'm going to show you a few examples using the free [OpenAI ChapGPT tools](https://chat.openai.com).\n",
    "\n",
    "If you use Github and VS Code, you can sign-up for [CoPilot](https://github.com/features/copilot/). \n",
    "\n",
    "This paper by [Liu, Miller, and Niu (2023)](https://papers.ssrn.com/sol3/papers.cfm?abstract_id=4412371) has some great examples of how to use ChatGPT in a course like this one.\n",
    "\n",
    "## Using GPT to Write a Function For You\n",
    "\n",
    "Let's go back to Chapter 7, where I showed you how to write a function to generate asset paths using **geometric brownian motion**. We used the Nasdaq API to bring in some bitcoin data in that example. Now, I'm going to use ChatGPT to write the same function. I gave GPT4 the following prompt:\n",
    "\n",
    "> Write a function in Python that simulates geometric brownian motion for any number of assets. Create the appropriate inputs as arrays. The inputs should be the number of assets, the mean for each asset, the standard deviation for each asset, the number of periods, the initial value of each asset, and the number of simulations. The output should be an array that contains all of the simulations for each asset. These are uncorrelated assets, so don't worry about covariance.\n",
    "\n",
    "Here's the code that it gave me:"
   ]
  },
  {
   "cell_type": "code",
   "execution_count": 1,
   "metadata": {},
   "outputs": [
    {
     "name": "stdout",
     "output_type": "stream",
     "text": [
      "[[[1.00000000e+02 1.20000000e+02 1.40000000e+02]\n",
      "  [1.21546818e+02 1.20903701e+02 1.58239566e+02]\n",
      "  [1.20339866e+02 1.18317420e+02 1.42059195e+02]\n",
      "  ...\n",
      "  [5.68571150e+03 3.17746393e+04 9.05669376e+04]\n",
      "  [6.22339534e+03 4.26528824e+04 9.45686250e+04]\n",
      "  [5.54037673e+03 5.40870287e+04 9.70039992e+04]]\n",
      "\n",
      " [[1.00000000e+02 1.20000000e+02 1.40000000e+02]\n",
      "  [1.15254008e+02 1.01782779e+02 1.52267880e+02]\n",
      "  [1.07542241e+02 1.04274682e+02 1.47643234e+02]\n",
      "  ...\n",
      "  [3.58881001e+04 9.87573940e+04 3.39384889e+05]\n",
      "  [3.80124681e+04 9.76664634e+04 3.17792431e+05]\n",
      "  [3.99883874e+04 1.29696177e+05 3.83477645e+05]]\n",
      "\n",
      " [[1.00000000e+02 1.20000000e+02 1.40000000e+02]\n",
      "  [9.33420895e+01 1.17850486e+02 1.41725661e+02]\n",
      "  [1.06799414e+02 1.10294977e+02 1.45287102e+02]\n",
      "  ...\n",
      "  [1.24871337e+04 5.18258856e+04 1.60454075e+05]\n",
      "  [1.23154160e+04 4.30202196e+04 1.60273874e+05]\n",
      "  [1.33346902e+04 5.63445301e+04 1.78037310e+05]]\n",
      "\n",
      " ...\n",
      "\n",
      " [[1.00000000e+02 1.20000000e+02 1.40000000e+02]\n",
      "  [8.92813137e+01 9.91111599e+01 1.28007544e+02]\n",
      "  [8.21209309e+01 1.09336154e+02 1.39647885e+02]\n",
      "  ...\n",
      "  [4.89885202e+03 4.40398592e+03 5.67353849e+03]\n",
      "  [5.88833396e+03 5.66796220e+03 6.29448484e+03]\n",
      "  [7.29286765e+03 5.68492841e+03 5.92439496e+03]]\n",
      "\n",
      " [[1.00000000e+02 1.20000000e+02 1.40000000e+02]\n",
      "  [9.78353442e+01 9.76473937e+01 1.35126994e+02]\n",
      "  [1.05031474e+02 1.07262851e+02 1.76581764e+02]\n",
      "  ...\n",
      "  [9.36850142e+03 1.58474969e+05 5.86411787e+05]\n",
      "  [1.04364293e+04 2.10720899e+05 5.69139153e+05]\n",
      "  [1.00993344e+04 2.31777836e+05 6.02216052e+05]]\n",
      "\n",
      " [[1.00000000e+02 1.20000000e+02 1.40000000e+02]\n",
      "  [1.23612021e+02 1.30713612e+02 1.54689577e+02]\n",
      "  [1.16383297e+02 1.41742307e+02 1.44002484e+02]\n",
      "  ...\n",
      "  [9.96192036e+03 1.24895947e+04 3.25771961e+05]\n",
      "  [1.03952958e+04 1.55416371e+04 4.20883953e+05]\n",
      "  [1.14118635e+04 1.63097107e+04 6.36525386e+05]]]\n"
     ]
    }
   ],
   "source": [
    "import numpy as np\n",
    "\n",
    "def geometric_brownian_motion(num_assets, means, std_devs, num_periods, initial_values, num_simulations):\n",
    "    if len(means) != num_assets or len(std_devs) != num_assets or len(initial_values) != num_assets:\n",
    "        raise ValueError(\"The length of means, std_devs, and initial_values should be equal to the number of assets\")\n",
    "\n",
    "    # Initialize an array to store the simulations\n",
    "    simulations = np.zeros((num_simulations, num_periods + 1, num_assets))\n",
    "\n",
    "    # Set the initial values for each simulation\n",
    "    simulations[:, 0, :] = initial_values\n",
    "\n",
    "    # Time step\n",
    "    dt = 1.0\n",
    "\n",
    "    # Loop through each simulation\n",
    "    for sim in range(num_simulations):\n",
    "        # Loop through each time period\n",
    "        for t in range(1, num_periods + 1):\n",
    "            # Loop through each asset\n",
    "            for asset in range(num_assets):\n",
    "                # Generate a random normal value (using mean=0 and std_dev=1) for the brownian motion\n",
    "                random_normal = np.random.normal(0, 1)\n",
    "\n",
    "                # Calculate the change in asset value using geometric brownian motion\n",
    "                change = means[asset] * dt + std_devs[asset] * np.sqrt(dt) * random_normal\n",
    "\n",
    "                # Update the asset value\n",
    "                simulations[sim, t, asset] = simulations[sim, t - 1, asset] * np.exp(change)\n",
    "\n",
    "    return simulations\n",
    "\n",
    "# Example usage\n",
    "num_assets = 3\n",
    "means = np.array([0.05, 0.06, 0.07])\n",
    "std_devs = np.array([0.1, 0.12, 0.14])\n",
    "num_periods = 100\n",
    "initial_values = np.array([100, 120, 140])\n",
    "num_simulations = 1000\n",
    "\n",
    "simulations = geometric_brownian_motion(num_assets, means, std_devs, num_periods, initial_values, num_simulations)\n",
    "print(simulations)"
   ]
  },
  {
   "attachments": {},
   "cell_type": "markdown",
   "metadata": {},
   "source": [
    "Here's the GPT explanation of the code.\n",
    "\n",
    "> This function accepts the following inputs:\n",
    "\n",
    "> num_assets: the number of assets \\\n",
    "means: a NumPy array containing the mean return for each asset \\\n",
    "std_devs: a NumPy array containing the standard deviation of return for each asset \\\n",
    "num_periods: the number of time periods \\\n",
    "initial_values: a NumPy array containing the initial value for each asset \\\n",
    "num_simulations: the number of simulations to run\n",
    "\n",
    "> The function returns a 3D NumPy array containing the simulations for each asset, with dimensions (num_simulations, num_periods + 1, num_assets)."
   ]
  },
  {
   "attachments": {},
   "cell_type": "markdown",
   "metadata": {},
   "source": [
    "Let's look a bit more at the output. I'll get its `.shape` attribute."
   ]
  },
  {
   "cell_type": "code",
   "execution_count": 2,
   "metadata": {},
   "outputs": [
    {
     "data": {
      "text/plain": [
       "numpy.ndarray"
      ]
     },
     "execution_count": 2,
     "metadata": {},
     "output_type": "execute_result"
    }
   ],
   "source": [
    "type(simulations)"
   ]
  },
  {
   "cell_type": "code",
   "execution_count": 3,
   "metadata": {},
   "outputs": [
    {
     "data": {
      "text/plain": [
       "(1000, 101, 3)"
      ]
     },
     "execution_count": 3,
     "metadata": {},
     "output_type": "execute_result"
    }
   ],
   "source": [
    "simulations.shape"
   ]
  },
  {
   "attachments": {},
   "cell_type": "markdown",
   "metadata": {},
   "source": [
    "The output is a **three-dimensional array**. We can pull out all of the simulations for one asset, as well as a single simulation for one asset. Or anything else."
   ]
  },
  {
   "cell_type": "code",
   "execution_count": 4,
   "metadata": {},
   "outputs": [
    {
     "data": {
      "text/plain": [
       "array([[  100.        ,   121.54681837,   120.33986643, ...,\n",
       "         5685.71149545,  6223.39533787,  5540.37673013],\n",
       "       [  100.        ,   115.2540076 ,   107.54224134, ...,\n",
       "        35888.1001037 , 38012.46811347, 39988.38744126],\n",
       "       [  100.        ,    93.34208948,   106.79941446, ...,\n",
       "        12487.13366941, 12315.41595695, 13334.69024023],\n",
       "       ...,\n",
       "       [  100.        ,    89.28131371,    82.12093092, ...,\n",
       "         4898.85201955,  5888.33395976,  7292.86764662],\n",
       "       [  100.        ,    97.83534417,   105.03147425, ...,\n",
       "         9368.50141665, 10436.42930616, 10099.33442148],\n",
       "       [  100.        ,   123.61202123,   116.38329738, ...,\n",
       "         9961.92036371, 10395.29580949, 11411.8635383 ]])"
      ]
     },
     "execution_count": 4,
     "metadata": {},
     "output_type": "execute_result"
    }
   ],
   "source": [
    "# All simulations for the first asset.\n",
    "simulations[:,:,0]"
   ]
  },
  {
   "cell_type": "code",
   "execution_count": 5,
   "metadata": {},
   "outputs": [
    {
     "data": {
      "text/plain": [
       "array([[1.20000000e+02, 1.20903701e+02, 1.18317420e+02, ...,\n",
       "        3.17746393e+04, 4.26528824e+04, 5.40870287e+04],\n",
       "       [1.20000000e+02, 1.01782779e+02, 1.04274682e+02, ...,\n",
       "        9.87573940e+04, 9.76664634e+04, 1.29696177e+05],\n",
       "       [1.20000000e+02, 1.17850486e+02, 1.10294977e+02, ...,\n",
       "        5.18258856e+04, 4.30202196e+04, 5.63445301e+04],\n",
       "       ...,\n",
       "       [1.20000000e+02, 9.91111599e+01, 1.09336154e+02, ...,\n",
       "        4.40398592e+03, 5.66796220e+03, 5.68492841e+03],\n",
       "       [1.20000000e+02, 9.76473937e+01, 1.07262851e+02, ...,\n",
       "        1.58474969e+05, 2.10720899e+05, 2.31777836e+05],\n",
       "       [1.20000000e+02, 1.30713612e+02, 1.41742307e+02, ...,\n",
       "        1.24895947e+04, 1.55416371e+04, 1.63097107e+04]])"
      ]
     },
     "execution_count": 5,
     "metadata": {},
     "output_type": "execute_result"
    }
   ],
   "source": [
    "# All simulations for the second asset.\n",
    "simulations[:,:,1]"
   ]
  },
  {
   "cell_type": "code",
   "execution_count": 6,
   "metadata": {},
   "outputs": [
    {
     "data": {
      "text/plain": [
       "array([ 100.        ,  121.54681837,  120.33986643,  117.85529164,\n",
       "        138.80035337,  151.66767551,  164.06992834,  171.75907136,\n",
       "        174.69224602,  177.50387678,  172.18435434,  170.56973861,\n",
       "        201.4964806 ,  214.66932614,  240.94460649,  273.96090064,\n",
       "        328.34811306,  349.26319538,  384.0272036 ,  331.37136415,\n",
       "        309.65885473,  301.41672607,  331.13169183,  384.9585797 ,\n",
       "        381.85026167,  428.455811  ,  406.99197554,  392.69164965,\n",
       "        401.28286898,  360.62507874,  418.47470015,  504.84956201,\n",
       "        527.61827033,  550.46697431,  575.09534426,  560.08881704,\n",
       "        658.03214025,  658.04641412,  769.99201134,  871.70048621,\n",
       "        814.78906426,  945.98095113,  880.52728241, 1053.20180556,\n",
       "        949.9775449 ,  958.69087299,  894.41644555, 1125.53894141,\n",
       "       1002.82972023,  890.17854123,  972.36728941,  987.99084351,\n",
       "       1161.08762445, 1104.58201872, 1150.33184995,  848.73321025,\n",
       "        878.50951385,  906.04021209,  988.48841838, 1175.94179832,\n",
       "       1087.91490232, 1209.36901617, 1195.08531072, 1251.98675914,\n",
       "       1356.74317718, 1418.41189181, 1721.54594488, 1495.43111539,\n",
       "       1374.81163493, 1488.02985638, 1485.9112785 , 1692.90764265,\n",
       "       1497.74146671, 1772.45497985, 1614.36021343, 1535.59883759,\n",
       "       1438.51630732, 1535.85606335, 1521.89057291, 1666.97791998,\n",
       "       1732.78786746, 1756.50923769, 1974.14425378, 2280.06103389,\n",
       "       2616.71789812, 3131.80417821, 2816.98246691, 3319.47636237,\n",
       "       3654.85410701, 3466.54996158, 3764.46040128, 3726.43872565,\n",
       "       4267.83928824, 4264.92776657, 4478.644554  , 4206.37939838,\n",
       "       4723.92492887, 5135.95853396, 5685.71149545, 6223.39533787,\n",
       "       5540.37673013])"
      ]
     },
     "execution_count": 6,
     "metadata": {},
     "output_type": "execute_result"
    }
   ],
   "source": [
    "# First simulation for the first asset\n",
    "\n",
    "simulations[0,:,0]"
   ]
  },
  {
   "attachments": {},
   "cell_type": "markdown",
   "metadata": {},
   "source": [
    "Compare this code to the one we used above. What's different? What stands out to you? What assumptions did it make? What's up with these numbers?\n",
    "\n",
    "GPT is quite good at creating code that has been done in a lot of places. It has trained on millions of online tutorials and examples. However, you still want to follow the logic and check for errors. **There will be errors.**\n",
    "\n",
    "**You can have a \"dialog\" with GPT.** Look at the code. Is it what you want? You can ask it to change it for you.\n",
    "\n",
    "**What does that leave for us to do?** Use GPT to start sketching your code, do to certain tasks. Figure out what you need. Figure out the questions that you're trying answer. What's the problem that you're trying to solve? Who are you solving it for? What will the answer look like? What will it tell you?\n",
    "\n",
    "Using tools like GPT, Github Co-Pilot, etc. is like having a team of junior programmers working for you. They can make the job easier, but it is still up to you to know what's an interesting question in the first place. **You still need to use your domain expertise and creativity to come up with solutions to problems that aren't in an online Python tutorials.**"
   ]
  },
  {
   "attachments": {},
   "cell_type": "markdown",
   "metadata": {},
   "source": [
    "## Using ChatGPT to Check Our Code\n",
    "\n",
    "Below, I have borrowed some code from our portfolio optimization code. However, there is one small problem, based on one I encountered in class. One of those small, tiny errors that can be so frustrating! Do you see it?"
   ]
  },
  {
   "cell_type": "code",
   "execution_count": 7,
   "metadata": {},
   "outputs": [
    {
     "ename": "AxisError",
     "evalue": "axis -1 is out of bounds for array of dimension 0",
     "output_type": "error",
     "traceback": [
      "\u001b[0;31m---------------------------------------------------------------------------\u001b[0m",
      "\u001b[0;31mAxisError\u001b[0m                                 Traceback (most recent call last)",
      "Input \u001b[0;32mIn [7]\u001b[0m, in \u001b[0;36m<cell line: 36>\u001b[0;34m()\u001b[0m\n\u001b[1;32m     33\u001b[0m \u001b[38;5;28;01mdef\u001b[39;00m \u001b[38;5;21msharpe\u001b[39m(weights):  \n\u001b[1;32m     34\u001b[0m     \u001b[38;5;28;01mreturn\u001b[39;00m port_ret(weights) \u001b[38;5;241m/\u001b[39m port_vol(weights)  \n\u001b[0;32m---> 36\u001b[0m \u001b[43msharpe\u001b[49m\u001b[43m(\u001b[49m\u001b[43mweights\u001b[49m\u001b[43m)\u001b[49m\n",
      "Input \u001b[0;32mIn [7]\u001b[0m, in \u001b[0;36msharpe\u001b[0;34m(weights)\u001b[0m\n\u001b[1;32m     33\u001b[0m \u001b[38;5;28;01mdef\u001b[39;00m \u001b[38;5;21msharpe\u001b[39m(weights):  \n\u001b[0;32m---> 34\u001b[0m     \u001b[38;5;28;01mreturn\u001b[39;00m port_ret(weights) \u001b[38;5;241m/\u001b[39m \u001b[43mport_vol\u001b[49m\u001b[43m(\u001b[49m\u001b[43mweights\u001b[49m\u001b[43m)\u001b[49m\n",
      "Input \u001b[0;32mIn [7]\u001b[0m, in \u001b[0;36mport_vol\u001b[0;34m(weights)\u001b[0m\n\u001b[1;32m     30\u001b[0m \u001b[38;5;28;01mdef\u001b[39;00m \u001b[38;5;21mport_vol\u001b[39m(weights):\n\u001b[0;32m---> 31\u001b[0m     \u001b[38;5;28;01mreturn\u001b[39;00m \u001b[43mnp\u001b[49m\u001b[38;5;241;43m.\u001b[39;49m\u001b[43msort\u001b[49m\u001b[43m(\u001b[49m\u001b[43mnp\u001b[49m\u001b[38;5;241;43m.\u001b[39;49m\u001b[43mdot\u001b[49m\u001b[43m(\u001b[49m\u001b[43mweights\u001b[49m\u001b[38;5;241;43m.\u001b[39;49m\u001b[43mT\u001b[49m\u001b[43m,\u001b[49m\u001b[43m \u001b[49m\u001b[43mnp\u001b[49m\u001b[38;5;241;43m.\u001b[39;49m\u001b[43mdot\u001b[49m\u001b[43m(\u001b[49m\u001b[43mrets\u001b[49m\u001b[38;5;241;43m.\u001b[39;49m\u001b[43mcov\u001b[49m\u001b[43m(\u001b[49m\u001b[43m)\u001b[49m\u001b[43m \u001b[49m\u001b[38;5;241;43m*\u001b[39;49m\u001b[43m \u001b[49m\u001b[38;5;241;43m252\u001b[39;49m\u001b[43m,\u001b[49m\u001b[43m \u001b[49m\u001b[43mweights\u001b[49m\u001b[43m)\u001b[49m\u001b[43m)\u001b[49m\u001b[43m)\u001b[49m\n",
      "File \u001b[0;32m<__array_function__ internals>:180\u001b[0m, in \u001b[0;36msort\u001b[0;34m(*args, **kwargs)\u001b[0m\n",
      "File \u001b[0;32m/opt/anaconda3/lib/python3.9/site-packages/numpy/core/fromnumeric.py:1004\u001b[0m, in \u001b[0;36msort\u001b[0;34m(a, axis, kind, order)\u001b[0m\n\u001b[1;32m   1002\u001b[0m \u001b[38;5;28;01melse\u001b[39;00m:\n\u001b[1;32m   1003\u001b[0m     a \u001b[38;5;241m=\u001b[39m asanyarray(a)\u001b[38;5;241m.\u001b[39mcopy(order\u001b[38;5;241m=\u001b[39m\u001b[38;5;124m\"\u001b[39m\u001b[38;5;124mK\u001b[39m\u001b[38;5;124m\"\u001b[39m)\n\u001b[0;32m-> 1004\u001b[0m \u001b[43ma\u001b[49m\u001b[38;5;241;43m.\u001b[39;49m\u001b[43msort\u001b[49m\u001b[43m(\u001b[49m\u001b[43maxis\u001b[49m\u001b[38;5;241;43m=\u001b[39;49m\u001b[43maxis\u001b[49m\u001b[43m,\u001b[49m\u001b[43m \u001b[49m\u001b[43mkind\u001b[49m\u001b[38;5;241;43m=\u001b[39;49m\u001b[43mkind\u001b[49m\u001b[43m,\u001b[49m\u001b[43m \u001b[49m\u001b[43morder\u001b[49m\u001b[38;5;241;43m=\u001b[39;49m\u001b[43morder\u001b[49m\u001b[43m)\u001b[49m\n\u001b[1;32m   1005\u001b[0m \u001b[38;5;28;01mreturn\u001b[39;00m a\n",
      "\u001b[0;31mAxisError\u001b[0m: axis -1 is out of bounds for array of dimension 0"
     ]
    }
   ],
   "source": [
    "# Read in some eod prices\n",
    "import numpy as np\n",
    "import pandas as pd\n",
    "\n",
    "from pylab import mpl, plt\n",
    "\n",
    "import scipy.optimize as sco\n",
    "\n",
    "raw = pd.read_csv('https://raw.githubusercontent.com/aaiken1/fin-data-analysis-python/main/data/tr_eikon_eod_data.csv',\n",
    "                  index_col=0, parse_dates=True).dropna() \n",
    "\n",
    "symbols = ['AAPL.O', 'MSFT.O', 'SPY', 'GLD'] #two stocks and two ETFs\n",
    "\n",
    "noa = len(symbols) #noa = number of assets\n",
    "\n",
    "data = raw[symbols]\n",
    "\n",
    "rets = data.pct_change().dropna()\n",
    "\n",
    "noa = 4\n",
    "\n",
    "weights = np.random.random(noa)\n",
    "weights /= np.sum(weights)\n",
    "\n",
    "ann_rets = rets.mean() * 252\n",
    "\n",
    "def port_ret(weights):\n",
    "    return np.sum(ann_rets * weights)\n",
    "\n",
    "def port_vol(weights):\n",
    "    return np.sort(np.dot(weights.T, np.dot(rets.cov() * 252, weights)))\n",
    "\n",
    "def sharpe(weights):  \n",
    "    return port_ret(weights) / port_vol(weights)  \n",
    "\n",
    "sharpe(weights)\n"
   ]
  },
  {
   "attachments": {},
   "cell_type": "markdown",
   "metadata": {},
   "source": [
    "Huh... Let's see if ChatGPT can help us out. I'm going to copy and paste the code and ask it to find the mistake. It does!\n",
    "\n",
    "```{figure} ../images/17-gpt-find-error.png\n",
    "---\n",
    "name: 17-gpt-find-error.png\n",
    "align: center\n",
    "class: with-border\n",
    "---\n",
    "You can use ChatGPT to find errors in your code.\n",
    "```"
   ]
  }
 ],
 "metadata": {
  "kernelspec": {
   "display_name": "base",
   "language": "python",
   "name": "python3"
  },
  "language_info": {
   "codemirror_mode": {
    "name": "ipython",
    "version": 3
   },
   "file_extension": ".py",
   "mimetype": "text/x-python",
   "name": "python",
   "nbconvert_exporter": "python",
   "pygments_lexer": "ipython3",
   "version": "3.9.13"
  },
  "vscode": {
   "interpreter": {
    "hash": "40d3a090f54c6569ab1632332b64b2c03c39dcf918b08424e98f38b5ae0af88f"
   }
  }
 },
 "nbformat": 4,
 "nbformat_minor": 2
}