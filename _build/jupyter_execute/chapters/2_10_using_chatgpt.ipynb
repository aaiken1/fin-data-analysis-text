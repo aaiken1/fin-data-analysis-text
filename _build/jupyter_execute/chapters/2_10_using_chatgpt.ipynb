{
 "cells": [
  {
   "attachments": {},
   "cell_type": "markdown",
   "metadata": {},
   "source": [
    "# Using ChatGPT\n",
    "\n",
    "There are now many AI-based tools to help us code. These tools can create code outlines for us, check our own code, write functions, and explain the steps. I'm going to show you a few examples using the free [OpenAI ChapGPT tools](https://chat.openai.com).\n",
    "\n",
    "If you use Github and VS Code, you can sign-up for [CoPilot](https://github.com/features/copilot/). \n",
    "\n",
    "This paper by [Liu, Miller, and Niu (2023)](https://papers.ssrn.com/sol3/papers.cfm?abstract_id=4412371) has some great examples of how to use ChatGPT in a course like this one.\n",
    "\n",
    "## Using GPT to Write a Function For You\n",
    "\n",
    "Let's go back to Chapter 7, where I showed you how to write a function to generate asset paths using **geometric brownian motion**. We used the Nasdaq API to bring in some bitcoin data in that example. Now, I'm going to use ChatGPT to write the same function. I gave GPT4 the following prompt:\n",
    "\n",
    "> Write a function in Python that simulates geometric brownian motion for any number of assets. Create the appropriate inputs as arrays. The inputs should be the number of assets, the mean for each asset, the standard deviation for each asset, the number of periods, the initial value of each asset, and the number of simulations. The output should be an array that contains all of the simulations for each asset. These are uncorrelated assets, so don't worry about covariance.\n",
    "\n",
    "Here's the code that it gave me:"
   ]
  },
  {
   "cell_type": "code",
   "execution_count": 1,
   "metadata": {},
   "outputs": [
    {
     "name": "stdout",
     "output_type": "stream",
     "text": [
      "[[[1.00000000e+02 1.20000000e+02 1.40000000e+02]\n",
      "  [9.71631907e+01 1.21077282e+02 1.56835165e+02]\n",
      "  [1.04098150e+02 1.19547635e+02 2.16622288e+02]\n",
      "  ...\n",
      "  [3.08010519e+04 4.47971575e+03 2.64910507e+05]\n",
      "  [2.83513998e+04 4.78403136e+03 2.28304583e+05]\n",
      "  [3.22534109e+04 5.25346023e+03 2.33997477e+05]]\n",
      "\n",
      " [[1.00000000e+02 1.20000000e+02 1.40000000e+02]\n",
      "  [1.03868720e+02 1.23469847e+02 1.46454303e+02]\n",
      "  [8.87992816e+01 1.26152715e+02 1.55399850e+02]\n",
      "  ...\n",
      "  [7.61223458e+03 1.62137398e+04 3.17936936e+05]\n",
      "  [8.53679324e+03 1.71554395e+04 3.23599497e+05]\n",
      "  [9.87910672e+03 1.50368759e+04 3.49407656e+05]]\n",
      "\n",
      " [[1.00000000e+02 1.20000000e+02 1.40000000e+02]\n",
      "  [1.08247992e+02 1.38152178e+02 1.30965417e+02]\n",
      "  [1.22516535e+02 1.58342053e+02 1.27230132e+02]\n",
      "  ...\n",
      "  [2.54185691e+04 3.61579256e+04 5.95777627e+05]\n",
      "  [2.53782120e+04 3.88145007e+04 5.30948497e+05]\n",
      "  [2.63504393e+04 3.91309213e+04 5.95211057e+05]]\n",
      "\n",
      " ...\n",
      "\n",
      " [[1.00000000e+02 1.20000000e+02 1.40000000e+02]\n",
      "  [9.69912300e+01 1.18056386e+02 1.47321692e+02]\n",
      "  [1.05638429e+02 1.15108460e+02 1.35734142e+02]\n",
      "  ...\n",
      "  [5.58900774e+03 1.14562036e+04 9.87809557e+04]\n",
      "  [6.56220759e+03 1.24708678e+04 9.21122757e+04]\n",
      "  [5.91270986e+03 1.31229200e+04 9.28584601e+04]]\n",
      "\n",
      " [[1.00000000e+02 1.20000000e+02 1.40000000e+02]\n",
      "  [1.24784815e+02 1.38373193e+02 1.56729524e+02]\n",
      "  [1.35931637e+02 1.33533052e+02 1.31194911e+02]\n",
      "  ...\n",
      "  [3.61376126e+04 8.05409859e+03 1.62164818e+05]\n",
      "  [4.67355237e+04 8.23189044e+03 1.25843579e+05]\n",
      "  [5.38794182e+04 9.05885025e+03 1.54933615e+05]]\n",
      "\n",
      " [[1.00000000e+02 1.20000000e+02 1.40000000e+02]\n",
      "  [1.11139420e+02 1.15114982e+02 1.24994789e+02]\n",
      "  [1.10125213e+02 1.24807379e+02 1.55940326e+02]\n",
      "  ...\n",
      "  [1.29841220e+04 4.29612361e+04 1.72209807e+05]\n",
      "  [1.15874168e+04 4.76813447e+04 2.04466329e+05]\n",
      "  [1.16311987e+04 5.66066600e+04 2.50805398e+05]]]\n"
     ]
    }
   ],
   "source": [
    "import numpy as np\n",
    "\n",
    "def geometric_brownian_motion(num_assets, means, std_devs, num_periods, initial_values, num_simulations):\n",
    "    if len(means) != num_assets or len(std_devs) != num_assets or len(initial_values) != num_assets:\n",
    "        raise ValueError(\"The length of means, std_devs, and initial_values should be equal to the number of assets\")\n",
    "\n",
    "    # Initialize an array to store the simulations\n",
    "    simulations = np.zeros((num_simulations, num_periods + 1, num_assets))\n",
    "\n",
    "    # Set the initial values for each simulation\n",
    "    simulations[:, 0, :] = initial_values\n",
    "\n",
    "    # Time step\n",
    "    dt = 1.0\n",
    "\n",
    "    # Loop through each simulation\n",
    "    for sim in range(num_simulations):\n",
    "        # Loop through each time period\n",
    "        for t in range(1, num_periods + 1):\n",
    "            # Loop through each asset\n",
    "            for asset in range(num_assets):\n",
    "                # Generate a random normal value (using mean=0 and std_dev=1) for the brownian motion\n",
    "                random_normal = np.random.normal(0, 1)\n",
    "\n",
    "                # Calculate the change in asset value using geometric brownian motion\n",
    "                change = means[asset] * dt + std_devs[asset] * np.sqrt(dt) * random_normal\n",
    "\n",
    "                # Update the asset value\n",
    "                simulations[sim, t, asset] = simulations[sim, t - 1, asset] * np.exp(change)\n",
    "\n",
    "    return simulations\n",
    "\n",
    "# Example usage\n",
    "num_assets = 3\n",
    "means = np.array([0.05, 0.06, 0.07])\n",
    "std_devs = np.array([0.1, 0.12, 0.14])\n",
    "num_periods = 100\n",
    "initial_values = np.array([100, 120, 140])\n",
    "num_simulations = 1000\n",
    "\n",
    "simulations = geometric_brownian_motion(num_assets, means, std_devs, num_periods, initial_values, num_simulations)\n",
    "print(simulations)"
   ]
  },
  {
   "attachments": {},
   "cell_type": "markdown",
   "metadata": {},
   "source": [
    "Here's the GPT explanation of the code.\n",
    "\n",
    "> This function accepts the following inputs:\n",
    "\n",
    "> num_assets: the number of assets \\\n",
    "means: a NumPy array containing the mean return for each asset \\\n",
    "std_devs: a NumPy array containing the standard deviation of return for each asset \\\n",
    "num_periods: the number of time periods \\\n",
    "initial_values: a NumPy array containing the initial value for each asset \\\n",
    "num_simulations: the number of simulations to run\n",
    "\n",
    "> The function returns a 3D NumPy array containing the simulations for each asset, with dimensions (num_simulations, num_periods + 1, num_assets)."
   ]
  },
  {
   "attachments": {},
   "cell_type": "markdown",
   "metadata": {},
   "source": [
    "Let's look a bit more at the output. I'll get its `.shape` attribute."
   ]
  },
  {
   "cell_type": "code",
   "execution_count": 2,
   "metadata": {},
   "outputs": [
    {
     "data": {
      "text/plain": [
       "numpy.ndarray"
      ]
     },
     "execution_count": 2,
     "metadata": {},
     "output_type": "execute_result"
    }
   ],
   "source": [
    "type(simulations)"
   ]
  },
  {
   "cell_type": "code",
   "execution_count": 3,
   "metadata": {},
   "outputs": [
    {
     "data": {
      "text/plain": [
       "(1000, 101, 3)"
      ]
     },
     "execution_count": 3,
     "metadata": {},
     "output_type": "execute_result"
    }
   ],
   "source": [
    "simulations.shape"
   ]
  },
  {
   "attachments": {},
   "cell_type": "markdown",
   "metadata": {},
   "source": [
    "The output is a **three-dimensional array**. We can pull out all of the simulations for one asset, as well as a single simulation for one asset. Or anything else."
   ]
  },
  {
   "cell_type": "code",
   "execution_count": 4,
   "metadata": {},
   "outputs": [
    {
     "data": {
      "text/plain": [
       "array([[  100.        ,    97.16319069,   104.09814995, ...,\n",
       "        30801.05193434, 28351.39975829, 32253.41090626],\n",
       "       [  100.        ,   103.86871996,    88.79928157, ...,\n",
       "         7612.23458421,  8536.79324103,  9879.10671598],\n",
       "       [  100.        ,   108.24799213,   122.51653542, ...,\n",
       "        25418.56906767, 25378.21198195, 26350.43934698],\n",
       "       ...,\n",
       "       [  100.        ,    96.99122997,   105.63842949, ...,\n",
       "         5589.00773736,  6562.2075908 ,  5912.70986266],\n",
       "       [  100.        ,   124.78481536,   135.93163728, ...,\n",
       "        36137.61256332, 46735.52367907, 53879.41821719],\n",
       "       [  100.        ,   111.13942038,   110.12521254, ...,\n",
       "        12984.12195617, 11587.41681281, 11631.19866936]])"
      ]
     },
     "execution_count": 4,
     "metadata": {},
     "output_type": "execute_result"
    }
   ],
   "source": [
    "# All simulations for the first asset.\n",
    "simulations[:,:,0]"
   ]
  },
  {
   "cell_type": "code",
   "execution_count": 5,
   "metadata": {},
   "outputs": [
    {
     "data": {
      "text/plain": [
       "array([[  120.        ,   121.07728194,   119.54763484, ...,\n",
       "         4479.71574685,  4784.03136155,  5253.46022658],\n",
       "       [  120.        ,   123.4698468 ,   126.15271478, ...,\n",
       "        16213.73977315, 17155.43946682, 15036.87587385],\n",
       "       [  120.        ,   138.15217833,   158.34205316, ...,\n",
       "        36157.92556742, 38814.50070379, 39130.92127588],\n",
       "       ...,\n",
       "       [  120.        ,   118.05638602,   115.10846039, ...,\n",
       "        11456.20355514, 12470.86784929, 13122.92002475],\n",
       "       [  120.        ,   138.37319317,   133.53305249, ...,\n",
       "         8054.09859283,  8231.89044351,  9058.85024701],\n",
       "       [  120.        ,   115.11498245,   124.80737898, ...,\n",
       "        42961.23606853, 47681.34468264, 56606.65996206]])"
      ]
     },
     "execution_count": 5,
     "metadata": {},
     "output_type": "execute_result"
    }
   ],
   "source": [
    "# All simulations for the second asset.\n",
    "simulations[:,:,1]"
   ]
  },
  {
   "cell_type": "code",
   "execution_count": 6,
   "metadata": {},
   "outputs": [
    {
     "data": {
      "text/plain": [
       "array([  100.        ,    97.16319069,   104.09814995,   123.37959629,\n",
       "         131.13345878,   140.29152161,   139.4054434 ,   126.24492139,\n",
       "         168.86042471,   151.47338751,   123.42710349,   143.07289566,\n",
       "         167.40076295,   187.46666738,   188.65570383,   184.53867335,\n",
       "         214.07796757,   226.88276926,   277.13155379,   299.29411694,\n",
       "         286.9546722 ,   303.45639809,   311.31246291,   355.11355369,\n",
       "         449.28405539,   531.62928063,   632.00293635,   639.09053319,\n",
       "         603.26480505,   630.74458715,   644.95203706,   764.16862665,\n",
       "         847.71292929,   995.26099094,   855.28490193,  1110.25469292,\n",
       "        1098.25779409,  1388.13670576,  1462.22832257,  1513.66049618,\n",
       "        1571.78130828,  1691.72109618,  2178.48491469,  2303.67124111,\n",
       "        2493.74895985,  2500.6514283 ,  2582.42995961,  2696.45112324,\n",
       "        3220.18988032,  3575.30755701,  4111.35802   ,  4334.03149263,\n",
       "        4272.2482017 ,  4641.63820664,  4661.00120378,  4745.27172881,\n",
       "        4478.31199115,  5184.0788593 ,  5190.47824457,  5494.83604416,\n",
       "        4540.68290878,  4506.95519834,  4501.75056542,  4020.04122839,\n",
       "        4454.94057582,  4661.84424543,  5037.6270977 ,  4995.97671636,\n",
       "        4899.91328746,  5023.95067122,  5183.43335257,  5039.48199338,\n",
       "        5754.74790979,  6423.88663816,  7164.33193405,  7829.3128243 ,\n",
       "        7921.5313895 ,  8703.02321044,  9969.58322494,  9035.33525122,\n",
       "       10962.55181417, 12665.95414109, 12689.83467222, 13632.68789781,\n",
       "       12853.71428497, 13712.17858844, 14367.0283637 , 14525.93758049,\n",
       "       14339.2845569 , 16381.13181304, 19716.85003745, 21316.59524467,\n",
       "       24218.45654114, 24664.27042809, 23352.87144691, 26598.04830316,\n",
       "       28485.23339567, 27148.20246696, 30801.05193434, 28351.39975829,\n",
       "       32253.41090626])"
      ]
     },
     "execution_count": 6,
     "metadata": {},
     "output_type": "execute_result"
    }
   ],
   "source": [
    "# First simulation for the first asset\n",
    "\n",
    "simulations[0,:,0]"
   ]
  },
  {
   "attachments": {},
   "cell_type": "markdown",
   "metadata": {},
   "source": [
    "Compare this code to the one we used above. What's different? What stands out to you? What assumptions did it make? What's up with these numbers?\n",
    "\n",
    "GPT is quite good at creating code that has been done in a lot of places. It has trained on millions of online tutorials and examples. However, you still want to follow the logic and check for errors. **There will be errors.**\n",
    "\n",
    "**You can have a \"dialog\" with GPT.** Look at the code. Is it what you want? You can ask it to change it for you.\n",
    "\n",
    "**What does that leave for us to do?** Use GPT to start sketching your code, do to certain tasks. Figure out what you need. Figure out the questions that you're trying answer. What's the problem that you're trying to solve? Who are you solving it for? What will the answer look like? What will it tell you?\n",
    "\n",
    "Using tools like GPT, Github Co-Pilot, etc. is like having a team of junior programmers working for you. They can make the job easier, but it is still up to you to know what's an interesting question in the first place. **You still need to use your domain expertise and creativity to come up with solutions to problems that aren't in an online Python tutorials.**"
   ]
  },
  {
   "attachments": {},
   "cell_type": "markdown",
   "metadata": {},
   "source": [
    "## Using ChatGPT to Check Our Code\n",
    "\n",
    "Below, I have borrowed some code from our portfolio optimization code. However, there is one small problem, based on one I encountered in class. One of those small, tiny errors that can be so frustrating! Do you see it?"
   ]
  },
  {
   "cell_type": "code",
   "execution_count": 7,
   "metadata": {},
   "outputs": [
    {
     "ename": "AxisError",
     "evalue": "axis -1 is out of bounds for array of dimension 0",
     "output_type": "error",
     "traceback": [
      "\u001b[0;31m---------------------------------------------------------------------------\u001b[0m",
      "\u001b[0;31mAxisError\u001b[0m                                 Traceback (most recent call last)",
      "Input \u001b[0;32mIn [7]\u001b[0m, in \u001b[0;36m<cell line: 36>\u001b[0;34m()\u001b[0m\n\u001b[1;32m     33\u001b[0m \u001b[38;5;28;01mdef\u001b[39;00m \u001b[38;5;21msharpe\u001b[39m(weights):  \n\u001b[1;32m     34\u001b[0m     \u001b[38;5;28;01mreturn\u001b[39;00m port_ret(weights) \u001b[38;5;241m/\u001b[39m port_vol(weights)  \n\u001b[0;32m---> 36\u001b[0m \u001b[43msharpe\u001b[49m\u001b[43m(\u001b[49m\u001b[43mweights\u001b[49m\u001b[43m)\u001b[49m\n",
      "Input \u001b[0;32mIn [7]\u001b[0m, in \u001b[0;36msharpe\u001b[0;34m(weights)\u001b[0m\n\u001b[1;32m     33\u001b[0m \u001b[38;5;28;01mdef\u001b[39;00m \u001b[38;5;21msharpe\u001b[39m(weights):  \n\u001b[0;32m---> 34\u001b[0m     \u001b[38;5;28;01mreturn\u001b[39;00m port_ret(weights) \u001b[38;5;241m/\u001b[39m \u001b[43mport_vol\u001b[49m\u001b[43m(\u001b[49m\u001b[43mweights\u001b[49m\u001b[43m)\u001b[49m\n",
      "Input \u001b[0;32mIn [7]\u001b[0m, in \u001b[0;36mport_vol\u001b[0;34m(weights)\u001b[0m\n\u001b[1;32m     30\u001b[0m \u001b[38;5;28;01mdef\u001b[39;00m \u001b[38;5;21mport_vol\u001b[39m(weights):\n\u001b[0;32m---> 31\u001b[0m     \u001b[38;5;28;01mreturn\u001b[39;00m \u001b[43mnp\u001b[49m\u001b[38;5;241;43m.\u001b[39;49m\u001b[43msort\u001b[49m\u001b[43m(\u001b[49m\u001b[43mnp\u001b[49m\u001b[38;5;241;43m.\u001b[39;49m\u001b[43mdot\u001b[49m\u001b[43m(\u001b[49m\u001b[43mweights\u001b[49m\u001b[38;5;241;43m.\u001b[39;49m\u001b[43mT\u001b[49m\u001b[43m,\u001b[49m\u001b[43m \u001b[49m\u001b[43mnp\u001b[49m\u001b[38;5;241;43m.\u001b[39;49m\u001b[43mdot\u001b[49m\u001b[43m(\u001b[49m\u001b[43mrets\u001b[49m\u001b[38;5;241;43m.\u001b[39;49m\u001b[43mcov\u001b[49m\u001b[43m(\u001b[49m\u001b[43m)\u001b[49m\u001b[43m \u001b[49m\u001b[38;5;241;43m*\u001b[39;49m\u001b[43m \u001b[49m\u001b[38;5;241;43m252\u001b[39;49m\u001b[43m,\u001b[49m\u001b[43m \u001b[49m\u001b[43mweights\u001b[49m\u001b[43m)\u001b[49m\u001b[43m)\u001b[49m\u001b[43m)\u001b[49m\n",
      "File \u001b[0;32m<__array_function__ internals>:180\u001b[0m, in \u001b[0;36msort\u001b[0;34m(*args, **kwargs)\u001b[0m\n",
      "File \u001b[0;32m/opt/anaconda3/lib/python3.9/site-packages/numpy/core/fromnumeric.py:1004\u001b[0m, in \u001b[0;36msort\u001b[0;34m(a, axis, kind, order)\u001b[0m\n\u001b[1;32m   1002\u001b[0m \u001b[38;5;28;01melse\u001b[39;00m:\n\u001b[1;32m   1003\u001b[0m     a \u001b[38;5;241m=\u001b[39m asanyarray(a)\u001b[38;5;241m.\u001b[39mcopy(order\u001b[38;5;241m=\u001b[39m\u001b[38;5;124m\"\u001b[39m\u001b[38;5;124mK\u001b[39m\u001b[38;5;124m\"\u001b[39m)\n\u001b[0;32m-> 1004\u001b[0m \u001b[43ma\u001b[49m\u001b[38;5;241;43m.\u001b[39;49m\u001b[43msort\u001b[49m\u001b[43m(\u001b[49m\u001b[43maxis\u001b[49m\u001b[38;5;241;43m=\u001b[39;49m\u001b[43maxis\u001b[49m\u001b[43m,\u001b[49m\u001b[43m \u001b[49m\u001b[43mkind\u001b[49m\u001b[38;5;241;43m=\u001b[39;49m\u001b[43mkind\u001b[49m\u001b[43m,\u001b[49m\u001b[43m \u001b[49m\u001b[43morder\u001b[49m\u001b[38;5;241;43m=\u001b[39;49m\u001b[43morder\u001b[49m\u001b[43m)\u001b[49m\n\u001b[1;32m   1005\u001b[0m \u001b[38;5;28;01mreturn\u001b[39;00m a\n",
      "\u001b[0;31mAxisError\u001b[0m: axis -1 is out of bounds for array of dimension 0"
     ]
    }
   ],
   "source": [
    "# Read in some eod prices\n",
    "import numpy as np\n",
    "import pandas as pd\n",
    "\n",
    "from pylab import mpl, plt\n",
    "\n",
    "import scipy.optimize as sco\n",
    "\n",
    "raw = pd.read_csv('https://raw.githubusercontent.com/aaiken1/fin-data-analysis-python/main/data/tr_eikon_eod_data.csv',\n",
    "                  index_col=0, parse_dates=True).dropna() \n",
    "\n",
    "symbols = ['AAPL.O', 'MSFT.O', 'SPY', 'GLD'] #two stocks and two ETFs\n",
    "\n",
    "noa = len(symbols) #noa = number of assets\n",
    "\n",
    "data = raw[symbols]\n",
    "\n",
    "rets = data.pct_change().dropna()\n",
    "\n",
    "noa = 4\n",
    "\n",
    "weights = np.random.random(noa)\n",
    "weights /= np.sum(weights)\n",
    "\n",
    "ann_rets = rets.mean() * 252\n",
    "\n",
    "def port_ret(weights):\n",
    "    return np.sum(ann_rets * weights)\n",
    "\n",
    "def port_vol(weights):\n",
    "    return np.sort(np.dot(weights.T, np.dot(rets.cov() * 252, weights)))\n",
    "\n",
    "def sharpe(weights):  \n",
    "    return port_ret(weights) / port_vol(weights)  \n",
    "\n",
    "sharpe(weights)\n"
   ]
  },
  {
   "attachments": {},
   "cell_type": "markdown",
   "metadata": {},
   "source": [
    "Huh... Let's see if ChatGPT can help us out. I'm going to copy and paste the code and ask it to find the mistake. It does!\n",
    "\n",
    "```{figure} ../images/17-gpt-find-error.png\n",
    "---\n",
    "name: 17-gpt-find-error.png\n",
    "align: center\n",
    "class: with-border\n",
    "---\n",
    "You can use ChatGPT to find errors in your code.\n",
    "```"
   ]
  }
 ],
 "metadata": {
  "kernelspec": {
   "display_name": "base",
   "language": "python",
   "name": "python3"
  },
  "language_info": {
   "codemirror_mode": {
    "name": "ipython",
    "version": 3
   },
   "file_extension": ".py",
   "mimetype": "text/x-python",
   "name": "python",
   "nbconvert_exporter": "python",
   "pygments_lexer": "ipython3",
   "version": "3.9.13"
  },
  "vscode": {
   "interpreter": {
    "hash": "40d3a090f54c6569ab1632332b64b2c03c39dcf918b08424e98f38b5ae0af88f"
   }
  }
 },
 "nbformat": 4,
 "nbformat_minor": 2
}