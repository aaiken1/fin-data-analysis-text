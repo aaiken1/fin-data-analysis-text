{
 "cells": [
  {
   "attachments": {},
   "cell_type": "markdown",
   "metadata": {},
   "source": [
    "# Using ChatGPT\n",
    "\n",
    "There are now many AI-based tools to help us code. These tools can create code outlines for us, check our own code, write functions, and explain the steps. I'm going to show you a few examples using the free [OpenAI ChapGPT tools](https://chat.openai.com).\n",
    "\n",
    "If you use Github and VS Code, you can sign-up for [CoPilot](https://github.com/features/copilot/). \n",
    "\n",
    "This paper by [Liu, Miller, and Niu (2023)](https://papers.ssrn.com/sol3/papers.cfm?abstract_id=4412371) has some great examples of how to use ChatGPT in a course like this one.\n",
    "\n",
    "```{note}\n",
    "There's a trade-off when using AI code assists. They will make you faster and check your syntax. They work well for simple tasks in a introductory course like this. But, at some point, you want to understand the code. You'll need to tweak it to get it to work. And, if you're doing more interesting coding, they may be of limited use. So - use them, but with these caveats in mind!\n",
    "```\n",
    "\n",
    "## Using GPT to Write a Function For You\n",
    "\n",
    "Let's go to Chapter 7, where I show you how to write a function to generate asset paths using **geometric brownian motion**. We use the Nasdaq API to bring in some bitcoin data in that example. Now, I'm going to use ChatGPT to write the same function. I gave GPT4 the following prompt:\n",
    "\n",
    "> Write a function in Python that simulates geometric brownian motion for any number of assets. Create the appropriate inputs as arrays. The inputs should be the number of assets, the mean for each asset, the standard deviation for each asset, the number of periods, the initial value of each asset, and the number of simulations. The output should be an array that contains all of the simulations for each asset. These are uncorrelated assets, so don't worry about covariance.\n",
    "\n",
    "Here's the code that it gave me:"
   ]
  },
  {
   "cell_type": "code",
   "execution_count": 1,
   "metadata": {},
   "outputs": [
    {
     "name": "stdout",
     "output_type": "stream",
     "text": [
      "[[[1.00000000e+02 1.20000000e+02 1.40000000e+02]\n",
      "  [1.00234911e+02 1.29727783e+02 1.74183683e+02]\n",
      "  [1.04750228e+02 1.30167606e+02 2.03701851e+02]\n",
      "  ...\n",
      "  [1.21150980e+05 3.63139700e+04 9.68994208e+04]\n",
      "  [1.22406984e+05 4.29472020e+04 1.06012183e+05]\n",
      "  [1.21989609e+05 4.87715842e+04 1.47059447e+05]]\n",
      "\n",
      " [[1.00000000e+02 1.20000000e+02 1.40000000e+02]\n",
      "  [1.17164386e+02 1.41769880e+02 1.51119163e+02]\n",
      "  [1.42165619e+02 1.39541650e+02 1.44125224e+02]\n",
      "  ...\n",
      "  [8.84560052e+03 7.03935970e+05 5.01378147e+04]\n",
      "  [1.05304146e+04 7.49945019e+05 5.36203167e+04]\n",
      "  [1.11648898e+04 9.48017879e+05 5.29401268e+04]]\n",
      "\n",
      " [[1.00000000e+02 1.20000000e+02 1.40000000e+02]\n",
      "  [1.32778609e+02 1.09297964e+02 1.53156583e+02]\n",
      "  [1.39981381e+02 1.10845329e+02 1.28645657e+02]\n",
      "  ...\n",
      "  [7.16028429e+04 3.18939386e+04 3.41724089e+04]\n",
      "  [7.69399064e+04 2.95379461e+04 3.75984254e+04]\n",
      "  [8.78706975e+04 2.55520386e+04 4.09162023e+04]]\n",
      "\n",
      " ...\n",
      "\n",
      " [[1.00000000e+02 1.20000000e+02 1.40000000e+02]\n",
      "  [8.43009675e+01 1.10072028e+02 1.43760018e+02]\n",
      "  [1.03889298e+02 1.36492722e+02 1.20647078e+02]\n",
      "  ...\n",
      "  [1.98813635e+04 1.91257740e+04 2.83142338e+04]\n",
      "  [2.10723271e+04 2.23140435e+04 3.03652770e+04]\n",
      "  [2.61005031e+04 2.36269420e+04 2.55583164e+04]]\n",
      "\n",
      " [[1.00000000e+02 1.20000000e+02 1.40000000e+02]\n",
      "  [1.15064678e+02 1.33090174e+02 1.47691954e+02]\n",
      "  [1.08432746e+02 1.00219069e+02 1.67159019e+02]\n",
      "  ...\n",
      "  [1.74014599e+04 5.88121234e+04 8.06376403e+05]\n",
      "  [1.88158312e+04 6.89584256e+04 8.17081660e+05]\n",
      "  [1.99637097e+04 1.00033446e+05 9.54232026e+05]]\n",
      "\n",
      " [[1.00000000e+02 1.20000000e+02 1.40000000e+02]\n",
      "  [9.89095465e+01 1.19173075e+02 1.52582746e+02]\n",
      "  [1.04145222e+02 1.24163940e+02 1.65573480e+02]\n",
      "  ...\n",
      "  [2.44028361e+04 2.44542593e+04 7.70374226e+04]\n",
      "  [2.20444864e+04 2.27967234e+04 7.51211890e+04]\n",
      "  [2.60068036e+04 2.40514103e+04 1.14087681e+05]]]\n"
     ]
    }
   ],
   "source": [
    "import numpy as np\n",
    "\n",
    "def geometric_brownian_motion(num_assets, means, std_devs, num_periods, initial_values, num_simulations):\n",
    "    if len(means) != num_assets or len(std_devs) != num_assets or len(initial_values) != num_assets:\n",
    "        raise ValueError(\"The length of means, std_devs, and initial_values should be equal to the number of assets\")\n",
    "\n",
    "    # Initialize an array to store the simulations\n",
    "    simulations = np.zeros((num_simulations, num_periods + 1, num_assets))\n",
    "\n",
    "    # Set the initial values for each simulation\n",
    "    simulations[:, 0, :] = initial_values\n",
    "\n",
    "    # Time step\n",
    "    dt = 1.0\n",
    "\n",
    "    # Loop through each simulation\n",
    "    for sim in range(num_simulations):\n",
    "        # Loop through each time period\n",
    "        for t in range(1, num_periods + 1):\n",
    "            # Loop through each asset\n",
    "            for asset in range(num_assets):\n",
    "                # Generate a random normal value (using mean=0 and std_dev=1) for the brownian motion\n",
    "                random_normal = np.random.normal(0, 1)\n",
    "\n",
    "                # Calculate the change in asset value using geometric brownian motion\n",
    "                change = means[asset] * dt + std_devs[asset] * np.sqrt(dt) * random_normal\n",
    "\n",
    "                # Update the asset value\n",
    "                simulations[sim, t, asset] = simulations[sim, t - 1, asset] * np.exp(change)\n",
    "\n",
    "    return simulations\n",
    "\n",
    "# Example usage\n",
    "num_assets = 3\n",
    "means = np.array([0.05, 0.06, 0.07])\n",
    "std_devs = np.array([0.1, 0.12, 0.14])\n",
    "num_periods = 100\n",
    "initial_values = np.array([100, 120, 140])\n",
    "num_simulations = 1000\n",
    "\n",
    "simulations = geometric_brownian_motion(num_assets, means, std_devs, num_periods, initial_values, num_simulations)\n",
    "print(simulations)"
   ]
  },
  {
   "attachments": {},
   "cell_type": "markdown",
   "metadata": {},
   "source": [
    "Here's the GPT explanation of the code.\n",
    "\n",
    "> This function accepts the following inputs:\n",
    "\n",
    "> num_assets: the number of assets \\\n",
    "means: a NumPy array containing the mean return for each asset \\\n",
    "std_devs: a NumPy array containing the standard deviation of return for each asset \\\n",
    "num_periods: the number of time periods \\\n",
    "initial_values: a NumPy array containing the initial value for each asset \\\n",
    "num_simulations: the number of simulations to run\n",
    "\n",
    "> The function returns a 3D NumPy array containing the simulations for each asset, with dimensions (num_simulations, num_periods + 1, num_assets)."
   ]
  },
  {
   "attachments": {},
   "cell_type": "markdown",
   "metadata": {},
   "source": [
    "Let's look a bit more at the output. I'll get its `.shape` attribute."
   ]
  },
  {
   "cell_type": "code",
   "execution_count": 2,
   "metadata": {},
   "outputs": [
    {
     "data": {
      "text/plain": [
       "numpy.ndarray"
      ]
     },
     "execution_count": 2,
     "metadata": {},
     "output_type": "execute_result"
    }
   ],
   "source": [
    "type(simulations)"
   ]
  },
  {
   "cell_type": "code",
   "execution_count": 3,
   "metadata": {},
   "outputs": [
    {
     "data": {
      "text/plain": [
       "(1000, 101, 3)"
      ]
     },
     "execution_count": 3,
     "metadata": {},
     "output_type": "execute_result"
    }
   ],
   "source": [
    "simulations.shape"
   ]
  },
  {
   "attachments": {},
   "cell_type": "markdown",
   "metadata": {},
   "source": [
    "The output is a **three-dimensional array**. We can pull out all of the simulations for one asset, as well as a single simulation for one asset. Or anything else."
   ]
  },
  {
   "cell_type": "code",
   "execution_count": 4,
   "metadata": {},
   "outputs": [
    {
     "data": {
      "text/plain": [
       "array([[1.00000000e+02, 1.00234911e+02, 1.04750228e+02, ...,\n",
       "        1.21150980e+05, 1.22406984e+05, 1.21989609e+05],\n",
       "       [1.00000000e+02, 1.17164386e+02, 1.42165619e+02, ...,\n",
       "        8.84560052e+03, 1.05304146e+04, 1.11648898e+04],\n",
       "       [1.00000000e+02, 1.32778609e+02, 1.39981381e+02, ...,\n",
       "        7.16028429e+04, 7.69399064e+04, 8.78706975e+04],\n",
       "       ...,\n",
       "       [1.00000000e+02, 8.43009675e+01, 1.03889298e+02, ...,\n",
       "        1.98813635e+04, 2.10723271e+04, 2.61005031e+04],\n",
       "       [1.00000000e+02, 1.15064678e+02, 1.08432746e+02, ...,\n",
       "        1.74014599e+04, 1.88158312e+04, 1.99637097e+04],\n",
       "       [1.00000000e+02, 9.89095465e+01, 1.04145222e+02, ...,\n",
       "        2.44028361e+04, 2.20444864e+04, 2.60068036e+04]])"
      ]
     },
     "execution_count": 4,
     "metadata": {},
     "output_type": "execute_result"
    }
   ],
   "source": [
    "# All simulations for the first asset.\n",
    "simulations[:,:,0]"
   ]
  },
  {
   "cell_type": "code",
   "execution_count": 5,
   "metadata": {},
   "outputs": [
    {
     "data": {
      "text/plain": [
       "array([[1.20000000e+02, 1.29727783e+02, 1.30167606e+02, ...,\n",
       "        3.63139700e+04, 4.29472020e+04, 4.87715842e+04],\n",
       "       [1.20000000e+02, 1.41769880e+02, 1.39541650e+02, ...,\n",
       "        7.03935970e+05, 7.49945019e+05, 9.48017879e+05],\n",
       "       [1.20000000e+02, 1.09297964e+02, 1.10845329e+02, ...,\n",
       "        3.18939386e+04, 2.95379461e+04, 2.55520386e+04],\n",
       "       ...,\n",
       "       [1.20000000e+02, 1.10072028e+02, 1.36492722e+02, ...,\n",
       "        1.91257740e+04, 2.23140435e+04, 2.36269420e+04],\n",
       "       [1.20000000e+02, 1.33090174e+02, 1.00219069e+02, ...,\n",
       "        5.88121234e+04, 6.89584256e+04, 1.00033446e+05],\n",
       "       [1.20000000e+02, 1.19173075e+02, 1.24163940e+02, ...,\n",
       "        2.44542593e+04, 2.27967234e+04, 2.40514103e+04]])"
      ]
     },
     "execution_count": 5,
     "metadata": {},
     "output_type": "execute_result"
    }
   ],
   "source": [
    "# All simulations for the second asset.\n",
    "simulations[:,:,1]"
   ]
  },
  {
   "cell_type": "code",
   "execution_count": 6,
   "metadata": {},
   "outputs": [
    {
     "data": {
      "text/plain": [
       "array([1.00000000e+02, 1.00234911e+02, 1.04750228e+02, 9.85400064e+01,\n",
       "       1.13488433e+02, 1.41866694e+02, 1.72457849e+02, 1.91773191e+02,\n",
       "       1.81511998e+02, 1.89512455e+02, 1.98937407e+02, 1.87036639e+02,\n",
       "       2.26138791e+02, 2.04041733e+02, 2.55071730e+02, 2.74765063e+02,\n",
       "       3.42451250e+02, 3.29452643e+02, 2.94112932e+02, 3.40024488e+02,\n",
       "       3.82257963e+02, 4.00207624e+02, 4.35433607e+02, 4.83211306e+02,\n",
       "       5.09653063e+02, 6.05844002e+02, 7.38471512e+02, 8.77417287e+02,\n",
       "       1.04777144e+03, 1.03978639e+03, 1.08842120e+03, 1.15602255e+03,\n",
       "       1.31754099e+03, 1.41682063e+03, 1.37174821e+03, 1.48816234e+03,\n",
       "       1.51259457e+03, 1.61787097e+03, 1.86154739e+03, 1.88358672e+03,\n",
       "       1.68942321e+03, 1.93479519e+03, 2.12165912e+03, 2.29826656e+03,\n",
       "       2.84866763e+03, 3.89490910e+03, 3.62475998e+03, 3.46258574e+03,\n",
       "       3.85925660e+03, 3.89427167e+03, 4.41283594e+03, 4.98396067e+03,\n",
       "       5.58955145e+03, 6.06263461e+03, 5.93604692e+03, 7.18602634e+03,\n",
       "       8.12790387e+03, 7.85171468e+03, 9.03534511e+03, 9.04258688e+03,\n",
       "       1.00718499e+04, 1.02211287e+04, 1.00655896e+04, 1.10474086e+04,\n",
       "       1.22989258e+04, 1.54646394e+04, 1.38495173e+04, 1.06635858e+04,\n",
       "       1.49090038e+04, 1.65776303e+04, 1.86192284e+04, 1.86025618e+04,\n",
       "       1.95074887e+04, 2.07408876e+04, 2.16798107e+04, 2.21459410e+04,\n",
       "       2.45772439e+04, 2.89871049e+04, 2.65209362e+04, 3.00024827e+04,\n",
       "       3.28982050e+04, 3.52652766e+04, 3.86005308e+04, 5.23899575e+04,\n",
       "       7.13795932e+04, 7.77132356e+04, 8.04641458e+04, 7.55251524e+04,\n",
       "       8.73781484e+04, 9.99020212e+04, 1.12956124e+05, 1.18960595e+05,\n",
       "       1.20283354e+05, 1.13568035e+05, 1.11834483e+05, 1.14525909e+05,\n",
       "       1.16473952e+05, 1.11147545e+05, 1.21150980e+05, 1.22406984e+05,\n",
       "       1.21989609e+05])"
      ]
     },
     "execution_count": 6,
     "metadata": {},
     "output_type": "execute_result"
    }
   ],
   "source": [
    "# First simulation for the first asset\n",
    "\n",
    "simulations[0,:,0]"
   ]
  },
  {
   "attachments": {},
   "cell_type": "markdown",
   "metadata": {},
   "source": [
    "Compare this code to the one we used above. What's different? What stands out to you? What assumptions did it make? What's up with these numbers?\n",
    "\n",
    "GPT is quite good at creating code that has been done in a lot of places. It has trained on millions of online tutorials and examples. However, you still want to follow the logic and check for errors. **There will be errors.**\n",
    "\n",
    "**You can have a \"dialog\" with GPT.** Look at the code. Is it what you want? You can ask it to change it for you.\n",
    "\n",
    "**What does that leave for us to do?** Use GPT to start sketching your code. Figure out the questions that you're trying answer. What's the problem that you're trying to solve? Who are you solving it for? What will the answer look like? What will it tell you?\n",
    "\n",
    "Using tools like GPT, Github Co-Pilot, etc. is like having a team of junior programmers working for you. They can make the job easier, but it is still up to you to know what's an interesting question in the first place. **You still need to use your domain expertise and creativity to come up with solutions to problems that aren't in an online Python tutorials.**"
   ]
  },
  {
   "attachments": {},
   "cell_type": "markdown",
   "metadata": {},
   "source": [
    "## Using ChatGPT to Check Our Code\n",
    "\n",
    "Below, I have borrowed some code from our portfolio optimization code. However, there is one small problem, based on one I encountered in class. One of those small, tiny errors that can be so frustrating! Do you see it?"
   ]
  },
  {
   "cell_type": "code",
   "execution_count": 7,
   "metadata": {},
   "outputs": [
    {
     "ename": "AxisError",
     "evalue": "axis -1 is out of bounds for array of dimension 0",
     "output_type": "error",
     "traceback": [
      "\u001b[0;31m---------------------------------------------------------------------------\u001b[0m",
      "\u001b[0;31mAxisError\u001b[0m                                 Traceback (most recent call last)",
      "Input \u001b[0;32mIn [7]\u001b[0m, in \u001b[0;36m<cell line: 36>\u001b[0;34m()\u001b[0m\n\u001b[1;32m     33\u001b[0m \u001b[38;5;28;01mdef\u001b[39;00m \u001b[38;5;21msharpe\u001b[39m(weights):  \n\u001b[1;32m     34\u001b[0m     \u001b[38;5;28;01mreturn\u001b[39;00m port_ret(weights) \u001b[38;5;241m/\u001b[39m port_vol(weights)  \n\u001b[0;32m---> 36\u001b[0m \u001b[43msharpe\u001b[49m\u001b[43m(\u001b[49m\u001b[43mweights\u001b[49m\u001b[43m)\u001b[49m\n",
      "Input \u001b[0;32mIn [7]\u001b[0m, in \u001b[0;36msharpe\u001b[0;34m(weights)\u001b[0m\n\u001b[1;32m     33\u001b[0m \u001b[38;5;28;01mdef\u001b[39;00m \u001b[38;5;21msharpe\u001b[39m(weights):  \n\u001b[0;32m---> 34\u001b[0m     \u001b[38;5;28;01mreturn\u001b[39;00m port_ret(weights) \u001b[38;5;241m/\u001b[39m \u001b[43mport_vol\u001b[49m\u001b[43m(\u001b[49m\u001b[43mweights\u001b[49m\u001b[43m)\u001b[49m\n",
      "Input \u001b[0;32mIn [7]\u001b[0m, in \u001b[0;36mport_vol\u001b[0;34m(weights)\u001b[0m\n\u001b[1;32m     30\u001b[0m \u001b[38;5;28;01mdef\u001b[39;00m \u001b[38;5;21mport_vol\u001b[39m(weights):\n\u001b[0;32m---> 31\u001b[0m     \u001b[38;5;28;01mreturn\u001b[39;00m \u001b[43mnp\u001b[49m\u001b[38;5;241;43m.\u001b[39;49m\u001b[43msort\u001b[49m\u001b[43m(\u001b[49m\u001b[43mnp\u001b[49m\u001b[38;5;241;43m.\u001b[39;49m\u001b[43mdot\u001b[49m\u001b[43m(\u001b[49m\u001b[43mweights\u001b[49m\u001b[38;5;241;43m.\u001b[39;49m\u001b[43mT\u001b[49m\u001b[43m,\u001b[49m\u001b[43m \u001b[49m\u001b[43mnp\u001b[49m\u001b[38;5;241;43m.\u001b[39;49m\u001b[43mdot\u001b[49m\u001b[43m(\u001b[49m\u001b[43mrets\u001b[49m\u001b[38;5;241;43m.\u001b[39;49m\u001b[43mcov\u001b[49m\u001b[43m(\u001b[49m\u001b[43m)\u001b[49m\u001b[43m \u001b[49m\u001b[38;5;241;43m*\u001b[39;49m\u001b[43m \u001b[49m\u001b[38;5;241;43m252\u001b[39;49m\u001b[43m,\u001b[49m\u001b[43m \u001b[49m\u001b[43mweights\u001b[49m\u001b[43m)\u001b[49m\u001b[43m)\u001b[49m\u001b[43m)\u001b[49m\n",
      "File \u001b[0;32m<__array_function__ internals>:180\u001b[0m, in \u001b[0;36msort\u001b[0;34m(*args, **kwargs)\u001b[0m\n",
      "File \u001b[0;32m/opt/anaconda3/lib/python3.9/site-packages/numpy/core/fromnumeric.py:1004\u001b[0m, in \u001b[0;36msort\u001b[0;34m(a, axis, kind, order)\u001b[0m\n\u001b[1;32m   1002\u001b[0m \u001b[38;5;28;01melse\u001b[39;00m:\n\u001b[1;32m   1003\u001b[0m     a \u001b[38;5;241m=\u001b[39m asanyarray(a)\u001b[38;5;241m.\u001b[39mcopy(order\u001b[38;5;241m=\u001b[39m\u001b[38;5;124m\"\u001b[39m\u001b[38;5;124mK\u001b[39m\u001b[38;5;124m\"\u001b[39m)\n\u001b[0;32m-> 1004\u001b[0m \u001b[43ma\u001b[49m\u001b[38;5;241;43m.\u001b[39;49m\u001b[43msort\u001b[49m\u001b[43m(\u001b[49m\u001b[43maxis\u001b[49m\u001b[38;5;241;43m=\u001b[39;49m\u001b[43maxis\u001b[49m\u001b[43m,\u001b[49m\u001b[43m \u001b[49m\u001b[43mkind\u001b[49m\u001b[38;5;241;43m=\u001b[39;49m\u001b[43mkind\u001b[49m\u001b[43m,\u001b[49m\u001b[43m \u001b[49m\u001b[43morder\u001b[49m\u001b[38;5;241;43m=\u001b[39;49m\u001b[43morder\u001b[49m\u001b[43m)\u001b[49m\n\u001b[1;32m   1005\u001b[0m \u001b[38;5;28;01mreturn\u001b[39;00m a\n",
      "\u001b[0;31mAxisError\u001b[0m: axis -1 is out of bounds for array of dimension 0"
     ]
    }
   ],
   "source": [
    "# Read in some eod prices\n",
    "import numpy as np\n",
    "import pandas as pd\n",
    "\n",
    "from pylab import mpl, plt\n",
    "\n",
    "import scipy.optimize as sco\n",
    "\n",
    "raw = pd.read_csv('https://raw.githubusercontent.com/aaiken1/fin-data-analysis-python/main/data/tr_eikon_eod_data.csv',\n",
    "                  index_col=0, parse_dates=True).dropna() \n",
    "\n",
    "symbols = ['AAPL.O', 'MSFT.O', 'SPY', 'GLD'] #two stocks and two ETFs\n",
    "\n",
    "noa = len(symbols) #noa = number of assets\n",
    "\n",
    "data = raw[symbols]\n",
    "\n",
    "rets = data.pct_change().dropna()\n",
    "\n",
    "noa = 4\n",
    "\n",
    "weights = np.random.random(noa)\n",
    "weights /= np.sum(weights)\n",
    "\n",
    "ann_rets = rets.mean() * 252\n",
    "\n",
    "def port_ret(weights):\n",
    "    return np.sum(ann_rets * weights)\n",
    "\n",
    "def port_vol(weights):\n",
    "    return np.sort(np.dot(weights.T, np.dot(rets.cov() * 252, weights)))\n",
    "\n",
    "def sharpe(weights):  \n",
    "    return port_ret(weights) / port_vol(weights)  \n",
    "\n",
    "sharpe(weights)\n"
   ]
  },
  {
   "attachments": {},
   "cell_type": "markdown",
   "metadata": {},
   "source": [
    "Huh... Let's see if ChatGPT can help us out. I'm going to copy and paste the code and ask it to find the mistake. It does!\n",
    "\n",
    "```{figure} ../images/17-gpt-find-error.png\n",
    "---\n",
    "name: 17-gpt-find-error.png\n",
    "align: center\n",
    "class: with-border\n",
    "---\n",
    "You can use ChatGPT to find errors in your code.\n",
    "```"
   ]
  }
 ],
 "metadata": {
  "kernelspec": {
   "display_name": "base",
   "language": "python",
   "name": "python3"
  },
  "language_info": {
   "codemirror_mode": {
    "name": "ipython",
    "version": 3
   },
   "file_extension": ".py",
   "mimetype": "text/x-python",
   "name": "python",
   "nbconvert_exporter": "python",
   "pygments_lexer": "ipython3",
   "version": "3.9.13"
  },
  "vscode": {
   "interpreter": {
    "hash": "40d3a090f54c6569ab1632332b64b2c03c39dcf918b08424e98f38b5ae0af88f"
   }
  }
 },
 "nbformat": 4,
 "nbformat_minor": 2
}