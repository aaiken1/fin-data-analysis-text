{
 "cells": [
  {
   "attachments": {},
   "cell_type": "markdown",
   "metadata": {},
   "source": [
    "# Using ChatGPT\n",
    "\n",
    "There are now many AI-based tools to help us code. These tools can create code outlines for us, check our own code, write functions, and explain the steps. I'm going to show you a few examples using the free [OpenAI ChapGPT tools](https://chat.openai.com).\n",
    "\n",
    "If you use Github and VS Code, you can sign-up for [CoPilot](https://github.com/features/copilot/). \n",
    "\n",
    "This paper by [Liu, Miller, and Niu (2023)](https://papers.ssrn.com/sol3/papers.cfm?abstract_id=4412371) has some great examples of how to use ChatGPT in a course like this one.\n",
    "\n",
    "## Using GPT to Write a Function For You\n",
    "\n",
    "Let's go back to Chapter 7, where I showed you how to write a function to generate asset paths using **geometric brownian motion**. We used the Nasdaq API to bring in some bitcoin data in that example. Now, I'm going to use ChatGPT to write the same function. I gave GPT4 the following prompt:\n",
    "\n",
    "> Write a function in Python that simulates geometric brownian motion for any number of assets. Create the appropriate inputs as arrays. The inputs should be the number of assets, the mean for each asset, the standard deviation for each asset, the number of periods, the initial value of each asset, and the number of simulations. The output should be an array that contains all of the simulations for each asset. These are uncorrelated assets, so don't worry about covariance.\n",
    "\n",
    "Here's the code that it gave me:"
   ]
  },
  {
   "cell_type": "code",
   "execution_count": 1,
   "metadata": {},
   "outputs": [
    {
     "name": "stdout",
     "output_type": "stream",
     "text": [
      "[[[1.00000000e+02 1.20000000e+02 1.40000000e+02]\n",
      "  [1.05662499e+02 1.23761348e+02 1.69366045e+02]\n",
      "  [1.02871689e+02 1.08443456e+02 1.89037408e+02]\n",
      "  ...\n",
      "  [2.88845673e+04 3.50492115e+04 1.09112724e+05]\n",
      "  [3.57924342e+04 3.41791281e+04 1.10354102e+05]\n",
      "  [3.35932280e+04 3.30616765e+04 1.10540119e+05]]\n",
      "\n",
      " [[1.00000000e+02 1.20000000e+02 1.40000000e+02]\n",
      "  [1.14600147e+02 1.31820731e+02 1.70962169e+02]\n",
      "  [1.14249580e+02 1.29979326e+02 1.65625803e+02]\n",
      "  ...\n",
      "  [3.95188804e+04 5.19956657e+05 5.57680699e+05]\n",
      "  [4.22488039e+04 5.98112793e+05 8.44660746e+05]\n",
      "  [4.62788447e+04 7.58477427e+05 1.01806051e+06]]\n",
      "\n",
      " [[1.00000000e+02 1.20000000e+02 1.40000000e+02]\n",
      "  [1.05024589e+02 1.08216952e+02 1.30654552e+02]\n",
      "  [1.22713261e+02 9.25749268e+01 1.37005178e+02]\n",
      "  ...\n",
      "  [1.47788228e+04 1.55655347e+03 1.46272554e+04]\n",
      "  [1.51252406e+04 1.90336360e+03 1.75998287e+04]\n",
      "  [1.58925123e+04 2.45720822e+03 1.94499664e+04]]\n",
      "\n",
      " ...\n",
      "\n",
      " [[1.00000000e+02 1.20000000e+02 1.40000000e+02]\n",
      "  [1.14918275e+02 1.31891077e+02 1.39912764e+02]\n",
      "  [1.13196226e+02 1.27331794e+02 1.45493361e+02]\n",
      "  ...\n",
      "  [3.35354986e+03 4.44439966e+04 2.87531745e+05]\n",
      "  [3.54661853e+03 5.13682286e+04 2.64284799e+05]\n",
      "  [3.67664746e+03 6.08506333e+04 2.81910123e+05]]\n",
      "\n",
      " [[1.00000000e+02 1.20000000e+02 1.40000000e+02]\n",
      "  [8.98037970e+01 1.46035369e+02 1.51708253e+02]\n",
      "  [9.38297746e+01 1.36188202e+02 2.09219512e+02]\n",
      "  ...\n",
      "  [2.07918811e+03 1.06588724e+05 2.35312083e+04]\n",
      "  [2.09442033e+03 1.00028516e+05 1.94913344e+04]\n",
      "  [2.30695622e+03 1.09955964e+05 1.71843954e+04]]\n",
      "\n",
      " [[1.00000000e+02 1.20000000e+02 1.40000000e+02]\n",
      "  [9.72487818e+01 1.22625288e+02 1.69875091e+02]\n",
      "  [1.01916245e+02 1.25891752e+02 1.49566588e+02]\n",
      "  ...\n",
      "  [4.17510224e+03 2.34537250e+04 1.71407325e+04]\n",
      "  [4.26133192e+03 2.51935653e+04 1.75766257e+04]\n",
      "  [4.52729617e+03 2.82978966e+04 1.96594261e+04]]]\n"
     ]
    }
   ],
   "source": [
    "import numpy as np\n",
    "\n",
    "def geometric_brownian_motion(num_assets, means, std_devs, num_periods, initial_values, num_simulations):\n",
    "    if len(means) != num_assets or len(std_devs) != num_assets or len(initial_values) != num_assets:\n",
    "        raise ValueError(\"The length of means, std_devs, and initial_values should be equal to the number of assets\")\n",
    "\n",
    "    # Initialize an array to store the simulations\n",
    "    simulations = np.zeros((num_simulations, num_periods + 1, num_assets))\n",
    "\n",
    "    # Set the initial values for each simulation\n",
    "    simulations[:, 0, :] = initial_values\n",
    "\n",
    "    # Time step\n",
    "    dt = 1.0\n",
    "\n",
    "    # Loop through each simulation\n",
    "    for sim in range(num_simulations):\n",
    "        # Loop through each time period\n",
    "        for t in range(1, num_periods + 1):\n",
    "            # Loop through each asset\n",
    "            for asset in range(num_assets):\n",
    "                # Generate a random normal value (using mean=0 and std_dev=1) for the brownian motion\n",
    "                random_normal = np.random.normal(0, 1)\n",
    "\n",
    "                # Calculate the change in asset value using geometric brownian motion\n",
    "                change = means[asset] * dt + std_devs[asset] * np.sqrt(dt) * random_normal\n",
    "\n",
    "                # Update the asset value\n",
    "                simulations[sim, t, asset] = simulations[sim, t - 1, asset] * np.exp(change)\n",
    "\n",
    "    return simulations\n",
    "\n",
    "# Example usage\n",
    "num_assets = 3\n",
    "means = np.array([0.05, 0.06, 0.07])\n",
    "std_devs = np.array([0.1, 0.12, 0.14])\n",
    "num_periods = 100\n",
    "initial_values = np.array([100, 120, 140])\n",
    "num_simulations = 1000\n",
    "\n",
    "simulations = geometric_brownian_motion(num_assets, means, std_devs, num_periods, initial_values, num_simulations)\n",
    "print(simulations)"
   ]
  },
  {
   "attachments": {},
   "cell_type": "markdown",
   "metadata": {},
   "source": [
    "Here's the GPT explanation of the code.\n",
    "\n",
    "> This function accepts the following inputs:\n",
    "\n",
    "> num_assets: the number of assets \\\n",
    "means: a NumPy array containing the mean return for each asset \\\n",
    "std_devs: a NumPy array containing the standard deviation of return for each asset \\\n",
    "num_periods: the number of time periods \\\n",
    "initial_values: a NumPy array containing the initial value for each asset \\\n",
    "num_simulations: the number of simulations to run\n",
    "\n",
    "> The function returns a 3D NumPy array containing the simulations for each asset, with dimensions (num_simulations, num_periods + 1, num_assets)."
   ]
  },
  {
   "attachments": {},
   "cell_type": "markdown",
   "metadata": {},
   "source": [
    "Let's look a bit more at the output. I'll get its `.shape` attribute."
   ]
  },
  {
   "cell_type": "code",
   "execution_count": 2,
   "metadata": {},
   "outputs": [
    {
     "data": {
      "text/plain": [
       "numpy.ndarray"
      ]
     },
     "execution_count": 2,
     "metadata": {},
     "output_type": "execute_result"
    }
   ],
   "source": [
    "type(simulations)"
   ]
  },
  {
   "cell_type": "code",
   "execution_count": 3,
   "metadata": {},
   "outputs": [
    {
     "data": {
      "text/plain": [
       "(1000, 101, 3)"
      ]
     },
     "execution_count": 3,
     "metadata": {},
     "output_type": "execute_result"
    }
   ],
   "source": [
    "simulations.shape"
   ]
  },
  {
   "attachments": {},
   "cell_type": "markdown",
   "metadata": {},
   "source": [
    "The output is a **three-dimensional array**. We can pull out all of the simulations for one asset, as well as a single simulation for one asset. Or anything else."
   ]
  },
  {
   "cell_type": "code",
   "execution_count": 4,
   "metadata": {},
   "outputs": [
    {
     "data": {
      "text/plain": [
       "array([[  100.        ,   105.66249892,   102.87168892, ...,\n",
       "        28884.56727124, 35792.43421945, 33593.22801097],\n",
       "       [  100.        ,   114.60014718,   114.24958037, ...,\n",
       "        39518.88038275, 42248.80386935, 46278.84469203],\n",
       "       [  100.        ,   105.02458902,   122.71326106, ...,\n",
       "        14778.82283859, 15125.24061347, 15892.51232435],\n",
       "       ...,\n",
       "       [  100.        ,   114.91827541,   113.19622614, ...,\n",
       "         3353.54985824,  3546.61853165,  3676.64746108],\n",
       "       [  100.        ,    89.80379702,    93.82977462, ...,\n",
       "         2079.18810674,  2094.42033077,  2306.95621854],\n",
       "       [  100.        ,    97.24878175,   101.91624499, ...,\n",
       "         4175.10224207,  4261.33192415,  4527.29616907]])"
      ]
     },
     "execution_count": 4,
     "metadata": {},
     "output_type": "execute_result"
    }
   ],
   "source": [
    "# All simulations for the first asset.\n",
    "simulations[:,:,0]"
   ]
  },
  {
   "cell_type": "code",
   "execution_count": 5,
   "metadata": {},
   "outputs": [
    {
     "data": {
      "text/plain": [
       "array([[1.20000000e+02, 1.23761348e+02, 1.08443456e+02, ...,\n",
       "        3.50492115e+04, 3.41791281e+04, 3.30616765e+04],\n",
       "       [1.20000000e+02, 1.31820731e+02, 1.29979326e+02, ...,\n",
       "        5.19956657e+05, 5.98112793e+05, 7.58477427e+05],\n",
       "       [1.20000000e+02, 1.08216952e+02, 9.25749268e+01, ...,\n",
       "        1.55655347e+03, 1.90336360e+03, 2.45720822e+03],\n",
       "       ...,\n",
       "       [1.20000000e+02, 1.31891077e+02, 1.27331794e+02, ...,\n",
       "        4.44439966e+04, 5.13682286e+04, 6.08506333e+04],\n",
       "       [1.20000000e+02, 1.46035369e+02, 1.36188202e+02, ...,\n",
       "        1.06588724e+05, 1.00028516e+05, 1.09955964e+05],\n",
       "       [1.20000000e+02, 1.22625288e+02, 1.25891752e+02, ...,\n",
       "        2.34537250e+04, 2.51935653e+04, 2.82978966e+04]])"
      ]
     },
     "execution_count": 5,
     "metadata": {},
     "output_type": "execute_result"
    }
   ],
   "source": [
    "# All simulations for the second asset.\n",
    "simulations[:,:,1]"
   ]
  },
  {
   "cell_type": "code",
   "execution_count": 6,
   "metadata": {},
   "outputs": [
    {
     "data": {
      "text/plain": [
       "array([  100.        ,   105.66249892,   102.87168892,   129.59461102,\n",
       "         162.35220595,   162.7052684 ,   168.79052112,   195.25846403,\n",
       "         161.42198727,   164.34524873,   174.12324492,   184.88641577,\n",
       "         217.76262948,   284.22806097,   299.46682264,   328.45753247,\n",
       "         346.94639841,   384.56576469,   404.35963525,   442.78004947,\n",
       "         432.26427064,   409.8947543 ,   428.51628751,   400.47296477,\n",
       "         359.43173219,   348.64784339,   339.31820637,   368.00591672,\n",
       "         444.06094996,   430.81186605,   429.72932605,   423.46265837,\n",
       "         468.19864751,   438.85130455,   431.06413032,   403.40652413,\n",
       "         468.89336262,   427.49677062,   482.88548654,   519.89567281,\n",
       "         564.37135058,   619.91260049,   878.69864988,  1085.42298155,\n",
       "        1067.57154475,  1008.96536058,   951.97453602,  1025.70114176,\n",
       "        1117.73990927,  1248.43591774,  1173.27489552,  1125.44878045,\n",
       "        1193.80856208,  1137.86755678,  1171.54759729,  1150.29505209,\n",
       "        1265.65468265,  1389.97753195,  1398.77179888,  1555.15233022,\n",
       "        1554.59617114,  1613.30772923,  1754.94256045,  1685.11929847,\n",
       "        2143.81621219,  2132.17618025,  2382.24509465,  2714.67895266,\n",
       "        2405.71627216,  2793.0019557 ,  3288.15564094,  3264.15099067,\n",
       "        3527.22377789,  3529.84694026,  3771.45351382,  4684.29332595,\n",
       "        5660.72567986,  6153.38114662,  6290.01912195,  7527.26169872,\n",
       "        9749.09941386, 11364.29478953, 13353.80153064, 15256.91766051,\n",
       "       16220.32490817, 16437.20271853, 17520.31344948, 18770.60040537,\n",
       "       18039.99954704, 22454.41518818, 27490.49187032, 27582.49453545,\n",
       "       29403.00648388, 32845.26250013, 30194.28954435, 31366.68194577,\n",
       "       29822.81634102, 32364.46860419, 28884.56727124, 35792.43421945,\n",
       "       33593.22801097])"
      ]
     },
     "execution_count": 6,
     "metadata": {},
     "output_type": "execute_result"
    }
   ],
   "source": [
    "# First simulation for the first asset\n",
    "\n",
    "simulations[0,:,0]"
   ]
  },
  {
   "attachments": {},
   "cell_type": "markdown",
   "metadata": {},
   "source": [
    "Compare this code to the one we used above. What's different? What stands out to you? What assumptions did it make? What's up with these numbers?\n",
    "\n",
    "GPT is quite good at creating code that has been done in a lot of places. It has trained on millions of online tutorials and examples. However, you still want to follow the logic and check for errors. **There will be errors.**\n",
    "\n",
    "**You can have a \"dialog\" with GPT.** Look at the code. Is it what you want? You can ask it to change it for you.\n",
    "\n",
    "**What does that leave for us to do?** Use GPT to start sketching your code, do to certain tasks. Figure out what you need. Figure out the questions that you're trying answer. What's the problem that you're trying to solve? Who are you solving it for? What will the answer look like? What will it tell you?\n",
    "\n",
    "Using tools like GPT, Github Co-Pilot, etc. is like having a team of junior programmers working for you. They can make the job easier, but it is still up to you to know what's an interesting question in the first place. **You still need to use your domain expertise and creativity to come up with solutions to problems that aren't in an online Python tutorials.**"
   ]
  },
  {
   "attachments": {},
   "cell_type": "markdown",
   "metadata": {},
   "source": [
    "## Using ChatGPT to Check Our Code\n",
    "\n",
    "Below, I have borrowed some code from our portfolio optimization code. However, there is one small problem, based on one I encountered in class. One of those small, tiny errors that can be so frustrating! Do you see it?"
   ]
  },
  {
   "cell_type": "code",
   "execution_count": 7,
   "metadata": {},
   "outputs": [
    {
     "ename": "AxisError",
     "evalue": "axis -1 is out of bounds for array of dimension 0",
     "output_type": "error",
     "traceback": [
      "\u001b[0;31m---------------------------------------------------------------------------\u001b[0m",
      "\u001b[0;31mAxisError\u001b[0m                                 Traceback (most recent call last)",
      "Input \u001b[0;32mIn [7]\u001b[0m, in \u001b[0;36m<cell line: 36>\u001b[0;34m()\u001b[0m\n\u001b[1;32m     33\u001b[0m \u001b[38;5;28;01mdef\u001b[39;00m \u001b[38;5;21msharpe\u001b[39m(weights):  \n\u001b[1;32m     34\u001b[0m     \u001b[38;5;28;01mreturn\u001b[39;00m port_ret(weights) \u001b[38;5;241m/\u001b[39m port_vol(weights)  \n\u001b[0;32m---> 36\u001b[0m \u001b[43msharpe\u001b[49m\u001b[43m(\u001b[49m\u001b[43mweights\u001b[49m\u001b[43m)\u001b[49m\n",
      "Input \u001b[0;32mIn [7]\u001b[0m, in \u001b[0;36msharpe\u001b[0;34m(weights)\u001b[0m\n\u001b[1;32m     33\u001b[0m \u001b[38;5;28;01mdef\u001b[39;00m \u001b[38;5;21msharpe\u001b[39m(weights):  \n\u001b[0;32m---> 34\u001b[0m     \u001b[38;5;28;01mreturn\u001b[39;00m port_ret(weights) \u001b[38;5;241m/\u001b[39m \u001b[43mport_vol\u001b[49m\u001b[43m(\u001b[49m\u001b[43mweights\u001b[49m\u001b[43m)\u001b[49m\n",
      "Input \u001b[0;32mIn [7]\u001b[0m, in \u001b[0;36mport_vol\u001b[0;34m(weights)\u001b[0m\n\u001b[1;32m     30\u001b[0m \u001b[38;5;28;01mdef\u001b[39;00m \u001b[38;5;21mport_vol\u001b[39m(weights):\n\u001b[0;32m---> 31\u001b[0m     \u001b[38;5;28;01mreturn\u001b[39;00m \u001b[43mnp\u001b[49m\u001b[38;5;241;43m.\u001b[39;49m\u001b[43msort\u001b[49m\u001b[43m(\u001b[49m\u001b[43mnp\u001b[49m\u001b[38;5;241;43m.\u001b[39;49m\u001b[43mdot\u001b[49m\u001b[43m(\u001b[49m\u001b[43mweights\u001b[49m\u001b[38;5;241;43m.\u001b[39;49m\u001b[43mT\u001b[49m\u001b[43m,\u001b[49m\u001b[43m \u001b[49m\u001b[43mnp\u001b[49m\u001b[38;5;241;43m.\u001b[39;49m\u001b[43mdot\u001b[49m\u001b[43m(\u001b[49m\u001b[43mrets\u001b[49m\u001b[38;5;241;43m.\u001b[39;49m\u001b[43mcov\u001b[49m\u001b[43m(\u001b[49m\u001b[43m)\u001b[49m\u001b[43m \u001b[49m\u001b[38;5;241;43m*\u001b[39;49m\u001b[43m \u001b[49m\u001b[38;5;241;43m252\u001b[39;49m\u001b[43m,\u001b[49m\u001b[43m \u001b[49m\u001b[43mweights\u001b[49m\u001b[43m)\u001b[49m\u001b[43m)\u001b[49m\u001b[43m)\u001b[49m\n",
      "File \u001b[0;32m<__array_function__ internals>:180\u001b[0m, in \u001b[0;36msort\u001b[0;34m(*args, **kwargs)\u001b[0m\n",
      "File \u001b[0;32m/opt/anaconda3/lib/python3.9/site-packages/numpy/core/fromnumeric.py:1004\u001b[0m, in \u001b[0;36msort\u001b[0;34m(a, axis, kind, order)\u001b[0m\n\u001b[1;32m   1002\u001b[0m \u001b[38;5;28;01melse\u001b[39;00m:\n\u001b[1;32m   1003\u001b[0m     a \u001b[38;5;241m=\u001b[39m asanyarray(a)\u001b[38;5;241m.\u001b[39mcopy(order\u001b[38;5;241m=\u001b[39m\u001b[38;5;124m\"\u001b[39m\u001b[38;5;124mK\u001b[39m\u001b[38;5;124m\"\u001b[39m)\n\u001b[0;32m-> 1004\u001b[0m \u001b[43ma\u001b[49m\u001b[38;5;241;43m.\u001b[39;49m\u001b[43msort\u001b[49m\u001b[43m(\u001b[49m\u001b[43maxis\u001b[49m\u001b[38;5;241;43m=\u001b[39;49m\u001b[43maxis\u001b[49m\u001b[43m,\u001b[49m\u001b[43m \u001b[49m\u001b[43mkind\u001b[49m\u001b[38;5;241;43m=\u001b[39;49m\u001b[43mkind\u001b[49m\u001b[43m,\u001b[49m\u001b[43m \u001b[49m\u001b[43morder\u001b[49m\u001b[38;5;241;43m=\u001b[39;49m\u001b[43morder\u001b[49m\u001b[43m)\u001b[49m\n\u001b[1;32m   1005\u001b[0m \u001b[38;5;28;01mreturn\u001b[39;00m a\n",
      "\u001b[0;31mAxisError\u001b[0m: axis -1 is out of bounds for array of dimension 0"
     ]
    }
   ],
   "source": [
    "# Read in some eod prices\n",
    "import numpy as np\n",
    "import pandas as pd\n",
    "\n",
    "from pylab import mpl, plt\n",
    "\n",
    "import scipy.optimize as sco\n",
    "\n",
    "raw = pd.read_csv('https://raw.githubusercontent.com/aaiken1/fin-data-analysis-python/main/data/tr_eikon_eod_data.csv',\n",
    "                  index_col=0, parse_dates=True).dropna() \n",
    "\n",
    "symbols = ['AAPL.O', 'MSFT.O', 'SPY', 'GLD'] #two stocks and two ETFs\n",
    "\n",
    "noa = len(symbols) #noa = number of assets\n",
    "\n",
    "data = raw[symbols]\n",
    "\n",
    "rets = data.pct_change().dropna()\n",
    "\n",
    "noa = 4\n",
    "\n",
    "weights = np.random.random(noa)\n",
    "weights /= np.sum(weights)\n",
    "\n",
    "ann_rets = rets.mean() * 252\n",
    "\n",
    "def port_ret(weights):\n",
    "    return np.sum(ann_rets * weights)\n",
    "\n",
    "def port_vol(weights):\n",
    "    return np.sort(np.dot(weights.T, np.dot(rets.cov() * 252, weights)))\n",
    "\n",
    "def sharpe(weights):  \n",
    "    return port_ret(weights) / port_vol(weights)  \n",
    "\n",
    "sharpe(weights)\n"
   ]
  },
  {
   "attachments": {},
   "cell_type": "markdown",
   "metadata": {},
   "source": [
    "Huh... Let's see if ChatGPT can help us out. I'm going to copy and paste the code and ask it to find the mistake. It does!\n",
    "\n",
    "```{figure} ../images/17-gpt-find-error.png\n",
    "---\n",
    "name: 17-gpt-find-error.png\n",
    "align: center\n",
    "class: with-border\n",
    "---\n",
    "You can use ChatGPT to find errors in your code.\n",
    "```"
   ]
  }
 ],
 "metadata": {
  "kernelspec": {
   "display_name": "base",
   "language": "python",
   "name": "python3"
  },
  "language_info": {
   "codemirror_mode": {
    "name": "ipython",
    "version": 3
   },
   "file_extension": ".py",
   "mimetype": "text/x-python",
   "name": "python",
   "nbconvert_exporter": "python",
   "pygments_lexer": "ipython3",
   "version": "3.9.13"
  },
  "vscode": {
   "interpreter": {
    "hash": "40d3a090f54c6569ab1632332b64b2c03c39dcf918b08424e98f38b5ae0af88f"
   }
  }
 },
 "nbformat": 4,
 "nbformat_minor": 2
}