{
 "cells": [
  {
   "attachments": {},
   "cell_type": "markdown",
   "metadata": {},
   "source": [
    "# Using ChatGPT\n",
    "\n",
    "There are now many AI-based tools to help us code. These tools can create code outlines for us, check our own code, write functions, and explain the steps. I'm going to show you a few examples using the free [OpenAI ChapGPT tools](https://chat.openai.com).\n",
    "\n",
    "If you use Github and VS Code, you can sign-up for [CoPilot](https://github.com/features/copilot/). \n",
    "\n",
    "This paper by [Liu, Miller, and Niu (2023)](https://papers.ssrn.com/sol3/papers.cfm?abstract_id=4412371) has some great examples of how to use ChatGPT in a course like this one.\n",
    "\n",
    "## Using GPT to Write a Function For You\n",
    "\n",
    "Let's go back to Chapter 7, where I showed you how to write a function to generate asset paths using **geometric brownian motion**. We used the Nasdaq API to bring in some bitcoin data in that example. Now, I'm going to use ChatGPT to write the same function. I gave GPT4 the following prompt:\n",
    "\n",
    "> Write a function in Python that simulates geometric brownian motion for any number of assets. Create the appropriate inputs as arrays. The inputs should be the number of assets, the mean for each asset, the standard deviation for each asset, the number of periods, the initial value of each asset, and the number of simulations. The output should be an array that contains all of the simulations for each asset. These are uncorrelated assets, so don't worry about covariance.\n",
    "\n",
    "Here's the code that it gave me:"
   ]
  },
  {
   "cell_type": "code",
   "execution_count": 1,
   "metadata": {},
   "outputs": [
    {
     "name": "stdout",
     "output_type": "stream",
     "text": [
      "[[[1.00000000e+02 1.20000000e+02 1.40000000e+02]\n",
      "  [1.11704472e+02 1.13702169e+02 1.40473438e+02]\n",
      "  [1.25315875e+02 1.24607329e+02 1.48077974e+02]\n",
      "  ...\n",
      "  [3.61304352e+04 2.24679501e+04 1.23277522e+06]\n",
      "  [3.66277145e+04 2.11584274e+04 1.39238768e+06]\n",
      "  [3.84220079e+04 2.26633586e+04 1.57662143e+06]]\n",
      "\n",
      " [[1.00000000e+02 1.20000000e+02 1.40000000e+02]\n",
      "  [1.01751304e+02 1.23624771e+02 1.67585270e+02]\n",
      "  [1.05357823e+02 1.34838273e+02 1.43440133e+02]\n",
      "  ...\n",
      "  [8.11587867e+03 3.04844011e+04 3.38115605e+05]\n",
      "  [9.21463242e+03 4.64035546e+04 4.29355383e+05]\n",
      "  [1.00933597e+04 4.94914856e+04 4.78556477e+05]]\n",
      "\n",
      " [[1.00000000e+02 1.20000000e+02 1.40000000e+02]\n",
      "  [1.01443566e+02 1.17233352e+02 1.76301130e+02]\n",
      "  [1.22719534e+02 1.14551822e+02 1.86306910e+02]\n",
      "  ...\n",
      "  [8.52769982e+03 2.47410101e+04 3.49921929e+04]\n",
      "  [8.58299444e+03 2.65518319e+04 4.02416748e+04]\n",
      "  [8.01667086e+03 3.20128493e+04 3.25703011e+04]]\n",
      "\n",
      " ...\n",
      "\n",
      " [[1.00000000e+02 1.20000000e+02 1.40000000e+02]\n",
      "  [9.76594675e+01 1.19047853e+02 1.48696477e+02]\n",
      "  [9.48091645e+01 1.11830473e+02 1.30321299e+02]\n",
      "  ...\n",
      "  [2.85540509e+04 6.92943256e+04 3.96907359e+05]\n",
      "  [2.91684063e+04 7.11062805e+04 4.46075997e+05]\n",
      "  [3.31958996e+04 7.08854786e+04 5.07165680e+05]]\n",
      "\n",
      " [[1.00000000e+02 1.20000000e+02 1.40000000e+02]\n",
      "  [1.18865674e+02 1.36393433e+02 1.38789253e+02]\n",
      "  [1.06924268e+02 1.15957221e+02 1.53783236e+02]\n",
      "  ...\n",
      "  [8.33121108e+03 5.09597532e+04 3.46684080e+05]\n",
      "  [8.46935724e+03 6.00722699e+04 2.98178605e+05]\n",
      "  [1.02724756e+04 6.09024734e+04 2.49435026e+05]]\n",
      "\n",
      " [[1.00000000e+02 1.20000000e+02 1.40000000e+02]\n",
      "  [1.17396848e+02 1.32914679e+02 2.03980717e+02]\n",
      "  [1.22953654e+02 1.58655451e+02 2.07797463e+02]\n",
      "  ...\n",
      "  [1.77499327e+04 1.14025803e+04 9.27898676e+05]\n",
      "  [1.61858539e+04 1.25510433e+04 9.56219647e+05]\n",
      "  [1.38751938e+04 1.48793233e+04 1.05018761e+06]]]\n"
     ]
    }
   ],
   "source": [
    "import numpy as np\n",
    "\n",
    "def geometric_brownian_motion(num_assets, means, std_devs, num_periods, initial_values, num_simulations):\n",
    "    if len(means) != num_assets or len(std_devs) != num_assets or len(initial_values) != num_assets:\n",
    "        raise ValueError(\"The length of means, std_devs, and initial_values should be equal to the number of assets\")\n",
    "\n",
    "    # Initialize an array to store the simulations\n",
    "    simulations = np.zeros((num_simulations, num_periods + 1, num_assets))\n",
    "\n",
    "    # Set the initial values for each simulation\n",
    "    simulations[:, 0, :] = initial_values\n",
    "\n",
    "    # Time step\n",
    "    dt = 1.0\n",
    "\n",
    "    # Loop through each simulation\n",
    "    for sim in range(num_simulations):\n",
    "        # Loop through each time period\n",
    "        for t in range(1, num_periods + 1):\n",
    "            # Loop through each asset\n",
    "            for asset in range(num_assets):\n",
    "                # Generate a random normal value (using mean=0 and std_dev=1) for the brownian motion\n",
    "                random_normal = np.random.normal(0, 1)\n",
    "\n",
    "                # Calculate the change in asset value using geometric brownian motion\n",
    "                change = means[asset] * dt + std_devs[asset] * np.sqrt(dt) * random_normal\n",
    "\n",
    "                # Update the asset value\n",
    "                simulations[sim, t, asset] = simulations[sim, t - 1, asset] * np.exp(change)\n",
    "\n",
    "    return simulations\n",
    "\n",
    "# Example usage\n",
    "num_assets = 3\n",
    "means = np.array([0.05, 0.06, 0.07])\n",
    "std_devs = np.array([0.1, 0.12, 0.14])\n",
    "num_periods = 100\n",
    "initial_values = np.array([100, 120, 140])\n",
    "num_simulations = 1000\n",
    "\n",
    "simulations = geometric_brownian_motion(num_assets, means, std_devs, num_periods, initial_values, num_simulations)\n",
    "print(simulations)"
   ]
  },
  {
   "attachments": {},
   "cell_type": "markdown",
   "metadata": {},
   "source": [
    "Here's the GPT explanation of the code.\n",
    "\n",
    "> This function accepts the following inputs:\n",
    "\n",
    "> num_assets: the number of assets \\\n",
    "means: a NumPy array containing the mean return for each asset \\\n",
    "std_devs: a NumPy array containing the standard deviation of return for each asset \\\n",
    "num_periods: the number of time periods \\\n",
    "initial_values: a NumPy array containing the initial value for each asset \\\n",
    "num_simulations: the number of simulations to run\n",
    "\n",
    "> The function returns a 3D NumPy array containing the simulations for each asset, with dimensions (num_simulations, num_periods + 1, num_assets)."
   ]
  },
  {
   "attachments": {},
   "cell_type": "markdown",
   "metadata": {},
   "source": [
    "Let's look a bit more at the output. I'll get its `.shape` attribute."
   ]
  },
  {
   "cell_type": "code",
   "execution_count": 2,
   "metadata": {},
   "outputs": [
    {
     "data": {
      "text/plain": [
       "numpy.ndarray"
      ]
     },
     "execution_count": 2,
     "metadata": {},
     "output_type": "execute_result"
    }
   ],
   "source": [
    "type(simulations)"
   ]
  },
  {
   "cell_type": "code",
   "execution_count": 3,
   "metadata": {},
   "outputs": [
    {
     "data": {
      "text/plain": [
       "(1000, 101, 3)"
      ]
     },
     "execution_count": 3,
     "metadata": {},
     "output_type": "execute_result"
    }
   ],
   "source": [
    "simulations.shape"
   ]
  },
  {
   "attachments": {},
   "cell_type": "markdown",
   "metadata": {},
   "source": [
    "The output is a **three-dimensional array**. We can pull out all of the simulations for one asset, as well as a single simulation for one asset. Or anything else."
   ]
  },
  {
   "cell_type": "code",
   "execution_count": 4,
   "metadata": {},
   "outputs": [
    {
     "data": {
      "text/plain": [
       "array([[  100.        ,   111.70447157,   125.31587493, ...,\n",
       "        36130.43522685, 36627.71445715, 38422.00785015],\n",
       "       [  100.        ,   101.75130442,   105.3578234 , ...,\n",
       "         8115.87866594,  9214.63241549, 10093.35969579],\n",
       "       [  100.        ,   101.44356554,   122.71953432, ...,\n",
       "         8527.69982467,  8582.99443857,  8016.67085954],\n",
       "       ...,\n",
       "       [  100.        ,    97.65946747,    94.80916449, ...,\n",
       "        28554.05090068, 29168.40633826, 33195.89955805],\n",
       "       [  100.        ,   118.86567352,   106.92426841, ...,\n",
       "         8331.21107504,  8469.35724206, 10272.47559995],\n",
       "       [  100.        ,   117.39684811,   122.95365391, ...,\n",
       "        17749.93266274, 16185.85385407, 13875.19380204]])"
      ]
     },
     "execution_count": 4,
     "metadata": {},
     "output_type": "execute_result"
    }
   ],
   "source": [
    "# All simulations for the first asset.\n",
    "simulations[:,:,0]"
   ]
  },
  {
   "cell_type": "code",
   "execution_count": 5,
   "metadata": {},
   "outputs": [
    {
     "data": {
      "text/plain": [
       "array([[  120.        ,   113.7021686 ,   124.60732933, ...,\n",
       "        22467.95005422, 21158.42737474, 22663.35863347],\n",
       "       [  120.        ,   123.62477059,   134.83827289, ...,\n",
       "        30484.40105514, 46403.5545785 , 49491.4856479 ],\n",
       "       [  120.        ,   117.23335183,   114.55182241, ...,\n",
       "        24741.01006141, 26551.83185877, 32012.84928718],\n",
       "       ...,\n",
       "       [  120.        ,   119.04785268,   111.83047325, ...,\n",
       "        69294.32555117, 71106.28052028, 70885.47857591],\n",
       "       [  120.        ,   136.39343319,   115.9572209 , ...,\n",
       "        50959.75316857, 60072.26985711, 60902.47341718],\n",
       "       [  120.        ,   132.91467901,   158.65545106, ...,\n",
       "        11402.58034843, 12551.04332237, 14879.32330181]])"
      ]
     },
     "execution_count": 5,
     "metadata": {},
     "output_type": "execute_result"
    }
   ],
   "source": [
    "# All simulations for the second asset.\n",
    "simulations[:,:,1]"
   ]
  },
  {
   "cell_type": "code",
   "execution_count": 6,
   "metadata": {},
   "outputs": [
    {
     "data": {
      "text/plain": [
       "array([  100.        ,   111.70447157,   125.31587493,   128.4014336 ,\n",
       "         134.91613448,   138.29621611,   144.90466756,   174.13274323,\n",
       "         201.72479127,   233.93115776,   285.62359256,   270.52047585,\n",
       "         257.12598499,   228.24672172,   255.55728778,   305.89728189,\n",
       "         349.20070032,   359.54039408,   391.92780469,   437.81700059,\n",
       "         468.01045304,   493.91744391,   506.17809039,   579.00357979,\n",
       "         619.38012271,   637.36209936,   648.42985832,   802.65697067,\n",
       "         948.65605069,   997.53039371,   879.91135163,  1100.91056726,\n",
       "        1062.87578295,  1173.16067349,  1295.14685267,  1312.48815767,\n",
       "        1324.45662669,  1384.37509243,  1544.6167266 ,  1450.68802149,\n",
       "        1490.60965065,  1480.65189293,  1521.20103589,  1745.80299762,\n",
       "        2143.72025967,  2083.91224223,  2260.83024673,  2422.44975738,\n",
       "        2252.04725532,  2301.44345451,  2804.22801277,  3060.95032556,\n",
       "        3180.37400008,  3498.95626135,  4194.57694673,  3963.10673995,\n",
       "        4333.37586802,  4208.37028194,  4149.56513223,  3686.60517466,\n",
       "        3704.17731692,  3901.95499706,  4255.11349668,  5073.04438816,\n",
       "        6166.22519754,  6380.08127593,  6985.2028195 ,  7836.88935755,\n",
       "        7981.15021523,  8845.08221965,  7868.86413662,  7705.71791888,\n",
       "        7721.30179732,  7295.24186003,  7216.77543507,  7872.2830244 ,\n",
       "        8750.64022706, 10512.53336179, 11520.66161444, 12497.75246064,\n",
       "       13616.92856677, 16104.97238285, 16357.07233288, 15559.97228468,\n",
       "       19189.87926258, 18734.85141257, 17778.96091415, 19675.9794577 ,\n",
       "       23365.66844048, 27007.41328571, 30395.83151685, 27022.36456863,\n",
       "       27387.88807733, 30167.78334105, 34986.2651077 , 35239.07366568,\n",
       "       36876.62750334, 36889.87170887, 36130.43522685, 36627.71445715,\n",
       "       38422.00785015])"
      ]
     },
     "execution_count": 6,
     "metadata": {},
     "output_type": "execute_result"
    }
   ],
   "source": [
    "# First simulation for the first asset\n",
    "\n",
    "simulations[0,:,0]"
   ]
  },
  {
   "attachments": {},
   "cell_type": "markdown",
   "metadata": {},
   "source": [
    "Compare this code to the one we used above. What's different? What stands out to you? What assumptions did it make? What's up with these numbers?\n",
    "\n",
    "GPT is quite good at creating code that has been done in a lot of places. It has trained on millions of online tutorials and examples. However, you still want to follow the logic and check for errors. **There will be errors.**\n",
    "\n",
    "**You can have a \"dialog\" with GPT.** Look at the code. Is it what you want? You can ask it to change it for you.\n",
    "\n",
    "**What does that leave for us to do?** Use GPT to start sketching your code, do to certain tasks. Figure out what you need. Figure out the questions that you're trying answer. What's the problem that you're trying to solve? Who are you solving it for? What will the answer look like? What will it tell you?\n",
    "\n",
    "Using tools like GPT, Github Co-Pilot, etc. is like having a team of junior programmers working for you. They can make the job easier, but it is still up to you to know what's an interesting question in the first place. **You still need to use your domain expertise and creativity to come up with solutions to problems that aren't in an online Python tutorials.**"
   ]
  },
  {
   "attachments": {},
   "cell_type": "markdown",
   "metadata": {},
   "source": [
    "## Using ChatGPT to Check Our Code\n",
    "\n",
    "Below, I have borrowed some code from our portfolio optimization code. However, there is one small problem, based on one I encountered in class. One of those small, tiny errors that can be so frustrating! Do you see it?"
   ]
  },
  {
   "cell_type": "code",
   "execution_count": 7,
   "metadata": {},
   "outputs": [
    {
     "ename": "AxisError",
     "evalue": "axis -1 is out of bounds for array of dimension 0",
     "output_type": "error",
     "traceback": [
      "\u001b[0;31m---------------------------------------------------------------------------\u001b[0m",
      "\u001b[0;31mAxisError\u001b[0m                                 Traceback (most recent call last)",
      "Input \u001b[0;32mIn [7]\u001b[0m, in \u001b[0;36m<cell line: 36>\u001b[0;34m()\u001b[0m\n\u001b[1;32m     33\u001b[0m \u001b[38;5;28;01mdef\u001b[39;00m \u001b[38;5;21msharpe\u001b[39m(weights):  \n\u001b[1;32m     34\u001b[0m     \u001b[38;5;28;01mreturn\u001b[39;00m port_ret(weights) \u001b[38;5;241m/\u001b[39m port_vol(weights)  \n\u001b[0;32m---> 36\u001b[0m \u001b[43msharpe\u001b[49m\u001b[43m(\u001b[49m\u001b[43mweights\u001b[49m\u001b[43m)\u001b[49m\n",
      "Input \u001b[0;32mIn [7]\u001b[0m, in \u001b[0;36msharpe\u001b[0;34m(weights)\u001b[0m\n\u001b[1;32m     33\u001b[0m \u001b[38;5;28;01mdef\u001b[39;00m \u001b[38;5;21msharpe\u001b[39m(weights):  \n\u001b[0;32m---> 34\u001b[0m     \u001b[38;5;28;01mreturn\u001b[39;00m port_ret(weights) \u001b[38;5;241m/\u001b[39m \u001b[43mport_vol\u001b[49m\u001b[43m(\u001b[49m\u001b[43mweights\u001b[49m\u001b[43m)\u001b[49m\n",
      "Input \u001b[0;32mIn [7]\u001b[0m, in \u001b[0;36mport_vol\u001b[0;34m(weights)\u001b[0m\n\u001b[1;32m     30\u001b[0m \u001b[38;5;28;01mdef\u001b[39;00m \u001b[38;5;21mport_vol\u001b[39m(weights):\n\u001b[0;32m---> 31\u001b[0m     \u001b[38;5;28;01mreturn\u001b[39;00m \u001b[43mnp\u001b[49m\u001b[38;5;241;43m.\u001b[39;49m\u001b[43msort\u001b[49m\u001b[43m(\u001b[49m\u001b[43mnp\u001b[49m\u001b[38;5;241;43m.\u001b[39;49m\u001b[43mdot\u001b[49m\u001b[43m(\u001b[49m\u001b[43mweights\u001b[49m\u001b[38;5;241;43m.\u001b[39;49m\u001b[43mT\u001b[49m\u001b[43m,\u001b[49m\u001b[43m \u001b[49m\u001b[43mnp\u001b[49m\u001b[38;5;241;43m.\u001b[39;49m\u001b[43mdot\u001b[49m\u001b[43m(\u001b[49m\u001b[43mrets\u001b[49m\u001b[38;5;241;43m.\u001b[39;49m\u001b[43mcov\u001b[49m\u001b[43m(\u001b[49m\u001b[43m)\u001b[49m\u001b[43m \u001b[49m\u001b[38;5;241;43m*\u001b[39;49m\u001b[43m \u001b[49m\u001b[38;5;241;43m252\u001b[39;49m\u001b[43m,\u001b[49m\u001b[43m \u001b[49m\u001b[43mweights\u001b[49m\u001b[43m)\u001b[49m\u001b[43m)\u001b[49m\u001b[43m)\u001b[49m\n",
      "File \u001b[0;32m<__array_function__ internals>:180\u001b[0m, in \u001b[0;36msort\u001b[0;34m(*args, **kwargs)\u001b[0m\n",
      "File \u001b[0;32m/opt/anaconda3/lib/python3.9/site-packages/numpy/core/fromnumeric.py:1004\u001b[0m, in \u001b[0;36msort\u001b[0;34m(a, axis, kind, order)\u001b[0m\n\u001b[1;32m   1002\u001b[0m \u001b[38;5;28;01melse\u001b[39;00m:\n\u001b[1;32m   1003\u001b[0m     a \u001b[38;5;241m=\u001b[39m asanyarray(a)\u001b[38;5;241m.\u001b[39mcopy(order\u001b[38;5;241m=\u001b[39m\u001b[38;5;124m\"\u001b[39m\u001b[38;5;124mK\u001b[39m\u001b[38;5;124m\"\u001b[39m)\n\u001b[0;32m-> 1004\u001b[0m \u001b[43ma\u001b[49m\u001b[38;5;241;43m.\u001b[39;49m\u001b[43msort\u001b[49m\u001b[43m(\u001b[49m\u001b[43maxis\u001b[49m\u001b[38;5;241;43m=\u001b[39;49m\u001b[43maxis\u001b[49m\u001b[43m,\u001b[49m\u001b[43m \u001b[49m\u001b[43mkind\u001b[49m\u001b[38;5;241;43m=\u001b[39;49m\u001b[43mkind\u001b[49m\u001b[43m,\u001b[49m\u001b[43m \u001b[49m\u001b[43morder\u001b[49m\u001b[38;5;241;43m=\u001b[39;49m\u001b[43morder\u001b[49m\u001b[43m)\u001b[49m\n\u001b[1;32m   1005\u001b[0m \u001b[38;5;28;01mreturn\u001b[39;00m a\n",
      "\u001b[0;31mAxisError\u001b[0m: axis -1 is out of bounds for array of dimension 0"
     ]
    }
   ],
   "source": [
    "# Read in some eod prices\n",
    "import numpy as np\n",
    "import pandas as pd\n",
    "\n",
    "from pylab import mpl, plt\n",
    "\n",
    "import scipy.optimize as sco\n",
    "\n",
    "raw = pd.read_csv('https://raw.githubusercontent.com/aaiken1/fin-data-analysis-python/main/data/tr_eikon_eod_data.csv',\n",
    "                  index_col=0, parse_dates=True).dropna() \n",
    "\n",
    "symbols = ['AAPL.O', 'MSFT.O', 'SPY', 'GLD'] #two stocks and two ETFs\n",
    "\n",
    "noa = len(symbols) #noa = number of assets\n",
    "\n",
    "data = raw[symbols]\n",
    "\n",
    "rets = data.pct_change().dropna()\n",
    "\n",
    "noa = 4\n",
    "\n",
    "weights = np.random.random(noa)\n",
    "weights /= np.sum(weights)\n",
    "\n",
    "ann_rets = rets.mean() * 252\n",
    "\n",
    "def port_ret(weights):\n",
    "    return np.sum(ann_rets * weights)\n",
    "\n",
    "def port_vol(weights):\n",
    "    return np.sort(np.dot(weights.T, np.dot(rets.cov() * 252, weights)))\n",
    "\n",
    "def sharpe(weights):  \n",
    "    return port_ret(weights) / port_vol(weights)  \n",
    "\n",
    "sharpe(weights)\n"
   ]
  },
  {
   "attachments": {},
   "cell_type": "markdown",
   "metadata": {},
   "source": [
    "Huh... Let's see if ChatGPT can help us out. I'm going to copy and paste the code and ask it to find the mistake. It does!\n",
    "\n",
    "```{figure} ../images/17-gpt-find-error.png\n",
    "---\n",
    "name: 17-gpt-find-error.png\n",
    "align: center\n",
    "class: with-border\n",
    "---\n",
    "You can use ChatGPT to find errors in your code.\n",
    "```"
   ]
  }
 ],
 "metadata": {
  "kernelspec": {
   "display_name": "base",
   "language": "python",
   "name": "python3"
  },
  "language_info": {
   "codemirror_mode": {
    "name": "ipython",
    "version": 3
   },
   "file_extension": ".py",
   "mimetype": "text/x-python",
   "name": "python",
   "nbconvert_exporter": "python",
   "pygments_lexer": "ipython3",
   "version": "3.9.13"
  },
  "vscode": {
   "interpreter": {
    "hash": "40d3a090f54c6569ab1632332b64b2c03c39dcf918b08424e98f38b5ae0af88f"
   }
  }
 },
 "nbformat": 4,
 "nbformat_minor": 2
}