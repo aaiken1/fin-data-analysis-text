{
 "cells": [
  {
   "cell_type": "markdown",
   "metadata": {},
   "source": [
    "# Numpy and arrays\n",
    "\n",
    "It is time for our first Python library! **Chapter 4** of our text covers the [numpy](https://numpy.org) library and `arrays`. Arrays can hold many different values, which you then reference or perform operations on. For example, a **matrix** is a two-dimensional array of numbers. However, arrays themselves can have any number *n* dimensions. \n",
    "\n",
    "Why do we need arrays? Math stuff. Linear algebra. They allow us to perform mathematical operations on numbers, like stock prices and returns. Arrays are also necessary for machine learning, image recognition, and anything else that requires computation. In short, you really can't do much with arrays.\n",
    "\n",
    "You may have already seen [arrays in Exce](https://support.microsoft.com/en-us/office/guidelines-and-examples-of-array-formulas-7d94a64e-3ff3-4686-9372-ecfd5caa57c7)\n",
    "\n",
    "Check out this [DataCamp tutorial on arrays in Python](https://www.datacamp.com/community/tutorials/python-arrays) for more. \n",
    "\n",
    "```{margin} Our textbook calls this numerical computing.\n",
    "Numerical computing and numerical methods are an entire field of computer science and mathematics. \n",
    "```\n",
    "\n",
    "This set of [notes from W3](https://www.w3schools.com/python/numpy/default.asp) is also a good resource.\n",
    "\n",
    "\n",
    "## Chapter Four Highlights\n",
    "\n",
    "| Topic         | Pages  |\n",
    "| :-------------------------------------------------------------------------------------- | :--------- | \n",
    "| **Numpy arrays basics**. Lists and arrays are built-in to Python, but we really want **numpy arrays**. This section covers basic math with them.           | 90 - 97   | \n",
    "| **Reshaping numpy arrays**. Arrays have dimensions, like n x k. How can we change their shape? | 97 - 101    | \n",
    "| **Vectorization**. We saw loops in the last chapter. They can be slow. **Vectorization** is a way of doing loop-like things, but without the speed penalty. | 106 - 110   | "
   ]
  }
 ],
 "metadata": {
  "interpreter": {
   "hash": "b67b392f8c699abfccff34ffff3abf55b26d6520ea7ac337064f990a3d8607af"
  },
  "kernelspec": {
   "display_name": "Python 3.9.7 64-bit ('base': conda)",
   "language": "python",
   "name": "python3"
  },
  "language_info": {
   "name": "python",
   "version": "3.9.7"
  },
  "orig_nbformat": 4
 },
 "nbformat": 4,
 "nbformat_minor": 2
}
