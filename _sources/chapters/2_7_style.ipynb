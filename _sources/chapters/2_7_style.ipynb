{
 "cells": [
  {
   "attachments": {},
   "cell_type": "markdown",
   "metadata": {},
   "source": [
    "# Code Style, PEP8, and Linting\n",
    "\n",
    "As we learn to write code, we want to strive for **readable** code. This means code that is both easy for someone else to read and code that is easy for a **future you** to read!\n",
    "\n",
    "I don't want to overwhelm you with rules right now, but we should be aware of how to format our Python code for readability and consistency. Python programmers like to follow a certain style, called [PEP8](https://pep8.org).\n",
    "\n",
    "PEP8 lays out conventions for indentation, spacing, commenting, naming, line length, etc. Some basics rules to know for now:\n",
    "\n",
    "- Use 4 spaces per indentation level.\n",
    "- Limit you code line length to 79 characters. You can indent onto the next line.\n",
    "- Package imports should be at the top and on separate lines. \n",
    "- Pay attention to how you are naming your variables, functions, etc. Pick a style and be consistent.\n",
    "\n",
    "Here are some other style guides for you. Just keep them handy.\n",
    "\n",
    "<https://realpython.com/python-pep8/>\n",
    "<https://www.datacamp.com/tutorial/pep8-tutorial-python-code>\n",
    "\n",
    "All of this will make sense as we start to code. But, I think it is helpful to be aware that there are conventions before we start. However, don't get too hung up on them at first. They will start to feel natural as we look at examples and write our own.\n",
    "\n",
    "Here's an example of a style guide from the DataCamp tutorial.\n",
    "\n",
    "```{figure} ../images/02-style.png\n",
    "---\n",
    "name: 02-style.png\n",
    "align: center\n",
    "class: with-border\n",
    "---\n",
    "Indentation is important in Python. Improper indentation will lead to syntax errors and your code won't run.\n",
    "``\n",
    "\n",
    "**Comments** are also an important part of readability. We can add comments using `#`. For example,"
   ]
  },
  {
   "cell_type": "code",
   "execution_count": 1,
   "metadata": {},
   "outputs": [
    {
     "name": "stdout",
     "output_type": "stream",
     "text": [
      "Hello World!\n"
     ]
    }
   ],
   "source": [
    "# This prints Hello World!\n",
    "\n",
    "print(\"Hello World!\")"
   ]
  },
  {
   "attachments": {},
   "cell_type": "markdown",
   "metadata": {},
   "source": [
    "Notice the one space after the `#` in the comment. This is part of commenting style in Python."
   ]
  },
  {
   "attachments": {},
   "cell_type": "markdown",
   "metadata": {},
   "source": [
    "## Linting\n",
    "\n",
    "**Linting** refers to not just properly formatted code, but also checking for unintentional errors and issues, such as functions that never get called, missing parentheses, and other \"bugs\".\n",
    "\n",
    "VS code has built-in linting support when you are working in a `.py` file. Note that this is different from working in a Jupyter notebook.\n",
    "\n",
    "<https://code.visualstudio.com/docs/python/linting>"
   ]
  }
 ],
 "metadata": {
  "interpreter": {
   "hash": "b67b392f8c699abfccff34ffff3abf55b26d6520ea7ac337064f990a3d8607af"
  },
  "kernelspec": {
   "display_name": "Python 3.9.7 ('base')",
   "language": "python",
   "name": "python3"
  },
  "language_info": {
   "codemirror_mode": {
    "name": "ipython",
    "version": 3
   },
   "file_extension": ".py",
   "mimetype": "text/x-python",
   "name": "python",
   "nbconvert_exporter": "python",
   "pygments_lexer": "ipython3",
   "version": "3.9.13 (main, Aug 25 2022, 18:29:29) \n[Clang 12.0.0 ]"
  },
  "orig_nbformat": 4
 },
 "nbformat": 4,
 "nbformat_minor": 2
}
