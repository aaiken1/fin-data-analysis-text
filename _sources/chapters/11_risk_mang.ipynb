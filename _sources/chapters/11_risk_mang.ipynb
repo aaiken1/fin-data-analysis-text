{
 "cells": [
  {
   "cell_type": "markdown",
   "metadata": {},
   "source": [
    "# Risk management\n",
    "\n",
    "Risk management is a crucial part of asset management. We need to think about risk when putting together portfolios of stocks and bonds, options and futures, or even portfolios of managers, such as ETFs, mutual funds, and hedge funds. Financial assets all have their own unique risk profiles. For example the chapter on factor models gives you a sense how we can measure risk in equity portfolios. The focus there, though, is on the economic factors that lead to risk. This chapter will focus more on the statistical properties of asset returns.\n",
    "\n",
    "To do this, we'll look at **return distributions** and how to measure them. We sometimes assume that asset returns are **normally distributed**. This is not true in many cases. \n",
    "\n",
    "We'll also learn about other risk measures, like **value-at-risk (VaR)** and **conditional value-at-risk (CVaR)**. All of these topics are covered in our Datacamp assignments, such as *Intro to Portfolio Risk Management in Python* and *Quantitative Risk Management in Python*.\n",
    "\n",
    "Finally, our textbook covers many of these topics. As our author comments on pg. 397,\n",
    "\n",
    "> A large number of important financial models, like modern or mean-variance portfolio theory (MPT) and the capital asset pricing model (CAPM), rest on the assumption that returns of securities are normally distributed. Therefore, this\n",
    "> chapter presents approaches to test a given time series for normality of returns.\n",
    "\n",
    "These topics are covered across a few different chapters. I wish that they covered more.\n",
    "\n",
    "## Textbook Highlights\n",
    "\n",
    "| Topic         | Pages  |\n",
    "| :-------------------------------------------------------------------------------------- | :--------- | \n",
    "| **Normality Tests**. We do we mean by normally distributed? How do we measure this? Why is it important?      | Chapter 13. 399 - 415      | \n",
    "| **Value-at-Risk**. A very common way to look at the overall risk of a portfolio. | Chapter 12. 383 - 388    | "
   ]
  },
  {
   "cell_type": "markdown",
   "metadata": {},
   "source": [
    "## Getting set-up\n",
    "\n",
    "Let's bring in our usual set of stock and ETF prices and make some log returns. "
   ]
  },
  {
   "cell_type": "code",
   "execution_count": 1,
   "metadata": {},
   "outputs": [],
   "source": [
    "# Set-up\n",
    "\n",
    "import numpy as np\n",
    "import pandas as pd\n",
    "import math\n",
    "import scipy.stats as scs\n",
    "import statsmodels.api as sm\n",
    "from pylab import mpl, plt\n",
    "\n",
    "# seaborn\n",
    "import seaborn as sns\n",
    "\n",
    "from scipy.stats import norm\n",
    "\n",
    "import numpy.random as npr  \n",
    "\n",
    "import quantstats as qs\n",
    "\n",
    "import janitor\n",
    "from janitor import clean_names\n",
    "\n",
    "from sstudentt import SST\n",
    "\n",
    "# Keeps warnings from cluttering up our notebook. \n",
    "import warnings\n",
    "warnings.filterwarnings('ignore')\n",
    "\n",
    "# Some plot options that will apply to the whole workbook\n",
    "plt.style.use('seaborn')\n",
    "mpl.rcParams['font.family'] = 'serif'\n",
    "\n",
    "\n",
    "# Read in some eod prices\n",
    "stocks = pd.read_csv('https://raw.githubusercontent.com/aaiken1/fin-data-analysis-python/main/data/tr_eikon_eod_data.csv',\n",
    "                  index_col=0, parse_dates=True)  \n",
    "\n",
    "stocks.dropna(inplace=True)  \n",
    "\n",
    "stocks = clean_names(stocks)\n",
    "\n",
    "rets_log = np.log(stocks / stocks.shift(1))  \n",
    "\n",
    "rets_log.dropna(inplace=True)  \n",
    "\n"
   ]
  },
  {
   "cell_type": "markdown",
   "metadata": {},
   "source": [
    "## Statistical tests for non-normality\n",
    "\n",
    "We've already see some measures for non-normality. \n",
    "\n",
    "- Skewness (b) is a measure of asymmetry\n",
    "- Kurtosis (k) is a measure of heavy-tailedness\n",
    "- Skewness and kurtosis of normal are 0 and 3, respectively. The function used below gives **excess kurtosis**, where we subtract 3 from actual kurtosis.\n",
    "\n",
    "Why do we care about this? When you're trading or forming portfolios of securities, you want to understand how the securities that you own might behave. Will their returns surprise me? How bad is my downside? What's my upside?\n",
    "\n",
    "Of course, this is very difficult to know in practice. But, we can model stock returns and other assets the best we can. We can then, maybe, start to **quantify our risk**. \n",
    "\n",
    "In the code below, `axis = 0` means to calculate our skewness and kurtosis by row. "
   ]
  },
  {
   "cell_type": "code",
   "execution_count": 2,
   "metadata": {},
   "outputs": [
    {
     "data": {
      "text/html": [
       "<div>\n",
       "<style scoped>\n",
       "    .dataframe tbody tr th:only-of-type {\n",
       "        vertical-align: middle;\n",
       "    }\n",
       "\n",
       "    .dataframe tbody tr th {\n",
       "        vertical-align: top;\n",
       "    }\n",
       "\n",
       "    .dataframe thead th {\n",
       "        text-align: right;\n",
       "    }\n",
       "</style>\n",
       "<table border=\"1\" class=\"dataframe\">\n",
       "  <thead>\n",
       "    <tr style=\"text-align: right;\">\n",
       "      <th></th>\n",
       "      <th>aapl_o</th>\n",
       "      <th>msft_o</th>\n",
       "      <th>intc_o</th>\n",
       "      <th>amzn_o</th>\n",
       "      <th>gs_n</th>\n",
       "      <th>spy</th>\n",
       "      <th>_spx</th>\n",
       "      <th>_vix</th>\n",
       "      <th>eur=</th>\n",
       "      <th>xau=</th>\n",
       "      <th>gdx</th>\n",
       "      <th>gld</th>\n",
       "    </tr>\n",
       "  </thead>\n",
       "  <tbody>\n",
       "    <tr>\n",
       "      <th>count</th>\n",
       "      <td>2137.000000</td>\n",
       "      <td>2137.000000</td>\n",
       "      <td>2137.000000</td>\n",
       "      <td>2137.000000</td>\n",
       "      <td>2137.000000</td>\n",
       "      <td>2137.000000</td>\n",
       "      <td>2137.000000</td>\n",
       "      <td>2137.000000</td>\n",
       "      <td>2137.000000</td>\n",
       "      <td>2137.000000</td>\n",
       "      <td>2137.000000</td>\n",
       "      <td>2137.000000</td>\n",
       "    </tr>\n",
       "    <tr>\n",
       "      <th>mean</th>\n",
       "      <td>0.000843</td>\n",
       "      <td>0.000542</td>\n",
       "      <td>0.000406</td>\n",
       "      <td>0.001189</td>\n",
       "      <td>0.000113</td>\n",
       "      <td>0.000408</td>\n",
       "      <td>0.000410</td>\n",
       "      <td>-0.000103</td>\n",
       "      <td>-0.000098</td>\n",
       "      <td>0.000052</td>\n",
       "      <td>-0.000356</td>\n",
       "      <td>0.000036</td>\n",
       "    </tr>\n",
       "    <tr>\n",
       "      <th>std</th>\n",
       "      <td>0.015908</td>\n",
       "      <td>0.014214</td>\n",
       "      <td>0.014909</td>\n",
       "      <td>0.019463</td>\n",
       "      <td>0.016609</td>\n",
       "      <td>0.009331</td>\n",
       "      <td>0.009355</td>\n",
       "      <td>0.077360</td>\n",
       "      <td>0.005931</td>\n",
       "      <td>0.010126</td>\n",
       "      <td>0.023742</td>\n",
       "      <td>0.010198</td>\n",
       "    </tr>\n",
       "    <tr>\n",
       "      <th>min</th>\n",
       "      <td>-0.131875</td>\n",
       "      <td>-0.121033</td>\n",
       "      <td>-0.095432</td>\n",
       "      <td>-0.135325</td>\n",
       "      <td>-0.136863</td>\n",
       "      <td>-0.067341</td>\n",
       "      <td>-0.068958</td>\n",
       "      <td>-0.350588</td>\n",
       "      <td>-0.026531</td>\n",
       "      <td>-0.088787</td>\n",
       "      <td>-0.113900</td>\n",
       "      <td>-0.091905</td>\n",
       "    </tr>\n",
       "    <tr>\n",
       "      <th>25%</th>\n",
       "      <td>-0.006907</td>\n",
       "      <td>-0.006768</td>\n",
       "      <td>-0.007765</td>\n",
       "      <td>-0.008254</td>\n",
       "      <td>-0.008340</td>\n",
       "      <td>-0.003424</td>\n",
       "      <td>-0.003326</td>\n",
       "      <td>-0.041878</td>\n",
       "      <td>-0.003588</td>\n",
       "      <td>-0.005048</td>\n",
       "      <td>-0.013647</td>\n",
       "      <td>-0.005097</td>\n",
       "    </tr>\n",
       "    <tr>\n",
       "      <th>50%</th>\n",
       "      <td>0.000666</td>\n",
       "      <td>0.000308</td>\n",
       "      <td>0.000569</td>\n",
       "      <td>0.000974</td>\n",
       "      <td>0.000422</td>\n",
       "      <td>0.000580</td>\n",
       "      <td>0.000559</td>\n",
       "      <td>-0.005233</td>\n",
       "      <td>0.000077</td>\n",
       "      <td>0.000232</td>\n",
       "      <td>-0.000220</td>\n",
       "      <td>0.000343</td>\n",
       "    </tr>\n",
       "    <tr>\n",
       "      <th>75%</th>\n",
       "      <td>0.009551</td>\n",
       "      <td>0.007865</td>\n",
       "      <td>0.008445</td>\n",
       "      <td>0.011636</td>\n",
       "      <td>0.009041</td>\n",
       "      <td>0.005058</td>\n",
       "      <td>0.004995</td>\n",
       "      <td>0.035181</td>\n",
       "      <td>0.003254</td>\n",
       "      <td>0.005426</td>\n",
       "      <td>0.013026</td>\n",
       "      <td>0.005303</td>\n",
       "    </tr>\n",
       "    <tr>\n",
       "      <th>max</th>\n",
       "      <td>0.085022</td>\n",
       "      <td>0.099413</td>\n",
       "      <td>0.100315</td>\n",
       "      <td>0.146225</td>\n",
       "      <td>0.090485</td>\n",
       "      <td>0.045450</td>\n",
       "      <td>0.046317</td>\n",
       "      <td>0.768245</td>\n",
       "      <td>0.030352</td>\n",
       "      <td>0.046867</td>\n",
       "      <td>0.106546</td>\n",
       "      <td>0.047953</td>\n",
       "    </tr>\n",
       "  </tbody>\n",
       "</table>\n",
       "</div>"
      ],
      "text/plain": [
       "            aapl_o       msft_o       intc_o       amzn_o         gs_n  \\\n",
       "count  2137.000000  2137.000000  2137.000000  2137.000000  2137.000000   \n",
       "mean      0.000843     0.000542     0.000406     0.001189     0.000113   \n",
       "std       0.015908     0.014214     0.014909     0.019463     0.016609   \n",
       "min      -0.131875    -0.121033    -0.095432    -0.135325    -0.136863   \n",
       "25%      -0.006907    -0.006768    -0.007765    -0.008254    -0.008340   \n",
       "50%       0.000666     0.000308     0.000569     0.000974     0.000422   \n",
       "75%       0.009551     0.007865     0.008445     0.011636     0.009041   \n",
       "max       0.085022     0.099413     0.100315     0.146225     0.090485   \n",
       "\n",
       "               spy         _spx         _vix         eur=         xau=  \\\n",
       "count  2137.000000  2137.000000  2137.000000  2137.000000  2137.000000   \n",
       "mean      0.000408     0.000410    -0.000103    -0.000098     0.000052   \n",
       "std       0.009331     0.009355     0.077360     0.005931     0.010126   \n",
       "min      -0.067341    -0.068958    -0.350588    -0.026531    -0.088787   \n",
       "25%      -0.003424    -0.003326    -0.041878    -0.003588    -0.005048   \n",
       "50%       0.000580     0.000559    -0.005233     0.000077     0.000232   \n",
       "75%       0.005058     0.004995     0.035181     0.003254     0.005426   \n",
       "max       0.045450     0.046317     0.768245     0.030352     0.046867   \n",
       "\n",
       "               gdx          gld  \n",
       "count  2137.000000  2137.000000  \n",
       "mean     -0.000356     0.000036  \n",
       "std       0.023742     0.010198  \n",
       "min      -0.113900    -0.091905  \n",
       "25%      -0.013647    -0.005097  \n",
       "50%      -0.000220     0.000343  \n",
       "75%       0.013026     0.005303  \n",
       "max       0.106546     0.047953  "
      ]
     },
     "execution_count": 2,
     "metadata": {},
     "output_type": "execute_result"
    }
   ],
   "source": [
    "rets_log.describe()"
   ]
  },
  {
   "cell_type": "code",
   "execution_count": 3,
   "metadata": {},
   "outputs": [
    {
     "data": {
      "text/plain": [
       "aapl_o   -0.235263\n",
       "msft_o   -0.091231\n",
       "intc_o    0.096828\n",
       "amzn_o    0.181703\n",
       "gs_n     -0.549177\n",
       "spy      -0.522260\n",
       "_spx     -0.514292\n",
       "_vix      1.127393\n",
       "eur=     -0.052486\n",
       "xau=     -0.596764\n",
       "gdx      -0.090202\n",
       "gld      -0.599760\n",
       "dtype: float64"
      ]
     },
     "execution_count": 3,
     "metadata": {},
     "output_type": "execute_result"
    }
   ],
   "source": [
    "rets_log.skew(axis = 0)"
   ]
  },
  {
   "cell_type": "code",
   "execution_count": 4,
   "metadata": {},
   "outputs": [
    {
     "data": {
      "text/plain": [
       "aapl_o    4.803682\n",
       "msft_o    7.310963\n",
       "intc_o    3.928818\n",
       "amzn_o    8.017345\n",
       "gs_n      5.227209\n",
       "spy       4.537738\n",
       "_spx      4.705455\n",
       "_vix      7.596355\n",
       "eur=      1.521719\n",
       "xau=      5.387749\n",
       "gdx       1.582735\n",
       "gld       5.700361\n",
       "dtype: float64"
      ]
     },
     "execution_count": 4,
     "metadata": {},
     "output_type": "execute_result"
    }
   ],
   "source": [
    "rets_log.kurtosis(axis = 0)"
   ]
  },
  {
   "cell_type": "markdown",
   "metadata": {},
   "source": [
    "\n",
    "Looks like Amazon (AMZN) has the \"fattest tails\". The VIX as the next highest excess kurtosis. \n",
    "\n",
    "But, how do you perform a statistical test for normality? In other words, we can measure skewness and kurtosis, but how can know if it is **statistically different** from a normal distribution?\n",
    "\n",
    "There are several different statistical tests for this. Let's start with the **Shapiro-Wilk** test. The null hypothesis of the Shapiro-Wilk test is that the data are normally distributed. For fun, let's start by creating 100 random numbers from a normal distribution and see what this test tells us. We are using `scs.shapiro()`.\n",
    "\n",
    "This gives us a **formal test**, rather than just a graph, for asymmetrical distributions and/or heavy tails.\n",
    "\n",
    "You can read more about the actual statistics [here](https://en.wikipedia.org/wiki/Shapiro–Wilk_test).\n"
   ]
  },
  {
   "cell_type": "code",
   "execution_count": 5,
   "metadata": {},
   "outputs": [
    {
     "data": {
      "text/plain": [
       "ShapiroResult(statistic=0.9920758008956909, pvalue=0.8266890048980713)"
      ]
     },
     "execution_count": 5,
     "metadata": {},
     "output_type": "execute_result"
    }
   ],
   "source": [
    "from numpy.random import seed\n",
    "from numpy.random import randn\n",
    "\n",
    "#set seed (e.g. make this example reproducible)\n",
    "seed(23)\n",
    "\n",
    "#generate dataset of 100 random values that follow a standard normal distribution\n",
    "data = randn(100)\n",
    "\n",
    "scs.shapiro(data)"
   ]
  },
  {
   "cell_type": "markdown",
   "metadata": {},
   "source": [
    "See that p-value? As a general rule, we're looking for a value less than 0.10 or 0.05 in order to \"reject\" the null hypothesis that the data are normally distributed. Good thing we can't reject that hypothesis here! we know that the data are from the normal distribution. \n",
    "\n",
    "The analogy that I always use: distributions are hats that contain numbers. We can pull numbers out of that hat. If we pull enough numbers, we'll get the underlying distribution that is generating the values in our hat. There are many different types of distributions!\n",
    "\n",
    "Now, let's look at our actual returns. We need to pull out the returns, one column at a time, for the `scs.shapiro()` function. So, we'll look at Apple."
   ]
  },
  {
   "cell_type": "code",
   "execution_count": 6,
   "metadata": {},
   "outputs": [
    {
     "data": {
      "text/plain": [
       "ShapiroResult(statistic=0.9554498195648193, pvalue=4.830270264454251e-25)"
      ]
     },
     "execution_count": 6,
     "metadata": {},
     "output_type": "execute_result"
    }
   ],
   "source": [
    "scs.shapiro(rets_log['aapl_o'])"
   ]
  },
  {
   "cell_type": "markdown",
   "metadata": {},
   "source": [
    "Yeah, that's not a normal distribution! Let's look at things graphically, using material from the financial time series chapter. I have overlayed normal distribution that has the same mean and standard deviation as Apple's returns. So, any differences are being caused by skewness and kurtosis. "
   ]
  },
  {
   "cell_type": "code",
   "execution_count": 7,
   "metadata": {},
   "outputs": [
    {
     "data": {
      "text/plain": [
       "<AxesSubplot:xlabel='aapl_o'>"
      ]
     },
     "execution_count": 7,
     "metadata": {},
     "output_type": "execute_result"
    },
    {
     "data": {
      "image/png": "[encoded data removed]",
      "text/plain": [
       "<Figure size 576x396 with 1 Axes>"
      ]
     },
     "metadata": {},
     "output_type": "display_data"
    }
   ],
   "source": [
    "sns.distplot(rets_log['aapl_o'], fit=norm, kde=False)"
   ]
  },
  {
   "cell_type": "markdown",
   "metadata": {},
   "source": [
    "You can see how Apple's daily returns are **not normally distributed**. There are too many observations in the middle (i.e. lots of small daily returns), not enough observations in the middle ranges (i.e. the normal distribution curve is above the histogram), and too many extreme observations in the tail. "
   ]
  },
  {
   "cell_type": "markdown",
   "metadata": {},
   "source": [
    "There's also the **Jarque-Bera test**, which gets at the same thing. This test compares the skewness and kurtosis of your data with theoretical normal values (0 and 3). You can read more [here](https://en.wikipedia.org/wiki/Jarque–Bera_test)."
   ]
  },
  {
   "cell_type": "code",
   "execution_count": 8,
   "metadata": {},
   "outputs": [
    {
     "data": {
      "text/plain": [
       "Jarque_beraResult(statistic=2062.363018375023, pvalue=0.0)"
      ]
     },
     "execution_count": 8,
     "metadata": {},
     "output_type": "execute_result"
    }
   ],
   "source": [
    "scs.jarque_bera(rets_log['aapl_o'])"
   ]
  },
  {
   "cell_type": "markdown",
   "metadata": {},
   "source": [
    "We again look at the p-value and can reject the null hypothesis that Apple's returns are normally distributed."
   ]
  },
  {
   "cell_type": "markdown",
   "metadata": {},
   "source": [
    "Finally, we have the **Anderson-Darling test**. You can read more about it [here](https://en.wikipedia.org/wiki/Anderson–Darling_test)."
   ]
  },
  {
   "cell_type": "code",
   "execution_count": 9,
   "metadata": {},
   "outputs": [
    {
     "data": {
      "text/plain": [
       "AndersonResult(statistic=16.873944813207345, critical_values=array([0.575, 0.655, 0.786, 0.916, 1.09 ]), significance_level=array([15. , 10. ,  5. ,  2.5,  1. ]))"
      ]
     },
     "execution_count": 9,
     "metadata": {},
     "output_type": "execute_result"
    }
   ],
   "source": [
    "scs.anderson(rets_log['aapl_o'])"
   ]
  },
  {
   "cell_type": "markdown",
   "metadata": {},
   "source": [
    "These results look a bit different, but are conceptually similar. The test statistic is 16.87. If we want a 1% significance-level, we compare that to 1.09. Since the test statistic is greater than the critical value of 1.09 at a 1% significance-level, we can reject the null hypothesis that the data are normally distributed."
   ]
  },
  {
   "cell_type": "markdown",
   "metadata": {},
   "source": [
    "We we can also use something called a **qq-plot** to visualize how a set of returns compares the the theoretical normal distribution. I'm using `sm.qqplot` to make the graph."
   ]
  },
  {
   "cell_type": "code",
   "execution_count": 10,
   "metadata": {},
   "outputs": [
    {
     "data": {
      "image/png": "[encoded data removed]",
      "text/plain": [
       "<Figure size 576x396 with 1 Axes>"
      ]
     },
     "metadata": {},
     "output_type": "display_data"
    }
   ],
   "source": [
    "sm.qqplot(rets_log['aapl_o'], line='s')\n",
    "plt.xlabel('theoretical quantiles')\n",
    "plt.ylabel('sample quantiles');"
   ]
  },
  {
   "cell_type": "markdown",
   "metadata": {},
   "source": [
    "Where the blue deviates from the red, we are seeing more extreme values than the normal distribution would predict. In other words, **excess kurtosis**."
   ]
  },
  {
   "cell_type": "markdown",
   "metadata": {},
   "source": [
    "## Fitting different distributions\n",
    "\n",
    "There are a lot of different types of distributions for different types of data. In finance, we often assume that the real data that we're observing, like stock returns, comes from a certain type of distribution. Here are some examples: the Standard Normal, the Normal, a Chi Square, and a Poisson. Note how a Poisson distribution is useful for discrete, counting data. \n"
   ]
  },
  {
   "cell_type": "code",
   "execution_count": 11,
   "metadata": {},
   "outputs": [],
   "source": [
    "sample_size = 500\n",
    "rn1 = npr.standard_normal(sample_size)  \n",
    "rn2 = npr.normal(100, 20, sample_size)  \n",
    "rn3 = npr.chisquare(df=0.5, size=sample_size)  \n",
    "rn4 = npr.poisson(lam=1.0, size=sample_size)  "
   ]
  },
  {
   "cell_type": "code",
   "execution_count": 12,
   "metadata": {},
   "outputs": [
    {
     "data": {
      "image/png": "[encoded data removed]",
      "text/plain": [
       "<Figure size 720x576 with 4 Axes>"
      ]
     },
     "metadata": {},
     "output_type": "display_data"
    }
   ],
   "source": [
    "fig, ((ax1, ax2), (ax3, ax4)) = plt.subplots(nrows=2, ncols=2,\n",
    "                                             figsize=(10, 8))\n",
    "ax1.hist(rn1, bins=25)\n",
    "ax1.set_title('standard normal')\n",
    "ax1.set_ylabel('frequency')\n",
    "ax2.hist(rn2, bins=25)\n",
    "ax2.set_title('normal(100, 20)')\n",
    "ax3.hist(rn3, bins=25)\n",
    "ax3.set_title('chi square')\n",
    "ax3.set_ylabel('frequency')\n",
    "ax4.hist(rn4, bins=25)\n",
    "ax4.set_title('Poisson');"
   ]
  },
  {
   "cell_type": "markdown",
   "metadata": {},
   "source": [
    "Some distributions to a better job than others describing real financial data. One distribution that we commonly see is called the $t$-distribution. This distribution has \"fatter\" tails than a normal distribution with smaller sample sizes, so it can better match what we actually observe. You can read more [here](https://www.investopedia.com/terms/t/tdistribution.asp). \n",
    "\n",
    "We can use the `scipy.stats` library to find functions that take data and **fit a particular distribution** to it. What does this mean? Remember how a normal distribution is described completely by the mean and standard deviation of your data? In other words, if you know the mean and standard deviation, then you can draw that normal bell curve? That's what I did in the Apple return histogram above.\n"
   ]
  },
  {
   "cell_type": "code",
   "execution_count": 13,
   "metadata": {},
   "outputs": [
    {
     "data": {
      "text/plain": [
       "(0.0008426947352013821, 0.015904383367899087)"
      ]
     },
     "execution_count": 13,
     "metadata": {},
     "output_type": "execute_result"
    }
   ],
   "source": [
    "n_params = scs.norm.fit(rets_log['aapl_o'])\n",
    "n_params"
   ]
  },
  {
   "cell_type": "markdown",
   "metadata": {},
   "source": [
    "Look back at the descriptives up above. I have fit a normal distribution to Apple and the function gave me the two necessary parameters to draw the distribution. They are the mean and standard deviation of Apple's returns.\n",
    "I can take that mean and standard deviation and create a normal distribution that would describe Apple's daily returns **if they were normally distributed**. We know that they are not.\n",
    "\n",
    "We can use `norm.pdf` to create the **probability distribution function**, or pdf, for a normal distribution with that mean and standard deviation. I first create an array *x*, that has numbers from -0.05 to 0.05 in 0.0005 increments. `norm.pdf` is taking a value from the array *x* and saying \"What is the corresponding y-value, given the mean and standard deviation of this distribution?\" A larger y-value means that the particular x-value is more likely. \n",
    "\n",
    "Note how the middle of the distribution is just slightly above zero. That's the mean daily return."
   ]
  },
  {
   "cell_type": "code",
   "execution_count": 14,
   "metadata": {},
   "outputs": [
    {
     "data": {
      "image/png": "[encoded data removed]",
      "text/plain": [
       "<Figure size 576x396 with 1 Axes>"
      ]
     },
     "metadata": {},
     "output_type": "display_data"
    }
   ],
   "source": [
    "#x-axis ranges from -.05 and .05 with .0005 steps\n",
    "x = np.arange(-.05, .05, 0.0005)\n",
    "\n",
    "#plot normal distribution with Apple's mean and standard deviation from the fitted normal distribution\n",
    "plt.plot(x, norm.pdf(x, n_params[0], n_params[1]));"
   ]
  },
  {
   "cell_type": "markdown",
   "metadata": {},
   "source": [
    "\n",
    "We can do the same thing for a $t$-distribution. These are also bell-shaped, but with heavier tails. Kind of like stock returns."
   ]
  },
  {
   "cell_type": "code",
   "execution_count": 15,
   "metadata": {},
   "outputs": [
    {
     "data": {
      "text/plain": [
       "(3.8903663979713157, 0.0009572226500936301, 0.011356044925912068)"
      ]
     },
     "execution_count": 15,
     "metadata": {},
     "output_type": "execute_result"
    }
   ],
   "source": [
    "t_params = scs.t.fit(rets_log['aapl_o']);\n",
    "t_params"
   ]
  },
  {
   "cell_type": "markdown",
   "metadata": {},
   "source": [
    "Here I have three parameters. The first is the **degrees-of-freedom** (df), which describes how heavy the tails are. The other two paramters are called **loc** and **scale**, respectively. As df grows larger, the distribution will approach the normal distribution.\n",
    "\n",
    "I can again use the parameters for the distribution to create the probability distribution function. "
   ]
  },
  {
   "cell_type": "code",
   "execution_count": 16,
   "metadata": {},
   "outputs": [
    {
     "data": {
      "image/png": "[encoded data removed]",
      "text/plain": [
       "<Figure size 576x396 with 1 Axes>"
      ]
     },
     "metadata": {},
     "output_type": "display_data"
    }
   ],
   "source": [
    "plt.plot(x, scs.t.pdf(x, t_params[0], t_params[1], t_params[2]));"
   ]
  },
  {
   "cell_type": "markdown",
   "metadata": {},
   "source": [
    "We can plot both distributions on top of each other to see the difference. Remember, both of these are created using **actual Apple daily returns**. Which one looks more like the histogram of actual returns?"
   ]
  },
  {
   "cell_type": "code",
   "execution_count": 17,
   "metadata": {},
   "outputs": [
    {
     "data": {
      "image/png": "[encoded data removed]",
      "text/plain": [
       "<Figure size 576x396 with 1 Axes>"
      ]
     },
     "metadata": {},
     "output_type": "display_data"
    }
   ],
   "source": [
    "x = np.arange(-0.05, 0.05, 0.0005)\n",
    "\n",
    "p1 = norm.pdf(x, n_params[0], n_params[1])\n",
    "p2 = scs.t.pdf(x, t_params[0], t_params[1], t_params[2])\n",
    "\n",
    "plt.plot(x, p1, color='r', label='normal')\n",
    "plt.plot(x, p2, color='b', label='t')\n",
    "\n",
    "plt.legend();\n"
   ]
  },
  {
   "cell_type": "markdown",
   "metadata": {},
   "source": [
    "## Risk management and tail risk\n",
    "\n",
    "We can use these ideas of distributions to think about **risk management**. **Tail risk** is the risk of extreme investment outcomes, most notably on the negative side of a distribution. Our various Datacamp lectures cover different measures of tail risk, including historical drawdown, Value-at-Risk (VaR), Conditional Value-at-Risk (also called Expected Shortfall), and some basic Monte Carlo simulations. The text also discusses VaR and Monte Carlo."
   ]
  },
  {
   "cell_type": "markdown",
   "metadata": {},
   "source": [
    "\n",
    "\n",
    "### Value at Risk\n",
    "\n",
    "Value-at-Risk, or VaR, is a threshold with a given confidence level that losses will not (or more accurately, will not historically) exceed a certain level. VaR is commonly quoted with\n",
    "quantiles such as 95, 99, and 99.9. Some key points:\n",
    "\n",
    "- Consider the distribution of losses over a fixed time period (day, week, etc.)\n",
    "- $\\alpha$-VaR is the 𝛼-quantile of the loss distribution\n",
    "- $\\alpha$- known as confidence level (e.g. 95%, 99%)\n",
    "- Should lose no more than $\\alpha$--VaR with probability $\\alpha$\n",
    "\n",
    "In its most general form, VaR measures the potential loss in value of a risky asset or portfolio over a defined period for a given confidence interval. Thus, if the VaR on an asset is $100 million at a one-week, 95% confidence level, there is a only a 5% chance that the value of the asset will drop more than $100 million over any given week.\n",
    "\n",
    "In 1995, J.P. Morgan provided public access to data on the variances of and covariances across various security and asset classes, that it had used internally for almost a decade to manage risk, and allowed software makers to develop software to measure risk. It titled the service “RiskMetrics” and used the term “Value-at-Risk” to describe the risk measure that emerged from the data. Now, software like Bloomberg lets you easily calculate various VaR-like measures for your portfolio.\n",
    "\n",
    "We can put some simple numbers on these ideas. We'll start with **parametric VaR**. This means making assumptions about the distribution of our returns. Let’s assume that our portfolio returns are normally distributed. If you move 1.65 standard deviations away from the mean, then 5% of your return observations are to your left. This return is your 5% VaR. Given our assumptions, on 5% of days, you lose at least this amount. To find the 99% VaR, you would move 2.326 standard deviations from the mean.\n",
    "\n",
    "For example, we can use our 1-$\\alpha$ threshold and the `norm.ppf` function to find how many standard deviations away from the mean in a normal distribution we have to move to have 1-$\\alpha$ observations to the left of that point.\n"
   ]
  },
  {
   "cell_type": "code",
   "execution_count": 18,
   "metadata": {},
   "outputs": [
    {
     "data": {
      "text/plain": [
       "-1.6448536269514729"
      ]
     },
     "execution_count": 18,
     "metadata": {},
     "output_type": "execute_result"
    }
   ],
   "source": [
    "z = norm.ppf(0.05)\n",
    "z"
   ]
  },
  {
   "cell_type": "markdown",
   "metadata": {},
   "source": [
    "There's our 1.65. We can then easily find our VaR, assuming that Apple's returns are normally distributed."
   ]
  },
  {
   "cell_type": "code",
   "execution_count": 19,
   "metadata": {},
   "outputs": [
    {
     "data": {
      "text/plain": [
       "0.025323810900439656"
      ]
     },
     "execution_count": 19,
     "metadata": {},
     "output_type": "execute_result"
    }
   ],
   "source": [
    "-(rets_log['aapl_o'].mean() + z*rets_log['aapl_o'].std())"
   ]
  },
  {
   "cell_type": "markdown",
   "metadata": {},
   "source": [
    "VaR is usually given as a positive number, so I put a negative sign out in front. This is saying that you would expect to lose at least 2.5% on Apple on any given day 5% of the time. Again, assuming that Apple's returns are normally distributed, which they are not!\n",
    "\n",
    "Here's another example of parametric VaR using code from Datacamp. We'll again use the 95% threshold, so $\\alpha$ is 5%. "
   ]
  },
  {
   "cell_type": "code",
   "execution_count": 20,
   "metadata": {},
   "outputs": [
    {
     "data": {
      "text/plain": [
       "0.02531768793191412"
      ]
     },
     "execution_count": 20,
     "metadata": {},
     "output_type": "execute_result"
    }
   ],
   "source": [
    "mu = np.mean(rets_log['aapl_o'])\n",
    "std = np.std(rets_log['aapl_o'])\n",
    "confidence_level = 0.05\n",
    "VaR_95 = norm.ppf(confidence_level, mu, std)\n",
    "-VaR_95"
   ]
  },
  {
   "cell_type": "markdown",
   "metadata": {},
   "source": [
    "This time, `norm.ppf` is moving to the left in a normal distribution with Apple's mean and standard deviation, so that 5% of the observations are to the left of the point and 95% are to the right. It is then telling us the return that lies at this point. The differences are due to rounding.\n",
    "\n",
    "Let's plot the VaR on the normal distribution that we fit with Apple's returns.\n"
   ]
  },
  {
   "cell_type": "code",
   "execution_count": 21,
   "metadata": {},
   "outputs": [
    {
     "data": {
      "image/png": "[encoded data removed]",
      "text/plain": [
       "<Figure size 576x396 with 1 Axes>"
      ]
     },
     "metadata": {},
     "output_type": "display_data"
    }
   ],
   "source": [
    "plt.plot(x, norm.pdf(x, n_params[0], n_params[1]))\n",
    "plt.axvline(x = VaR_95, c='r', label = \"VaR at 95% Confidence Level\")\n",
    "plt.legend();"
   ]
  },
  {
   "cell_type": "markdown",
   "metadata": {},
   "source": [
    "\n",
    "As the Datacamp notes, we can scale VaR with the square root of time. So, a daily VaR can be converted into a weekly VaR."
   ]
  },
  {
   "cell_type": "code",
   "execution_count": 22,
   "metadata": {},
   "outputs": [
    {
     "ename": "NameError",
     "evalue": "name 'VaR' is not defined",
     "output_type": "error",
     "traceback": [
      "\u001b[0;31m---------------------------------------------------------------------------\u001b[0m",
      "\u001b[0;31mNameError\u001b[0m                                 Traceback (most recent call last)",
      "\u001b[0;32m/var/folders/sm/f4lq92s11392x68kwf0scq3w0000gn/T/ipykernel_48662/3165501872.py\u001b[0m in \u001b[0;36m<module>\u001b[0;34m\u001b[0m\n\u001b[0;32m----> 1\u001b[0;31m \u001b[0;34m-\u001b[0m\u001b[0mVaR\u001b[0m\u001b[0;34m*\u001b[0m\u001b[0mnp\u001b[0m\u001b[0;34m.\u001b[0m\u001b[0msqrt\u001b[0m\u001b[0;34m(\u001b[0m\u001b[0;36m5\u001b[0m\u001b[0;34m)\u001b[0m\u001b[0;34m\u001b[0m\u001b[0;34m\u001b[0m\u001b[0m\n\u001b[0m",
      "\u001b[0;31mNameError\u001b[0m: name 'VaR' is not defined"
     ]
    }
   ],
   "source": [
    "-VaR_95*np.sqrt(5)"
   ]
  },
  {
   "cell_type": "markdown",
   "metadata": {},
   "source": [
    "\n",
    "We can also calculate something called **non-parametric VaR**. A simple way to estimate VaR is to line up past returns, sort them by magnitude, and find a return that has 5% worse days and 95% better days. This is one way to find the 95% VaR, since, if history repeats itself, you will lose less than this number with 95% certainty. So, we are still using history as our guide, but without a distributional assumption like normality.\n",
    "\n",
    "Here's an example from our textbook that shows this VaR for different confidence levels using just Apple's historical returns.\n"
   ]
  },
  {
   "cell_type": "code",
   "execution_count": null,
   "metadata": {},
   "outputs": [],
   "source": [
    "percs = [0.01, 0.1, 1., 2.5, 5.0, 10.0]\n",
    "var = scs.scoreatpercentile(rets_log['aapl_o'], percs)\n",
    "print('%16s %16s' % ('Confidence Level', 'Value-at-Risk'))\n",
    "print(33 * '-')\n",
    "for pair in zip(percs, var):\n",
    "    print('%16.2f %16.3f' % (100 - pair[0], -pair[1]))"
   ]
  },
  {
   "cell_type": "markdown",
   "metadata": {},
   "source": [
    "So, 1% of the time, or 1 out of every 100 days, we would expect to lose **at least** 4.3%. That **at least** is really important.\n",
    "\n",
    "Here's some other code that does the same thing. I got this from the Datacamp."
   ]
  },
  {
   "cell_type": "code",
   "execution_count": null,
   "metadata": {},
   "outputs": [],
   "source": [
    "var_level = 99\n",
    "var_99 = np.percentile(rets_log['aapl_o'], 100 - var_level)\n",
    "-var_99"
   ]
  },
  {
   "cell_type": "markdown",
   "metadata": {},
   "source": [
    "There's that 4.3% again.\n",
    "\n",
    "We can also plot the histogram of Apple's returns with the non-parametric VaR."
   ]
  },
  {
   "cell_type": "code",
   "execution_count": null,
   "metadata": {},
   "outputs": [],
   "source": [
    "plt.hist(rets_log['aapl_o'], bins = 100)\n",
    "plt.axvline(x = var_99, c='r', label = \"VaR at 99% Confidence Level\")\n",
    "plt.legend();"
   ]
  },
  {
   "cell_type": "markdown",
   "metadata": {},
   "source": [
    "### Conditional VaR\n",
    "\n",
    "Conditional Value at Risk, or CVaR, is an estimate of **expected losses** sustained in the worst 1 - $\\alpha$% of scenarios. CVaR is also commonly quoted\n",
    "with quantiles such as 95, 99, and 99.9.\n",
    "\n",
    "- You will also see it called Tail VaR (TVaR), or **expected shortfall (ES)**\n",
    "- $\\alpha$-ES is expected loss **given** that loss exceeds $\\alpha$-VaR\n",
    "- This is the **expected** (or average) loss on a really bad day. It takes into account the returns to the left of the VaR, so it will exceed it.\n",
    "\n",
    "Note that ES > VaR. This is the **expected return** on a bad day, so it is the average of all of the returns to the left of the 1-$\\alpha$% VaR return.\n",
    "\n",
    "Here's an example, using code from Datacamp, for a 99% CVaR using Apple's returns."
   ]
  },
  {
   "cell_type": "code",
   "execution_count": null,
   "metadata": {},
   "outputs": [],
   "source": [
    "var_level = 99\n",
    "var_99 = np.percentile(rets_log['aapl_o'], 100 - var_level)\n",
    "cvar_99 = rets_log['aapl_o'][rets_log['aapl_o'] <= var_99].mean()\n",
    "-cvar_99"
   ]
  },
  {
   "cell_type": "markdown",
   "metadata": {},
   "source": [
    "So, on a bad day, when Apple's VaR hits and exceeds the 99% threshold, you would expect to lose, on average, 5.69%."
   ]
  },
  {
   "cell_type": "markdown",
   "metadata": {},
   "source": [
    "### Rolling VaR with different distributions\n",
    "\n",
    "Our Datacamp assignments cover using a $t$-distribution to find a **rolling VaR measure**. In other words, let's calculate the mean and standard deviation of Apple's returns as we go through time. We'll use a rolling 30-day period. With these values, we'll find the 95% VaR for Apple, assuming that their returns follow a $t$-distribution. \n",
    "\n",
    "What does this mean? First, the VaR will change as our estimates for Apple's mean and standard deviation of returns changes! Also, we'll be taking into account \"fatter tails\" when finding our VaR.\n",
    "\n",
    "This is another **parametric VaR**.\n",
    "\n",
    "In the Python itself, there's some fancier stuff going on. We've seen the `rolling()` part. That just looks back 30 periods (a 30 day window in this case) to calculate the value.\n",
    "\n",
    "But, what is going on in that *rolling_parameters* definition? First, this is a **list**. You cans ee that by looking down in the Jupyter variables window. Specifically a list of **tuples**, where each tuple contains three values. The first value of each tuple is 29. The second is the ith value of the rolling means. The second is the sth value of the rolling standard deviations. These will be `nan`, or missing, until we hit the 30th observation in the data (or, the way Python counts, the 29th). The `enumerate()` function keeps track of the number of items in *sigma*. I would have never come up with that exact code to do this. \n",
    "\n",
    "Why do we need *rolling_parameters*? These go into the VaR calculation. Every day, we calculate a new VaR using the next set of rolling parameters. What are the parameters for? The $t$-distribution. The three values that define a specific the $t$-distribution (i.e. that draw the graph) are degrees-of-freedom (df), loc, and scale. From the Datacamp lecture:\n",
    "\n",
    "> One special characteristic of the T distribution is its degrees of freedom. \n",
    "> The number of degrees of freedom is the number of independent observations. The degrees of freedom number affects the shape of the T distribution. \n",
    "> It can be explicitly set with the `df' parameter, or estimated using the \".fit()\" method of the \"scipy.stats.t\" distribution.\n",
    "\n",
    "So, you would change that *df* value based on your window.\n",
    "\n",
    "Like in the DataCamp, we'll assume that we have a portfolio of $100,000. In fact, VaR is often given in **dollar terms**. What is the minimum amount that we would expect to lose on a bad day?"
   ]
  },
  {
   "cell_type": "code",
   "execution_count": null,
   "metadata": {},
   "outputs": [],
   "source": [
    "# Create rolling window parameter list\n",
    "mu = rets_log['aapl_o'].rolling(30).mean()\n",
    "sigma = rets_log['aapl_o'].rolling(30).std()\n",
    "rolling_parameters = [(29, mu[i], s) for i, s in enumerate(sigma)]\n",
    "\n",
    "# Compute the 95% VaR array using the rolling window parameters\n",
    "VaR_95 = np.array([scs.t.ppf(0.95, *params) \n",
    "                    for params in rolling_parameters])\n",
    "\n",
    "plt.plot(rets_log['aapl_o'].index, 0.05 * VaR_95 * 100000)\n",
    "plt.title('Dollar Risk Exposure for Apple, Rolling 30-Day VaR');\n"
   ]
  },
  {
   "cell_type": "markdown",
   "metadata": {},
   "source": [
    "## QuantStats\n",
    "\n",
    "Finally, there are some fun Python packages to automate all of this. Here's some examples of one called **QuantStats**. You can download it the usual way in the terminal: `pip install QuantStats`\n",
    "\n",
    "You can find some basic documentation [here](https://pypi.org/project/QuantStats/).\n",
    "\n",
    "One fun thing: It has a `qs.extend_pandas()` function that let's you call QuantStat functions directly on a DataFrame, like you would a `pandas` function.\n",
    "\n",
    "Let's find the Sharpe ratio for Apple."
   ]
  },
  {
   "cell_type": "code",
   "execution_count": null,
   "metadata": {},
   "outputs": [],
   "source": [
    "qs.extend_pandas()\n",
    "\n",
    "stock = rets_log['aapl_o']\n",
    "\n",
    "qs.stats.sharpe(stock)"
   ]
  },
  {
   "cell_type": "markdown",
   "metadata": {},
   "source": [
    "Here's the Sharpe again, but using the `pandas` extention feature. **stock** contains Apple's returns."
   ]
  },
  {
   "cell_type": "code",
   "execution_count": null,
   "metadata": {},
   "outputs": [],
   "source": [
    "stock.sharpe()"
   ]
  },
  {
   "cell_type": "markdown",
   "metadata": {},
   "source": [
    "Some nice performance graphs."
   ]
  },
  {
   "cell_type": "code",
   "execution_count": null,
   "metadata": {},
   "outputs": [],
   "source": [
    "stock.plot_snapshot(title='Apple Performance')"
   ]
  },
  {
   "cell_type": "markdown",
   "metadata": {},
   "source": [
    "Finally, this will create a giant performance report as an HTML file. You could backtest a strategy and then generate a report using this too."
   ]
  },
  {
   "cell_type": "code",
   "execution_count": null,
   "metadata": {},
   "outputs": [],
   "source": [
    "#qs.reports.html(stock, \"SPY\")"
   ]
  }
 ],
 "metadata": {
  "interpreter": {
   "hash": "b67b392f8c699abfccff34ffff3abf55b26d6520ea7ac337064f990a3d8607af"
  },
  "kernelspec": {
   "display_name": "Python 3.9.7 ('base')",
   "language": "python",
   "name": "python3"
  },
  "language_info": {
   "codemirror_mode": {
    "name": "ipython",
    "version": 3
   },
   "file_extension": ".py",
   "mimetype": "text/x-python",
   "name": "python",
   "nbconvert_exporter": "python",
   "pygments_lexer": "ipython3",
   "version": "3.9.7"
  },
  "orig_nbformat": 4
 },
 "nbformat": 4,
 "nbformat_minor": 2
}
