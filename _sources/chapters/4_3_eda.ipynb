{
 "cells": [
  {
   "cell_type": "markdown",
   "metadata": {},
   "source": [
    "# Exploratory data analysis (EDA)\n",
    "\n",
    "Exploratory data analysis, or **EDA**, means just that. We are going look at and summarize our idea. The data cleaning that we've already done, the looking for missings and understanding our variables, is actually part of EDA. In these notes, however, we'll focus on **grouping**, or **aggregating**, and summarizing our data.\n",
    "\n",
    "This type of data work is sometimes called **split-apply-combine**, where we split, or **group** our data, apply a function (e.g. mean), and then combine the summary statistics back together.\n",
    "\n",
    "We are starting to **ask questions** of our data. For example,\n",
    "\n",
    "- What variables do we have and what are their data types? Are they numeric or text?\n",
    "- Which variables are **continuous**? Which are **discrete**?\n",
    "- Are any variables **categorical**? These variables might be either numeric or text. \n",
    "- Do we have any **datetime** variables?\n",
    "- How are our variables related to each other?\n",
    "- How can we **summarize** them?\n",
    "\n",
    "We'll graphically summarize our data in the [next section](#dataviz). We'll look more at **datetime** variables when we get to our work on [financial time series](#financial-times-series). \n",
    "\n",
    "We want to eventually be able to open up a new data, see what questions **can be answered**, and then have the tools to actually **answer the questions**. Sometimes we want to ask questions that data can't answer - we need to recognize when that's the case too.\n",
    "\n",
    "[DataCamp](https://www.datacamp.com/community/tutorials/exploratory-data-analysis-python), of course, has a tutorial on some EDA ideas, perhaps more related to what people are doing in machine learning.\n",
    "\n",
    "[Chapter 10](https://wesmckinney.com/book/data-aggregation.html) of *Python for Data Analysis* discusses aggregation and summarizing our data. \n",
    "\n",
    "[Exploratory Data Analysis](https://aeturrell.github.io/coding-for-economists/data-exploratory-analysis.html) from *Coding for Economists* has data aggregation and summary examples. That chapter also covers the logic of opening up a data set and seeing what you have to work with. I am following along with a lot of that material in these notes.\n"
   ]
  },
  {
   "cell_type": "markdown",
   "metadata": {},
   "source": [
    "## Set-up\n",
    "\n",
    "Let's bring in some data on NC breweries. We'll again use my Github URL to download the data directly: <https://raw.githubusercontent.com/aaiken1/fin-data-analysis-python/main/data/ncbreweries.csv>. \n",
    "\n",
    "We'll bring in our usual libraries. I'll also use `pyjanitor`, in case we need to clean anything.\n",
    "\n",
    "I'll name the DataFrame `nc`. "
   ]
  },
  {
   "cell_type": "code",
   "execution_count": 18,
   "metadata": {},
   "outputs": [
    {
     "name": "stdout",
     "output_type": "stream",
     "text": [
      "<class 'pandas.core.frame.DataFrame'>\n",
      "RangeIndex: 251 entries, 0 to 250\n",
      "Data columns (total 7 columns):\n",
      " #   Column      Non-Null Count  Dtype \n",
      "---  ------      --------------  ----- \n",
      " 0   Name        251 non-null    object\n",
      " 1   City        251 non-null    object\n",
      " 2   Type        251 non-null    object\n",
      " 3   Beer Count  251 non-null    int64 \n",
      " 4   Est         251 non-null    int64 \n",
      " 5   Status      251 non-null    object\n",
      " 6   URL         251 non-null    object\n",
      "dtypes: int64(2), object(5)\n",
      "memory usage: 13.9+ KB\n"
     ]
    }
   ],
   "source": [
    "# Set-up\n",
    "import numpy as np\n",
    "import pandas as pd\n",
    "import janitor\n",
    "\n",
    "nc = pd.read_csv('https://raw.githubusercontent.com/aaiken1/fin-data-analysis-python/main/data/ncbreweries.csv')\n",
    "nc.info()"
   ]
  },
  {
   "cell_type": "markdown",
   "metadata": {},
   "source": [
    "Looks pretty good. I'll use `pyjanitor` to clean up the variable names and get rid of any spaces and capitalizations. We're transforming them into something called **snake case**, which gets rid of capital letters and uses \"_\" as spaces."
   ]
  },
  {
   "cell_type": "code",
   "execution_count": 19,
   "metadata": {},
   "outputs": [
    {
     "name": "stdout",
     "output_type": "stream",
     "text": [
      "<class 'pandas.core.frame.DataFrame'>\n",
      "RangeIndex: 251 entries, 0 to 250\n",
      "Data columns (total 7 columns):\n",
      " #   Column      Non-Null Count  Dtype \n",
      "---  ------      --------------  ----- \n",
      " 0   name        251 non-null    object\n",
      " 1   city        251 non-null    object\n",
      " 2   type        251 non-null    object\n",
      " 3   beer_count  251 non-null    int64 \n",
      " 4   est         251 non-null    int64 \n",
      " 5   status      251 non-null    object\n",
      " 6   url         251 non-null    object\n",
      "dtypes: int64(2), object(5)\n",
      "memory usage: 13.9+ KB\n"
     ]
    }
   ],
   "source": [
    "nc = nc.clean_names()\n",
    "nc.info()"
   ]
  },
  {
   "cell_type": "markdown",
   "metadata": {},
   "source": [
    "See what it did? Let's take a peak at the first few rows."
   ]
  },
  {
   "cell_type": "code",
   "execution_count": 20,
   "metadata": {},
   "outputs": [
    {
     "data": {
      "text/html": [
       "<div>\n",
       "<style scoped>\n",
       "    .dataframe tbody tr th:only-of-type {\n",
       "        vertical-align: middle;\n",
       "    }\n",
       "\n",
       "    .dataframe tbody tr th {\n",
       "        vertical-align: top;\n",
       "    }\n",
       "\n",
       "    .dataframe thead th {\n",
       "        text-align: right;\n",
       "    }\n",
       "</style>\n",
       "<table border=\"1\" class=\"dataframe\">\n",
       "  <thead>\n",
       "    <tr style=\"text-align: right;\">\n",
       "      <th></th>\n",
       "      <th>name</th>\n",
       "      <th>city</th>\n",
       "      <th>type</th>\n",
       "      <th>beer_count</th>\n",
       "      <th>est</th>\n",
       "      <th>status</th>\n",
       "      <th>url</th>\n",
       "    </tr>\n",
       "  </thead>\n",
       "  <tbody>\n",
       "    <tr>\n",
       "      <th>0</th>\n",
       "      <td>217 Brew Works</td>\n",
       "      <td>Wilson</td>\n",
       "      <td>Microbrewery</td>\n",
       "      <td>10</td>\n",
       "      <td>2017</td>\n",
       "      <td>Active</td>\n",
       "      <td>https://www.ratebeer.com//brewers/217-brew-wor...</td>\n",
       "    </tr>\n",
       "    <tr>\n",
       "      <th>1</th>\n",
       "      <td>3rd Rock Brewing Company</td>\n",
       "      <td>Trenton</td>\n",
       "      <td>Microbrewery</td>\n",
       "      <td>12</td>\n",
       "      <td>2016</td>\n",
       "      <td>Active</td>\n",
       "      <td>https://www.ratebeer.com//brewers/3rd-rock-bre...</td>\n",
       "    </tr>\n",
       "    <tr>\n",
       "      <th>2</th>\n",
       "      <td>7 Clans Brewing</td>\n",
       "      <td>Cherokee</td>\n",
       "      <td>Client Brewer</td>\n",
       "      <td>1</td>\n",
       "      <td>2018</td>\n",
       "      <td>Active</td>\n",
       "      <td>https://www.ratebeer.com//brewers/7-clans-brew...</td>\n",
       "    </tr>\n",
       "    <tr>\n",
       "      <th>3</th>\n",
       "      <td>Andrews Brewing Company</td>\n",
       "      <td>Andrews</td>\n",
       "      <td>Microbrewery</td>\n",
       "      <td>18</td>\n",
       "      <td>2014</td>\n",
       "      <td>Active</td>\n",
       "      <td>https://www.ratebeer.com//brewers/andrews-brew...</td>\n",
       "    </tr>\n",
       "    <tr>\n",
       "      <th>4</th>\n",
       "      <td>Angry Troll Brewing</td>\n",
       "      <td>Elkin</td>\n",
       "      <td>Microbrewery</td>\n",
       "      <td>8</td>\n",
       "      <td>2017</td>\n",
       "      <td>Active</td>\n",
       "      <td>https://www.ratebeer.com//brewers/angry-troll-...</td>\n",
       "    </tr>\n",
       "  </tbody>\n",
       "</table>\n",
       "</div>"
      ],
      "text/plain": [
       "                       name      city           type  beer_count   est  \\\n",
       "0            217 Brew Works    Wilson   Microbrewery          10  2017   \n",
       "1  3rd Rock Brewing Company   Trenton   Microbrewery          12  2016   \n",
       "2           7 Clans Brewing  Cherokee  Client Brewer           1  2018   \n",
       "3   Andrews Brewing Company   Andrews   Microbrewery          18  2014   \n",
       "4       Angry Troll Brewing     Elkin   Microbrewery           8  2017   \n",
       "\n",
       "   status                                                url  \n",
       "0  Active  https://www.ratebeer.com//brewers/217-brew-wor...  \n",
       "1  Active  https://www.ratebeer.com//brewers/3rd-rock-bre...  \n",
       "2  Active  https://www.ratebeer.com//brewers/7-clans-brew...  \n",
       "3  Active  https://www.ratebeer.com//brewers/andrews-brew...  \n",
       "4  Active  https://www.ratebeer.com//brewers/angry-troll-...  "
      ]
     },
     "execution_count": 20,
     "metadata": {},
     "output_type": "execute_result"
    }
   ],
   "source": [
    "nc.head()"
   ]
  },
  {
   "cell_type": "markdown",
   "metadata": {},
   "source": [
    "\n",
    "We can also use `pandas` to change the data types. For example, let's get brewery *type* to be something called a **category**. I'll also change a few others."
   ]
  },
  {
   "cell_type": "code",
   "execution_count": 21,
   "metadata": {},
   "outputs": [
    {
     "name": "stdout",
     "output_type": "stream",
     "text": [
      "<class 'pandas.core.frame.DataFrame'>\n",
      "RangeIndex: 251 entries, 0 to 250\n",
      "Data columns (total 7 columns):\n",
      " #   Column      Non-Null Count  Dtype   \n",
      "---  ------      --------------  -----   \n",
      " 0   name        251 non-null    string  \n",
      " 1   city        251 non-null    string  \n",
      " 2   type        251 non-null    category\n",
      " 3   beer_count  251 non-null    int64   \n",
      " 4   est         251 non-null    int64   \n",
      " 5   status      251 non-null    category\n",
      " 6   url         251 non-null    string  \n",
      "dtypes: category(2), int64(2), string(3)\n",
      "memory usage: 10.7 KB\n"
     ]
    }
   ],
   "source": [
    "nc = nc.assign(\n",
    "    name=nc[\"name\"].astype('string'),\n",
    "    city=nc[\"city\"].astype('string'),\n",
    "    type=nc[\"type\"].astype('category'),\n",
    "    status=nc[\"status\"].astype('category'),\n",
    "    url=nc[\"url\"].astype('string'),\n",
    ")\n",
    "nc.info()"
   ]
  },
  {
   "cell_type": "markdown",
   "metadata": {},
   "source": [
    "Finally, let's just check for missing data. Doesn't seem like we have any from that `info()`."
   ]
  },
  {
   "cell_type": "code",
   "execution_count": 22,
   "metadata": {},
   "outputs": [
    {
     "data": {
      "text/plain": [
       "name          0\n",
       "city          0\n",
       "type          0\n",
       "beer_count    0\n",
       "est           0\n",
       "status        0\n",
       "url           0\n",
       "dtype: int64"
      ]
     },
     "execution_count": 22,
     "metadata": {},
     "output_type": "execute_result"
    }
   ],
   "source": [
    "nc.isna().sum()"
   ]
  },
  {
   "cell_type": "markdown",
   "metadata": {},
   "source": [
    "## Exploring NC breweries\n",
    "\n",
    "We'll start with `describe()`. The will give us summary statistics for our numeric variables."
   ]
  },
  {
   "cell_type": "code",
   "execution_count": 23,
   "metadata": {},
   "outputs": [
    {
     "data": {
      "text/html": [
       "<div>\n",
       "<style scoped>\n",
       "    .dataframe tbody tr th:only-of-type {\n",
       "        vertical-align: middle;\n",
       "    }\n",
       "\n",
       "    .dataframe tbody tr th {\n",
       "        vertical-align: top;\n",
       "    }\n",
       "\n",
       "    .dataframe thead th {\n",
       "        text-align: right;\n",
       "    }\n",
       "</style>\n",
       "<table border=\"1\" class=\"dataframe\">\n",
       "  <thead>\n",
       "    <tr style=\"text-align: right;\">\n",
       "      <th></th>\n",
       "      <th>beer_count</th>\n",
       "      <th>est</th>\n",
       "    </tr>\n",
       "  </thead>\n",
       "  <tbody>\n",
       "    <tr>\n",
       "      <th>count</th>\n",
       "      <td>251.000000</td>\n",
       "      <td>251.000000</td>\n",
       "    </tr>\n",
       "    <tr>\n",
       "      <th>mean</th>\n",
       "      <td>32.960159</td>\n",
       "      <td>2012.155378</td>\n",
       "    </tr>\n",
       "    <tr>\n",
       "      <th>std</th>\n",
       "      <td>43.723385</td>\n",
       "      <td>8.749158</td>\n",
       "    </tr>\n",
       "    <tr>\n",
       "      <th>min</th>\n",
       "      <td>1.000000</td>\n",
       "      <td>1900.000000</td>\n",
       "    </tr>\n",
       "    <tr>\n",
       "      <th>25%</th>\n",
       "      <td>10.000000</td>\n",
       "      <td>2011.000000</td>\n",
       "    </tr>\n",
       "    <tr>\n",
       "      <th>50%</th>\n",
       "      <td>18.000000</td>\n",
       "      <td>2014.000000</td>\n",
       "    </tr>\n",
       "    <tr>\n",
       "      <th>75%</th>\n",
       "      <td>38.000000</td>\n",
       "      <td>2016.000000</td>\n",
       "    </tr>\n",
       "    <tr>\n",
       "      <th>max</th>\n",
       "      <td>424.000000</td>\n",
       "      <td>2018.000000</td>\n",
       "    </tr>\n",
       "  </tbody>\n",
       "</table>\n",
       "</div>"
      ],
      "text/plain": [
       "       beer_count          est\n",
       "count  251.000000   251.000000\n",
       "mean    32.960159  2012.155378\n",
       "std     43.723385     8.749158\n",
       "min      1.000000  1900.000000\n",
       "25%     10.000000  2011.000000\n",
       "50%     18.000000  2014.000000\n",
       "75%     38.000000  2016.000000\n",
       "max    424.000000  2018.000000"
      ]
     },
     "execution_count": 23,
     "metadata": {},
     "output_type": "execute_result"
    }
   ],
   "source": [
    "nc.describe()"
   ]
  },
  {
   "cell_type": "markdown",
   "metadata": {},
   "source": [
    "Anything stand out to you? The variable *est* is the year that the brewery was established. The minimum is 1900. That seems very early? Is that right? A beer count of 424 seems high, but could be right.\n",
    "\n",
    "We can make that table look a little better."
   ]
  },
  {
   "cell_type": "code",
   "execution_count": 24,
   "metadata": {},
   "outputs": [
    {
     "data": {
      "text/html": [
       "<div>\n",
       "<style scoped>\n",
       "    .dataframe tbody tr th:only-of-type {\n",
       "        vertical-align: middle;\n",
       "    }\n",
       "\n",
       "    .dataframe tbody tr th {\n",
       "        vertical-align: top;\n",
       "    }\n",
       "\n",
       "    .dataframe thead th {\n",
       "        text-align: right;\n",
       "    }\n",
       "</style>\n",
       "<table border=\"1\" class=\"dataframe\">\n",
       "  <thead>\n",
       "    <tr style=\"text-align: right;\">\n",
       "      <th></th>\n",
       "      <th>beer_count</th>\n",
       "      <th>est</th>\n",
       "    </tr>\n",
       "  </thead>\n",
       "  <tbody>\n",
       "    <tr>\n",
       "      <th>count</th>\n",
       "      <td>251.0</td>\n",
       "      <td>251.0</td>\n",
       "    </tr>\n",
       "    <tr>\n",
       "      <th>mean</th>\n",
       "      <td>33.0</td>\n",
       "      <td>2012.2</td>\n",
       "    </tr>\n",
       "    <tr>\n",
       "      <th>std</th>\n",
       "      <td>43.7</td>\n",
       "      <td>8.7</td>\n",
       "    </tr>\n",
       "    <tr>\n",
       "      <th>min</th>\n",
       "      <td>1.0</td>\n",
       "      <td>1900.0</td>\n",
       "    </tr>\n",
       "    <tr>\n",
       "      <th>25%</th>\n",
       "      <td>10.0</td>\n",
       "      <td>2011.0</td>\n",
       "    </tr>\n",
       "    <tr>\n",
       "      <th>50%</th>\n",
       "      <td>18.0</td>\n",
       "      <td>2014.0</td>\n",
       "    </tr>\n",
       "    <tr>\n",
       "      <th>75%</th>\n",
       "      <td>38.0</td>\n",
       "      <td>2016.0</td>\n",
       "    </tr>\n",
       "    <tr>\n",
       "      <th>max</th>\n",
       "      <td>424.0</td>\n",
       "      <td>2018.0</td>\n",
       "    </tr>\n",
       "  </tbody>\n",
       "</table>\n",
       "</div>"
      ],
      "text/plain": [
       "       beer_count     est\n",
       "count       251.0   251.0\n",
       "mean         33.0  2012.2\n",
       "std          43.7     8.7\n",
       "min           1.0  1900.0\n",
       "25%          10.0  2011.0\n",
       "50%          18.0  2014.0\n",
       "75%          38.0  2016.0\n",
       "max         424.0  2018.0"
      ]
     },
     "execution_count": 24,
     "metadata": {},
     "output_type": "execute_result"
    }
   ],
   "source": [
    "sum_table = nc.describe().round(1)\n",
    "sum_table"
   ]
  },
  {
   "cell_type": "markdown",
   "metadata": {},
   "source": [
    "We can flip things around, or **transpose**, the table to make it look better. This is usually how summary statistics are presented."
   ]
  },
  {
   "cell_type": "code",
   "execution_count": 25,
   "metadata": {},
   "outputs": [
    {
     "data": {
      "text/html": [
       "<div>\n",
       "<style scoped>\n",
       "    .dataframe tbody tr th:only-of-type {\n",
       "        vertical-align: middle;\n",
       "    }\n",
       "\n",
       "    .dataframe tbody tr th {\n",
       "        vertical-align: top;\n",
       "    }\n",
       "\n",
       "    .dataframe thead th {\n",
       "        text-align: right;\n",
       "    }\n",
       "</style>\n",
       "<table border=\"1\" class=\"dataframe\">\n",
       "  <thead>\n",
       "    <tr style=\"text-align: right;\">\n",
       "      <th></th>\n",
       "      <th>count</th>\n",
       "      <th>mean</th>\n",
       "      <th>std</th>\n",
       "      <th>min</th>\n",
       "      <th>25%</th>\n",
       "      <th>50%</th>\n",
       "      <th>75%</th>\n",
       "      <th>max</th>\n",
       "    </tr>\n",
       "  </thead>\n",
       "  <tbody>\n",
       "    <tr>\n",
       "      <th>beer_count</th>\n",
       "      <td>251.0</td>\n",
       "      <td>33.0</td>\n",
       "      <td>43.7</td>\n",
       "      <td>1.0</td>\n",
       "      <td>10.0</td>\n",
       "      <td>18.0</td>\n",
       "      <td>38.0</td>\n",
       "      <td>424.0</td>\n",
       "    </tr>\n",
       "    <tr>\n",
       "      <th>est</th>\n",
       "      <td>251.0</td>\n",
       "      <td>2012.2</td>\n",
       "      <td>8.7</td>\n",
       "      <td>1900.0</td>\n",
       "      <td>2011.0</td>\n",
       "      <td>2014.0</td>\n",
       "      <td>2016.0</td>\n",
       "      <td>2018.0</td>\n",
       "    </tr>\n",
       "  </tbody>\n",
       "</table>\n",
       "</div>"
      ],
      "text/plain": [
       "            count    mean   std     min     25%     50%     75%     max\n",
       "beer_count  251.0    33.0  43.7     1.0    10.0    18.0    38.0   424.0\n",
       "est         251.0  2012.2   8.7  1900.0  2011.0  2014.0  2016.0  2018.0"
      ]
     },
     "execution_count": 25,
     "metadata": {},
     "output_type": "execute_result"
    }
   ],
   "source": [
    "sum_table = sum_table.T\n",
    "sum_table"
   ]
  },
  {
   "cell_type": "markdown",
   "metadata": {},
   "source": [
    "Let's look at the variable *type*. What types of breweries are in our data?"
   ]
  },
  {
   "cell_type": "code",
   "execution_count": 33,
   "metadata": {},
   "outputs": [
    {
     "data": {
      "text/plain": [
       "Microbrewery          165\n",
       "Brewpub/Brewery        41\n",
       "Brewpub                33\n",
       "Client Brewer           9\n",
       "Commercial Brewery      3\n",
       "Name: type, dtype: int64"
      ]
     },
     "execution_count": 33,
     "metadata": {},
     "output_type": "execute_result"
    }
   ],
   "source": [
    "nc['type'].value_counts()"
   ]
  },
  {
   "cell_type": "markdown",
   "metadata": {},
   "source": [
    "Mainly microbreweries. I wonder what type of brewery has the largest number of beers on average? This is where we can start using the idea of **split-apply-combine**."
   ]
  },
  {
   "cell_type": "code",
   "execution_count": 29,
   "metadata": {},
   "outputs": [
    {
     "data": {
      "text/plain": [
       "type\n",
       "Brewpub               44.939394\n",
       "Brewpub/Brewery       37.707317\n",
       "Client Brewer          5.000000\n",
       "Commercial Brewery    10.666667\n",
       "Microbrewery          31.315152\n",
       "Name: beer_count, dtype: float64"
      ]
     },
     "execution_count": 29,
     "metadata": {},
     "output_type": "execute_result"
    }
   ],
   "source": [
    "nc.groupby('type')['beer_count'].mean()"
   ]
  },
  {
   "cell_type": "markdown",
   "metadata": {},
   "source": [
    "This code is **grouping** our data by *type*, pulling out *beer_count*, and calculating the mean.\n",
    "\n",
    "We can use the `.agg` method to include more than one summary statistic. The `np.` means that the function is being pulled from the `numpy` package. Pay attention to the syntax - there are no `()` after the `np.mean`, `np.median`, and `np.std` functions now, because they are being used inside of the `.agg` function. They are also grouped together with `[]`.\n",
    "\n",
    "The `.agg` function is the same thing as `.aggregate`, which you'll see in our textbook.\n",
    "\n",
    "You could also pull multiple columns to summarize, but this data set really only has one numeric variable of interest. "
   ]
  },
  {
   "cell_type": "code",
   "execution_count": 37,
   "metadata": {},
   "outputs": [
    {
     "data": {
      "text/html": [
       "<div>\n",
       "<style scoped>\n",
       "    .dataframe tbody tr th:only-of-type {\n",
       "        vertical-align: middle;\n",
       "    }\n",
       "\n",
       "    .dataframe tbody tr th {\n",
       "        vertical-align: top;\n",
       "    }\n",
       "\n",
       "    .dataframe thead th {\n",
       "        text-align: right;\n",
       "    }\n",
       "</style>\n",
       "<table border=\"1\" class=\"dataframe\">\n",
       "  <thead>\n",
       "    <tr style=\"text-align: right;\">\n",
       "      <th></th>\n",
       "      <th>mean</th>\n",
       "      <th>median</th>\n",
       "      <th>std</th>\n",
       "    </tr>\n",
       "    <tr>\n",
       "      <th>type</th>\n",
       "      <th></th>\n",
       "      <th></th>\n",
       "      <th></th>\n",
       "    </tr>\n",
       "  </thead>\n",
       "  <tbody>\n",
       "    <tr>\n",
       "      <th>Brewpub</th>\n",
       "      <td>44.9</td>\n",
       "      <td>21.0</td>\n",
       "      <td>77.3</td>\n",
       "    </tr>\n",
       "    <tr>\n",
       "      <th>Brewpub/Brewery</th>\n",
       "      <td>37.7</td>\n",
       "      <td>28.0</td>\n",
       "      <td>36.3</td>\n",
       "    </tr>\n",
       "    <tr>\n",
       "      <th>Client Brewer</th>\n",
       "      <td>5.0</td>\n",
       "      <td>2.0</td>\n",
       "      <td>7.0</td>\n",
       "    </tr>\n",
       "    <tr>\n",
       "      <th>Commercial Brewery</th>\n",
       "      <td>10.7</td>\n",
       "      <td>9.0</td>\n",
       "      <td>6.7</td>\n",
       "    </tr>\n",
       "    <tr>\n",
       "      <th>Microbrewery</th>\n",
       "      <td>31.3</td>\n",
       "      <td>18.0</td>\n",
       "      <td>36.6</td>\n",
       "    </tr>\n",
       "  </tbody>\n",
       "</table>\n",
       "</div>"
      ],
      "text/plain": [
       "                    mean  median   std\n",
       "type                                  \n",
       "Brewpub             44.9    21.0  77.3\n",
       "Brewpub/Brewery     37.7    28.0  36.3\n",
       "Client Brewer        5.0     2.0   7.0\n",
       "Commercial Brewery  10.7     9.0   6.7\n",
       "Microbrewery        31.3    18.0  36.6"
      ]
     },
     "execution_count": 37,
     "metadata": {},
     "output_type": "execute_result"
    }
   ],
   "source": [
    "nc.groupby('type')['beer_count'].agg([np.mean, np.median, np.std]).round(1) "
   ]
  },
  {
   "cell_type": "markdown",
   "metadata": {},
   "source": [
    "See how I added that `round(1)` to get only one decimal place. You can also make your table and then style it in separate lines. This code will style **just that table**. You can also set global style options that will affect all of your results."
   ]
  },
  {
   "cell_type": "code",
   "execution_count": 48,
   "metadata": {},
   "outputs": [
    {
     "data": {
      "text/html": [
       "<style type=\"text/css\">\n",
       "</style>\n",
       "<table id=\"T_c0e00_\">\n",
       "  <thead>\n",
       "    <tr>\n",
       "      <th class=\"blank level0\" >&nbsp;</th>\n",
       "      <th class=\"col_heading level0 col0\" >mean</th>\n",
       "      <th class=\"col_heading level0 col1\" >median</th>\n",
       "      <th class=\"col_heading level0 col2\" >std</th>\n",
       "    </tr>\n",
       "    <tr>\n",
       "      <th class=\"index_name level0\" >type</th>\n",
       "      <th class=\"blank col0\" >&nbsp;</th>\n",
       "      <th class=\"blank col1\" >&nbsp;</th>\n",
       "      <th class=\"blank col2\" >&nbsp;</th>\n",
       "    </tr>\n",
       "  </thead>\n",
       "  <tbody>\n",
       "    <tr>\n",
       "      <th id=\"T_c0e00_level0_row0\" class=\"row_heading level0 row0\" >Brewpub</th>\n",
       "      <td id=\"T_c0e00_row0_col0\" class=\"data row0 col0\" >45</td>\n",
       "      <td id=\"T_c0e00_row0_col1\" class=\"data row0 col1\" >21</td>\n",
       "      <td id=\"T_c0e00_row0_col2\" class=\"data row0 col2\" >77</td>\n",
       "    </tr>\n",
       "    <tr>\n",
       "      <th id=\"T_c0e00_level0_row1\" class=\"row_heading level0 row1\" >Brewpub/Brewery</th>\n",
       "      <td id=\"T_c0e00_row1_col0\" class=\"data row1 col0\" >38</td>\n",
       "      <td id=\"T_c0e00_row1_col1\" class=\"data row1 col1\" >28</td>\n",
       "      <td id=\"T_c0e00_row1_col2\" class=\"data row1 col2\" >36</td>\n",
       "    </tr>\n",
       "    <tr>\n",
       "      <th id=\"T_c0e00_level0_row2\" class=\"row_heading level0 row2\" >Client Brewer</th>\n",
       "      <td id=\"T_c0e00_row2_col0\" class=\"data row2 col0\" >5</td>\n",
       "      <td id=\"T_c0e00_row2_col1\" class=\"data row2 col1\" >2</td>\n",
       "      <td id=\"T_c0e00_row2_col2\" class=\"data row2 col2\" >7</td>\n",
       "    </tr>\n",
       "    <tr>\n",
       "      <th id=\"T_c0e00_level0_row3\" class=\"row_heading level0 row3\" >Commercial Brewery</th>\n",
       "      <td id=\"T_c0e00_row3_col0\" class=\"data row3 col0\" >11</td>\n",
       "      <td id=\"T_c0e00_row3_col1\" class=\"data row3 col1\" >9</td>\n",
       "      <td id=\"T_c0e00_row3_col2\" class=\"data row3 col2\" >7</td>\n",
       "    </tr>\n",
       "    <tr>\n",
       "      <th id=\"T_c0e00_level0_row4\" class=\"row_heading level0 row4\" >Microbrewery</th>\n",
       "      <td id=\"T_c0e00_row4_col0\" class=\"data row4 col0\" >31</td>\n",
       "      <td id=\"T_c0e00_row4_col1\" class=\"data row4 col1\" >18</td>\n",
       "      <td id=\"T_c0e00_row4_col2\" class=\"data row4 col2\" >37</td>\n",
       "    </tr>\n",
       "  </tbody>\n",
       "</table>\n"
      ],
      "text/plain": [
       "<pandas.io.formats.style.Styler at 0x7f9561069d60>"
      ]
     },
     "execution_count": 48,
     "metadata": {},
     "output_type": "execute_result"
    }
   ],
   "source": [
    "sum_table_group = nc.groupby('type')['beer_count'].agg([np.mean, np.median, np.std])\n",
    "\n",
    "sum_table_group.style.format(precision=0, na_rep='-')"
   ]
  },
  {
   "cell_type": "markdown",
   "metadata": {},
   "source": [
    "The code above reads from left to right. You do something, have a `.`, do something else, etc. For example, we are taking the DataFrame `nc`, grouping it by *type*, pulling out *beer_count*, and then aggregating using three different statistics. I am saving this to a **new DataFrame**, called `sum_table_group`. Finally, I am using `style.format` to change the look at the DataFrame that is being displayed as a table in out notebook.\n",
    "\n",
    "Let's look at how to do this using some different syntax. Something more vertical. Note that `()` surrounding all of the code."
   ]
  },
  {
   "cell_type": "code",
   "execution_count": 74,
   "metadata": {},
   "outputs": [
    {
     "data": {
      "text/html": [
       "<style type=\"text/css\">\n",
       "</style>\n",
       "<table id=\"T_df1d7_\">\n",
       "  <caption>Beer Count by Brewery Type</caption>\n",
       "  <thead>\n",
       "    <tr>\n",
       "      <th class=\"blank level0\" >&nbsp;</th>\n",
       "      <th class=\"col_heading level0 col0\" >beer_count</th>\n",
       "    </tr>\n",
       "    <tr>\n",
       "      <th class=\"index_name level0\" >type</th>\n",
       "      <th class=\"blank col0\" >&nbsp;</th>\n",
       "    </tr>\n",
       "  </thead>\n",
       "  <tbody>\n",
       "    <tr>\n",
       "      <th id=\"T_df1d7_level0_row0\" class=\"row_heading level0 row0\" >Brewpub</th>\n",
       "      <td id=\"T_df1d7_row0_col0\" class=\"data row0 col0\" >45</td>\n",
       "    </tr>\n",
       "    <tr>\n",
       "      <th id=\"T_df1d7_level0_row1\" class=\"row_heading level0 row1\" >Brewpub/Brewery</th>\n",
       "      <td id=\"T_df1d7_row1_col0\" class=\"data row1 col0\" >38</td>\n",
       "    </tr>\n",
       "    <tr>\n",
       "      <th id=\"T_df1d7_level0_row2\" class=\"row_heading level0 row2\" >Client Brewer</th>\n",
       "      <td id=\"T_df1d7_row2_col0\" class=\"data row2 col0\" >5</td>\n",
       "    </tr>\n",
       "    <tr>\n",
       "      <th id=\"T_df1d7_level0_row3\" class=\"row_heading level0 row3\" >Commercial Brewery</th>\n",
       "      <td id=\"T_df1d7_row3_col0\" class=\"data row3 col0\" >11</td>\n",
       "    </tr>\n",
       "    <tr>\n",
       "      <th id=\"T_df1d7_level0_row4\" class=\"row_heading level0 row4\" >Microbrewery</th>\n",
       "      <td id=\"T_df1d7_row4_col0\" class=\"data row4 col0\" >31</td>\n",
       "    </tr>\n",
       "  </tbody>\n",
       "</table>\n"
      ],
      "text/plain": [
       "<pandas.io.formats.style.Styler at 0x7f9570712dc0>"
      ]
     },
     "execution_count": 74,
     "metadata": {},
     "output_type": "execute_result"
    }
   ],
   "source": [
    "(\n",
    "    nc.groupby('type')\n",
    "    .mean()['beer_count']\n",
    "    .to_frame()\n",
    "    .style\n",
    "        .format(precision=0)\n",
    "        .set_caption(\"Beer Count by Brewery Type\")   \n",
    ")\n",
    "\n",
    "\n",
    "\n"
   ]
  },
  {
   "cell_type": "markdown",
   "metadata": {},
   "source": [
    "We are starting with the `nc` DataFrame and grouping by `type`. I am calculating the `mean` of *beer_count*. This actually creates a **series**, not a DataFrame. You can't style a series and make it look good in your output. So, I use `to.frame()` to put it back into a DataFrame that can be styled. I then use different style functions on that DataFrame. Both `format` and `set_caption` are functions found as part of `style`. \n",
    "\n",
    "Here's another example where I group by two variables."
   ]
  },
  {
   "cell_type": "code",
   "execution_count": 60,
   "metadata": {},
   "outputs": [
    {
     "data": {
      "text/plain": [
       "type                status\n",
       "Brewpub             Active    49.206897\n",
       "                    Closed    14.000000\n",
       "Brewpub/Brewery     Active    40.405405\n",
       "                    Closed    12.750000\n",
       "Client Brewer       Active     2.857143\n",
       "                    Closed    12.500000\n",
       "Commercial Brewery  Active    10.666667\n",
       "                    Closed          NaN\n",
       "Microbrewery        Active    33.173333\n",
       "                    Closed    12.733333\n",
       "Name: beer_count, dtype: float64"
      ]
     },
     "execution_count": 60,
     "metadata": {},
     "output_type": "execute_result"
    }
   ],
   "source": [
    "(\n",
    "    nc.groupby(['type', 'status'])\n",
    "    .mean()[\"beer_count\"]\n",
    ")"
   ]
  },
  {
   "cell_type": "markdown",
   "metadata": {},
   "source": [
    "See how that doesn't look as good? We need to make it a DataFrame and style it."
   ]
  },
  {
   "cell_type": "code",
   "execution_count": 76,
   "metadata": {},
   "outputs": [
    {
     "data": {
      "text/html": [
       "<style type=\"text/css\">\n",
       "</style>\n",
       "<table id=\"T_c5d2c_\">\n",
       "  <caption>Beer Count by Brewery Type and Status</caption>\n",
       "  <thead>\n",
       "    <tr>\n",
       "      <th class=\"blank\" >&nbsp;</th>\n",
       "      <th class=\"blank level0\" >&nbsp;</th>\n",
       "      <th class=\"col_heading level0 col0\" >beer_count</th>\n",
       "    </tr>\n",
       "    <tr>\n",
       "      <th class=\"index_name level0\" >type</th>\n",
       "      <th class=\"index_name level1\" >status</th>\n",
       "      <th class=\"blank col0\" >&nbsp;</th>\n",
       "    </tr>\n",
       "  </thead>\n",
       "  <tbody>\n",
       "    <tr>\n",
       "      <th id=\"T_c5d2c_level0_row0\" class=\"row_heading level0 row0\" rowspan=\"2\">Brewpub</th>\n",
       "      <th id=\"T_c5d2c_level1_row0\" class=\"row_heading level1 row0\" >Active</th>\n",
       "      <td id=\"T_c5d2c_row0_col0\" class=\"data row0 col0\" >49</td>\n",
       "    </tr>\n",
       "    <tr>\n",
       "      <th id=\"T_c5d2c_level1_row1\" class=\"row_heading level1 row1\" >Closed</th>\n",
       "      <td id=\"T_c5d2c_row1_col0\" class=\"data row1 col0\" >14</td>\n",
       "    </tr>\n",
       "    <tr>\n",
       "      <th id=\"T_c5d2c_level0_row2\" class=\"row_heading level0 row2\" rowspan=\"2\">Brewpub/Brewery</th>\n",
       "      <th id=\"T_c5d2c_level1_row2\" class=\"row_heading level1 row2\" >Active</th>\n",
       "      <td id=\"T_c5d2c_row2_col0\" class=\"data row2 col0\" >40</td>\n",
       "    </tr>\n",
       "    <tr>\n",
       "      <th id=\"T_c5d2c_level1_row3\" class=\"row_heading level1 row3\" >Closed</th>\n",
       "      <td id=\"T_c5d2c_row3_col0\" class=\"data row3 col0\" >13</td>\n",
       "    </tr>\n",
       "    <tr>\n",
       "      <th id=\"T_c5d2c_level0_row4\" class=\"row_heading level0 row4\" rowspan=\"2\">Client Brewer</th>\n",
       "      <th id=\"T_c5d2c_level1_row4\" class=\"row_heading level1 row4\" >Active</th>\n",
       "      <td id=\"T_c5d2c_row4_col0\" class=\"data row4 col0\" >3</td>\n",
       "    </tr>\n",
       "    <tr>\n",
       "      <th id=\"T_c5d2c_level1_row5\" class=\"row_heading level1 row5\" >Closed</th>\n",
       "      <td id=\"T_c5d2c_row5_col0\" class=\"data row5 col0\" >12</td>\n",
       "    </tr>\n",
       "    <tr>\n",
       "      <th id=\"T_c5d2c_level0_row6\" class=\"row_heading level0 row6\" rowspan=\"2\">Commercial Brewery</th>\n",
       "      <th id=\"T_c5d2c_level1_row6\" class=\"row_heading level1 row6\" >Active</th>\n",
       "      <td id=\"T_c5d2c_row6_col0\" class=\"data row6 col0\" >11</td>\n",
       "    </tr>\n",
       "    <tr>\n",
       "      <th id=\"T_c5d2c_level1_row7\" class=\"row_heading level1 row7\" >Closed</th>\n",
       "      <td id=\"T_c5d2c_row7_col0\" class=\"data row7 col0\" >-</td>\n",
       "    </tr>\n",
       "    <tr>\n",
       "      <th id=\"T_c5d2c_level0_row8\" class=\"row_heading level0 row8\" rowspan=\"2\">Microbrewery</th>\n",
       "      <th id=\"T_c5d2c_level1_row8\" class=\"row_heading level1 row8\" >Active</th>\n",
       "      <td id=\"T_c5d2c_row8_col0\" class=\"data row8 col0\" >33</td>\n",
       "    </tr>\n",
       "    <tr>\n",
       "      <th id=\"T_c5d2c_level1_row9\" class=\"row_heading level1 row9\" >Closed</th>\n",
       "      <td id=\"T_c5d2c_row9_col0\" class=\"data row9 col0\" >13</td>\n",
       "    </tr>\n",
       "  </tbody>\n",
       "</table>\n"
      ],
      "text/plain": [
       "<pandas.io.formats.style.Styler at 0x7f95411c21f0>"
      ]
     },
     "execution_count": 76,
     "metadata": {},
     "output_type": "execute_result"
    }
   ],
   "source": [
    "(\n",
    "    nc.groupby(['type', 'status'])\n",
    "    .mean()[\"beer_count\"]\n",
    "    .to_frame()\n",
    "    .fillna('-')\n",
    "    .style\n",
    "        .format(precision=0)\n",
    "        .set_caption(\"Beer Count by Brewery Type and Status\")\n",
    ")\n"
   ]
  },
  {
   "cell_type": "markdown",
   "metadata": {},
   "source": [
    " You could have written this code like this too. The first line groups, creates the means, and puts all of this back into a DataFrame. The second line formats the DataFrame.\n",
    "\n",
    " The summary DataFrame **is our table**. "
   ]
  },
  {
   "cell_type": "code",
   "execution_count": 83,
   "metadata": {},
   "outputs": [
    {
     "data": {
      "text/html": [
       "<style type=\"text/css\">\n",
       "</style>\n",
       "<table id=\"T_d1a90_\">\n",
       "  <caption>Beer Count by Brewery Type and Status</caption>\n",
       "  <thead>\n",
       "    <tr>\n",
       "      <th class=\"blank\" >&nbsp;</th>\n",
       "      <th class=\"blank level0\" >&nbsp;</th>\n",
       "      <th class=\"col_heading level0 col0\" >beer_count</th>\n",
       "    </tr>\n",
       "    <tr>\n",
       "      <th class=\"index_name level0\" >type</th>\n",
       "      <th class=\"index_name level1\" >status</th>\n",
       "      <th class=\"blank col0\" >&nbsp;</th>\n",
       "    </tr>\n",
       "  </thead>\n",
       "  <tbody>\n",
       "    <tr>\n",
       "      <th id=\"T_d1a90_level0_row0\" class=\"row_heading level0 row0\" rowspan=\"2\">Brewpub</th>\n",
       "      <th id=\"T_d1a90_level1_row0\" class=\"row_heading level1 row0\" >Active</th>\n",
       "      <td id=\"T_d1a90_row0_col0\" class=\"data row0 col0\" >49</td>\n",
       "    </tr>\n",
       "    <tr>\n",
       "      <th id=\"T_d1a90_level1_row1\" class=\"row_heading level1 row1\" >Closed</th>\n",
       "      <td id=\"T_d1a90_row1_col0\" class=\"data row1 col0\" >14</td>\n",
       "    </tr>\n",
       "    <tr>\n",
       "      <th id=\"T_d1a90_level0_row2\" class=\"row_heading level0 row2\" rowspan=\"2\">Brewpub/Brewery</th>\n",
       "      <th id=\"T_d1a90_level1_row2\" class=\"row_heading level1 row2\" >Active</th>\n",
       "      <td id=\"T_d1a90_row2_col0\" class=\"data row2 col0\" >40</td>\n",
       "    </tr>\n",
       "    <tr>\n",
       "      <th id=\"T_d1a90_level1_row3\" class=\"row_heading level1 row3\" >Closed</th>\n",
       "      <td id=\"T_d1a90_row3_col0\" class=\"data row3 col0\" >13</td>\n",
       "    </tr>\n",
       "    <tr>\n",
       "      <th id=\"T_d1a90_level0_row4\" class=\"row_heading level0 row4\" rowspan=\"2\">Client Brewer</th>\n",
       "      <th id=\"T_d1a90_level1_row4\" class=\"row_heading level1 row4\" >Active</th>\n",
       "      <td id=\"T_d1a90_row4_col0\" class=\"data row4 col0\" >3</td>\n",
       "    </tr>\n",
       "    <tr>\n",
       "      <th id=\"T_d1a90_level1_row5\" class=\"row_heading level1 row5\" >Closed</th>\n",
       "      <td id=\"T_d1a90_row5_col0\" class=\"data row5 col0\" >12</td>\n",
       "    </tr>\n",
       "    <tr>\n",
       "      <th id=\"T_d1a90_level0_row6\" class=\"row_heading level0 row6\" rowspan=\"2\">Commercial Brewery</th>\n",
       "      <th id=\"T_d1a90_level1_row6\" class=\"row_heading level1 row6\" >Active</th>\n",
       "      <td id=\"T_d1a90_row6_col0\" class=\"data row6 col0\" >11</td>\n",
       "    </tr>\n",
       "    <tr>\n",
       "      <th id=\"T_d1a90_level1_row7\" class=\"row_heading level1 row7\" >Closed</th>\n",
       "      <td id=\"T_d1a90_row7_col0\" class=\"data row7 col0\" >-</td>\n",
       "    </tr>\n",
       "    <tr>\n",
       "      <th id=\"T_d1a90_level0_row8\" class=\"row_heading level0 row8\" rowspan=\"2\">Microbrewery</th>\n",
       "      <th id=\"T_d1a90_level1_row8\" class=\"row_heading level1 row8\" >Active</th>\n",
       "      <td id=\"T_d1a90_row8_col0\" class=\"data row8 col0\" >33</td>\n",
       "    </tr>\n",
       "    <tr>\n",
       "      <th id=\"T_d1a90_level1_row9\" class=\"row_heading level1 row9\" >Closed</th>\n",
       "      <td id=\"T_d1a90_row9_col0\" class=\"data row9 col0\" >13</td>\n",
       "    </tr>\n",
       "  </tbody>\n",
       "</table>\n"
      ],
      "text/plain": [
       "<pandas.io.formats.style.Styler at 0x7f9580ba7460>"
      ]
     },
     "execution_count": 83,
     "metadata": {},
     "output_type": "execute_result"
    }
   ],
   "source": [
    "sum_table_mean = nc.groupby(['type', 'status'])['beer_count'].mean().to_frame()\n",
    "\n",
    "sum_table_mean.fillna('-').style.format(precision=0).set_caption(\"Beer Count by Brewery Type and Status\")\n"
   ]
  },
  {
   "cell_type": "markdown",
   "metadata": {},
   "source": [
    "### GroupBy objects\n",
    "\n",
    "We've been splitting our data into groups. Let's look at `GroupBy` objects themselves. These are created by the `groupby` function. Our textbook discusses these, starting pg. 130. Essentially, it's another way of doing what we've already done in these notes.\n",
    "\n",
    "Let's create a `GroupBy` object with the brewery data and take an look."
   ]
  },
  {
   "cell_type": "code",
   "execution_count": 87,
   "metadata": {},
   "outputs": [
    {
     "name": "stdout",
     "output_type": "stream",
     "text": [
      "<class 'pandas.core.groupby.generic.DataFrameGroupBy'>\n",
      "type\n",
      "Brewpub                33\n",
      "Brewpub/Brewery        41\n",
      "Client Brewer           9\n",
      "Commercial Brewery      3\n",
      "Microbrewery          165\n",
      "dtype: int64\n"
     ]
    }
   ],
   "source": [
    "nc_groups = nc.groupby('type')\n",
    "print(type(nc_groups))\n",
    "print(nc_groups.size())"
   ]
  },
  {
   "cell_type": "markdown",
   "metadata": {},
   "source": [
    "This `GroupBy` object has all of our data, but grouped by *type*. We can calculate the mean of all numeric data in the `GroupBy`. "
   ]
  },
  {
   "cell_type": "code",
   "execution_count": 88,
   "metadata": {},
   "outputs": [
    {
     "data": {
      "text/html": [
       "<div>\n",
       "<style scoped>\n",
       "    .dataframe tbody tr th:only-of-type {\n",
       "        vertical-align: middle;\n",
       "    }\n",
       "\n",
       "    .dataframe tbody tr th {\n",
       "        vertical-align: top;\n",
       "    }\n",
       "\n",
       "    .dataframe thead th {\n",
       "        text-align: right;\n",
       "    }\n",
       "</style>\n",
       "<table border=\"1\" class=\"dataframe\">\n",
       "  <thead>\n",
       "    <tr style=\"text-align: right;\">\n",
       "      <th></th>\n",
       "      <th>beer_count</th>\n",
       "      <th>est</th>\n",
       "    </tr>\n",
       "    <tr>\n",
       "      <th>type</th>\n",
       "      <th></th>\n",
       "      <th></th>\n",
       "    </tr>\n",
       "  </thead>\n",
       "  <tbody>\n",
       "    <tr>\n",
       "      <th>Brewpub</th>\n",
       "      <td>44.939394</td>\n",
       "      <td>2010.333333</td>\n",
       "    </tr>\n",
       "    <tr>\n",
       "      <th>Brewpub/Brewery</th>\n",
       "      <td>37.707317</td>\n",
       "      <td>2013.487805</td>\n",
       "    </tr>\n",
       "    <tr>\n",
       "      <th>Client Brewer</th>\n",
       "      <td>5.000000</td>\n",
       "      <td>2009.555556</td>\n",
       "    </tr>\n",
       "    <tr>\n",
       "      <th>Commercial Brewery</th>\n",
       "      <td>10.666667</td>\n",
       "      <td>2016.000000</td>\n",
       "    </tr>\n",
       "    <tr>\n",
       "      <th>Microbrewery</th>\n",
       "      <td>31.315152</td>\n",
       "      <td>2012.260606</td>\n",
       "    </tr>\n",
       "  </tbody>\n",
       "</table>\n",
       "</div>"
      ],
      "text/plain": [
       "                    beer_count          est\n",
       "type                                       \n",
       "Brewpub              44.939394  2010.333333\n",
       "Brewpub/Brewery      37.707317  2013.487805\n",
       "Client Brewer         5.000000  2009.555556\n",
       "Commercial Brewery   10.666667  2016.000000\n",
       "Microbrewery         31.315152  2012.260606"
      ]
     },
     "execution_count": 88,
     "metadata": {},
     "output_type": "execute_result"
    }
   ],
   "source": [
    "nc_groups.mean()"
   ]
  },
  {
   "cell_type": "markdown",
   "metadata": {},
   "source": [
    "We can also use `.agg` again to get multiple statistics. I'll put out just *beer_count* and get the sum, mean, min, and max by group *type*. So, very similar to above, but now we are dealing with a DataFrame that's \"pre-grouped\" in a sense. Also, note again how I use `np.mean`, but just `sum`. The `sum` function is base Python, but `mean` comes from `numpy`, so I need the `np.mean`. "
   ]
  },
  {
   "cell_type": "code",
   "execution_count": 90,
   "metadata": {},
   "outputs": [
    {
     "data": {
      "text/html": [
       "<div>\n",
       "<style scoped>\n",
       "    .dataframe tbody tr th:only-of-type {\n",
       "        vertical-align: middle;\n",
       "    }\n",
       "\n",
       "    .dataframe tbody tr th {\n",
       "        vertical-align: top;\n",
       "    }\n",
       "\n",
       "    .dataframe thead th {\n",
       "        text-align: right;\n",
       "    }\n",
       "</style>\n",
       "<table border=\"1\" class=\"dataframe\">\n",
       "  <thead>\n",
       "    <tr style=\"text-align: right;\">\n",
       "      <th></th>\n",
       "      <th>sum</th>\n",
       "      <th>mean</th>\n",
       "      <th>min</th>\n",
       "      <th>max</th>\n",
       "    </tr>\n",
       "    <tr>\n",
       "      <th>type</th>\n",
       "      <th></th>\n",
       "      <th></th>\n",
       "      <th></th>\n",
       "      <th></th>\n",
       "    </tr>\n",
       "  </thead>\n",
       "  <tbody>\n",
       "    <tr>\n",
       "      <th>Brewpub</th>\n",
       "      <td>1483</td>\n",
       "      <td>44.939394</td>\n",
       "      <td>1</td>\n",
       "      <td>424</td>\n",
       "    </tr>\n",
       "    <tr>\n",
       "      <th>Brewpub/Brewery</th>\n",
       "      <td>1546</td>\n",
       "      <td>37.707317</td>\n",
       "      <td>3</td>\n",
       "      <td>165</td>\n",
       "    </tr>\n",
       "    <tr>\n",
       "      <th>Client Brewer</th>\n",
       "      <td>45</td>\n",
       "      <td>5.000000</td>\n",
       "      <td>1</td>\n",
       "      <td>23</td>\n",
       "    </tr>\n",
       "    <tr>\n",
       "      <th>Commercial Brewery</th>\n",
       "      <td>32</td>\n",
       "      <td>10.666667</td>\n",
       "      <td>5</td>\n",
       "      <td>18</td>\n",
       "    </tr>\n",
       "    <tr>\n",
       "      <th>Microbrewery</th>\n",
       "      <td>5167</td>\n",
       "      <td>31.315152</td>\n",
       "      <td>1</td>\n",
       "      <td>279</td>\n",
       "    </tr>\n",
       "  </tbody>\n",
       "</table>\n",
       "</div>"
      ],
      "text/plain": [
       "                     sum       mean  min  max\n",
       "type                                         \n",
       "Brewpub             1483  44.939394    1  424\n",
       "Brewpub/Brewery     1546  37.707317    3  165\n",
       "Client Brewer         45   5.000000    1   23\n",
       "Commercial Brewery    32  10.666667    5   18\n",
       "Microbrewery        5167  31.315152    1  279"
      ]
     },
     "execution_count": 90,
     "metadata": {},
     "output_type": "execute_result"
    }
   ],
   "source": [
    "nc_groups['beer_count'].agg([sum, np.mean, min, max])"
   ]
  },
  {
   "cell_type": "markdown",
   "metadata": {},
   "source": [
    "## skimpy\n",
    "\n",
    "Adding in some new libraries really lets us see why using something like Python can improve our workflow. The `skimpy` library gives us a nice summary of our data. We can install `skimpy` via Anaconda. To use this package, you'll need to type the following in the terminal (Mac) or command prompt (Windows). You'll need to restart VS Code.\n",
    "\n",
    "```\n",
    "python -m pip install skimpy\n",
    "```\n",
    "\n",
    "This *should* install skimpy in your Anaconda distribution of Python. Remember, you actually have several versions of Python on your computer. This is why you have that choice of Python kernel when you're running code.\n",
    "\n",
    " I'm going to bring back the Zillow `uw` DataFrame, just because it has more variables to look at. \n",
    "\n",
    "You can read about this package [here](https://aeturrell.github.io/skimpy/). "
   ]
  },
  {
   "cell_type": "code",
   "execution_count": 3,
   "metadata": {},
   "outputs": [
    {
     "data": {
      "text/html": [
       "<pre style=\"white-space:pre;overflow-x:auto;line-height:normal;font-family:Menlo,'DejaVu Sans Mono',consolas,'Courier New',monospace\">╭───────────────────────────────────── skimpy summary ──────────────────────────────────────╮\n",
       "│ <span style=\"font-style: italic\">         Data Summary         </span> <span style=\"font-style: italic\">      Data Types       </span>                                    │\n",
       "│ ┏━━━━━━━━━━━━━━━━━━━┳━━━━━━━━┓ ┏━━━━━━━━━━━━━┳━━━━━━━┓                                    │\n",
       "│ ┃<span style=\"color: #008080; text-decoration-color: #008080; font-weight: bold\"> dataframe         </span>┃<span style=\"color: #008080; text-decoration-color: #008080; font-weight: bold\"> Values </span>┃ ┃<span style=\"color: #008080; text-decoration-color: #008080; font-weight: bold\"> Column Type </span>┃<span style=\"color: #008080; text-decoration-color: #008080; font-weight: bold\"> Count </span>┃                                    │\n",
       "│ ┡━━━━━━━━━━━━━━━━━━━╇━━━━━━━━┩ ┡━━━━━━━━━━━━━╇━━━━━━━┩                                    │\n",
       "│ │ Number of rows    │ 2610   │ │ float64     │ 19    │                                    │\n",
       "│ │ Number of columns │ 24     │ │ object      │ 4     │                                    │\n",
       "│ └───────────────────┴────────┘ │ int64       │ 1     │                                    │\n",
       "│                                └─────────────┴───────┘                                    │\n",
       "│ <span style=\"font-style: italic\">                                         number                                         </span>  │\n",
       "│ ┏━━━━━━━━┳━━━━━━━━┳━━━━━━━━┳━━━━━━━━┳━━━━━━━━┳━━━━━━━┳━━━━━━━━┳━━━━━━━┳━━━━━━━━┳━━━━━━━┓  │\n",
       "│ ┃<span style=\"font-weight: bold\">        </span>┃<span style=\"font-weight: bold\"> missin </span>┃<span style=\"font-weight: bold\"> comple </span>┃<span style=\"font-weight: bold\"> mean   </span>┃<span style=\"font-weight: bold\"> sd     </span>┃<span style=\"font-weight: bold\"> p0    </span>┃<span style=\"font-weight: bold\"> p25    </span>┃<span style=\"font-weight: bold\"> p75   </span>┃<span style=\"font-weight: bold\"> p100   </span>┃<span style=\"font-weight: bold\"> hist  </span>┃  │\n",
       "│ ┃        ┃<span style=\"font-weight: bold\"> g      </span>┃<span style=\"font-weight: bold\"> te     </span>┃        ┃        ┃       ┃        ┃       ┃        ┃       ┃  │\n",
       "│ ┃        ┃        ┃<span style=\"font-weight: bold\"> rate   </span>┃        ┃        ┃       ┃        ┃       ┃        ┃       ┃  │\n",
       "│ ┡━━━━━━━━╇━━━━━━━━╇━━━━━━━━╇━━━━━━━━╇━━━━━━━━╇━━━━━━━╇━━━━━━━━╇━━━━━━━╇━━━━━━━━╇━━━━━━━┩  │\n",
       "│ │ <span style=\"color: #af87ff; text-decoration-color: #af87ff\">AllHom</span> │ <span style=\"color: #008080; text-decoration-color: #008080\">     0</span> │ <span style=\"color: #008080; text-decoration-color: #008080\">     1</span> │ <span style=\"color: #008080; text-decoration-color: #008080\"> 31000</span> │ <span style=\"color: #008080; text-decoration-color: #008080\">700000</span> │ <span style=\"color: #008080; text-decoration-color: #008080\">    0</span> │ <span style=\"color: #008080; text-decoration-color: #008080\">   730</span> │ <span style=\"color: #008080; text-decoration-color: #008080\"> 4700</span> │ <span style=\"color: #008080; text-decoration-color: #008080\">350000</span> │ <span style=\"color: #008000; text-decoration-color: #008000\">  █  </span> │  │\n",
       "│ │ <span style=\"color: #af87ff; text-decoration-color: #af87ff\">es_Tie</span> │        │        │        │        │       │        │       │ <span style=\"color: #008080; text-decoration-color: #008080\">    00</span> │       │  │\n",
       "│ │ <span style=\"color: #af87ff; text-decoration-color: #af87ff\">r1    </span> │        │        │        │        │       │        │       │        │       │  │\n",
       "│ │ <span style=\"color: #af87ff; text-decoration-color: #af87ff\">AllHom</span> │ <span style=\"color: #008080; text-decoration-color: #008080\">     0</span> │ <span style=\"color: #008080; text-decoration-color: #008080\">     1</span> │ <span style=\"color: #008080; text-decoration-color: #008080\"> 31000</span> │ <span style=\"color: #008080; text-decoration-color: #008080\">700000</span> │ <span style=\"color: #008080; text-decoration-color: #008080\">    0</span> │ <span style=\"color: #008080; text-decoration-color: #008080\">   770</span> │ <span style=\"color: #008080; text-decoration-color: #008080\"> 4500</span> │ <span style=\"color: #008080; text-decoration-color: #008080\">350000</span> │ <span style=\"color: #008000; text-decoration-color: #008000\">  █  </span> │  │\n",
       "│ │ <span style=\"color: #af87ff; text-decoration-color: #af87ff\">es_Tie</span> │        │        │        │        │       │        │       │ <span style=\"color: #008080; text-decoration-color: #008080\">    00</span> │       │  │\n",
       "│ │ <span style=\"color: #af87ff; text-decoration-color: #af87ff\">r2    </span> │        │        │        │        │       │        │       │        │       │  │\n",
       "│ │ <span style=\"color: #af87ff; text-decoration-color: #af87ff\">AllHom</span> │ <span style=\"color: #008080; text-decoration-color: #008080\">     0</span> │ <span style=\"color: #008080; text-decoration-color: #008080\">     1</span> │ <span style=\"color: #008080; text-decoration-color: #008080\"> 31000</span> │ <span style=\"color: #008080; text-decoration-color: #008080\">700000</span> │ <span style=\"color: #008080; text-decoration-color: #008080\">   14</span> │ <span style=\"color: #008080; text-decoration-color: #008080\">   780</span> │ <span style=\"color: #008080; text-decoration-color: #008080\"> 4600</span> │ <span style=\"color: #008080; text-decoration-color: #008080\">350000</span> │ <span style=\"color: #008000; text-decoration-color: #008000\">  █  </span> │  │\n",
       "│ │ <span style=\"color: #af87ff; text-decoration-color: #af87ff\">es_Tie</span> │        │        │        │        │       │        │       │ <span style=\"color: #008080; text-decoration-color: #008080\">    00</span> │       │  │\n",
       "│ │ <span style=\"color: #af87ff; text-decoration-color: #af87ff\">r3    </span> │        │        │        │        │       │        │       │        │       │  │\n",
       "│ │ <span style=\"color: #af87ff; text-decoration-color: #af87ff\">AllHom</span> │ <span style=\"color: #008080; text-decoration-color: #008080\">     0</span> │ <span style=\"color: #008080; text-decoration-color: #008080\">     1</span> │ <span style=\"color: #008080; text-decoration-color: #008080\"> 92000</span> │ <span style=\"color: #008080; text-decoration-color: #008080\">210000</span> │ <span style=\"color: #008080; text-decoration-color: #008080\">  110</span> │ <span style=\"color: #008080; text-decoration-color: #008080\">  2400</span> │ <span style=\"color: #008080; text-decoration-color: #008080\">13000</span> │ <span style=\"color: #008080; text-decoration-color: #008080\">110000</span> │ <span style=\"color: #008000; text-decoration-color: #008000\">  █  </span> │  │\n",
       "│ │ <span style=\"color: #af87ff; text-decoration-color: #af87ff\">es_All</span> │        │        │        │ <span style=\"color: #008080; text-decoration-color: #008080\">     0</span> │       │        │       │ <span style=\"color: #008080; text-decoration-color: #008080\">   000</span> │       │  │\n",
       "│ │ <span style=\"color: #af87ff; text-decoration-color: #af87ff\">Tiers </span> │        │        │        │        │       │        │       │        │       │  │\n",
       "│ │ <span style=\"color: #af87ff; text-decoration-color: #af87ff\">UWHome</span> │ <span style=\"color: #008080; text-decoration-color: #008080\">     0</span> │ <span style=\"color: #008080; text-decoration-color: #008080\">     1</span> │ <span style=\"color: #008080; text-decoration-color: #008080\">  1300</span> │ <span style=\"color: #008080; text-decoration-color: #008080\"> 14000</span> │ <span style=\"color: #008080; text-decoration-color: #008080\">    0</span> │ <span style=\"color: #008080; text-decoration-color: #008080\">    51</span> │ <span style=\"color: #008080; text-decoration-color: #008080\">  550</span> │ <span style=\"color: #008080; text-decoration-color: #008080\">590000</span> │ <span style=\"color: #008000; text-decoration-color: #008000\">  █  </span> │  │\n",
       "│ │ <span style=\"color: #af87ff; text-decoration-color: #af87ff\">s_Tier</span> │        │        │        │        │       │        │       │        │       │  │\n",
       "│ │ <span style=\"color: #af87ff; text-decoration-color: #af87ff\">1     </span> │        │        │        │        │       │        │       │        │       │  │\n",
       "│ │ <span style=\"color: #af87ff; text-decoration-color: #af87ff\">UWHome</span> │ <span style=\"color: #008080; text-decoration-color: #008080\">     0</span> │ <span style=\"color: #008080; text-decoration-color: #008080\">     1</span> │ <span style=\"color: #008080; text-decoration-color: #008080\">  1200</span> │ <span style=\"color: #008080; text-decoration-color: #008080\"> 13000</span> │ <span style=\"color: #008080; text-decoration-color: #008080\">    0</span> │ <span style=\"color: #008080; text-decoration-color: #008080\">    59</span> │ <span style=\"color: #008080; text-decoration-color: #008080\">  540</span> │ <span style=\"color: #008080; text-decoration-color: #008080\">540000</span> │ <span style=\"color: #008000; text-decoration-color: #008000\">  █  </span> │  │\n",
       "│ │ <span style=\"color: #af87ff; text-decoration-color: #af87ff\">s_Tier</span> │        │        │        │        │       │        │       │        │       │  │\n",
       "│ │ <span style=\"color: #af87ff; text-decoration-color: #af87ff\">2     </span> │        │        │        │        │       │        │       │        │       │  │\n",
       "│ │ <span style=\"color: #af87ff; text-decoration-color: #af87ff\">UWHome</span> │ <span style=\"color: #008080; text-decoration-color: #008080\">     0</span> │ <span style=\"color: #008080; text-decoration-color: #008080\">     1</span> │ <span style=\"color: #008080; text-decoration-color: #008080\">  1600</span> │ <span style=\"color: #008080; text-decoration-color: #008080\"> 16000</span> │ <span style=\"color: #008080; text-decoration-color: #008080\">    0</span> │ <span style=\"color: #008080; text-decoration-color: #008080\">   100</span> │ <span style=\"color: #008080; text-decoration-color: #008080\">  750</span> │ <span style=\"color: #008080; text-decoration-color: #008080\">730000</span> │ <span style=\"color: #008000; text-decoration-color: #008000\">  █  </span> │  │\n",
       "│ │ <span style=\"color: #af87ff; text-decoration-color: #af87ff\">s_Tier</span> │        │        │        │        │       │        │       │        │       │  │\n",
       "│ │ <span style=\"color: #af87ff; text-decoration-color: #af87ff\">3     </span> │        │        │        │        │       │        │       │        │       │  │\n",
       "│ │ <span style=\"color: #af87ff; text-decoration-color: #af87ff\">UWHome</span> │ <span style=\"color: #008080; text-decoration-color: #008080\">     0</span> │ <span style=\"color: #008080; text-decoration-color: #008080\">     1</span> │ <span style=\"color: #008080; text-decoration-color: #008080\">  4100</span> │ <span style=\"color: #008080; text-decoration-color: #008080\"> 43000</span> │ <span style=\"color: #008080; text-decoration-color: #008080\">  100</span> │ <span style=\"color: #008080; text-decoration-color: #008080\">   250</span> │ <span style=\"color: #008080; text-decoration-color: #008080\"> 2000</span> │ <span style=\"color: #008080; text-decoration-color: #008080\">190000</span> │ <span style=\"color: #008000; text-decoration-color: #008000\">  █  </span> │  │\n",
       "│ │ <span style=\"color: #af87ff; text-decoration-color: #af87ff\">s_AllT</span> │        │        │        │        │       │        │       │ <span style=\"color: #008080; text-decoration-color: #008080\">     0</span> │       │  │\n",
       "│ │ <span style=\"color: #af87ff; text-decoration-color: #af87ff\">iers  </span> │        │        │        │        │       │        │       │        │       │  │\n",
       "│ │ <span style=\"color: #af87ff; text-decoration-color: #af87ff\">UWHome</span> │ <span style=\"color: #008080; text-decoration-color: #008080\">     0</span> │ <span style=\"color: #008080; text-decoration-color: #008080\">     1</span> │ <span style=\"color: #008080; text-decoration-color: #008080\">280000</span> │ <span style=\"color: #008080; text-decoration-color: #008080\">280000</span> │ <span style=\"color: #008080; text-decoration-color: #008080\">    0</span> │ <span style=\"color: #008080; text-decoration-color: #008080\">760000</span> │ <span style=\"color: #008080; text-decoration-color: #008080\">11000</span> │ <span style=\"color: #008080; text-decoration-color: #008080\">120000</span> │ <span style=\"color: #008000; text-decoration-color: #008000\">  █  </span> │  │\n",
       "│ │ <span style=\"color: #af87ff; text-decoration-color: #af87ff\">s_Tota</span> │        │        │ <span style=\"color: #008080; text-decoration-color: #008080\">   000</span> │ <span style=\"color: #008080; text-decoration-color: #008080\">  0000</span> │       │ <span style=\"color: #008080; text-decoration-color: #008080\">     0</span> │ <span style=\"color: #008080; text-decoration-color: #008080\"> 0000</span> │ <span style=\"color: #008080; text-decoration-color: #008080\">000000</span> │       │  │\n",
       "│ │ <span style=\"color: #af87ff; text-decoration-color: #af87ff\">lValue</span> │        │        │        │        │       │        │       │        │       │  │\n",
       "│ │ <span style=\"color: #af87ff; text-decoration-color: #af87ff\">_T    </span> │        │        │        │        │       │        │       │        │       │  │\n",
       "│ │ <span style=\"color: #af87ff; text-decoration-color: #af87ff\">UWHome</span> │ <span style=\"color: #008080; text-decoration-color: #008080\">     0</span> │ <span style=\"color: #008080; text-decoration-color: #008080\">     1</span> │ <span style=\"color: #008080; text-decoration-color: #008080\">440000</span> │ <span style=\"color: #008080; text-decoration-color: #008080\">450000</span> │ <span style=\"color: #008080; text-decoration-color: #008080\">    0</span> │ <span style=\"color: #008080; text-decoration-color: #008080\">140000</span> │ <span style=\"color: #008080; text-decoration-color: #008080\">17000</span> │ <span style=\"color: #008080; text-decoration-color: #008080\">200000</span> │ <span style=\"color: #008000; text-decoration-color: #008000\">  █  </span> │  │\n",
       "│ │ <span style=\"color: #af87ff; text-decoration-color: #af87ff\">s_Tota</span> │        │        │ <span style=\"color: #008080; text-decoration-color: #008080\">   000</span> │ <span style=\"color: #008080; text-decoration-color: #008080\">  0000</span> │       │ <span style=\"color: #008080; text-decoration-color: #008080\">    00</span> │ <span style=\"color: #008080; text-decoration-color: #008080\"> 0000</span> │ <span style=\"color: #008080; text-decoration-color: #008080\">000000</span> │       │  │\n",
       "│ │ <span style=\"color: #af87ff; text-decoration-color: #af87ff\">lValue</span> │        │        │        │        │       │        │       │        │       │  │\n",
       "│ │ <span style=\"color: #af87ff; text-decoration-color: #af87ff\">_T    </span> │        │        │        │        │       │        │       │        │       │  │\n",
       "│ │ <span style=\"color: #af87ff; text-decoration-color: #af87ff\">UWHome</span> │ <span style=\"color: #008080; text-decoration-color: #008080\">     0</span> │ <span style=\"color: #008080; text-decoration-color: #008080\">     1</span> │ <span style=\"color: #008080; text-decoration-color: #008080\">130000</span> │ <span style=\"color: #008080; text-decoration-color: #008080\">140000</span> │ <span style=\"color: #008080; text-decoration-color: #008080\">    0</span> │ <span style=\"color: #008080; text-decoration-color: #008080\">460000</span> │ <span style=\"color: #008080; text-decoration-color: #008080\">51000</span> │ <span style=\"color: #008080; text-decoration-color: #008080\">600000</span> │ <span style=\"color: #008000; text-decoration-color: #008000\">  █  </span> │  │\n",
       "│ │ <span style=\"color: #af87ff; text-decoration-color: #af87ff\">s_Tota</span> │        │        │ <span style=\"color: #008080; text-decoration-color: #008080\">  0000</span> │ <span style=\"color: #008080; text-decoration-color: #008080\"> 00000</span> │       │ <span style=\"color: #008080; text-decoration-color: #008080\">    00</span> │ <span style=\"color: #008080; text-decoration-color: #008080\"> 0000</span> │ <span style=\"color: #008080; text-decoration-color: #008080\">000000</span> │       │  │\n",
       "│ │ <span style=\"color: #af87ff; text-decoration-color: #af87ff\">lValue</span> │        │        │        │        │       │        │       │        │       │  │\n",
       "│ │ <span style=\"color: #af87ff; text-decoration-color: #af87ff\">_T    </span> │        │        │        │        │       │        │       │        │       │  │\n",
       "│ │ <span style=\"color: #af87ff; text-decoration-color: #af87ff\">UWHome</span> │ <span style=\"color: #008080; text-decoration-color: #008080\">     0</span> │ <span style=\"color: #008080; text-decoration-color: #008080\">     1</span> │ <span style=\"color: #008080; text-decoration-color: #008080\">200000</span> │ <span style=\"color: #008080; text-decoration-color: #008080\">210000</span> │ <span style=\"color: #008080; text-decoration-color: #008080\">58000</span> │ <span style=\"color: #008080; text-decoration-color: #008080\">840000</span> │ <span style=\"color: #008080; text-decoration-color: #008080\">84000</span> │ <span style=\"color: #008080; text-decoration-color: #008080\">920000</span> │ <span style=\"color: #008000; text-decoration-color: #008000\">  █  </span> │  │\n",
       "│ │ <span style=\"color: #af87ff; text-decoration-color: #af87ff\">s_Tota</span> │        │        │ <span style=\"color: #008080; text-decoration-color: #008080\">  0000</span> │ <span style=\"color: #008080; text-decoration-color: #008080\"> 00000</span> │ <span style=\"color: #008080; text-decoration-color: #008080\">   00</span> │ <span style=\"color: #008080; text-decoration-color: #008080\">    00</span> │ <span style=\"color: #008080; text-decoration-color: #008080\"> 0000</span> │ <span style=\"color: #008080; text-decoration-color: #008080\">000000</span> │       │  │\n",
       "│ │ <span style=\"color: #af87ff; text-decoration-color: #af87ff\">lValue</span> │        │        │        │        │       │        │       │        │       │  │\n",
       "│ │ <span style=\"color: #af87ff; text-decoration-color: #af87ff\">_A    </span> │        │        │        │        │       │        │       │        │       │  │\n",
       "│ │ <span style=\"color: #af87ff; text-decoration-color: #af87ff\">UWHome</span> │ <span style=\"color: #008080; text-decoration-color: #008080\">     0</span> │ <span style=\"color: #008080; text-decoration-color: #008080\">     1</span> │ <span style=\"color: #008080; text-decoration-color: #008080\">400000</span> │ <span style=\"color: #008080; text-decoration-color: #008080\">400000</span> │ <span style=\"color: #008080; text-decoration-color: #008080\">42000</span> │ <span style=\"color: #008080; text-decoration-color: #008080\">190000</span> │ <span style=\"color: #008080; text-decoration-color: #008080\">47000</span> │ <span style=\"color: #008080; text-decoration-color: #008080\">540000</span> │ <span style=\"color: #008000; text-decoration-color: #008000\">  █  </span> │  │\n",
       "│ │ <span style=\"color: #af87ff; text-decoration-color: #af87ff\">s_Medi</span> │        │        │        │        │       │        │ <span style=\"color: #008080; text-decoration-color: #008080\">    0</span> │ <span style=\"color: #008080; text-decoration-color: #008080\">     0</span> │       │  │\n",
       "│ │ <span style=\"color: #af87ff; text-decoration-color: #af87ff\">anValu</span> │        │        │        │        │       │        │       │        │       │  │\n",
       "│ │ <span style=\"color: #af87ff; text-decoration-color: #af87ff\">e_    </span> │        │        │        │        │       │        │       │        │       │  │\n",
       "│ │ <span style=\"color: #af87ff; text-decoration-color: #af87ff\">AllHom</span> │ <span style=\"color: #008080; text-decoration-color: #008080\">     0</span> │ <span style=\"color: #008080; text-decoration-color: #008080\">     1</span> │ <span style=\"color: #008080; text-decoration-color: #008080\">  0.24</span> │ <span style=\"color: #008080; text-decoration-color: #008080\">   0.3</span> │ <span style=\"color: #008080; text-decoration-color: #008080\">    0</span> │ <span style=\"color: #008080; text-decoration-color: #008080\"> 0.025</span> │ <span style=\"color: #008080; text-decoration-color: #008080\"> 0.35</span> │ <span style=\"color: #008080; text-decoration-color: #008080\">     1</span> │ <span style=\"color: #008000; text-decoration-color: #008000\">█▂▁▁▁</span> │  │\n",
       "│ │ <span style=\"color: #af87ff; text-decoration-color: #af87ff\">es_Tie</span> │        │        │        │        │       │        │       │        │ <span style=\"color: #008000; text-decoration-color: #008000\">  ▁  </span> │  │\n",
       "│ │ <span style=\"color: #af87ff; text-decoration-color: #af87ff\">r1_Sha</span> │        │        │        │        │       │        │       │        │       │  │\n",
       "│ │ <span style=\"color: #af87ff; text-decoration-color: #af87ff\">re    </span> │        │        │        │        │       │        │       │        │       │  │\n",
       "│ │ <span style=\"color: #af87ff; text-decoration-color: #af87ff\">AllHom</span> │ <span style=\"color: #008080; text-decoration-color: #008080\">     0</span> │ <span style=\"color: #008080; text-decoration-color: #008080\">     1</span> │ <span style=\"color: #008080; text-decoration-color: #008080\">  0.23</span> │ <span style=\"color: #008080; text-decoration-color: #008080\">  0.29</span> │ <span style=\"color: #008080; text-decoration-color: #008080\">    0</span> │ <span style=\"color: #008080; text-decoration-color: #008080\">  0.03</span> │ <span style=\"color: #008080; text-decoration-color: #008080\"> 0.33</span> │ <span style=\"color: #008080; text-decoration-color: #008080\">     1</span> │ <span style=\"color: #008000; text-decoration-color: #008000\">█▂▁▁▁</span> │  │\n",
       "│ │ <span style=\"color: #af87ff; text-decoration-color: #af87ff\">es_Tie</span> │        │        │        │        │       │        │       │        │ <span style=\"color: #008000; text-decoration-color: #008000\">  ▁  </span> │  │\n",
       "│ │ <span style=\"color: #af87ff; text-decoration-color: #af87ff\">r2_Sha</span> │        │        │        │        │       │        │       │        │       │  │\n",
       "│ │ <span style=\"color: #af87ff; text-decoration-color: #af87ff\">re    </span> │        │        │        │        │       │        │       │        │       │  │\n",
       "│ │ <span style=\"color: #af87ff; text-decoration-color: #af87ff\">AllHom</span> │ <span style=\"color: #008080; text-decoration-color: #008080\">     0</span> │ <span style=\"color: #008080; text-decoration-color: #008080\">     1</span> │ <span style=\"color: #008080; text-decoration-color: #008080\">  0.27</span> │ <span style=\"color: #008080; text-decoration-color: #008080\">  0.27</span> │ <span style=\"color: #008080; text-decoration-color: #008080\">    0</span> │ <span style=\"color: #008080; text-decoration-color: #008080\"> 0.061</span> │ <span style=\"color: #008080; text-decoration-color: #008080\">  0.4</span> │ <span style=\"color: #008080; text-decoration-color: #008080\">     1</span> │ <span style=\"color: #008000; text-decoration-color: #008000\">█▃▂▁▁</span> │  │\n",
       "│ │ <span style=\"color: #af87ff; text-decoration-color: #af87ff\">es_Tie</span> │        │        │        │        │       │        │       │        │ <span style=\"color: #008000; text-decoration-color: #008000\">  ▁  </span> │  │\n",
       "│ │ <span style=\"color: #af87ff; text-decoration-color: #af87ff\">r3_Sha</span> │        │        │        │        │       │        │       │        │       │  │\n",
       "│ │ <span style=\"color: #af87ff; text-decoration-color: #af87ff\">re    </span> │        │        │        │        │       │        │       │        │       │  │\n",
       "│ │ <span style=\"color: #af87ff; text-decoration-color: #af87ff\">AllHom</span> │ <span style=\"color: #008080; text-decoration-color: #008080\">     0</span> │ <span style=\"color: #008080; text-decoration-color: #008080\">     1</span> │ <span style=\"color: #008080; text-decoration-color: #008080\">  0.25</span> │ <span style=\"color: #008080; text-decoration-color: #008080\">  0.28</span> │ <span style=\"color: #008080; text-decoration-color: #008080\">0.000</span> │ <span style=\"color: #008080; text-decoration-color: #008080\"> 0.047</span> │ <span style=\"color: #008080; text-decoration-color: #008080\"> 0.36</span> │ <span style=\"color: #008080; text-decoration-color: #008080\">     1</span> │ <span style=\"color: #008000; text-decoration-color: #008000\">█▂▁▁▁</span> │  │\n",
       "│ │ <span style=\"color: #af87ff; text-decoration-color: #af87ff\">es_All</span> │        │        │        │        │ <span style=\"color: #008080; text-decoration-color: #008080\">   64</span> │        │       │        │ <span style=\"color: #008000; text-decoration-color: #008000\">  ▁  </span> │  │\n",
       "│ │ <span style=\"color: #af87ff; text-decoration-color: #af87ff\">Tiers_</span> │        │        │        │        │       │        │       │        │       │  │\n",
       "│ │ <span style=\"color: #af87ff; text-decoration-color: #af87ff\">Sh    </span> │        │        │        │        │       │        │       │        │       │  │\n",
       "│ │ <span style=\"color: #af87ff; text-decoration-color: #af87ff\">UWHome</span> │ <span style=\"color: #008080; text-decoration-color: #008080\">     0</span> │ <span style=\"color: #008080; text-decoration-color: #008080\">     1</span> │ <span style=\"color: #008080; text-decoration-color: #008080\">  0.29</span> │ <span style=\"color: #008080; text-decoration-color: #008080\">  0.18</span> │ <span style=\"color: #008080; text-decoration-color: #008080\">    0</span> │ <span style=\"color: #008080; text-decoration-color: #008080\">  0.15</span> │ <span style=\"color: #008080; text-decoration-color: #008080\"> 0.37</span> │ <span style=\"color: #008080; text-decoration-color: #008080\">     1</span> │ <span style=\"color: #008000; text-decoration-color: #008000\">▆█▆▁▁</span> │  │\n",
       "│ │ <span style=\"color: #af87ff; text-decoration-color: #af87ff\">s_Shar</span> │        │        │        │        │       │        │       │        │       │  │\n",
       "│ │ <span style=\"color: #af87ff; text-decoration-color: #af87ff\">eInTie</span> │        │        │        │        │       │        │       │        │       │  │\n",
       "│ │ <span style=\"color: #af87ff; text-decoration-color: #af87ff\">r1    </span> │        │        │        │        │       │        │       │        │       │  │\n",
       "│ │ <span style=\"color: #af87ff; text-decoration-color: #af87ff\">UWHome</span> │ <span style=\"color: #008080; text-decoration-color: #008080\">     0</span> │ <span style=\"color: #008080; text-decoration-color: #008080\">     1</span> │ <span style=\"color: #008080; text-decoration-color: #008080\">  0.27</span> │ <span style=\"color: #008080; text-decoration-color: #008080\">  0.12</span> │ <span style=\"color: #008080; text-decoration-color: #008080\">    0</span> │ <span style=\"color: #008080; text-decoration-color: #008080\">   0.2</span> │ <span style=\"color: #008080; text-decoration-color: #008080\"> 0.34</span> │ <span style=\"color: #008080; text-decoration-color: #008080\">  0.89</span> │ <span style=\"color: #008000; text-decoration-color: #008000\">▃▇█▁ </span> │  │\n",
       "│ │ <span style=\"color: #af87ff; text-decoration-color: #af87ff\">s_Shar</span> │        │        │        │        │       │        │       │        │       │  │\n",
       "│ │ <span style=\"color: #af87ff; text-decoration-color: #af87ff\">eInTie</span> │        │        │        │        │       │        │       │        │       │  │\n",
       "│ │ <span style=\"color: #af87ff; text-decoration-color: #af87ff\">r2    </span> │        │        │        │        │       │        │       │        │       │  │\n",
       "│ │ <span style=\"color: #af87ff; text-decoration-color: #af87ff\">UWHome</span> │ <span style=\"color: #008080; text-decoration-color: #008080\">     0</span> │ <span style=\"color: #008080; text-decoration-color: #008080\">     1</span> │ <span style=\"color: #008080; text-decoration-color: #008080\">  0.44</span> │ <span style=\"color: #008080; text-decoration-color: #008080\">  0.21</span> │ <span style=\"color: #008080; text-decoration-color: #008080\">    0</span> │ <span style=\"color: #008080; text-decoration-color: #008080\">  0.31</span> │ <span style=\"color: #008080; text-decoration-color: #008080\"> 0.56</span> │ <span style=\"color: #008080; text-decoration-color: #008080\">     1</span> │ <span style=\"color: #008000; text-decoration-color: #008000\">▂▆█▄▂</span> │  │\n",
       "│ │ <span style=\"color: #af87ff; text-decoration-color: #af87ff\">s_Shar</span> │        │        │        │        │       │        │       │        │ <span style=\"color: #008000; text-decoration-color: #008000\">  ▁  </span> │  │\n",
       "│ │ <span style=\"color: #af87ff; text-decoration-color: #af87ff\">eInTie</span> │        │        │        │        │       │        │       │        │       │  │\n",
       "│ │ <span style=\"color: #af87ff; text-decoration-color: #af87ff\">r3    </span> │        │        │        │        │       │        │       │        │       │  │\n",
       "│ └────────┴────────┴────────┴────────┴────────┴───────┴────────┴───────┴────────┴───────┘  │\n",
       "╰─────────────────────────────────────────── End ───────────────────────────────────────────╯\n",
       "</pre>\n"
      ],
      "text/plain": [
       "╭───────────────────────────────────── skimpy summary ──────────────────────────────────────╮\n",
       "│ \u001b[3m         Data Summary         \u001b[0m \u001b[3m      Data Types       \u001b[0m                                    │\n",
       "│ ┏━━━━━━━━━━━━━━━━━━━┳━━━━━━━━┓ ┏━━━━━━━━━━━━━┳━━━━━━━┓                                    │\n",
       "│ ┃\u001b[1;36m \u001b[0m\u001b[1;36mdataframe        \u001b[0m\u001b[1;36m \u001b[0m┃\u001b[1;36m \u001b[0m\u001b[1;36mValues\u001b[0m\u001b[1;36m \u001b[0m┃ ┃\u001b[1;36m \u001b[0m\u001b[1;36mColumn Type\u001b[0m\u001b[1;36m \u001b[0m┃\u001b[1;36m \u001b[0m\u001b[1;36mCount\u001b[0m\u001b[1;36m \u001b[0m┃                                    │\n",
       "│ ┡━━━━━━━━━━━━━━━━━━━╇━━━━━━━━┩ ┡━━━━━━━━━━━━━╇━━━━━━━┩                                    │\n",
       "│ │ Number of rows    │ 2610   │ │ float64     │ 19    │                                    │\n",
       "│ │ Number of columns │ 24     │ │ object      │ 4     │                                    │\n",
       "│ └───────────────────┴────────┘ │ int64       │ 1     │                                    │\n",
       "│                                └─────────────┴───────┘                                    │\n",
       "│ \u001b[3m                                         number                                         \u001b[0m  │\n",
       "│ ┏━━━━━━━━┳━━━━━━━━┳━━━━━━━━┳━━━━━━━━┳━━━━━━━━┳━━━━━━━┳━━━━━━━━┳━━━━━━━┳━━━━━━━━┳━━━━━━━┓  │\n",
       "│ ┃\u001b[1m \u001b[0m\u001b[1m      \u001b[0m\u001b[1m \u001b[0m┃\u001b[1m \u001b[0m\u001b[1mmissin\u001b[0m\u001b[1m \u001b[0m┃\u001b[1m \u001b[0m\u001b[1mcomple\u001b[0m\u001b[1m \u001b[0m┃\u001b[1m \u001b[0m\u001b[1mmean  \u001b[0m\u001b[1m \u001b[0m┃\u001b[1m \u001b[0m\u001b[1msd    \u001b[0m\u001b[1m \u001b[0m┃\u001b[1m \u001b[0m\u001b[1mp0   \u001b[0m\u001b[1m \u001b[0m┃\u001b[1m \u001b[0m\u001b[1mp25   \u001b[0m\u001b[1m \u001b[0m┃\u001b[1m \u001b[0m\u001b[1mp75  \u001b[0m\u001b[1m \u001b[0m┃\u001b[1m \u001b[0m\u001b[1mp100  \u001b[0m\u001b[1m \u001b[0m┃\u001b[1m \u001b[0m\u001b[1mhist \u001b[0m\u001b[1m \u001b[0m┃  │\n",
       "│ ┃        ┃\u001b[1m \u001b[0m\u001b[1mg     \u001b[0m\u001b[1m \u001b[0m┃\u001b[1m \u001b[0m\u001b[1mte    \u001b[0m\u001b[1m \u001b[0m┃        ┃        ┃       ┃        ┃       ┃        ┃       ┃  │\n",
       "│ ┃        ┃        ┃\u001b[1m \u001b[0m\u001b[1mrate  \u001b[0m\u001b[1m \u001b[0m┃        ┃        ┃       ┃        ┃       ┃        ┃       ┃  │\n",
       "│ ┡━━━━━━━━╇━━━━━━━━╇━━━━━━━━╇━━━━━━━━╇━━━━━━━━╇━━━━━━━╇━━━━━━━━╇━━━━━━━╇━━━━━━━━╇━━━━━━━┩  │\n",
       "│ │ \u001b[38;5;141mAllHom\u001b[0m │ \u001b[36m     0\u001b[0m │ \u001b[36m     1\u001b[0m │ \u001b[36m 31000\u001b[0m │ \u001b[36m700000\u001b[0m │ \u001b[36m    0\u001b[0m │ \u001b[36m   730\u001b[0m │ \u001b[36m 4700\u001b[0m │ \u001b[36m350000\u001b[0m │ \u001b[32m  █  \u001b[0m │  │\n",
       "│ │ \u001b[38;5;141mes_Tie\u001b[0m │        │        │        │        │       │        │       │ \u001b[36m    00\u001b[0m │       │  │\n",
       "│ │ \u001b[38;5;141mr1    \u001b[0m │        │        │        │        │       │        │       │        │       │  │\n",
       "│ │ \u001b[38;5;141mAllHom\u001b[0m │ \u001b[36m     0\u001b[0m │ \u001b[36m     1\u001b[0m │ \u001b[36m 31000\u001b[0m │ \u001b[36m700000\u001b[0m │ \u001b[36m    0\u001b[0m │ \u001b[36m   770\u001b[0m │ \u001b[36m 4500\u001b[0m │ \u001b[36m350000\u001b[0m │ \u001b[32m  █  \u001b[0m │  │\n",
       "│ │ \u001b[38;5;141mes_Tie\u001b[0m │        │        │        │        │       │        │       │ \u001b[36m    00\u001b[0m │       │  │\n",
       "│ │ \u001b[38;5;141mr2    \u001b[0m │        │        │        │        │       │        │       │        │       │  │\n",
       "│ │ \u001b[38;5;141mAllHom\u001b[0m │ \u001b[36m     0\u001b[0m │ \u001b[36m     1\u001b[0m │ \u001b[36m 31000\u001b[0m │ \u001b[36m700000\u001b[0m │ \u001b[36m   14\u001b[0m │ \u001b[36m   780\u001b[0m │ \u001b[36m 4600\u001b[0m │ \u001b[36m350000\u001b[0m │ \u001b[32m  █  \u001b[0m │  │\n",
       "│ │ \u001b[38;5;141mes_Tie\u001b[0m │        │        │        │        │       │        │       │ \u001b[36m    00\u001b[0m │       │  │\n",
       "│ │ \u001b[38;5;141mr3    \u001b[0m │        │        │        │        │       │        │       │        │       │  │\n",
       "│ │ \u001b[38;5;141mAllHom\u001b[0m │ \u001b[36m     0\u001b[0m │ \u001b[36m     1\u001b[0m │ \u001b[36m 92000\u001b[0m │ \u001b[36m210000\u001b[0m │ \u001b[36m  110\u001b[0m │ \u001b[36m  2400\u001b[0m │ \u001b[36m13000\u001b[0m │ \u001b[36m110000\u001b[0m │ \u001b[32m  █  \u001b[0m │  │\n",
       "│ │ \u001b[38;5;141mes_All\u001b[0m │        │        │        │ \u001b[36m     0\u001b[0m │       │        │       │ \u001b[36m   000\u001b[0m │       │  │\n",
       "│ │ \u001b[38;5;141mTiers \u001b[0m │        │        │        │        │       │        │       │        │       │  │\n",
       "│ │ \u001b[38;5;141mUWHome\u001b[0m │ \u001b[36m     0\u001b[0m │ \u001b[36m     1\u001b[0m │ \u001b[36m  1300\u001b[0m │ \u001b[36m 14000\u001b[0m │ \u001b[36m    0\u001b[0m │ \u001b[36m    51\u001b[0m │ \u001b[36m  550\u001b[0m │ \u001b[36m590000\u001b[0m │ \u001b[32m  █  \u001b[0m │  │\n",
       "│ │ \u001b[38;5;141ms_Tier\u001b[0m │        │        │        │        │       │        │       │        │       │  │\n",
       "│ │ \u001b[38;5;141m1     \u001b[0m │        │        │        │        │       │        │       │        │       │  │\n",
       "│ │ \u001b[38;5;141mUWHome\u001b[0m │ \u001b[36m     0\u001b[0m │ \u001b[36m     1\u001b[0m │ \u001b[36m  1200\u001b[0m │ \u001b[36m 13000\u001b[0m │ \u001b[36m    0\u001b[0m │ \u001b[36m    59\u001b[0m │ \u001b[36m  540\u001b[0m │ \u001b[36m540000\u001b[0m │ \u001b[32m  █  \u001b[0m │  │\n",
       "│ │ \u001b[38;5;141ms_Tier\u001b[0m │        │        │        │        │       │        │       │        │       │  │\n",
       "│ │ \u001b[38;5;141m2     \u001b[0m │        │        │        │        │       │        │       │        │       │  │\n",
       "│ │ \u001b[38;5;141mUWHome\u001b[0m │ \u001b[36m     0\u001b[0m │ \u001b[36m     1\u001b[0m │ \u001b[36m  1600\u001b[0m │ \u001b[36m 16000\u001b[0m │ \u001b[36m    0\u001b[0m │ \u001b[36m   100\u001b[0m │ \u001b[36m  750\u001b[0m │ \u001b[36m730000\u001b[0m │ \u001b[32m  █  \u001b[0m │  │\n",
       "│ │ \u001b[38;5;141ms_Tier\u001b[0m │        │        │        │        │       │        │       │        │       │  │\n",
       "│ │ \u001b[38;5;141m3     \u001b[0m │        │        │        │        │       │        │       │        │       │  │\n",
       "│ │ \u001b[38;5;141mUWHome\u001b[0m │ \u001b[36m     0\u001b[0m │ \u001b[36m     1\u001b[0m │ \u001b[36m  4100\u001b[0m │ \u001b[36m 43000\u001b[0m │ \u001b[36m  100\u001b[0m │ \u001b[36m   250\u001b[0m │ \u001b[36m 2000\u001b[0m │ \u001b[36m190000\u001b[0m │ \u001b[32m  █  \u001b[0m │  │\n",
       "│ │ \u001b[38;5;141ms_AllT\u001b[0m │        │        │        │        │       │        │       │ \u001b[36m     0\u001b[0m │       │  │\n",
       "│ │ \u001b[38;5;141miers  \u001b[0m │        │        │        │        │       │        │       │        │       │  │\n",
       "│ │ \u001b[38;5;141mUWHome\u001b[0m │ \u001b[36m     0\u001b[0m │ \u001b[36m     1\u001b[0m │ \u001b[36m280000\u001b[0m │ \u001b[36m280000\u001b[0m │ \u001b[36m    0\u001b[0m │ \u001b[36m760000\u001b[0m │ \u001b[36m11000\u001b[0m │ \u001b[36m120000\u001b[0m │ \u001b[32m  █  \u001b[0m │  │\n",
       "│ │ \u001b[38;5;141ms_Tota\u001b[0m │        │        │ \u001b[36m   000\u001b[0m │ \u001b[36m  0000\u001b[0m │       │ \u001b[36m     0\u001b[0m │ \u001b[36m 0000\u001b[0m │ \u001b[36m000000\u001b[0m │       │  │\n",
       "│ │ \u001b[38;5;141mlValue\u001b[0m │        │        │        │        │       │        │       │        │       │  │\n",
       "│ │ \u001b[38;5;141m_T    \u001b[0m │        │        │        │        │       │        │       │        │       │  │\n",
       "│ │ \u001b[38;5;141mUWHome\u001b[0m │ \u001b[36m     0\u001b[0m │ \u001b[36m     1\u001b[0m │ \u001b[36m440000\u001b[0m │ \u001b[36m450000\u001b[0m │ \u001b[36m    0\u001b[0m │ \u001b[36m140000\u001b[0m │ \u001b[36m17000\u001b[0m │ \u001b[36m200000\u001b[0m │ \u001b[32m  █  \u001b[0m │  │\n",
       "│ │ \u001b[38;5;141ms_Tota\u001b[0m │        │        │ \u001b[36m   000\u001b[0m │ \u001b[36m  0000\u001b[0m │       │ \u001b[36m    00\u001b[0m │ \u001b[36m 0000\u001b[0m │ \u001b[36m000000\u001b[0m │       │  │\n",
       "│ │ \u001b[38;5;141mlValue\u001b[0m │        │        │        │        │       │        │       │        │       │  │\n",
       "│ │ \u001b[38;5;141m_T    \u001b[0m │        │        │        │        │       │        │       │        │       │  │\n",
       "│ │ \u001b[38;5;141mUWHome\u001b[0m │ \u001b[36m     0\u001b[0m │ \u001b[36m     1\u001b[0m │ \u001b[36m130000\u001b[0m │ \u001b[36m140000\u001b[0m │ \u001b[36m    0\u001b[0m │ \u001b[36m460000\u001b[0m │ \u001b[36m51000\u001b[0m │ \u001b[36m600000\u001b[0m │ \u001b[32m  █  \u001b[0m │  │\n",
       "│ │ \u001b[38;5;141ms_Tota\u001b[0m │        │        │ \u001b[36m  0000\u001b[0m │ \u001b[36m 00000\u001b[0m │       │ \u001b[36m    00\u001b[0m │ \u001b[36m 0000\u001b[0m │ \u001b[36m000000\u001b[0m │       │  │\n",
       "│ │ \u001b[38;5;141mlValue\u001b[0m │        │        │        │        │       │        │       │        │       │  │\n",
       "│ │ \u001b[38;5;141m_T    \u001b[0m │        │        │        │        │       │        │       │        │       │  │\n",
       "│ │ \u001b[38;5;141mUWHome\u001b[0m │ \u001b[36m     0\u001b[0m │ \u001b[36m     1\u001b[0m │ \u001b[36m200000\u001b[0m │ \u001b[36m210000\u001b[0m │ \u001b[36m58000\u001b[0m │ \u001b[36m840000\u001b[0m │ \u001b[36m84000\u001b[0m │ \u001b[36m920000\u001b[0m │ \u001b[32m  █  \u001b[0m │  │\n",
       "│ │ \u001b[38;5;141ms_Tota\u001b[0m │        │        │ \u001b[36m  0000\u001b[0m │ \u001b[36m 00000\u001b[0m │ \u001b[36m   00\u001b[0m │ \u001b[36m    00\u001b[0m │ \u001b[36m 0000\u001b[0m │ \u001b[36m000000\u001b[0m │       │  │\n",
       "│ │ \u001b[38;5;141mlValue\u001b[0m │        │        │        │        │       │        │       │        │       │  │\n",
       "│ │ \u001b[38;5;141m_A    \u001b[0m │        │        │        │        │       │        │       │        │       │  │\n",
       "│ │ \u001b[38;5;141mUWHome\u001b[0m │ \u001b[36m     0\u001b[0m │ \u001b[36m     1\u001b[0m │ \u001b[36m400000\u001b[0m │ \u001b[36m400000\u001b[0m │ \u001b[36m42000\u001b[0m │ \u001b[36m190000\u001b[0m │ \u001b[36m47000\u001b[0m │ \u001b[36m540000\u001b[0m │ \u001b[32m  █  \u001b[0m │  │\n",
       "│ │ \u001b[38;5;141ms_Medi\u001b[0m │        │        │        │        │       │        │ \u001b[36m    0\u001b[0m │ \u001b[36m     0\u001b[0m │       │  │\n",
       "│ │ \u001b[38;5;141manValu\u001b[0m │        │        │        │        │       │        │       │        │       │  │\n",
       "│ │ \u001b[38;5;141me_    \u001b[0m │        │        │        │        │       │        │       │        │       │  │\n",
       "│ │ \u001b[38;5;141mAllHom\u001b[0m │ \u001b[36m     0\u001b[0m │ \u001b[36m     1\u001b[0m │ \u001b[36m  0.24\u001b[0m │ \u001b[36m   0.3\u001b[0m │ \u001b[36m    0\u001b[0m │ \u001b[36m 0.025\u001b[0m │ \u001b[36m 0.35\u001b[0m │ \u001b[36m     1\u001b[0m │ \u001b[32m█▂▁▁▁\u001b[0m │  │\n",
       "│ │ \u001b[38;5;141mes_Tie\u001b[0m │        │        │        │        │       │        │       │        │ \u001b[32m  ▁  \u001b[0m │  │\n",
       "│ │ \u001b[38;5;141mr1_Sha\u001b[0m │        │        │        │        │       │        │       │        │       │  │\n",
       "│ │ \u001b[38;5;141mre    \u001b[0m │        │        │        │        │       │        │       │        │       │  │\n",
       "│ │ \u001b[38;5;141mAllHom\u001b[0m │ \u001b[36m     0\u001b[0m │ \u001b[36m     1\u001b[0m │ \u001b[36m  0.23\u001b[0m │ \u001b[36m  0.29\u001b[0m │ \u001b[36m    0\u001b[0m │ \u001b[36m  0.03\u001b[0m │ \u001b[36m 0.33\u001b[0m │ \u001b[36m     1\u001b[0m │ \u001b[32m█▂▁▁▁\u001b[0m │  │\n",
       "│ │ \u001b[38;5;141mes_Tie\u001b[0m │        │        │        │        │       │        │       │        │ \u001b[32m  ▁  \u001b[0m │  │\n",
       "│ │ \u001b[38;5;141mr2_Sha\u001b[0m │        │        │        │        │       │        │       │        │       │  │\n",
       "│ │ \u001b[38;5;141mre    \u001b[0m │        │        │        │        │       │        │       │        │       │  │\n",
       "│ │ \u001b[38;5;141mAllHom\u001b[0m │ \u001b[36m     0\u001b[0m │ \u001b[36m     1\u001b[0m │ \u001b[36m  0.27\u001b[0m │ \u001b[36m  0.27\u001b[0m │ \u001b[36m    0\u001b[0m │ \u001b[36m 0.061\u001b[0m │ \u001b[36m  0.4\u001b[0m │ \u001b[36m     1\u001b[0m │ \u001b[32m█▃▂▁▁\u001b[0m │  │\n",
       "│ │ \u001b[38;5;141mes_Tie\u001b[0m │        │        │        │        │       │        │       │        │ \u001b[32m  ▁  \u001b[0m │  │\n",
       "│ │ \u001b[38;5;141mr3_Sha\u001b[0m │        │        │        │        │       │        │       │        │       │  │\n",
       "│ │ \u001b[38;5;141mre    \u001b[0m │        │        │        │        │       │        │       │        │       │  │\n",
       "│ │ \u001b[38;5;141mAllHom\u001b[0m │ \u001b[36m     0\u001b[0m │ \u001b[36m     1\u001b[0m │ \u001b[36m  0.25\u001b[0m │ \u001b[36m  0.28\u001b[0m │ \u001b[36m0.000\u001b[0m │ \u001b[36m 0.047\u001b[0m │ \u001b[36m 0.36\u001b[0m │ \u001b[36m     1\u001b[0m │ \u001b[32m█▂▁▁▁\u001b[0m │  │\n",
       "│ │ \u001b[38;5;141mes_All\u001b[0m │        │        │        │        │ \u001b[36m   64\u001b[0m │        │       │        │ \u001b[32m  ▁  \u001b[0m │  │\n",
       "│ │ \u001b[38;5;141mTiers_\u001b[0m │        │        │        │        │       │        │       │        │       │  │\n",
       "│ │ \u001b[38;5;141mSh    \u001b[0m │        │        │        │        │       │        │       │        │       │  │\n",
       "│ │ \u001b[38;5;141mUWHome\u001b[0m │ \u001b[36m     0\u001b[0m │ \u001b[36m     1\u001b[0m │ \u001b[36m  0.29\u001b[0m │ \u001b[36m  0.18\u001b[0m │ \u001b[36m    0\u001b[0m │ \u001b[36m  0.15\u001b[0m │ \u001b[36m 0.37\u001b[0m │ \u001b[36m     1\u001b[0m │ \u001b[32m▆█▆▁▁\u001b[0m │  │\n",
       "│ │ \u001b[38;5;141ms_Shar\u001b[0m │        │        │        │        │       │        │       │        │       │  │\n",
       "│ │ \u001b[38;5;141meInTie\u001b[0m │        │        │        │        │       │        │       │        │       │  │\n",
       "│ │ \u001b[38;5;141mr1    \u001b[0m │        │        │        │        │       │        │       │        │       │  │\n",
       "│ │ \u001b[38;5;141mUWHome\u001b[0m │ \u001b[36m     0\u001b[0m │ \u001b[36m     1\u001b[0m │ \u001b[36m  0.27\u001b[0m │ \u001b[36m  0.12\u001b[0m │ \u001b[36m    0\u001b[0m │ \u001b[36m   0.2\u001b[0m │ \u001b[36m 0.34\u001b[0m │ \u001b[36m  0.89\u001b[0m │ \u001b[32m▃▇█▁ \u001b[0m │  │\n",
       "│ │ \u001b[38;5;141ms_Shar\u001b[0m │        │        │        │        │       │        │       │        │       │  │\n",
       "│ │ \u001b[38;5;141meInTie\u001b[0m │        │        │        │        │       │        │       │        │       │  │\n",
       "│ │ \u001b[38;5;141mr2    \u001b[0m │        │        │        │        │       │        │       │        │       │  │\n",
       "│ │ \u001b[38;5;141mUWHome\u001b[0m │ \u001b[36m     0\u001b[0m │ \u001b[36m     1\u001b[0m │ \u001b[36m  0.44\u001b[0m │ \u001b[36m  0.21\u001b[0m │ \u001b[36m    0\u001b[0m │ \u001b[36m  0.31\u001b[0m │ \u001b[36m 0.56\u001b[0m │ \u001b[36m     1\u001b[0m │ \u001b[32m▂▆█▄▂\u001b[0m │  │\n",
       "│ │ \u001b[38;5;141ms_Shar\u001b[0m │        │        │        │        │       │        │       │        │ \u001b[32m  ▁  \u001b[0m │  │\n",
       "│ │ \u001b[38;5;141meInTie\u001b[0m │        │        │        │        │       │        │       │        │       │  │\n",
       "│ │ \u001b[38;5;141mr3    \u001b[0m │        │        │        │        │       │        │       │        │       │  │\n",
       "│ └────────┴────────┴────────┴────────┴────────┴───────┴────────┴───────┴────────┴───────┘  │\n",
       "╰─────────────────────────────────────────── End ───────────────────────────────────────────╯\n"
      ]
     },
     "metadata": {},
     "output_type": "display_data"
    }
   ],
   "source": [
    "import pandas as pd\n",
    "from skimpy import skim\n",
    "\n",
    "uw = pd.read_csv('https://github.com/aaiken1/fin-data-analysis-python/raw/main/data/zestimatesAndCutoffs_byGeo_uw_2017-10-10_forDataPage.csv')\n",
    "\n",
    "skim(uw)"
   ]
  },
  {
   "cell_type": "markdown",
   "metadata": {},
   "source": [
    "## pandas profiling\n",
    "\n",
    "If you want something more in-depth, try `pandas-profiling`. We can install `pandas-profiling` via Anaconda. To use this package, you'll need to type the following in the terminal (Mac) or command prompt (Windows). You'll need to restart VS Code.\n",
    "\n",
    "```\n",
    "conda install -c conda-forge pandas-profiling\n",
    "```\n",
    "\n",
    "You can [read all about it on their Github page](https://github.com/pandas-profiling/pandas-profiling). It's ridiculous what it can do. \n",
    "\n",
    "Let's add the `import` needed to bring `ProfileReport` from `pandas_profiling`."
   ]
  },
  {
   "cell_type": "code",
   "execution_count": null,
   "metadata": {},
   "outputs": [],
   "source": [
    "from pandas_profiling import ProfileReport\n",
    "uw = pd.read_csv('https://github.com/aaiken1/fin-data-analysis-python/raw/main/data/zestimatesAndCutoffs_byGeo_uw_2017-10-10_forDataPage.csv')\n"
   ]
  },
  {
   "cell_type": "markdown",
   "metadata": {},
   "source": [
    "This will create the report."
   ]
  },
  {
   "cell_type": "code",
   "execution_count": null,
   "metadata": {},
   "outputs": [],
   "source": [
    "profile = ProfileReport(uw, title=\"Zillow Housing Data for Flood Risk\", minimal=True)"
   ]
  },
  {
   "cell_type": "markdown",
   "metadata": {},
   "source": [
    "We can now view the report in a Jupyter widget. It will take a couple of minutes to summarize everything. "
   ]
  },
  {
   "cell_type": "code",
   "execution_count": null,
   "metadata": {},
   "outputs": [],
   "source": [
    "#profile.to_widgets()"
   ]
  },
  {
   "cell_type": "markdown",
   "metadata": {},
   "source": [
    "You can also create an HTML file. Using the code below, the file will end up in the same folder as your `.ipynb` notebook. I've commented it out so that it doesn't run and create large file everytime."
   ]
  },
  {
   "cell_type": "code",
   "execution_count": null,
   "metadata": {},
   "outputs": [],
   "source": [
    "#profile.to_file(\"nc_profile.html\")"
   ]
  },
  {
   "cell_type": "markdown",
   "metadata": {},
   "source": [
    "Finally, I'll create a profile that will appear in this `.ipynb`."
   ]
  },
  {
   "cell_type": "code",
   "execution_count": null,
   "metadata": {},
   "outputs": [],
   "source": [
    "profile.to_notebook_iframe()"
   ]
  }
 ],
 "metadata": {
  "interpreter": {
   "hash": "b67b392f8c699abfccff34ffff3abf55b26d6520ea7ac337064f990a3d8607af"
  },
  "kernelspec": {
   "display_name": "Python 3.9.7 ('base')",
   "language": "python",
   "name": "python3"
  },
  "language_info": {
   "codemirror_mode": {
    "name": "ipython",
    "version": 3
   },
   "file_extension": ".py",
   "mimetype": "text/x-python",
   "name": "python",
   "nbconvert_exporter": "python",
   "pygments_lexer": "ipython3",
   "version": "3.9.7"
  },
  "orig_nbformat": 4
 },
 "nbformat": 4,
 "nbformat_minor": 2
}
