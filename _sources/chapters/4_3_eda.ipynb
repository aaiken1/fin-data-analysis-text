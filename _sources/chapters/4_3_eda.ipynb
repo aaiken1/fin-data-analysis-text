{
 "cells": [
  {
   "cell_type": "markdown",
   "metadata": {},
   "source": [
    "# Exploratory data analysis (EDA)\n",
    "\n",
    "Exploratory data analysis, or **EDA**, means just that. We are going look at and summarize our idea. The data cleaning that we've already done, the looking for missings and understanding our variables, is actually part of EDA. In these notes, however, we'll focus on **grouping**, or **aggregating**, and summarizing our data.\n",
    "\n",
    "This type of data work is sometimes called **split-apply-combine**, where we split, or **group** our data, apply a function (e.g. mean), and then combine the summary statistics back together.\n",
    "\n",
    "We are starting to **ask questions** of our data. For example,\n",
    "\n",
    "- What variables do we have and what are their data types? Are they numeric or text?\n",
    "- Which variables are **continuous**? Which are **discrete**?\n",
    "- Are any variables **categorical**? These variables might be either numeric or text. \n",
    "- Do we have any **datetime** variables?\n",
    "- How are our variables related to each other?\n",
    "- How can we **summarize** them?\n",
    "\n",
    "We'll graphically summarize our data in the [next section](#dataviz). We'll look more at **datetime** variables when we get to our work on [financial time series](#financial-times-series). \n",
    "\n",
    "We want to eventually be able to open up a new data, see what questions **can be answered**, and then have the tools to actually **answer the questions**. Sometimes we want to ask questions that data can't answer - we need to recognize when that's the case too.\n",
    "\n",
    "[DataCamp](https://www.datacamp.com/community/tutorials/exploratory-data-analysis-python), of course, has a tutorial on some EDA ideas, perhaps more related to what people are doing in machine learning.\n",
    "\n",
    "[Chapter 10](https://wesmckinney.com/book/data-aggregation.html) of *Python for Data Analysis* discusses aggregation and summarizing our data. \n",
    "\n",
    "[Exploratory Data Analysis](https://aeturrell.github.io/coding-for-economists/data-exploratory-analysis.html) from *Coding for Economists* has data aggregation and summary examples. That chapter also covers the logic of opening up a data set and seeing what you have to work with. I am following along with a lot of that material in these notes.\n"
   ]
  },
  {
   "cell_type": "markdown",
   "metadata": {},
   "source": [
    "## Set-up\n",
    "\n",
    "Let's bring in some data on NC breweries. We'll again use my Github URL to download the data directly: <https://raw.githubusercontent.com/aaiken1/fin-data-analysis-python/main/data/ncbreweries.csv>. \n",
    "\n",
    "We'll bring in our usual libraries. I'll also use `pyjanitor`, in case we need to clean anything.\n",
    "\n",
    "I'll name the DataFrame `nc`. "
   ]
  },
  {
   "cell_type": "code",
   "execution_count": 18,
   "metadata": {},
   "outputs": [
    {
     "name": "stdout",
     "output_type": "stream",
     "text": [
      "<class 'pandas.core.frame.DataFrame'>\n",
      "RangeIndex: 251 entries, 0 to 250\n",
      "Data columns (total 7 columns):\n",
      " #   Column      Non-Null Count  Dtype \n",
      "---  ------      --------------  ----- \n",
      " 0   Name        251 non-null    object\n",
      " 1   City        251 non-null    object\n",
      " 2   Type        251 non-null    object\n",
      " 3   Beer Count  251 non-null    int64 \n",
      " 4   Est         251 non-null    int64 \n",
      " 5   Status      251 non-null    object\n",
      " 6   URL         251 non-null    object\n",
      "dtypes: int64(2), object(5)\n",
      "memory usage: 13.9+ KB\n"
     ]
    }
   ],
   "source": [
    "# Set-up\n",
    "import numpy as np\n",
    "import pandas as pd\n",
    "import janitor\n",
    "\n",
    "nc = pd.read_csv('https://raw.githubusercontent.com/aaiken1/fin-data-analysis-python/main/data/ncbreweries.csv')\n",
    "nc.info()"
   ]
  },
  {
   "cell_type": "markdown",
   "metadata": {},
   "source": [
    "Looks pretty good. I'll use `pyjanitor` to clean up the variable names and get rid of any spaces and capitalizations. We're transforming them into something called **snake case**, which gets rid of capital letters and uses \"_\" as spaces."
   ]
  },
  {
   "cell_type": "code",
   "execution_count": 19,
   "metadata": {},
   "outputs": [
    {
     "name": "stdout",
     "output_type": "stream",
     "text": [
      "<class 'pandas.core.frame.DataFrame'>\n",
      "RangeIndex: 251 entries, 0 to 250\n",
      "Data columns (total 7 columns):\n",
      " #   Column      Non-Null Count  Dtype \n",
      "---  ------      --------------  ----- \n",
      " 0   name        251 non-null    object\n",
      " 1   city        251 non-null    object\n",
      " 2   type        251 non-null    object\n",
      " 3   beer_count  251 non-null    int64 \n",
      " 4   est         251 non-null    int64 \n",
      " 5   status      251 non-null    object\n",
      " 6   url         251 non-null    object\n",
      "dtypes: int64(2), object(5)\n",
      "memory usage: 13.9+ KB\n"
     ]
    }
   ],
   "source": [
    "nc = nc.clean_names()\n",
    "nc.info()"
   ]
  },
  {
   "cell_type": "markdown",
   "metadata": {},
   "source": [
    "See what it did? Let's take a peak at the first few rows."
   ]
  },
  {
   "cell_type": "code",
   "execution_count": 20,
   "metadata": {},
   "outputs": [
    {
     "data": {
      "text/html": [
       "<div>\n",
       "<style scoped>\n",
       "    .dataframe tbody tr th:only-of-type {\n",
       "        vertical-align: middle;\n",
       "    }\n",
       "\n",
       "    .dataframe tbody tr th {\n",
       "        vertical-align: top;\n",
       "    }\n",
       "\n",
       "    .dataframe thead th {\n",
       "        text-align: right;\n",
       "    }\n",
       "</style>\n",
       "<table border=\"1\" class=\"dataframe\">\n",
       "  <thead>\n",
       "    <tr style=\"text-align: right;\">\n",
       "      <th></th>\n",
       "      <th>name</th>\n",
       "      <th>city</th>\n",
       "      <th>type</th>\n",
       "      <th>beer_count</th>\n",
       "      <th>est</th>\n",
       "      <th>status</th>\n",
       "      <th>url</th>\n",
       "    </tr>\n",
       "  </thead>\n",
       "  <tbody>\n",
       "    <tr>\n",
       "      <th>0</th>\n",
       "      <td>217 Brew Works</td>\n",
       "      <td>Wilson</td>\n",
       "      <td>Microbrewery</td>\n",
       "      <td>10</td>\n",
       "      <td>2017</td>\n",
       "      <td>Active</td>\n",
       "      <td>https://www.ratebeer.com//brewers/217-brew-wor...</td>\n",
       "    </tr>\n",
       "    <tr>\n",
       "      <th>1</th>\n",
       "      <td>3rd Rock Brewing Company</td>\n",
       "      <td>Trenton</td>\n",
       "      <td>Microbrewery</td>\n",
       "      <td>12</td>\n",
       "      <td>2016</td>\n",
       "      <td>Active</td>\n",
       "      <td>https://www.ratebeer.com//brewers/3rd-rock-bre...</td>\n",
       "    </tr>\n",
       "    <tr>\n",
       "      <th>2</th>\n",
       "      <td>7 Clans Brewing</td>\n",
       "      <td>Cherokee</td>\n",
       "      <td>Client Brewer</td>\n",
       "      <td>1</td>\n",
       "      <td>2018</td>\n",
       "      <td>Active</td>\n",
       "      <td>https://www.ratebeer.com//brewers/7-clans-brew...</td>\n",
       "    </tr>\n",
       "    <tr>\n",
       "      <th>3</th>\n",
       "      <td>Andrews Brewing Company</td>\n",
       "      <td>Andrews</td>\n",
       "      <td>Microbrewery</td>\n",
       "      <td>18</td>\n",
       "      <td>2014</td>\n",
       "      <td>Active</td>\n",
       "      <td>https://www.ratebeer.com//brewers/andrews-brew...</td>\n",
       "    </tr>\n",
       "    <tr>\n",
       "      <th>4</th>\n",
       "      <td>Angry Troll Brewing</td>\n",
       "      <td>Elkin</td>\n",
       "      <td>Microbrewery</td>\n",
       "      <td>8</td>\n",
       "      <td>2017</td>\n",
       "      <td>Active</td>\n",
       "      <td>https://www.ratebeer.com//brewers/angry-troll-...</td>\n",
       "    </tr>\n",
       "  </tbody>\n",
       "</table>\n",
       "</div>"
      ],
      "text/plain": [
       "                       name      city           type  beer_count   est  \\\n",
       "0            217 Brew Works    Wilson   Microbrewery          10  2017   \n",
       "1  3rd Rock Brewing Company   Trenton   Microbrewery          12  2016   \n",
       "2           7 Clans Brewing  Cherokee  Client Brewer           1  2018   \n",
       "3   Andrews Brewing Company   Andrews   Microbrewery          18  2014   \n",
       "4       Angry Troll Brewing     Elkin   Microbrewery           8  2017   \n",
       "\n",
       "   status                                                url  \n",
       "0  Active  https://www.ratebeer.com//brewers/217-brew-wor...  \n",
       "1  Active  https://www.ratebeer.com//brewers/3rd-rock-bre...  \n",
       "2  Active  https://www.ratebeer.com//brewers/7-clans-brew...  \n",
       "3  Active  https://www.ratebeer.com//brewers/andrews-brew...  \n",
       "4  Active  https://www.ratebeer.com//brewers/angry-troll-...  "
      ]
     },
     "execution_count": 20,
     "metadata": {},
     "output_type": "execute_result"
    }
   ],
   "source": [
    "nc.head()"
   ]
  },
  {
   "cell_type": "markdown",
   "metadata": {},
   "source": [
    "\n",
    "We can also use `pandas` to change the data types. For example, let's get brewery *type* to be something called a **category**. I'll also change a few others."
   ]
  },
  {
   "cell_type": "code",
   "execution_count": 21,
   "metadata": {},
   "outputs": [
    {
     "name": "stdout",
     "output_type": "stream",
     "text": [
      "<class 'pandas.core.frame.DataFrame'>\n",
      "RangeIndex: 251 entries, 0 to 250\n",
      "Data columns (total 7 columns):\n",
      " #   Column      Non-Null Count  Dtype   \n",
      "---  ------      --------------  -----   \n",
      " 0   name        251 non-null    string  \n",
      " 1   city        251 non-null    string  \n",
      " 2   type        251 non-null    category\n",
      " 3   beer_count  251 non-null    int64   \n",
      " 4   est         251 non-null    int64   \n",
      " 5   status      251 non-null    category\n",
      " 6   url         251 non-null    string  \n",
      "dtypes: category(2), int64(2), string(3)\n",
      "memory usage: 10.7 KB\n"
     ]
    }
   ],
   "source": [
    "nc = nc.assign(\n",
    "    name=nc[\"name\"].astype('string'),\n",
    "    city=nc[\"city\"].astype('string'),\n",
    "    type=nc[\"type\"].astype('category'),\n",
    "    status=nc[\"status\"].astype('category'),\n",
    "    url=nc[\"url\"].astype('string'),\n",
    ")\n",
    "nc.info()"
   ]
  },
  {
   "cell_type": "markdown",
   "metadata": {},
   "source": [
    "Finally, let's just check for missing data. Doesn't seem like we have any from that `info()`."
   ]
  },
  {
   "cell_type": "code",
   "execution_count": 22,
   "metadata": {},
   "outputs": [
    {
     "data": {
      "text/plain": [
       "name          0\n",
       "city          0\n",
       "type          0\n",
       "beer_count    0\n",
       "est           0\n",
       "status        0\n",
       "url           0\n",
       "dtype: int64"
      ]
     },
     "execution_count": 22,
     "metadata": {},
     "output_type": "execute_result"
    }
   ],
   "source": [
    "nc.isna().sum()"
   ]
  },
  {
   "cell_type": "markdown",
   "metadata": {},
   "source": [
    "## Exploring NC breweries\n",
    "\n",
    "We'll start with `describe()`. The will give us summary statistics for our numeric variables."
   ]
  },
  {
   "cell_type": "code",
   "execution_count": 23,
   "metadata": {},
   "outputs": [
    {
     "data": {
      "text/html": [
       "<div>\n",
       "<style scoped>\n",
       "    .dataframe tbody tr th:only-of-type {\n",
       "        vertical-align: middle;\n",
       "    }\n",
       "\n",
       "    .dataframe tbody tr th {\n",
       "        vertical-align: top;\n",
       "    }\n",
       "\n",
       "    .dataframe thead th {\n",
       "        text-align: right;\n",
       "    }\n",
       "</style>\n",
       "<table border=\"1\" class=\"dataframe\">\n",
       "  <thead>\n",
       "    <tr style=\"text-align: right;\">\n",
       "      <th></th>\n",
       "      <th>beer_count</th>\n",
       "      <th>est</th>\n",
       "    </tr>\n",
       "  </thead>\n",
       "  <tbody>\n",
       "    <tr>\n",
       "      <th>count</th>\n",
       "      <td>251.000000</td>\n",
       "      <td>251.000000</td>\n",
       "    </tr>\n",
       "    <tr>\n",
       "      <th>mean</th>\n",
       "      <td>32.960159</td>\n",
       "      <td>2012.155378</td>\n",
       "    </tr>\n",
       "    <tr>\n",
       "      <th>std</th>\n",
       "      <td>43.723385</td>\n",
       "      <td>8.749158</td>\n",
       "    </tr>\n",
       "    <tr>\n",
       "      <th>min</th>\n",
       "      <td>1.000000</td>\n",
       "      <td>1900.000000</td>\n",
       "    </tr>\n",
       "    <tr>\n",
       "      <th>25%</th>\n",
       "      <td>10.000000</td>\n",
       "      <td>2011.000000</td>\n",
       "    </tr>\n",
       "    <tr>\n",
       "      <th>50%</th>\n",
       "      <td>18.000000</td>\n",
       "      <td>2014.000000</td>\n",
       "    </tr>\n",
       "    <tr>\n",
       "      <th>75%</th>\n",
       "      <td>38.000000</td>\n",
       "      <td>2016.000000</td>\n",
       "    </tr>\n",
       "    <tr>\n",
       "      <th>max</th>\n",
       "      <td>424.000000</td>\n",
       "      <td>2018.000000</td>\n",
       "    </tr>\n",
       "  </tbody>\n",
       "</table>\n",
       "</div>"
      ],
      "text/plain": [
       "       beer_count          est\n",
       "count  251.000000   251.000000\n",
       "mean    32.960159  2012.155378\n",
       "std     43.723385     8.749158\n",
       "min      1.000000  1900.000000\n",
       "25%     10.000000  2011.000000\n",
       "50%     18.000000  2014.000000\n",
       "75%     38.000000  2016.000000\n",
       "max    424.000000  2018.000000"
      ]
     },
     "execution_count": 23,
     "metadata": {},
     "output_type": "execute_result"
    }
   ],
   "source": [
    "nc.describe()"
   ]
  },
  {
   "cell_type": "markdown",
   "metadata": {},
   "source": [
    "Anything stand out to you? The variable *est* is the year that the brewery was established. The minimum is 1900. That seems very early? Is that right? A beer count of 424 seems high, but could be right.\n",
    "\n",
    "We can make that table look a little better."
   ]
  },
  {
   "cell_type": "code",
   "execution_count": 24,
   "metadata": {},
   "outputs": [
    {
     "data": {
      "text/html": [
       "<div>\n",
       "<style scoped>\n",
       "    .dataframe tbody tr th:only-of-type {\n",
       "        vertical-align: middle;\n",
       "    }\n",
       "\n",
       "    .dataframe tbody tr th {\n",
       "        vertical-align: top;\n",
       "    }\n",
       "\n",
       "    .dataframe thead th {\n",
       "        text-align: right;\n",
       "    }\n",
       "</style>\n",
       "<table border=\"1\" class=\"dataframe\">\n",
       "  <thead>\n",
       "    <tr style=\"text-align: right;\">\n",
       "      <th></th>\n",
       "      <th>beer_count</th>\n",
       "      <th>est</th>\n",
       "    </tr>\n",
       "  </thead>\n",
       "  <tbody>\n",
       "    <tr>\n",
       "      <th>count</th>\n",
       "      <td>251.0</td>\n",
       "      <td>251.0</td>\n",
       "    </tr>\n",
       "    <tr>\n",
       "      <th>mean</th>\n",
       "      <td>33.0</td>\n",
       "      <td>2012.2</td>\n",
       "    </tr>\n",
       "    <tr>\n",
       "      <th>std</th>\n",
       "      <td>43.7</td>\n",
       "      <td>8.7</td>\n",
       "    </tr>\n",
       "    <tr>\n",
       "      <th>min</th>\n",
       "      <td>1.0</td>\n",
       "      <td>1900.0</td>\n",
       "    </tr>\n",
       "    <tr>\n",
       "      <th>25%</th>\n",
       "      <td>10.0</td>\n",
       "      <td>2011.0</td>\n",
       "    </tr>\n",
       "    <tr>\n",
       "      <th>50%</th>\n",
       "      <td>18.0</td>\n",
       "      <td>2014.0</td>\n",
       "    </tr>\n",
       "    <tr>\n",
       "      <th>75%</th>\n",
       "      <td>38.0</td>\n",
       "      <td>2016.0</td>\n",
       "    </tr>\n",
       "    <tr>\n",
       "      <th>max</th>\n",
       "      <td>424.0</td>\n",
       "      <td>2018.0</td>\n",
       "    </tr>\n",
       "  </tbody>\n",
       "</table>\n",
       "</div>"
      ],
      "text/plain": [
       "       beer_count     est\n",
       "count       251.0   251.0\n",
       "mean         33.0  2012.2\n",
       "std          43.7     8.7\n",
       "min           1.0  1900.0\n",
       "25%          10.0  2011.0\n",
       "50%          18.0  2014.0\n",
       "75%          38.0  2016.0\n",
       "max         424.0  2018.0"
      ]
     },
     "execution_count": 24,
     "metadata": {},
     "output_type": "execute_result"
    }
   ],
   "source": [
    "sum_table = nc.describe().round(1)\n",
    "sum_table"
   ]
  },
  {
   "cell_type": "markdown",
   "metadata": {},
   "source": [
    "We can flip things around, or **transpose**, the table to make it look better. This is usually how summary statistics are presented."
   ]
  },
  {
   "cell_type": "code",
   "execution_count": 25,
   "metadata": {},
   "outputs": [
    {
     "data": {
      "text/html": [
       "<div>\n",
       "<style scoped>\n",
       "    .dataframe tbody tr th:only-of-type {\n",
       "        vertical-align: middle;\n",
       "    }\n",
       "\n",
       "    .dataframe tbody tr th {\n",
       "        vertical-align: top;\n",
       "    }\n",
       "\n",
       "    .dataframe thead th {\n",
       "        text-align: right;\n",
       "    }\n",
       "</style>\n",
       "<table border=\"1\" class=\"dataframe\">\n",
       "  <thead>\n",
       "    <tr style=\"text-align: right;\">\n",
       "      <th></th>\n",
       "      <th>count</th>\n",
       "      <th>mean</th>\n",
       "      <th>std</th>\n",
       "      <th>min</th>\n",
       "      <th>25%</th>\n",
       "      <th>50%</th>\n",
       "      <th>75%</th>\n",
       "      <th>max</th>\n",
       "    </tr>\n",
       "  </thead>\n",
       "  <tbody>\n",
       "    <tr>\n",
       "      <th>beer_count</th>\n",
       "      <td>251.0</td>\n",
       "      <td>33.0</td>\n",
       "      <td>43.7</td>\n",
       "      <td>1.0</td>\n",
       "      <td>10.0</td>\n",
       "      <td>18.0</td>\n",
       "      <td>38.0</td>\n",
       "      <td>424.0</td>\n",
       "    </tr>\n",
       "    <tr>\n",
       "      <th>est</th>\n",
       "      <td>251.0</td>\n",
       "      <td>2012.2</td>\n",
       "      <td>8.7</td>\n",
       "      <td>1900.0</td>\n",
       "      <td>2011.0</td>\n",
       "      <td>2014.0</td>\n",
       "      <td>2016.0</td>\n",
       "      <td>2018.0</td>\n",
       "    </tr>\n",
       "  </tbody>\n",
       "</table>\n",
       "</div>"
      ],
      "text/plain": [
       "            count    mean   std     min     25%     50%     75%     max\n",
       "beer_count  251.0    33.0  43.7     1.0    10.0    18.0    38.0   424.0\n",
       "est         251.0  2012.2   8.7  1900.0  2011.0  2014.0  2016.0  2018.0"
      ]
     },
     "execution_count": 25,
     "metadata": {},
     "output_type": "execute_result"
    }
   ],
   "source": [
    "sum_table = sum_table.T\n",
    "sum_table"
   ]
  },
  {
   "cell_type": "markdown",
   "metadata": {},
   "source": [
    "Let's look at the variable *type*. What types of breweries are in our data?"
   ]
  },
  {
   "cell_type": "code",
   "execution_count": 33,
   "metadata": {},
   "outputs": [
    {
     "data": {
      "text/plain": [
       "Microbrewery          165\n",
       "Brewpub/Brewery        41\n",
       "Brewpub                33\n",
       "Client Brewer           9\n",
       "Commercial Brewery      3\n",
       "Name: type, dtype: int64"
      ]
     },
     "execution_count": 33,
     "metadata": {},
     "output_type": "execute_result"
    }
   ],
   "source": [
    "nc['type'].value_counts()"
   ]
  },
  {
   "cell_type": "markdown",
   "metadata": {},
   "source": [
    "Mainly microbreweries. I wonder what type of brewery has the largest number of beers on average? This is where we can start using the idea of **split-apply-combine**."
   ]
  },
  {
   "cell_type": "code",
   "execution_count": 29,
   "metadata": {},
   "outputs": [
    {
     "data": {
      "text/plain": [
       "type\n",
       "Brewpub               44.939394\n",
       "Brewpub/Brewery       37.707317\n",
       "Client Brewer          5.000000\n",
       "Commercial Brewery    10.666667\n",
       "Microbrewery          31.315152\n",
       "Name: beer_count, dtype: float64"
      ]
     },
     "execution_count": 29,
     "metadata": {},
     "output_type": "execute_result"
    }
   ],
   "source": [
    "nc.groupby('type')['beer_count'].mean()"
   ]
  },
  {
   "cell_type": "markdown",
   "metadata": {},
   "source": [
    "This code is **grouping** our data by *type*, pulling out *beer_count*, and calculating the mean.\n",
    "\n",
    "We can use the `.agg` method to include more than one summary statistic. The `np.` means that the function is being pulled from the `numpy` package. Pay attention to the syntax - there are no `()` after the `np.mean`, `np.median`, and `np.std` functions now, because they are being used inside of the `.agg` function. They are also grouped together with `[]`.\n",
    "\n",
    "You could also pull multiple columns to summarize, but this data set really only has one numeric variable of interest. "
   ]
  },
  {
   "cell_type": "code",
   "execution_count": 37,
   "metadata": {},
   "outputs": [
    {
     "data": {
      "text/html": [
       "<div>\n",
       "<style scoped>\n",
       "    .dataframe tbody tr th:only-of-type {\n",
       "        vertical-align: middle;\n",
       "    }\n",
       "\n",
       "    .dataframe tbody tr th {\n",
       "        vertical-align: top;\n",
       "    }\n",
       "\n",
       "    .dataframe thead th {\n",
       "        text-align: right;\n",
       "    }\n",
       "</style>\n",
       "<table border=\"1\" class=\"dataframe\">\n",
       "  <thead>\n",
       "    <tr style=\"text-align: right;\">\n",
       "      <th></th>\n",
       "      <th>mean</th>\n",
       "      <th>median</th>\n",
       "      <th>std</th>\n",
       "    </tr>\n",
       "    <tr>\n",
       "      <th>type</th>\n",
       "      <th></th>\n",
       "      <th></th>\n",
       "      <th></th>\n",
       "    </tr>\n",
       "  </thead>\n",
       "  <tbody>\n",
       "    <tr>\n",
       "      <th>Brewpub</th>\n",
       "      <td>44.9</td>\n",
       "      <td>21.0</td>\n",
       "      <td>77.3</td>\n",
       "    </tr>\n",
       "    <tr>\n",
       "      <th>Brewpub/Brewery</th>\n",
       "      <td>37.7</td>\n",
       "      <td>28.0</td>\n",
       "      <td>36.3</td>\n",
       "    </tr>\n",
       "    <tr>\n",
       "      <th>Client Brewer</th>\n",
       "      <td>5.0</td>\n",
       "      <td>2.0</td>\n",
       "      <td>7.0</td>\n",
       "    </tr>\n",
       "    <tr>\n",
       "      <th>Commercial Brewery</th>\n",
       "      <td>10.7</td>\n",
       "      <td>9.0</td>\n",
       "      <td>6.7</td>\n",
       "    </tr>\n",
       "    <tr>\n",
       "      <th>Microbrewery</th>\n",
       "      <td>31.3</td>\n",
       "      <td>18.0</td>\n",
       "      <td>36.6</td>\n",
       "    </tr>\n",
       "  </tbody>\n",
       "</table>\n",
       "</div>"
      ],
      "text/plain": [
       "                    mean  median   std\n",
       "type                                  \n",
       "Brewpub             44.9    21.0  77.3\n",
       "Brewpub/Brewery     37.7    28.0  36.3\n",
       "Client Brewer        5.0     2.0   7.0\n",
       "Commercial Brewery  10.7     9.0   6.7\n",
       "Microbrewery        31.3    18.0  36.6"
      ]
     },
     "execution_count": 37,
     "metadata": {},
     "output_type": "execute_result"
    }
   ],
   "source": [
    "nc.groupby('type')['beer_count'].agg([np.mean, np.median, np.std]).round(1) "
   ]
  },
  {
   "cell_type": "markdown",
   "metadata": {},
   "source": [
    "See how I added that `round(1)` to get only one decimal place. You can also make your table and then style it in separate lines. This code will style **just that table**. You can also set global style options that will affect all of your results."
   ]
  },
  {
   "cell_type": "code",
   "execution_count": 48,
   "metadata": {},
   "outputs": [
    {
     "data": {
      "text/html": [
       "<style type=\"text/css\">\n",
       "</style>\n",
       "<table id=\"T_c0e00_\">\n",
       "  <thead>\n",
       "    <tr>\n",
       "      <th class=\"blank level0\" >&nbsp;</th>\n",
       "      <th class=\"col_heading level0 col0\" >mean</th>\n",
       "      <th class=\"col_heading level0 col1\" >median</th>\n",
       "      <th class=\"col_heading level0 col2\" >std</th>\n",
       "    </tr>\n",
       "    <tr>\n",
       "      <th class=\"index_name level0\" >type</th>\n",
       "      <th class=\"blank col0\" >&nbsp;</th>\n",
       "      <th class=\"blank col1\" >&nbsp;</th>\n",
       "      <th class=\"blank col2\" >&nbsp;</th>\n",
       "    </tr>\n",
       "  </thead>\n",
       "  <tbody>\n",
       "    <tr>\n",
       "      <th id=\"T_c0e00_level0_row0\" class=\"row_heading level0 row0\" >Brewpub</th>\n",
       "      <td id=\"T_c0e00_row0_col0\" class=\"data row0 col0\" >45</td>\n",
       "      <td id=\"T_c0e00_row0_col1\" class=\"data row0 col1\" >21</td>\n",
       "      <td id=\"T_c0e00_row0_col2\" class=\"data row0 col2\" >77</td>\n",
       "    </tr>\n",
       "    <tr>\n",
       "      <th id=\"T_c0e00_level0_row1\" class=\"row_heading level0 row1\" >Brewpub/Brewery</th>\n",
       "      <td id=\"T_c0e00_row1_col0\" class=\"data row1 col0\" >38</td>\n",
       "      <td id=\"T_c0e00_row1_col1\" class=\"data row1 col1\" >28</td>\n",
       "      <td id=\"T_c0e00_row1_col2\" class=\"data row1 col2\" >36</td>\n",
       "    </tr>\n",
       "    <tr>\n",
       "      <th id=\"T_c0e00_level0_row2\" class=\"row_heading level0 row2\" >Client Brewer</th>\n",
       "      <td id=\"T_c0e00_row2_col0\" class=\"data row2 col0\" >5</td>\n",
       "      <td id=\"T_c0e00_row2_col1\" class=\"data row2 col1\" >2</td>\n",
       "      <td id=\"T_c0e00_row2_col2\" class=\"data row2 col2\" >7</td>\n",
       "    </tr>\n",
       "    <tr>\n",
       "      <th id=\"T_c0e00_level0_row3\" class=\"row_heading level0 row3\" >Commercial Brewery</th>\n",
       "      <td id=\"T_c0e00_row3_col0\" class=\"data row3 col0\" >11</td>\n",
       "      <td id=\"T_c0e00_row3_col1\" class=\"data row3 col1\" >9</td>\n",
       "      <td id=\"T_c0e00_row3_col2\" class=\"data row3 col2\" >7</td>\n",
       "    </tr>\n",
       "    <tr>\n",
       "      <th id=\"T_c0e00_level0_row4\" class=\"row_heading level0 row4\" >Microbrewery</th>\n",
       "      <td id=\"T_c0e00_row4_col0\" class=\"data row4 col0\" >31</td>\n",
       "      <td id=\"T_c0e00_row4_col1\" class=\"data row4 col1\" >18</td>\n",
       "      <td id=\"T_c0e00_row4_col2\" class=\"data row4 col2\" >37</td>\n",
       "    </tr>\n",
       "  </tbody>\n",
       "</table>\n"
      ],
      "text/plain": [
       "<pandas.io.formats.style.Styler at 0x7f9561069d60>"
      ]
     },
     "execution_count": 48,
     "metadata": {},
     "output_type": "execute_result"
    }
   ],
   "source": [
    "sum_table_group = nc.groupby('type')['beer_count'].agg([np.mean, np.median, np.std])\n",
    "\n",
    "sum_table_group.style.format(precision=0, na_rep='-')"
   ]
  },
  {
   "cell_type": "markdown",
   "metadata": {},
   "source": [
    "The code above reads from left to right. You do something, have a `.`, do something else, etc. For example, we are taking the DataFrame `nc`, grouping it by *type*, pulling out *beer_count*, and then aggregating using three different statistics. I am saving this to a **new DataFrame**, called `sum_table_group`. Finally, I am using `style.format` to change the look at the DataFrame that is being displayed as a table in out notebook.\n",
    "\n",
    "Let's look at how to do this using some different syntax. Something more vertical. Note that `()` surrounding all of the code."
   ]
  },
  {
   "cell_type": "code",
   "execution_count": 74,
   "metadata": {},
   "outputs": [
    {
     "data": {
      "text/html": [
       "<style type=\"text/css\">\n",
       "</style>\n",
       "<table id=\"T_df1d7_\">\n",
       "  <caption>Beer Count by Brewery Type</caption>\n",
       "  <thead>\n",
       "    <tr>\n",
       "      <th class=\"blank level0\" >&nbsp;</th>\n",
       "      <th class=\"col_heading level0 col0\" >beer_count</th>\n",
       "    </tr>\n",
       "    <tr>\n",
       "      <th class=\"index_name level0\" >type</th>\n",
       "      <th class=\"blank col0\" >&nbsp;</th>\n",
       "    </tr>\n",
       "  </thead>\n",
       "  <tbody>\n",
       "    <tr>\n",
       "      <th id=\"T_df1d7_level0_row0\" class=\"row_heading level0 row0\" >Brewpub</th>\n",
       "      <td id=\"T_df1d7_row0_col0\" class=\"data row0 col0\" >45</td>\n",
       "    </tr>\n",
       "    <tr>\n",
       "      <th id=\"T_df1d7_level0_row1\" class=\"row_heading level0 row1\" >Brewpub/Brewery</th>\n",
       "      <td id=\"T_df1d7_row1_col0\" class=\"data row1 col0\" >38</td>\n",
       "    </tr>\n",
       "    <tr>\n",
       "      <th id=\"T_df1d7_level0_row2\" class=\"row_heading level0 row2\" >Client Brewer</th>\n",
       "      <td id=\"T_df1d7_row2_col0\" class=\"data row2 col0\" >5</td>\n",
       "    </tr>\n",
       "    <tr>\n",
       "      <th id=\"T_df1d7_level0_row3\" class=\"row_heading level0 row3\" >Commercial Brewery</th>\n",
       "      <td id=\"T_df1d7_row3_col0\" class=\"data row3 col0\" >11</td>\n",
       "    </tr>\n",
       "    <tr>\n",
       "      <th id=\"T_df1d7_level0_row4\" class=\"row_heading level0 row4\" >Microbrewery</th>\n",
       "      <td id=\"T_df1d7_row4_col0\" class=\"data row4 col0\" >31</td>\n",
       "    </tr>\n",
       "  </tbody>\n",
       "</table>\n"
      ],
      "text/plain": [
       "<pandas.io.formats.style.Styler at 0x7f9570712dc0>"
      ]
     },
     "execution_count": 74,
     "metadata": {},
     "output_type": "execute_result"
    }
   ],
   "source": [
    "(\n",
    "    nc.groupby('type')\n",
    "    .mean()['beer_count']\n",
    "    .to_frame()\n",
    "    .style\n",
    "        .format(precision=0)\n",
    "        .set_caption(\"Beer Count by Brewery Type\")   \n",
    ")\n",
    "\n",
    "\n",
    "\n"
   ]
  },
  {
   "cell_type": "markdown",
   "metadata": {},
   "source": [
    "We are starting with the `nc` DataFrame and grouping by `type`. I am calculating the `mean` of *beer_count*. This actually creates a **series**, not a DataFrame. You can't style a series and make it look good in your output. So, I use `to.frame()` to put it back into a DataFrame that can be styled. I then use different style functions on that DataFrame. Both `format` and `set_caption` are functions found as part of `style`. \n",
    "\n",
    "Here's another example where I group by two variables."
   ]
  },
  {
   "cell_type": "code",
   "execution_count": 60,
   "metadata": {},
   "outputs": [
    {
     "data": {
      "text/plain": [
       "type                status\n",
       "Brewpub             Active    49.206897\n",
       "                    Closed    14.000000\n",
       "Brewpub/Brewery     Active    40.405405\n",
       "                    Closed    12.750000\n",
       "Client Brewer       Active     2.857143\n",
       "                    Closed    12.500000\n",
       "Commercial Brewery  Active    10.666667\n",
       "                    Closed          NaN\n",
       "Microbrewery        Active    33.173333\n",
       "                    Closed    12.733333\n",
       "Name: beer_count, dtype: float64"
      ]
     },
     "execution_count": 60,
     "metadata": {},
     "output_type": "execute_result"
    }
   ],
   "source": [
    "(\n",
    "    nc.groupby(['type', 'status'])\n",
    "    .mean()[\"beer_count\"]\n",
    ")"
   ]
  },
  {
   "cell_type": "markdown",
   "metadata": {},
   "source": [
    "See how that doesn't look as good? We need to make it a DataFrame and style it."
   ]
  },
  {
   "cell_type": "code",
   "execution_count": 76,
   "metadata": {},
   "outputs": [
    {
     "data": {
      "text/html": [
       "<style type=\"text/css\">\n",
       "</style>\n",
       "<table id=\"T_c5d2c_\">\n",
       "  <caption>Beer Count by Brewery Type and Status</caption>\n",
       "  <thead>\n",
       "    <tr>\n",
       "      <th class=\"blank\" >&nbsp;</th>\n",
       "      <th class=\"blank level0\" >&nbsp;</th>\n",
       "      <th class=\"col_heading level0 col0\" >beer_count</th>\n",
       "    </tr>\n",
       "    <tr>\n",
       "      <th class=\"index_name level0\" >type</th>\n",
       "      <th class=\"index_name level1\" >status</th>\n",
       "      <th class=\"blank col0\" >&nbsp;</th>\n",
       "    </tr>\n",
       "  </thead>\n",
       "  <tbody>\n",
       "    <tr>\n",
       "      <th id=\"T_c5d2c_level0_row0\" class=\"row_heading level0 row0\" rowspan=\"2\">Brewpub</th>\n",
       "      <th id=\"T_c5d2c_level1_row0\" class=\"row_heading level1 row0\" >Active</th>\n",
       "      <td id=\"T_c5d2c_row0_col0\" class=\"data row0 col0\" >49</td>\n",
       "    </tr>\n",
       "    <tr>\n",
       "      <th id=\"T_c5d2c_level1_row1\" class=\"row_heading level1 row1\" >Closed</th>\n",
       "      <td id=\"T_c5d2c_row1_col0\" class=\"data row1 col0\" >14</td>\n",
       "    </tr>\n",
       "    <tr>\n",
       "      <th id=\"T_c5d2c_level0_row2\" class=\"row_heading level0 row2\" rowspan=\"2\">Brewpub/Brewery</th>\n",
       "      <th id=\"T_c5d2c_level1_row2\" class=\"row_heading level1 row2\" >Active</th>\n",
       "      <td id=\"T_c5d2c_row2_col0\" class=\"data row2 col0\" >40</td>\n",
       "    </tr>\n",
       "    <tr>\n",
       "      <th id=\"T_c5d2c_level1_row3\" class=\"row_heading level1 row3\" >Closed</th>\n",
       "      <td id=\"T_c5d2c_row3_col0\" class=\"data row3 col0\" >13</td>\n",
       "    </tr>\n",
       "    <tr>\n",
       "      <th id=\"T_c5d2c_level0_row4\" class=\"row_heading level0 row4\" rowspan=\"2\">Client Brewer</th>\n",
       "      <th id=\"T_c5d2c_level1_row4\" class=\"row_heading level1 row4\" >Active</th>\n",
       "      <td id=\"T_c5d2c_row4_col0\" class=\"data row4 col0\" >3</td>\n",
       "    </tr>\n",
       "    <tr>\n",
       "      <th id=\"T_c5d2c_level1_row5\" class=\"row_heading level1 row5\" >Closed</th>\n",
       "      <td id=\"T_c5d2c_row5_col0\" class=\"data row5 col0\" >12</td>\n",
       "    </tr>\n",
       "    <tr>\n",
       "      <th id=\"T_c5d2c_level0_row6\" class=\"row_heading level0 row6\" rowspan=\"2\">Commercial Brewery</th>\n",
       "      <th id=\"T_c5d2c_level1_row6\" class=\"row_heading level1 row6\" >Active</th>\n",
       "      <td id=\"T_c5d2c_row6_col0\" class=\"data row6 col0\" >11</td>\n",
       "    </tr>\n",
       "    <tr>\n",
       "      <th id=\"T_c5d2c_level1_row7\" class=\"row_heading level1 row7\" >Closed</th>\n",
       "      <td id=\"T_c5d2c_row7_col0\" class=\"data row7 col0\" >-</td>\n",
       "    </tr>\n",
       "    <tr>\n",
       "      <th id=\"T_c5d2c_level0_row8\" class=\"row_heading level0 row8\" rowspan=\"2\">Microbrewery</th>\n",
       "      <th id=\"T_c5d2c_level1_row8\" class=\"row_heading level1 row8\" >Active</th>\n",
       "      <td id=\"T_c5d2c_row8_col0\" class=\"data row8 col0\" >33</td>\n",
       "    </tr>\n",
       "    <tr>\n",
       "      <th id=\"T_c5d2c_level1_row9\" class=\"row_heading level1 row9\" >Closed</th>\n",
       "      <td id=\"T_c5d2c_row9_col0\" class=\"data row9 col0\" >13</td>\n",
       "    </tr>\n",
       "  </tbody>\n",
       "</table>\n"
      ],
      "text/plain": [
       "<pandas.io.formats.style.Styler at 0x7f95411c21f0>"
      ]
     },
     "execution_count": 76,
     "metadata": {},
     "output_type": "execute_result"
    }
   ],
   "source": [
    "(\n",
    "    nc.groupby(['type', 'status'])\n",
    "    .mean()[\"beer_count\"]\n",
    "    .to_frame()\n",
    "    .fillna('-')\n",
    "    .style\n",
    "        .format(precision=0)\n",
    "        .set_caption(\"Beer Count by Brewery Type and Status\")\n",
    ")\n"
   ]
  },
  {
   "cell_type": "markdown",
   "metadata": {},
   "source": [
    " You could have written this code like this too. The first line groups, creates the means, and puts all of this back into a DataFrame. The second line formats the DataFrame.\n",
    "\n",
    " The summary DataFrame **is our table**. "
   ]
  },
  {
   "cell_type": "code",
   "execution_count": 83,
   "metadata": {},
   "outputs": [
    {
     "data": {
      "text/html": [
       "<style type=\"text/css\">\n",
       "</style>\n",
       "<table id=\"T_d1a90_\">\n",
       "  <caption>Beer Count by Brewery Type and Status</caption>\n",
       "  <thead>\n",
       "    <tr>\n",
       "      <th class=\"blank\" >&nbsp;</th>\n",
       "      <th class=\"blank level0\" >&nbsp;</th>\n",
       "      <th class=\"col_heading level0 col0\" >beer_count</th>\n",
       "    </tr>\n",
       "    <tr>\n",
       "      <th class=\"index_name level0\" >type</th>\n",
       "      <th class=\"index_name level1\" >status</th>\n",
       "      <th class=\"blank col0\" >&nbsp;</th>\n",
       "    </tr>\n",
       "  </thead>\n",
       "  <tbody>\n",
       "    <tr>\n",
       "      <th id=\"T_d1a90_level0_row0\" class=\"row_heading level0 row0\" rowspan=\"2\">Brewpub</th>\n",
       "      <th id=\"T_d1a90_level1_row0\" class=\"row_heading level1 row0\" >Active</th>\n",
       "      <td id=\"T_d1a90_row0_col0\" class=\"data row0 col0\" >49</td>\n",
       "    </tr>\n",
       "    <tr>\n",
       "      <th id=\"T_d1a90_level1_row1\" class=\"row_heading level1 row1\" >Closed</th>\n",
       "      <td id=\"T_d1a90_row1_col0\" class=\"data row1 col0\" >14</td>\n",
       "    </tr>\n",
       "    <tr>\n",
       "      <th id=\"T_d1a90_level0_row2\" class=\"row_heading level0 row2\" rowspan=\"2\">Brewpub/Brewery</th>\n",
       "      <th id=\"T_d1a90_level1_row2\" class=\"row_heading level1 row2\" >Active</th>\n",
       "      <td id=\"T_d1a90_row2_col0\" class=\"data row2 col0\" >40</td>\n",
       "    </tr>\n",
       "    <tr>\n",
       "      <th id=\"T_d1a90_level1_row3\" class=\"row_heading level1 row3\" >Closed</th>\n",
       "      <td id=\"T_d1a90_row3_col0\" class=\"data row3 col0\" >13</td>\n",
       "    </tr>\n",
       "    <tr>\n",
       "      <th id=\"T_d1a90_level0_row4\" class=\"row_heading level0 row4\" rowspan=\"2\">Client Brewer</th>\n",
       "      <th id=\"T_d1a90_level1_row4\" class=\"row_heading level1 row4\" >Active</th>\n",
       "      <td id=\"T_d1a90_row4_col0\" class=\"data row4 col0\" >3</td>\n",
       "    </tr>\n",
       "    <tr>\n",
       "      <th id=\"T_d1a90_level1_row5\" class=\"row_heading level1 row5\" >Closed</th>\n",
       "      <td id=\"T_d1a90_row5_col0\" class=\"data row5 col0\" >12</td>\n",
       "    </tr>\n",
       "    <tr>\n",
       "      <th id=\"T_d1a90_level0_row6\" class=\"row_heading level0 row6\" rowspan=\"2\">Commercial Brewery</th>\n",
       "      <th id=\"T_d1a90_level1_row6\" class=\"row_heading level1 row6\" >Active</th>\n",
       "      <td id=\"T_d1a90_row6_col0\" class=\"data row6 col0\" >11</td>\n",
       "    </tr>\n",
       "    <tr>\n",
       "      <th id=\"T_d1a90_level1_row7\" class=\"row_heading level1 row7\" >Closed</th>\n",
       "      <td id=\"T_d1a90_row7_col0\" class=\"data row7 col0\" >-</td>\n",
       "    </tr>\n",
       "    <tr>\n",
       "      <th id=\"T_d1a90_level0_row8\" class=\"row_heading level0 row8\" rowspan=\"2\">Microbrewery</th>\n",
       "      <th id=\"T_d1a90_level1_row8\" class=\"row_heading level1 row8\" >Active</th>\n",
       "      <td id=\"T_d1a90_row8_col0\" class=\"data row8 col0\" >33</td>\n",
       "    </tr>\n",
       "    <tr>\n",
       "      <th id=\"T_d1a90_level1_row9\" class=\"row_heading level1 row9\" >Closed</th>\n",
       "      <td id=\"T_d1a90_row9_col0\" class=\"data row9 col0\" >13</td>\n",
       "    </tr>\n",
       "  </tbody>\n",
       "</table>\n"
      ],
      "text/plain": [
       "<pandas.io.formats.style.Styler at 0x7f9580ba7460>"
      ]
     },
     "execution_count": 83,
     "metadata": {},
     "output_type": "execute_result"
    }
   ],
   "source": [
    "sum_table_mean = nc.groupby(['type', 'status'])['beer_count'].mean().to_frame()\n",
    "\n",
    "sum_table_mean.fillna('-').style.format(precision=0).set_caption(\"Beer Count by Brewery Type and Status\")\n"
   ]
  },
  {
   "cell_type": "markdown",
   "metadata": {},
   "source": [
    "## GroupBy objects\n",
    "\n",
    "We've been splitting our data into groups. Let's look at `GroupBy` objects. These are created by the `groupby` function."
   ]
  },
  {
   "cell_type": "markdown",
   "metadata": {},
   "source": [
    "\n",
    "\n",
    "## pandas profiling\n",
    "\n",
    "We can install `pandas-profiling` via Anaconda. To use this package, you'll need to type the following in the terminal (Mac) or command prompt (Windows). You'll need to restart VS Code.\n",
    "\n",
    "```\n",
    "conda install -c conda-forge pandas-profiling\n",
    "```\n",
    "\n",
    "You can [read all about it on their Github page](https://github.com/pandas-profiling/pandas-profiling). It's ridiculous what it can do. \n",
    "\n",
    "Let's add the `import` needed to bring `ProfileReport` from `pandas_profiling`."
   ]
  },
  {
   "cell_type": "code",
   "execution_count": null,
   "metadata": {},
   "outputs": [],
   "source": [
    "from pandas_profiling import ProfileReport"
   ]
  },
  {
   "cell_type": "markdown",
   "metadata": {},
   "source": [
    "This will create the report."
   ]
  },
  {
   "cell_type": "code",
   "execution_count": null,
   "metadata": {},
   "outputs": [],
   "source": [
    "#profile = ProfileReport(uw, title=\"Pandas Profiling Report for NC Brewery Data\")"
   ]
  },
  {
   "cell_type": "markdown",
   "metadata": {},
   "source": [
    "We can now view the report in a Jupyter widget. It will take a couple of minutes to summarize everything. "
   ]
  },
  {
   "cell_type": "code",
   "execution_count": null,
   "metadata": {},
   "outputs": [],
   "source": [
    "#profile.to_widgets()"
   ]
  },
  {
   "cell_type": "markdown",
   "metadata": {},
   "source": [
    "You can also create an HTML file. Using the code below, the file will end up in the same folder as your `.ipynb` notebook. I've commented it out so that it doesn't run and create large file everytime."
   ]
  },
  {
   "cell_type": "code",
   "execution_count": null,
   "metadata": {},
   "outputs": [],
   "source": [
    "#profile.to_file(\"nc_profile.html\")"
   ]
  }
 ],
 "metadata": {
  "interpreter": {
   "hash": "b67b392f8c699abfccff34ffff3abf55b26d6520ea7ac337064f990a3d8607af"
  },
  "kernelspec": {
   "display_name": "Python 3.9.7 ('base')",
   "language": "python",
   "name": "python3"
  },
  "language_info": {
   "codemirror_mode": {
    "name": "ipython",
    "version": 3
   },
   "file_extension": ".py",
   "mimetype": "text/x-python",
   "name": "python",
   "nbconvert_exporter": "python",
   "pygments_lexer": "ipython3",
   "version": "3.9.7"
  },
  "orig_nbformat": 4
 },
 "nbformat": 4,
 "nbformat_minor": 2
}
