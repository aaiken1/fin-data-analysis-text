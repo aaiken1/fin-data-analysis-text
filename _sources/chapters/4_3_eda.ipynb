{
 "cells": [
  {
   "cell_type": "markdown",
   "metadata": {},
   "source": [
    "# Exploratory data analysis (EDA)\n",
    "\n",
    "Exploratory data analysis, or **EDA**, means just that. We are going look at and summarize our idea. The data cleaning that we've already done, the looking for missings and understanding our variables, is actually part of EDA. In these notes, howerver, we'll focus on **grouping**, or **aggregating**, and summarizing our data.\n",
    "\n",
    "[DataCamp](https://www.datacamp.com/community/tutorials/exploratory-data-analysis-python), of course, has a tutorial on some EDA ideas, perhaps more related to what people are doing in machine learning.\n",
    "\n",
    "[Chapter 10](https://wesmckinney.com/book/data-aggregation.html) of *Python for Data Analysis* discusses aggregation and summarizing our data. [Exploratory Data Analysis](https://aeturrell.github.io/coding-for-economists/data-exploratory-analysis.html) from *Coding for Economists* has data aggregation and summary examples.\n"
   ]
  },
  {
   "cell_type": "markdown",
   "metadata": {},
   "source": [
    "\n",
    "\n",
    "## pandas profiling\n",
    "\n",
    "We can install `pandas-profiling` via Anaconda. To use this package, you'll need to type the following in the terminal (Mac) or command prompt (Windows). You'll need to restart VS Code.\n",
    "\n",
    "```\n",
    "conda install -c conda-forge pandas-profiling\n",
    "```\n",
    "\n",
    "You can [read all about it on their Github page](https://github.com/pandas-profiling/pandas-profiling). It's ridiculous what it can do. \n",
    "\n",
    "Let's do our usual set-up, but bring `ProfileReport` from `pandas_profiling`."
   ]
  },
  {
   "cell_type": "code",
   "execution_count": null,
   "metadata": {},
   "outputs": [],
   "source": [
    "import numpy as np\n",
    "import pandas as pd\n",
    "from pandas_profiling import ProfileReport\n",
    "\n",
    "uw = pd.read_csv('https://github.com/aaiken1/fin-data-analysis-python/raw/main/data/zestimatesAndCutoffs_byGeo_uw_2017-10-10_forDataPage.csv')\n"
   ]
  },
  {
   "cell_type": "markdown",
   "metadata": {},
   "source": [
    "This will create the report."
   ]
  },
  {
   "cell_type": "code",
   "execution_count": null,
   "metadata": {},
   "outputs": [],
   "source": [
    "#profile = ProfileReport(uw, title=\"Pandas Profiling Report for UW Zillow Data\")"
   ]
  },
  {
   "cell_type": "markdown",
   "metadata": {},
   "source": [
    "We can now view the report in a Jupyter widget. It will take a couple of minutes to summarize everything. "
   ]
  },
  {
   "cell_type": "code",
   "execution_count": null,
   "metadata": {},
   "outputs": [],
   "source": [
    "#profile.to_widgets()"
   ]
  },
  {
   "cell_type": "markdown",
   "metadata": {},
   "source": [
    "You can also create an HTML file. Using the code below, the file will end up in the same folder as your `.ipynb` notebook. I've commented it out so that it doesn't run and create large file everytime."
   ]
  },
  {
   "cell_type": "code",
   "execution_count": null,
   "metadata": {},
   "outputs": [],
   "source": [
    "#profile.to_file(\"uw_profile.html\")"
   ]
  }
 ],
 "metadata": {
  "interpreter": {
   "hash": "b67b392f8c699abfccff34ffff3abf55b26d6520ea7ac337064f990a3d8607af"
  },
  "kernelspec": {
   "display_name": "Python 3.9.7 ('base')",
   "language": "python",
   "name": "python3"
  },
  "language_info": {
   "codemirror_mode": {
    "name": "ipython",
    "version": 3
   },
   "file_extension": ".py",
   "mimetype": "text/x-python",
   "name": "python",
   "nbconvert_exporter": "python",
   "pygments_lexer": "ipython3",
   "version": "3.9.7"
  },
  "orig_nbformat": 4
 },
 "nbformat": 4,
 "nbformat_minor": 2
}
