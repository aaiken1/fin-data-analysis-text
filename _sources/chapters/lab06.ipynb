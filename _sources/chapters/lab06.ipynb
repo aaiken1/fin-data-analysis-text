{
 "cells": [
  {
   "cell_type": "markdown",
   "metadata": {},
   "source": [
    "# Lab 06\n",
    "## Portfolio Observation\n",
    "\n",
    "In this lab, we are going use some mutual fund returns to try to find some optimal portfolios. I have given you four return series for four different Vanguard index funds.\n",
    "\n",
    "Use our online notes to complete our labs. I have my own commentary and links that will help. You can work through the parts below in order.\n",
    "\n",
    "If you are getting errors and are not sure why, my first suggestion is always to **Restart** the Python kernel, to **Clear All Output**, and run each code cell **one-by-one** from the top.\n",
    "\n",
    "Let each code cell represent one idea, or output. If you change a DataFrame and then re-run a code cell that is expecting the unchanged data, you'll get an error. Again, restart and run all.\n",
    "\n",
    "Take advantage of **Markdown** in your write-up. Use headers and formatting. Here's a [Markdown cheat sheet](https://www.markdownguide.org/cheat-sheet/) that I keep handy. Once you figure out some of the basics, you might not want to go back to Word or Google Docs. \n",
    "\n",
    "Finally, use our textbook, notes, and DataCamp as a resource. "
   ]
  },
  {
   "cell_type": "markdown",
   "metadata": {},
   "source": [
    "## Part 1\n",
    "\n",
    "Import the CSV file called \"mutual_funds.csv\" from our Github page. The link is:\n",
    "\n",
    "Don't set an index yet. *mret* are discrete returns for each mutual fund, including all distributions. Just what you want for this exercise.\n",
    "\n",
    "Look up each mutual fund and write a brief, 2-3 sentence description. In particular, what is **VMVFX**? Is it related to a particular kind of factor-based investing? See our factor model notes and look under **style factors**.  "
   ]
  },
  {
   "cell_type": "markdown",
   "metadata": {},
   "source": [
    "## Part 2\n",
    "\n",
    "What shape is this data? It's **long**! There's an ID variable with four different tickers and a return column, rather than four columns of returns, one for each fund. This is not the way our data in our notes or Datacamp is shaped. But, that doesn't mean that we can't use it.\n",
    "\n",
    "Find and show the mean returns, **grouped by each ticker**. \n",
    "\n",
    "Then, **drop** the *crsp_fundno* column. We don't need it. We'll use *ticker* as our ID.\n",
    "\n",
    "Then, **pivot** this data so that it is **wide**. Let"
   ]
  }
 ],
 "metadata": {
  "language_info": {
   "name": "python"
  },
  "orig_nbformat": 4
 },
 "nbformat": 4,
 "nbformat_minor": 2
}
