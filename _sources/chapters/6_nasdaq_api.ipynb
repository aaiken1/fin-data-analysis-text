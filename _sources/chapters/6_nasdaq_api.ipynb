{
 "cells": [
  {
   "attachments": {},
   "cell_type": "markdown",
   "metadata": {},
   "source": [
    "\n",
    "# Using APIs for Data Imports <a id='btc-sim'></a>\n",
    "\n",
    "This chapter starts by using [NASDAQ Data Link](https://data.nasdaq.com/tools/api) to download some BTC price and return data. We'll also see our first set of **simulations**. I'll then show you how to use [Pandas Data Reader](https://pandas-datareader.readthedocs.io/en/latest/).\n",
    "\n",
    "This is also our first time using an **API**. Their API, or Application Programming Interface, let's us talk to a remote data storage system and pull in what we need. APIs are more general, though, and are used whenever you need one application to talk to another.\n",
    "\n",
    "We'll use the [NASDAQ Data Link](https://data.nasdaq.com/tools/api). They also have [Python specific instructions](https://data.nasdaq.com/tools/python).\n",
    "\n",
    "You can read about the install [on their package page](https://pypi.org/project/Nasdaq-Data-Link/).\n",
    "\n",
    "\n",
    "We can again use `pip` to install packages via the command line or in your Jupyter notebook. You can type this directly into a code cell in a notebook in Githib Codespaces. Run that cell.\n",
    "\n",
    "```\n",
    "pip install nasdaq-data-link\n",
    "```\n",
    "\n",
    "You can also use the `! pip` convention. The ! tells the Jupyter notebook that you want to run a terminal command in that cell. Older notebook environments had to have the !, but Github Codespaces does not.\n",
    "\n",
    "```\n",
    "! pip install nasdaq-data-link\n",
    "```\n",
    "\n",
    "When you sign-up for NASDAQ Data Link, you'll get an API Key. You will need to add this key to the set-up to access the NASDAQ data using Quandl. \n",
    "\n",
    "I have saved my key locally and am bringing it in with `quandl.read_key`, so that it isn't publicly available. You don't need that bit of code.\n",
    "\n",
    "You can also install `pandas-datareader` using `pip`.\n",
    "\n",
    "```\n",
    "pip install pandas-datareader\n",
    "```\n",
    "\n",
    "Finally, for a large set of APIs for access data, check out [Rapid API](https://rapidapi.com/hub). Some are free, others you have to pay for. You'll need to get an access API key for each one. More on this at the end of these notes."
   ]
  },
  {
   "attachments": {},
   "cell_type": "markdown",
   "metadata": {},
   "source": [
    "Let's do our usual sort of set-up code."
   ]
  },
  {
   "cell_type": "code",
   "execution_count": 1,
   "metadata": {},
   "outputs": [],
   "source": [
    "# Set-up\n",
    "\n",
    "import nasdaqdatalink # You could also do something like: import nasdaqdatalink as ndl\n",
    "import pandas_datareader as pdr\n",
    "\n",
    "import numpy as np\n",
    "import pandas as pd\n",
    "import datetime as dt\n",
    "\n",
    "import matplotlib as mpl \n",
    "\n",
    "import matplotlib.pyplot as plt\n",
    "\n",
    "# Include this to have plots show up in your Jupyter notebook.\n",
    "%matplotlib inline \n",
    "\n",
    "\n",
    "import os # to get access to environment variables\n",
    "\n",
    "NASDAQ_DATA_LINK_API_KEY = os.environ.get('NASDAQ')\n",
    "nasdaqdatalink.ApiConfig.api_key = NASDAQ_DATA_LINK_API_KEY\n",
    "nasdaqdatalink.read_key()\n",
    "\n",
    "#nasdaqdatalink.read_key(filepath=\"/data/.corporatenasdaqdatalinkapikey\")\n"
   ]
  },
  {
   "cell_type": "markdown",
   "metadata": {},
   "source": [
    "In order for you to use `nasdaqdatalink`, you'll need to find you API key on their web page. To do this, log in, go to the upper-right corner, and click on the little person icon. You'll find your key under **Account Settings**.\n",
    "\n",
    "Here's one way. The not-very-safe way. Copy and paste that key into:\n",
    "\n",
    "```\n",
    "nasdaqdatalink.ApiConfig.api_key = 'YOUR_KEY_HERE'\n",
    "nasdaqdatalink.read_key()\n",
    "```\n",
    "\n",
    "That will work. But, copying and pasting your API keys like this is, in general, a very bad idea! After all, if someone has you API key, they can charge things to your account. Github and Codespaces [has a way around this](https://docs.github.com/en/codespaces/managing-your-codespaces/managing-your-account-specific-secrets-for-github-codespaces), though.\n",
    "\n",
    "Let's use **Github Secrets** to create an **enviroment variable** that you can associate with any of your repositories. Then, within a repo, you can access that \"secret\" variable, without actually typing it into your code.\n",
    "\n",
    "Go to your **main Github page at Github.com**. Click on your image in the upper-right. Go to **Settings**. Click on **Codespaces** under **Code, planning, and automation**. \n",
    "\n",
    "```{figure} ../images/07-secrets1.png\n",
    "---\n",
    "name: 07-secrets1.png\n",
    "align: center\n",
    "---\n",
    "```\n",
    "\n",
    "Click on **Update** under **Codespaces Secrets**. You can now name your secret (e.g. NASDAQ) and copy your API key in the box below. **Select** the repo(s) that you want to associate with this secret. **Add** your secret.\n",
    "\n",
    "```{figure} ../images/07-secrets2.png\n",
    "---\n",
    "name: 07-secrets2.png\n",
    "align: center\n",
    "---\n",
    "```\n",
    "\n",
    "You'll now see that secret in the main Codespace settings page. You can refer to the name of that secret in your Codespace now, like I do above. Note that you need to import the `os` package to access this **environment** variable. An environment variable is a variable defined for all of the work in this particular repo. My secret is named `NASDAQ`, so I can refer to that.\n",
    "\n",
    "You'll need to reload your Codespace if you had it running in another tab in order to access that secret. \n",
    "\n",
    "With my API key read, I can now start downloading data.\n"
   ]
  },
  {
   "cell_type": "code",
   "execution_count": 2,
   "metadata": {},
   "outputs": [
    {
     "data": {
      "text/html": [
       "<div>\n",
       "<style scoped>\n",
       "    .dataframe tbody tr th:only-of-type {\n",
       "        vertical-align: middle;\n",
       "    }\n",
       "\n",
       "    .dataframe tbody tr th {\n",
       "        vertical-align: top;\n",
       "    }\n",
       "\n",
       "    .dataframe thead th {\n",
       "        text-align: right;\n",
       "    }\n",
       "</style>\n",
       "<table border=\"1\" class=\"dataframe\">\n",
       "  <thead>\n",
       "    <tr style=\"text-align: right;\">\n",
       "      <th></th>\n",
       "      <th>Value</th>\n",
       "    </tr>\n",
       "    <tr>\n",
       "      <th>Date</th>\n",
       "      <th></th>\n",
       "    </tr>\n",
       "  </thead>\n",
       "  <tbody>\n",
       "    <tr>\n",
       "      <th>1947-01-01</th>\n",
       "      <td>243.164</td>\n",
       "    </tr>\n",
       "    <tr>\n",
       "      <th>1947-04-01</th>\n",
       "      <td>245.968</td>\n",
       "    </tr>\n",
       "    <tr>\n",
       "      <th>1947-07-01</th>\n",
       "      <td>249.585</td>\n",
       "    </tr>\n",
       "    <tr>\n",
       "      <th>1947-10-01</th>\n",
       "      <td>259.745</td>\n",
       "    </tr>\n",
       "    <tr>\n",
       "      <th>1948-01-01</th>\n",
       "      <td>265.742</td>\n",
       "    </tr>\n",
       "    <tr>\n",
       "      <th>...</th>\n",
       "      <td>...</td>\n",
       "    </tr>\n",
       "    <tr>\n",
       "      <th>2020-10-01</th>\n",
       "      <td>21477.597</td>\n",
       "    </tr>\n",
       "    <tr>\n",
       "      <th>2021-01-01</th>\n",
       "      <td>22038.226</td>\n",
       "    </tr>\n",
       "    <tr>\n",
       "      <th>2021-04-01</th>\n",
       "      <td>22740.959</td>\n",
       "    </tr>\n",
       "    <tr>\n",
       "      <th>2021-07-01</th>\n",
       "      <td>23202.344</td>\n",
       "    </tr>\n",
       "    <tr>\n",
       "      <th>2021-10-01</th>\n",
       "      <td>23992.355</td>\n",
       "    </tr>\n",
       "  </tbody>\n",
       "</table>\n",
       "<p>300 rows × 1 columns</p>\n",
       "</div>"
      ],
      "text/plain": [
       "                Value\n",
       "Date                 \n",
       "1947-01-01    243.164\n",
       "1947-04-01    245.968\n",
       "1947-07-01    249.585\n",
       "1947-10-01    259.745\n",
       "1948-01-01    265.742\n",
       "...               ...\n",
       "2020-10-01  21477.597\n",
       "2021-01-01  22038.226\n",
       "2021-04-01  22740.959\n",
       "2021-07-01  23202.344\n",
       "2021-10-01  23992.355\n",
       "\n",
       "[300 rows x 1 columns]"
      ]
     },
     "execution_count": 2,
     "metadata": {},
     "output_type": "execute_result"
    }
   ],
   "source": [
    "gdp = nasdaqdatalink.get('FRED/GDP')\n",
    "gdp"
   ]
  },
  {
   "cell_type": "markdown",
   "metadata": {},
   "source": [
    "You can explore more FRED data [here](https://data.nasdaq.com/data/FRED-federal-reserve-economic-data/documentation). Always read the documentation to know what you're pulling."
   ]
  },
  {
   "cell_type": "code",
   "execution_count": 3,
   "metadata": {},
   "outputs": [
    {
     "data": {
      "text/html": [
       "<div>\n",
       "<style scoped>\n",
       "    .dataframe tbody tr th:only-of-type {\n",
       "        vertical-align: middle;\n",
       "    }\n",
       "\n",
       "    .dataframe tbody tr th {\n",
       "        vertical-align: top;\n",
       "    }\n",
       "\n",
       "    .dataframe thead th {\n",
       "        text-align: right;\n",
       "    }\n",
       "</style>\n",
       "<table border=\"1\" class=\"dataframe\">\n",
       "  <thead>\n",
       "    <tr style=\"text-align: right;\">\n",
       "      <th></th>\n",
       "      <th>Value</th>\n",
       "    </tr>\n",
       "    <tr>\n",
       "      <th>Date</th>\n",
       "      <th></th>\n",
       "    </tr>\n",
       "  </thead>\n",
       "  <tbody>\n",
       "    <tr>\n",
       "      <th>2024-01-04</th>\n",
       "      <td>42854.95</td>\n",
       "    </tr>\n",
       "    <tr>\n",
       "      <th>2024-01-05</th>\n",
       "      <td>44190.10</td>\n",
       "    </tr>\n",
       "    <tr>\n",
       "      <th>2024-01-06</th>\n",
       "      <td>44181.10</td>\n",
       "    </tr>\n",
       "    <tr>\n",
       "      <th>2024-01-07</th>\n",
       "      <td>43975.63</td>\n",
       "    </tr>\n",
       "    <tr>\n",
       "      <th>2024-01-08</th>\n",
       "      <td>43928.07</td>\n",
       "    </tr>\n",
       "  </tbody>\n",
       "</table>\n",
       "</div>"
      ],
      "text/plain": [
       "               Value\n",
       "Date                \n",
       "2024-01-04  42854.95\n",
       "2024-01-05  44190.10\n",
       "2024-01-06  44181.10\n",
       "2024-01-07  43975.63\n",
       "2024-01-08  43928.07"
      ]
     },
     "execution_count": 3,
     "metadata": {},
     "output_type": "execute_result"
    }
   ],
   "source": [
    "btc = nasdaqdatalink.get('BCHAIN/MKPRU')\n",
    "btc.tail()"
   ]
  },
  {
   "cell_type": "code",
   "execution_count": 4,
   "metadata": {},
   "outputs": [],
   "source": [
    "btc['ret'] = btc.pct_change().dropna()\n"
   ]
  },
  {
   "cell_type": "code",
   "execution_count": 5,
   "metadata": {},
   "outputs": [
    {
     "data": {
      "text/plain": [
       "<AxesSubplot:xlabel='Date'>"
      ]
     },
     "execution_count": 5,
     "metadata": {},
     "output_type": "execute_result"
    },
    {
     "data": {
      "image/png": "[encoded data removed]",
      "text/plain": [
       "<Figure size 640x480 with 1 Axes>"
      ]
     },
     "metadata": {},
     "output_type": "display_data"
    }
   ],
   "source": [
    "btc = btc.loc['2015-01-01':,['Value', 'ret']]\n",
    "btc.plot()"
   ]
  },
  {
   "attachments": {},
   "cell_type": "markdown",
   "metadata": {},
   "source": [
    "Well, that's not a very good graph. The returns and price levels are in different units. Let's use an `f print` to show and format the average BTC return."
   ]
  },
  {
   "cell_type": "code",
   "execution_count": 6,
   "metadata": {},
   "outputs": [
    {
     "name": "stdout",
     "output_type": "stream",
     "text": [
      "Average return: 0.22%\n"
     ]
    }
   ],
   "source": [
    "print(f'Average return: {100 * btc.ret.mean():.2f}%')"
   ]
  },
  {
   "attachments": {},
   "cell_type": "markdown",
   "metadata": {},
   "source": [
    "Let's make a cumulative return chart and daily return chart. We can then stack these on top of each other. I'll use the `.sub(1)` method to subtract 1 from the cumulative product. You see this a lot in the DataCamps."
   ]
  },
  {
   "cell_type": "code",
   "execution_count": 7,
   "metadata": {},
   "outputs": [
    {
     "data": {
      "text/html": [
       "<div>\n",
       "<style scoped>\n",
       "    .dataframe tbody tr th:only-of-type {\n",
       "        vertical-align: middle;\n",
       "    }\n",
       "\n",
       "    .dataframe tbody tr th {\n",
       "        vertical-align: top;\n",
       "    }\n",
       "\n",
       "    .dataframe thead th {\n",
       "        text-align: right;\n",
       "    }\n",
       "</style>\n",
       "<table border=\"1\" class=\"dataframe\">\n",
       "  <thead>\n",
       "    <tr style=\"text-align: right;\">\n",
       "      <th></th>\n",
       "      <th>Value</th>\n",
       "      <th>ret</th>\n",
       "      <th>ret_g</th>\n",
       "      <th>ret_c</th>\n",
       "    </tr>\n",
       "    <tr>\n",
       "      <th>Date</th>\n",
       "      <th></th>\n",
       "      <th></th>\n",
       "      <th></th>\n",
       "      <th></th>\n",
       "    </tr>\n",
       "  </thead>\n",
       "  <tbody>\n",
       "    <tr>\n",
       "      <th>2015-01-01</th>\n",
       "      <td>316.15</td>\n",
       "      <td>0.001425</td>\n",
       "      <td>1.001425</td>\n",
       "      <td>0.001425</td>\n",
       "    </tr>\n",
       "    <tr>\n",
       "      <th>2015-01-02</th>\n",
       "      <td>314.81</td>\n",
       "      <td>-0.004238</td>\n",
       "      <td>0.995762</td>\n",
       "      <td>-0.002819</td>\n",
       "    </tr>\n",
       "    <tr>\n",
       "      <th>2015-01-03</th>\n",
       "      <td>270.93</td>\n",
       "      <td>-0.139386</td>\n",
       "      <td>0.860614</td>\n",
       "      <td>-0.141812</td>\n",
       "    </tr>\n",
       "    <tr>\n",
       "      <th>2015-01-04</th>\n",
       "      <td>276.80</td>\n",
       "      <td>0.021666</td>\n",
       "      <td>1.021666</td>\n",
       "      <td>-0.123218</td>\n",
       "    </tr>\n",
       "    <tr>\n",
       "      <th>2015-01-05</th>\n",
       "      <td>263.17</td>\n",
       "      <td>-0.049241</td>\n",
       "      <td>0.950759</td>\n",
       "      <td>-0.166392</td>\n",
       "    </tr>\n",
       "    <tr>\n",
       "      <th>...</th>\n",
       "      <td>...</td>\n",
       "      <td>...</td>\n",
       "      <td>...</td>\n",
       "      <td>...</td>\n",
       "    </tr>\n",
       "    <tr>\n",
       "      <th>2024-01-04</th>\n",
       "      <td>42854.95</td>\n",
       "      <td>-0.046799</td>\n",
       "      <td>0.953201</td>\n",
       "      <td>134.745803</td>\n",
       "    </tr>\n",
       "    <tr>\n",
       "      <th>2024-01-05</th>\n",
       "      <td>44190.10</td>\n",
       "      <td>0.031155</td>\n",
       "      <td>1.031155</td>\n",
       "      <td>138.974976</td>\n",
       "    </tr>\n",
       "    <tr>\n",
       "      <th>2024-01-06</th>\n",
       "      <td>44181.10</td>\n",
       "      <td>-0.000204</td>\n",
       "      <td>0.999796</td>\n",
       "      <td>138.946468</td>\n",
       "    </tr>\n",
       "    <tr>\n",
       "      <th>2024-01-07</th>\n",
       "      <td>43975.63</td>\n",
       "      <td>-0.004651</td>\n",
       "      <td>0.995349</td>\n",
       "      <td>138.295629</td>\n",
       "    </tr>\n",
       "    <tr>\n",
       "      <th>2024-01-08</th>\n",
       "      <td>43928.07</td>\n",
       "      <td>-0.001082</td>\n",
       "      <td>0.998918</td>\n",
       "      <td>138.144979</td>\n",
       "    </tr>\n",
       "  </tbody>\n",
       "</table>\n",
       "<p>3295 rows × 4 columns</p>\n",
       "</div>"
      ],
      "text/plain": [
       "               Value       ret     ret_g       ret_c\n",
       "Date                                                \n",
       "2015-01-01    316.15  0.001425  1.001425    0.001425\n",
       "2015-01-02    314.81 -0.004238  0.995762   -0.002819\n",
       "2015-01-03    270.93 -0.139386  0.860614   -0.141812\n",
       "2015-01-04    276.80  0.021666  1.021666   -0.123218\n",
       "2015-01-05    263.17 -0.049241  0.950759   -0.166392\n",
       "...              ...       ...       ...         ...\n",
       "2024-01-04  42854.95 -0.046799  0.953201  134.745803\n",
       "2024-01-05  44190.10  0.031155  1.031155  138.974976\n",
       "2024-01-06  44181.10 -0.000204  0.999796  138.946468\n",
       "2024-01-07  43975.63 -0.004651  0.995349  138.295629\n",
       "2024-01-08  43928.07 -0.001082  0.998918  138.144979\n",
       "\n",
       "[3295 rows x 4 columns]"
      ]
     },
     "execution_count": 7,
     "metadata": {},
     "output_type": "execute_result"
    }
   ],
   "source": [
    "btc['ret_g'] = btc.ret.add(1) # gross return\n",
    "btc['ret_c'] = btc.ret_g.cumprod().sub(1)    # cummulative return\n",
    "btc"
   ]
  },
  {
   "attachments": {},
   "cell_type": "markdown",
   "metadata": {},
   "source": [
    "We can now make a graph using the **fig, axs** method. This is good review! Again, notice that semi-colon at the end. This suppresses some annoying output in the Jupyter notebook. "
   ]
  },
  {
   "cell_type": "code",
   "execution_count": 8,
   "metadata": {},
   "outputs": [
    {
     "data": {
      "image/png": "[encoded data removed]",
      "text/plain": [
       "<Figure size 1000x600 with 2 Axes>"
      ]
     },
     "metadata": {},
     "output_type": "display_data"
    }
   ],
   "source": [
    "fig, axs = plt.subplots(2, 1, sharex=True, sharey=False, figsize=(10, 6))\n",
    "\n",
    "axs[0].plot(btc.ret_c, 'g', label = 'BTC Cumulative Return')\n",
    "axs[1].plot(btc.ret, 'b', label = 'BTC Daily Return')\n",
    "            \n",
    "axs[0].set_title('BTC Cumulative Returns')\n",
    "axs[1].set_title('BTC Daily Returns')\n",
    "\n",
    "axs[0].legend()\n",
    "axs[1].legend();\n",
    "\n",
    "\n"
   ]
  },
  {
   "attachments": {},
   "cell_type": "markdown",
   "metadata": {},
   "source": [
    "I can make the same graph using the `.add_subplot()` syntax. The method above gives you some more flexibility, since you can give both plots the same x-axis."
   ]
  },
  {
   "cell_type": "code",
   "execution_count": 9,
   "metadata": {},
   "outputs": [
    {
     "data": {
      "image/png": "[encoded data removed]",
      "text/plain": [
       "<Figure size 1000x600 with 2 Axes>"
      ]
     },
     "metadata": {},
     "output_type": "display_data"
    }
   ],
   "source": [
    "fig = plt.figure(figsize=(10, 6))\n",
    "\n",
    "ax1 = fig.add_subplot(2, 1, 1)\n",
    "ax1.plot(btc.ret_c, 'g', label = 'BTC Cumulative Return')\n",
    "\n",
    "ax2 = fig.add_subplot(2, 1, 2)\n",
    "ax2.plot(btc.ret, 'b', label = 'BTC Daily Return')\n",
    "\n",
    "ax1.set_title('BTC Cumulative Returns')\n",
    "ax2.set_title('BTC Daily Returns')\n",
    "\n",
    "ax1.legend()\n",
    "ax2.legend()\n",
    "\n",
    "plt.subplots_adjust(wspace=0.5, hspace=0.5);\n",
    "\n"
   ]
  },
  {
   "attachments": {},
   "cell_type": "markdown",
   "metadata": {},
   "source": [
    "Let's put together some ideas, write a function, and run a simulation. We'll use something called **geometric brownian motion** (GBM). What is GBM? It is a particular [stochastic differential equation](https://arxiv.org/pdf/1504.05309.pdf). But, what's important for us is the idea, which is fairly simple. Here's the formula:\n",
    "\n",
    "\\begin{align}\n",
    "dS = \\mu S dt + \\sigma S dW_t\n",
    "\\end{align}\n",
    "\n",
    "This says that the change in the stock price has two components - a **drift**, or average increase over time, and a **shock** that it is random at each point in time. The shock is scaled by the standard deviation of returns that you use. So, larger standard deviation, the bigger the shocks can be. This is basically the simplest way that you can model an asset price.\n",
    "\n",
    "The shocks are what make the price wiggle around around, or else it would just go up over time, based on the drift value that we use.\n",
    "\n",
    "And, I'll stress - we aren't predicting here, so to speak. We are trying to capture some basic reality about how an asset moves and then seeing what is possible in the future. We aren't making a statement about whether we think an asset is overvalued or undervalued, will go up or down, etc.\n",
    "\n",
    "You can solve this equation to get the value of the asset at any point in time t. You just need to know the total of all of the shocks at time t.\n",
    "\n",
    "\\begin{align}\n",
    "S(t) = S(0) \\exp \\left(\\left(\\mu - \\frac{1}{2}\\sigma^2\\right)t + \\sigma W(t)\\right)\n",
    "\\end{align}"
   ]
  },
  {
   "cell_type": "code",
   "execution_count": 10,
   "metadata": {},
   "outputs": [],
   "source": [
    "T = 30 # How long is our simulation? Let's do 31 days (0 to 30 the way Python counts)\n",
    "N = 30 # number of time points in the prediction time horizon, making this the same as T means that we will simulate daily returns \n",
    "S_0 = btc.Value[-1] # initial BTC price\n",
    "N_SIM = 100      # How many simulations to run?\n",
    "mu = btc.ret.mean()\n",
    "sigma = btc.ret.std()"
   ]
  },
  {
   "attachments": {},
   "cell_type": "markdown",
   "metadata": {},
   "source": [
    "This is the basic syntax for writing a function in Python. We saw this earlier, back when doing \"Comp 101\". Remember, in Python, **indentation matters**!"
   ]
  },
  {
   "cell_type": "code",
   "execution_count": 11,
   "metadata": {},
   "outputs": [],
   "source": [
    "def simulate_gbm(s_0, mu, sigma, n_sims, T, N):\n",
    "    dt = T/N # One day\n",
    "    dW = np.random.normal(scale = np.sqrt(dt), \n",
    "        size=(n_sims, N))  # The random part\n",
    "    W = np.cumsum(dW, axis=1)\n",
    "    time_step = np.linspace(dt, T, N)\n",
    "    time_steps = np.broadcast_to(time_step, (n_sims, N))\n",
    "    S_t = s_0 * np.exp((mu - 0.5 * sigma ** 2) * time_steps + sigma * np.sqrt(time_steps) * W)\n",
    "    S_t = np.insert(S_t, 0, s_0, axis=1)\n",
    "    return S_t"
   ]
  },
  {
   "attachments": {},
   "cell_type": "markdown",
   "metadata": {},
   "source": [
    "Nothing happens when we define a function. We've just created something called `simulate_gbm` that we can now use just like any other Python function.\n",
    "\n",
    "We can look at each piece of the function code, with some numbers hard-coded, to get a sense of what's going on. This gets tricky - keep track of the dimensions. I think that's the hardest part. How many numbers are we creating in each array? What do they mean?"
   ]
  },
  {
   "cell_type": "code",
   "execution_count": 12,
   "metadata": {},
   "outputs": [],
   "source": [
    "# Creates 100 rows of 30 random numbers from the standard normal distribution.\n",
    "dW = np.random.normal(scale = np.sqrt(1), \n",
    "        size=(100, 30))\n",
    "\n",
    "# cumulative sum along each row\n",
    "W = np.cumsum(dW, axis=1) \n",
    "\n",
    "# Array with numbers from 1 to 30\n",
    "time_step = np.linspace(1, 30, 30)\n",
    "\n",
    "# Expands that to be 100 rows of numbers from 1 to 30. This is going to be the t in the formula above. So, for the price on the 30th day, we have t=30.\n",
    "time_steps = np.broadcast_to(time_step, (100, 30))\n",
    "\n",
    "# This is the formula from above to find the value of the asset any any point in time t. np.exp is the natural number e. W is the cumulative sum of all of our random shocks.\n",
    "S_t = S_0 * np.exp((mu - 0.5 * sigma ** 2) * time_steps + sigma * np.sqrt(time_steps) * W)\n",
    "\n",
    "# This inserts the initial price at the start of each row.\n",
    "S_t = np.insert(S_t, 0, S_0, axis=1)\n"
   ]
  },
  {
   "attachments": {},
   "cell_type": "markdown",
   "metadata": {},
   "source": [
    "We can look at these individually, too."
   ]
  },
  {
   "cell_type": "code",
   "execution_count": 13,
   "metadata": {},
   "outputs": [
    {
     "data": {
      "text/plain": [
       "array([[ 1.85112558,  0.13211658,  0.45139814, ...,  0.72596267,\n",
       "        -1.63582981, -0.03377876],\n",
       "       [ 0.15421336,  0.4148752 ,  0.6439595 , ..., -0.47171271,\n",
       "         1.20669713,  2.6471703 ],\n",
       "       [ 1.79628151, -0.26420644,  0.93929834, ..., -1.13225649,\n",
       "         0.05780285, -0.72668984],\n",
       "       ...,\n",
       "       [ 0.32724273,  2.16254346,  0.03592569, ...,  1.82984001,\n",
       "         0.09920881, -0.59093787],\n",
       "       [ 0.00503292,  0.07004887, -0.42857624, ...,  2.08370213,\n",
       "        -0.27461578, -1.99069844],\n",
       "       [ 1.12432136, -1.04952278,  0.09237506, ..., -0.25002425,\n",
       "         0.54331545,  1.29904012]])"
      ]
     },
     "execution_count": 13,
     "metadata": {},
     "output_type": "execute_result"
    }
   ],
   "source": [
    "dW"
   ]
  },
  {
   "cell_type": "code",
   "execution_count": 14,
   "metadata": {},
   "outputs": [
    {
     "data": {
      "text/plain": [
       "array([[ 1.,  2.,  3., ..., 28., 29., 30.],\n",
       "       [ 1.,  2.,  3., ..., 28., 29., 30.],\n",
       "       [ 1.,  2.,  3., ..., 28., 29., 30.],\n",
       "       ...,\n",
       "       [ 1.,  2.,  3., ..., 28., 29., 30.],\n",
       "       [ 1.,  2.,  3., ..., 28., 29., 30.],\n",
       "       [ 1.,  2.,  3., ..., 28., 29., 30.]])"
      ]
     },
     "execution_count": 14,
     "metadata": {},
     "output_type": "execute_result"
    }
   ],
   "source": [
    "time_steps"
   ]
  },
  {
   "cell_type": "code",
   "execution_count": 15,
   "metadata": {},
   "outputs": [
    {
     "data": {
      "text/plain": [
       "100"
      ]
     },
     "execution_count": 15,
     "metadata": {},
     "output_type": "execute_result"
    }
   ],
   "source": [
    "len(time_steps)"
   ]
  },
  {
   "cell_type": "code",
   "execution_count": 16,
   "metadata": {},
   "outputs": [
    {
     "data": {
      "text/plain": [
       "(100, 30)"
      ]
     },
     "execution_count": 16,
     "metadata": {},
     "output_type": "execute_result"
    }
   ],
   "source": [
    "np.shape(time_steps)"
   ]
  },
  {
   "attachments": {},
   "cell_type": "markdown",
   "metadata": {},
   "source": [
    "I do this kind of step-by-step break down **all of the time**. It's the only way I can understand what's going on.\n",
    "\n",
    "We can then use our function. This returns an `narray`. "
   ]
  },
  {
   "cell_type": "code",
   "execution_count": 17,
   "metadata": {},
   "outputs": [],
   "source": [
    "gbm_simulations = simulate_gbm(S_0, mu, sigma, N_SIM, T, N)"
   ]
  },
  {
   "attachments": {},
   "cell_type": "markdown",
   "metadata": {},
   "source": [
    "And, we can plot all of the simulations. I'm going to use `pandas` to plot, save to `ax`, and the style the `ax`."
   ]
  },
  {
   "cell_type": "code",
   "execution_count": 18,
   "metadata": {},
   "outputs": [
    {
     "data": {
      "image/png": "[encoded data removed]",
      "text/plain": [
       "<Figure size 640x480 with 1 Axes>"
      ]
     },
     "metadata": {},
     "output_type": "display_data"
    }
   ],
   "source": [
    "gbm_simulations_df = pd.DataFrame(np.transpose(gbm_simulations))\n",
    "\n",
    "# plotting\n",
    "ax = gbm_simulations_df.plot(alpha=0.2, legend=False)\n",
    "\n",
    "ax.set_title('BTC Simulations', fontsize=16);\n"
   ]
  },
  {
   "attachments": {},
   "cell_type": "markdown",
   "metadata": {},
   "source": [
    "The y-axis has a very wide range, since some extreme values are possible, given this simulation."
   ]
  },
  {
   "attachments": {},
   "cell_type": "markdown",
   "metadata": {},
   "source": [
    "## Using pandas-datareader\n",
    "\n",
    "The [pandas data-reader](https://pydata.github.io/pandas-datareader/) API lets us access additional data sources, such as [FRED](https://fred.stlouisfed.org). \n",
    "\n",
    "There are also API that let you access the same data. For example, Yahoo! Finance has several, like [yfinance](https://pypi.org/project/yfinance/). I find accessing Yahoo! Finance via an API to be very buggy - Yahoo! actively tries to stop it. So, you can try those instructions, but they may or may not work.\n",
    "\n",
    "Lots of developers have written APIs to access different data sources. \n",
    "\n",
    "```{note}\n",
    "Different data sources might require API keys. Sometimes you have to pay. Always read the documentation.\n",
    "```\n",
    "\n",
    "Here's another FRED example, but using `pandas-datareader`."
   ]
  },
  {
   "cell_type": "code",
   "execution_count": 19,
   "metadata": {},
   "outputs": [
    {
     "data": {
      "text/plain": [
       "<bound method NDFrame.head of                   GDP\n",
       "DATE                 \n",
       "2010-01-01  14764.610\n",
       "2010-04-01  14980.193\n",
       "2010-07-01  15141.607\n",
       "2010-10-01  15309.474\n",
       "2011-01-01  15351.448\n",
       "2011-04-01  15557.539\n",
       "2011-07-01  15647.680\n",
       "2011-10-01  15842.259\n",
       "2012-01-01  16068.805\n",
       "2012-04-01  16207.115\n",
       "2012-07-01  16319.541\n",
       "2012-10-01  16420.419\n",
       "2013-01-01  16648.189>"
      ]
     },
     "execution_count": 19,
     "metadata": {},
     "output_type": "execute_result"
    }
   ],
   "source": [
    "start = dt.datetime(2010, 1, 1)\n",
    "\n",
    "end = dt.datetime(2013, 1, 27)\n",
    "\n",
    "gdp = pdr.DataReader('GDP', 'fred', start, end)\n",
    "\n",
    "gdp.head"
   ]
  },
  {
   "attachments": {},
   "cell_type": "markdown",
   "metadata": {},
   "source": [
    "## Data Details - Using APIs\n",
    "\n",
    "This notes above use the [NASDAQ Datalink API](https://www.nasdaq.com/nasdaq-data-link) to pull some BTC data. Now, I'll discuss using this API more generally, as well as using [Rapid API](https://rapidapi.com/hub), another website with a variety of data options. I'll also show you an API from Github.\n",
    "\n",
    "As mentioned above, APIs are ways for one program or piece of software to talk to another. In our case, we're using them to get data. That data might come in as a `pandas` DataFrame, ready to use. Other times, it might come in as something called a [JSON](https://realpython.com/python-json/) file. We'll have to do a bit more work with this common data structure. "
   ]
  },
  {
   "attachments": {},
   "cell_type": "markdown",
   "metadata": {},
   "source": [
    "### NASDAQ API - Another Example\n",
    "\n",
    "Let's look at the NASDAQ API one more time. Once you log in, you'll see the home page below. Note the strip across the upper-left, that has API, Python, Excel, etc. You can use the NASDAQ API in a variety of settings. There's a **SEARCH FOR DATA** box at the top. \n",
    "\n",
    "```{figure} ../images/07-nasdaq-home.png\n",
    "---\n",
    "name: 07-nasdaq-home.png\n",
    "align: center\n",
    "---\n",
    "NASDAQ API homepage.\n",
    "```\n",
    "\n",
    "If you click **EXPLORE** next to the search box, you're taken to a list of all of their data. Much of it is premium - you have to pay. However, you can filter for free data. There's free data for house prices, gold and silver markets, IMF macro data, the Fed, etc. Much of this free data comes from Quandl, which was purchased by Nasdaq recently. \n",
    "\n",
    "Quandl has been completely integrated by NASDAQ now, though you will see legacy instructions on the website that refer to its older API commands.\n",
    "\n",
    "```{figure} ../images/07-nasdaq-explore.png\n",
    "---\n",
    "name: 07-nasdaq-explore.png\n",
    "align: center\n",
    "---\n",
    "Exploring NASDAQ data options.\n",
    "```\n",
    "\n",
    "Let's look at the Zillow data, the first option presented when I look for free data. I've used them in labs and exams. \n",
    "\n",
    "```{figure} ../images/07-nasdaq-zillow.png\n",
    "---\n",
    "name: 07-nasdaq-zillow.png\n",
    "align: center\n",
    "---\n",
    "NASDAQ has an API for Zillow housing data.\n",
    "```\n",
    "\n",
    "Each the data APIs shows you samples of what you can access. So, we see an example table with data for a particular indicator and region. We also see a table that has a list of all of the indicators and what they measure. Finally, we see a table with all of the regions and what they represent.\n",
    "\n",
    "This data structure makes it clear that we can download value data and then merge in ID and region descriptions if needed. But, how do we do that? See the tab in the upper-left, with **DATA** highlighted? You can click on **DOCUMENTATION** and **USAGE** to learn more. We'll look at a quick example here.\n",
    "\n",
    "Click **USAGE** and then the **Python** icon. You'll seen an example that lets you filter by a single *indicator_id* and *region*. It has your API key and the `.get_table` method. \n",
    "\n",
    "However, note the `quandl` stuff. They haven't transitioned this code yet. You'll need to do a `pip` install for quandl.\n",
    "\n",
    "Also, we didn't use `.get_table` above for BTC. The Zillow data is stored differently. \n",
    "\n",
    "Make sure that you include your API key. You can input it directly, using the code that they provide. I'm using a different way to do the key that doesn't require me to type my API key into this publicly available code."
   ]
  },
  {
   "cell_type": "code",
   "execution_count": 20,
   "metadata": {},
   "outputs": [],
   "source": [
    "#! pip install quandl\n",
    "\n",
    "# Bring in quandl for downloading data\n",
    "import quandl\n",
    "# quandl.ApiConfig.api_key = 'YOUR_KEY_HERE'\n",
    "quandl.read_key()\n"
   ]
  },
  {
   "attachments": {},
   "cell_type": "markdown",
   "metadata": {},
   "source": [
    "You need that `paginate=True` in there in order to download all of the available data. Without it, it will only pull the first 10,000 rows. Using paginate extends the limit to 1,000,000 rows, or observations. Now, note that this could be a lot of data! You might need to download the data in chunks to get what you want.\n",
    "\n",
    "Let's try pulling in the *indicator_id* ZATT for all regions. "
   ]
  },
  {
   "cell_type": "code",
   "execution_count": 21,
   "metadata": {},
   "outputs": [],
   "source": [
    "# zillow = quandl.get_table('ZILLOW/DATA', indicator_id = 'ZATT', paginate=True)"
   ]
  },
  {
   "attachments": {},
   "cell_type": "markdown",
   "metadata": {},
   "source": [
    "I've commented out the code above, because I know it will exceed the download limit! So, we need to be more selective.\n",
    "\n",
    "If you look on the NASDAQ Zillow documentation page, you'll see the three tables that you can download, the variables inside of each, and what you're allowed to filter on. You unfortunately can't filter on date in the ZILLOW/DATA table. Other data sets, like FRED, do let you specify start and end dates. Every API is different. \n",
    "\n",
    "You can find examples of how to filter and sub-select your data on the NASDAQ website: [https://docs.data.nasdaq.com/docs/python-tables](https://docs.data.nasdaq.com/docs/python-tables)\n",
    "\n",
    "However, you can filter on *region_id*. Let's pull the ZILLOW/REGIONS table to see what we can use."
   ]
  },
  {
   "cell_type": "code",
   "execution_count": 22,
   "metadata": {},
   "outputs": [],
   "source": [
    "regions = quandl.get_table('ZILLOW/REGIONS', paginate=True)"
   ]
  },
  {
   "cell_type": "code",
   "execution_count": 23,
   "metadata": {},
   "outputs": [
    {
     "data": {
      "text/html": [
       "<div>\n",
       "<style scoped>\n",
       "    .dataframe tbody tr th:only-of-type {\n",
       "        vertical-align: middle;\n",
       "    }\n",
       "\n",
       "    .dataframe tbody tr th {\n",
       "        vertical-align: top;\n",
       "    }\n",
       "\n",
       "    .dataframe thead th {\n",
       "        text-align: right;\n",
       "    }\n",
       "</style>\n",
       "<table border=\"1\" class=\"dataframe\">\n",
       "  <thead>\n",
       "    <tr style=\"text-align: right;\">\n",
       "      <th></th>\n",
       "      <th>region_id</th>\n",
       "      <th>region_type</th>\n",
       "      <th>region</th>\n",
       "    </tr>\n",
       "    <tr>\n",
       "      <th>None</th>\n",
       "      <th></th>\n",
       "      <th></th>\n",
       "      <th></th>\n",
       "    </tr>\n",
       "  </thead>\n",
       "  <tbody>\n",
       "    <tr>\n",
       "      <th>0</th>\n",
       "      <td>99999</td>\n",
       "      <td>zip</td>\n",
       "      <td>98847;WA;Wenatchee, WA;Leavenworth;Chelan County</td>\n",
       "    </tr>\n",
       "    <tr>\n",
       "      <th>1</th>\n",
       "      <td>99998</td>\n",
       "      <td>zip</td>\n",
       "      <td>98846;WA;nan;Pateros;Okanogan County</td>\n",
       "    </tr>\n",
       "    <tr>\n",
       "      <th>2</th>\n",
       "      <td>99997</td>\n",
       "      <td>zip</td>\n",
       "      <td>98845; WA; Wenatchee; Douglas County; Palisades</td>\n",
       "    </tr>\n",
       "    <tr>\n",
       "      <th>3</th>\n",
       "      <td>99996</td>\n",
       "      <td>zip</td>\n",
       "      <td>98844;WA;nan;Oroville;Okanogan County</td>\n",
       "    </tr>\n",
       "    <tr>\n",
       "      <th>4</th>\n",
       "      <td>99995</td>\n",
       "      <td>zip</td>\n",
       "      <td>98843;WA;Wenatchee, WA;Orondo;Douglas County</td>\n",
       "    </tr>\n",
       "    <tr>\n",
       "      <th>...</th>\n",
       "      <td>...</td>\n",
       "      <td>...</td>\n",
       "      <td>...</td>\n",
       "    </tr>\n",
       "    <tr>\n",
       "      <th>89300</th>\n",
       "      <td>100000</td>\n",
       "      <td>zip</td>\n",
       "      <td>98848;WA;Moses Lake, WA;Quincy;Grant County</td>\n",
       "    </tr>\n",
       "    <tr>\n",
       "      <th>89301</th>\n",
       "      <td>10000</td>\n",
       "      <td>city</td>\n",
       "      <td>Bloomington;MD;nan;Garrett County</td>\n",
       "    </tr>\n",
       "    <tr>\n",
       "      <th>89302</th>\n",
       "      <td>1000</td>\n",
       "      <td>county</td>\n",
       "      <td>Echols County;GA;Valdosta, GA</td>\n",
       "    </tr>\n",
       "    <tr>\n",
       "      <th>89303</th>\n",
       "      <td>100</td>\n",
       "      <td>county</td>\n",
       "      <td>Bibb County;AL;Birmingham-Hoover, AL</td>\n",
       "    </tr>\n",
       "    <tr>\n",
       "      <th>89304</th>\n",
       "      <td>10</td>\n",
       "      <td>state</td>\n",
       "      <td>Colorado</td>\n",
       "    </tr>\n",
       "  </tbody>\n",
       "</table>\n",
       "<p>89305 rows × 3 columns</p>\n",
       "</div>"
      ],
      "text/plain": [
       "      region_id region_type                                            region\n",
       "None                                                                         \n",
       "0         99999         zip  98847;WA;Wenatchee, WA;Leavenworth;Chelan County\n",
       "1         99998         zip              98846;WA;nan;Pateros;Okanogan County\n",
       "2         99997         zip   98845; WA; Wenatchee; Douglas County; Palisades\n",
       "3         99996         zip             98844;WA;nan;Oroville;Okanogan County\n",
       "4         99995         zip      98843;WA;Wenatchee, WA;Orondo;Douglas County\n",
       "...         ...         ...                                               ...\n",
       "89300    100000         zip       98848;WA;Moses Lake, WA;Quincy;Grant County\n",
       "89301     10000        city                 Bloomington;MD;nan;Garrett County\n",
       "89302      1000      county                     Echols County;GA;Valdosta, GA\n",
       "89303       100      county              Bibb County;AL;Birmingham-Hoover, AL\n",
       "89304        10       state                                          Colorado\n",
       "\n",
       "[89305 rows x 3 columns]"
      ]
     },
     "execution_count": 23,
     "metadata": {},
     "output_type": "execute_result"
    }
   ],
   "source": [
    "regions"
   ]
  },
  {
   "attachments": {},
   "cell_type": "markdown",
   "metadata": {},
   "source": [
    "What if we just want cities?"
   ]
  },
  {
   "cell_type": "code",
   "execution_count": 24,
   "metadata": {},
   "outputs": [
    {
     "data": {
      "text/html": [
       "<div>\n",
       "<style scoped>\n",
       "    .dataframe tbody tr th:only-of-type {\n",
       "        vertical-align: middle;\n",
       "    }\n",
       "\n",
       "    .dataframe tbody tr th {\n",
       "        vertical-align: top;\n",
       "    }\n",
       "\n",
       "    .dataframe thead th {\n",
       "        text-align: right;\n",
       "    }\n",
       "</style>\n",
       "<table border=\"1\" class=\"dataframe\">\n",
       "  <thead>\n",
       "    <tr style=\"text-align: right;\">\n",
       "      <th></th>\n",
       "      <th>region_id</th>\n",
       "      <th>region_type</th>\n",
       "      <th>region</th>\n",
       "    </tr>\n",
       "    <tr>\n",
       "      <th>None</th>\n",
       "      <th></th>\n",
       "      <th></th>\n",
       "      <th></th>\n",
       "    </tr>\n",
       "  </thead>\n",
       "  <tbody>\n",
       "    <tr>\n",
       "      <th>10</th>\n",
       "      <td>9999</td>\n",
       "      <td>city</td>\n",
       "      <td>Carrsville;VA;Virginia Beach-Norfolk-Newport N...</td>\n",
       "    </tr>\n",
       "    <tr>\n",
       "      <th>20</th>\n",
       "      <td>9998</td>\n",
       "      <td>city</td>\n",
       "      <td>Birchleaf;VA;nan;Dickenson County</td>\n",
       "    </tr>\n",
       "    <tr>\n",
       "      <th>56</th>\n",
       "      <td>9994</td>\n",
       "      <td>city</td>\n",
       "      <td>Wright;KS;Dodge City, KS;Ford County</td>\n",
       "    </tr>\n",
       "    <tr>\n",
       "      <th>124</th>\n",
       "      <td>9987</td>\n",
       "      <td>city</td>\n",
       "      <td>Weston;CT;Bridgeport-Stamford-Norwalk, CT;Fair...</td>\n",
       "    </tr>\n",
       "    <tr>\n",
       "      <th>168</th>\n",
       "      <td>9980</td>\n",
       "      <td>city</td>\n",
       "      <td>South Wilmington; IL; Chicago-Naperville-Elgin...</td>\n",
       "    </tr>\n",
       "    <tr>\n",
       "      <th>...</th>\n",
       "      <td>...</td>\n",
       "      <td>...</td>\n",
       "      <td>...</td>\n",
       "    </tr>\n",
       "    <tr>\n",
       "      <th>89203</th>\n",
       "      <td>10010</td>\n",
       "      <td>city</td>\n",
       "      <td>Atwood;KS;nan;Rawlins County</td>\n",
       "    </tr>\n",
       "    <tr>\n",
       "      <th>89224</th>\n",
       "      <td>10008</td>\n",
       "      <td>city</td>\n",
       "      <td>Bound Brook;NJ;New York-Newark-Jersey City, NY...</td>\n",
       "    </tr>\n",
       "    <tr>\n",
       "      <th>89254</th>\n",
       "      <td>10005</td>\n",
       "      <td>city</td>\n",
       "      <td>Chanute;KS;nan;Neosho County</td>\n",
       "    </tr>\n",
       "    <tr>\n",
       "      <th>89290</th>\n",
       "      <td>10001</td>\n",
       "      <td>city</td>\n",
       "      <td>Blountsville;AL;Birmingham-Hoover, AL;Blount C...</td>\n",
       "    </tr>\n",
       "    <tr>\n",
       "      <th>89301</th>\n",
       "      <td>10000</td>\n",
       "      <td>city</td>\n",
       "      <td>Bloomington;MD;nan;Garrett County</td>\n",
       "    </tr>\n",
       "  </tbody>\n",
       "</table>\n",
       "<p>28125 rows × 3 columns</p>\n",
       "</div>"
      ],
      "text/plain": [
       "      region_id region_type                                             region\n",
       "None                                                                          \n",
       "10         9999        city  Carrsville;VA;Virginia Beach-Norfolk-Newport N...\n",
       "20         9998        city                  Birchleaf;VA;nan;Dickenson County\n",
       "56         9994        city               Wright;KS;Dodge City, KS;Ford County\n",
       "124        9987        city  Weston;CT;Bridgeport-Stamford-Norwalk, CT;Fair...\n",
       "168        9980        city  South Wilmington; IL; Chicago-Naperville-Elgin...\n",
       "...         ...         ...                                                ...\n",
       "89203     10010        city                       Atwood;KS;nan;Rawlins County\n",
       "89224     10008        city  Bound Brook;NJ;New York-Newark-Jersey City, NY...\n",
       "89254     10005        city                       Chanute;KS;nan;Neosho County\n",
       "89290     10001        city  Blountsville;AL;Birmingham-Hoover, AL;Blount C...\n",
       "89301     10000        city                  Bloomington;MD;nan;Garrett County\n",
       "\n",
       "[28125 rows x 3 columns]"
      ]
     },
     "execution_count": 24,
     "metadata": {},
     "output_type": "execute_result"
    }
   ],
   "source": [
    "cities = regions[regions.region_type == 'city']\n",
    "cities"
   ]
  },
  {
   "cell_type": "code",
   "execution_count": 25,
   "metadata": {},
   "outputs": [
    {
     "name": "stdout",
     "output_type": "stream",
     "text": [
      "<class 'pandas.core.frame.DataFrame'>\n",
      "Int64Index: 28125 entries, 10 to 89301\n",
      "Data columns (total 3 columns):\n",
      " #   Column       Non-Null Count  Dtype \n",
      "---  ------       --------------  ----- \n",
      " 0   region_id    28125 non-null  object\n",
      " 1   region_type  28125 non-null  object\n",
      " 2   region       28125 non-null  object\n",
      "dtypes: object(3)\n",
      "memory usage: 878.9+ KB\n"
     ]
    }
   ],
   "source": [
    "cities.info()"
   ]
  },
  {
   "attachments": {},
   "cell_type": "markdown",
   "metadata": {},
   "source": [
    "I like to look and see what things are stored as, too. Remember, the `object` type is very generic. \n",
    "\n",
    "There are 28,125 rows of cities! How about counties?"
   ]
  },
  {
   "cell_type": "code",
   "execution_count": 26,
   "metadata": {},
   "outputs": [
    {
     "data": {
      "text/html": [
       "<div>\n",
       "<style scoped>\n",
       "    .dataframe tbody tr th:only-of-type {\n",
       "        vertical-align: middle;\n",
       "    }\n",
       "\n",
       "    .dataframe tbody tr th {\n",
       "        vertical-align: top;\n",
       "    }\n",
       "\n",
       "    .dataframe thead th {\n",
       "        text-align: right;\n",
       "    }\n",
       "</style>\n",
       "<table border=\"1\" class=\"dataframe\">\n",
       "  <thead>\n",
       "    <tr style=\"text-align: right;\">\n",
       "      <th></th>\n",
       "      <th>region_id</th>\n",
       "      <th>region_type</th>\n",
       "      <th>region</th>\n",
       "    </tr>\n",
       "    <tr>\n",
       "      <th>None</th>\n",
       "      <th></th>\n",
       "      <th></th>\n",
       "      <th></th>\n",
       "    </tr>\n",
       "  </thead>\n",
       "  <tbody>\n",
       "    <tr>\n",
       "      <th>94</th>\n",
       "      <td>999</td>\n",
       "      <td>county</td>\n",
       "      <td>Durham County;NC;Durham-Chapel Hill, NC</td>\n",
       "    </tr>\n",
       "    <tr>\n",
       "      <th>169</th>\n",
       "      <td>998</td>\n",
       "      <td>county</td>\n",
       "      <td>Duplin County;NC;nan</td>\n",
       "    </tr>\n",
       "    <tr>\n",
       "      <th>246</th>\n",
       "      <td>997</td>\n",
       "      <td>county</td>\n",
       "      <td>Dubois County;IN;Jasper, IN</td>\n",
       "    </tr>\n",
       "    <tr>\n",
       "      <th>401</th>\n",
       "      <td>995</td>\n",
       "      <td>county</td>\n",
       "      <td>Donley County;TX;nan</td>\n",
       "    </tr>\n",
       "    <tr>\n",
       "      <th>589</th>\n",
       "      <td>993</td>\n",
       "      <td>county</td>\n",
       "      <td>Dimmit County;TX;nan</td>\n",
       "    </tr>\n",
       "    <tr>\n",
       "      <th>...</th>\n",
       "      <td>...</td>\n",
       "      <td>...</td>\n",
       "      <td>...</td>\n",
       "    </tr>\n",
       "    <tr>\n",
       "      <th>89069</th>\n",
       "      <td>1003</td>\n",
       "      <td>county</td>\n",
       "      <td>Elmore County;AL;Montgomery, AL</td>\n",
       "    </tr>\n",
       "    <tr>\n",
       "      <th>89120</th>\n",
       "      <td>1002</td>\n",
       "      <td>county</td>\n",
       "      <td>Elbert County;GA;nan</td>\n",
       "    </tr>\n",
       "    <tr>\n",
       "      <th>89204</th>\n",
       "      <td>1001</td>\n",
       "      <td>county</td>\n",
       "      <td>Elbert County;CO;Denver-Aurora-Lakewood, CO</td>\n",
       "    </tr>\n",
       "    <tr>\n",
       "      <th>89302</th>\n",
       "      <td>1000</td>\n",
       "      <td>county</td>\n",
       "      <td>Echols County;GA;Valdosta, GA</td>\n",
       "    </tr>\n",
       "    <tr>\n",
       "      <th>89303</th>\n",
       "      <td>100</td>\n",
       "      <td>county</td>\n",
       "      <td>Bibb County;AL;Birmingham-Hoover, AL</td>\n",
       "    </tr>\n",
       "  </tbody>\n",
       "</table>\n",
       "<p>3097 rows × 3 columns</p>\n",
       "</div>"
      ],
      "text/plain": [
       "      region_id region_type                                       region\n",
       "None                                                                    \n",
       "94          999      county      Durham County;NC;Durham-Chapel Hill, NC\n",
       "169         998      county                         Duplin County;NC;nan\n",
       "246         997      county                  Dubois County;IN;Jasper, IN\n",
       "401         995      county                         Donley County;TX;nan\n",
       "589         993      county                         Dimmit County;TX;nan\n",
       "...         ...         ...                                          ...\n",
       "89069      1003      county              Elmore County;AL;Montgomery, AL\n",
       "89120      1002      county                         Elbert County;GA;nan\n",
       "89204      1001      county  Elbert County;CO;Denver-Aurora-Lakewood, CO\n",
       "89302      1000      county                Echols County;GA;Valdosta, GA\n",
       "89303       100      county         Bibb County;AL;Birmingham-Hoover, AL\n",
       "\n",
       "[3097 rows x 3 columns]"
      ]
     },
     "execution_count": 26,
     "metadata": {},
     "output_type": "execute_result"
    }
   ],
   "source": [
    "counties = regions[regions.region_type == 'county']\n",
    "counties"
   ]
  },
  {
   "attachments": {},
   "cell_type": "markdown",
   "metadata": {},
   "source": [
    "Can't find the regions you want? You could export the whole thing to a CSV file and explore it in Excel. This will show up in whatever folder you currently have as your home in VS Code."
   ]
  },
  {
   "cell_type": "code",
   "execution_count": 27,
   "metadata": {},
   "outputs": [],
   "source": [
    "counties.to_csv('counties.csv', index = True)"
   ]
  },
  {
   "attachments": {},
   "cell_type": "markdown",
   "metadata": {},
   "source": [
    "You can also open up the **Variables** window in VS Code VS Code (or the equivalent in Google Colab) and scroll through the file, looking for the *region_id* values that you want. \n",
    "\n",
    "Finally, you can search the text in a column directly. Let's find counties in NC."
   ]
  },
  {
   "cell_type": "code",
   "execution_count": 28,
   "metadata": {},
   "outputs": [
    {
     "data": {
      "text/html": [
       "<div>\n",
       "<style scoped>\n",
       "    .dataframe tbody tr th:only-of-type {\n",
       "        vertical-align: middle;\n",
       "    }\n",
       "\n",
       "    .dataframe tbody tr th {\n",
       "        vertical-align: top;\n",
       "    }\n",
       "\n",
       "    .dataframe thead th {\n",
       "        text-align: right;\n",
       "    }\n",
       "</style>\n",
       "<table border=\"1\" class=\"dataframe\">\n",
       "  <thead>\n",
       "    <tr style=\"text-align: right;\">\n",
       "      <th></th>\n",
       "      <th>region_id</th>\n",
       "      <th>region_type</th>\n",
       "      <th>region</th>\n",
       "    </tr>\n",
       "    <tr>\n",
       "      <th>None</th>\n",
       "      <th></th>\n",
       "      <th></th>\n",
       "      <th></th>\n",
       "    </tr>\n",
       "  </thead>\n",
       "  <tbody>\n",
       "    <tr>\n",
       "      <th>94</th>\n",
       "      <td>999</td>\n",
       "      <td>county</td>\n",
       "      <td>Durham County;NC;Durham-Chapel Hill, NC</td>\n",
       "    </tr>\n",
       "    <tr>\n",
       "      <th>169</th>\n",
       "      <td>998</td>\n",
       "      <td>county</td>\n",
       "      <td>Duplin County;NC;nan</td>\n",
       "    </tr>\n",
       "    <tr>\n",
       "      <th>2683</th>\n",
       "      <td>962</td>\n",
       "      <td>county</td>\n",
       "      <td>Craven County;NC;New Bern, NC</td>\n",
       "    </tr>\n",
       "    <tr>\n",
       "      <th>4637</th>\n",
       "      <td>935</td>\n",
       "      <td>county</td>\n",
       "      <td>Chowan County;NC;nan</td>\n",
       "    </tr>\n",
       "    <tr>\n",
       "      <th>4972</th>\n",
       "      <td>93</td>\n",
       "      <td>county</td>\n",
       "      <td>Ashe County;NC;nan</td>\n",
       "    </tr>\n",
       "    <tr>\n",
       "      <th>...</th>\n",
       "      <td>...</td>\n",
       "      <td>...</td>\n",
       "      <td>...</td>\n",
       "    </tr>\n",
       "    <tr>\n",
       "      <th>87475</th>\n",
       "      <td>1180</td>\n",
       "      <td>county</td>\n",
       "      <td>Martin County;NC;nan</td>\n",
       "    </tr>\n",
       "    <tr>\n",
       "      <th>87821</th>\n",
       "      <td>1147</td>\n",
       "      <td>county</td>\n",
       "      <td>Lenoir County;NC;Kinston, NC</td>\n",
       "    </tr>\n",
       "    <tr>\n",
       "      <th>88578</th>\n",
       "      <td>1059</td>\n",
       "      <td>county</td>\n",
       "      <td>Greene County;NC;nan</td>\n",
       "    </tr>\n",
       "    <tr>\n",
       "      <th>88670</th>\n",
       "      <td>1049</td>\n",
       "      <td>county</td>\n",
       "      <td>Graham County;NC;nan</td>\n",
       "    </tr>\n",
       "    <tr>\n",
       "      <th>88823</th>\n",
       "      <td>1032</td>\n",
       "      <td>county</td>\n",
       "      <td>Gaston County;NC;Charlotte-Concord-Gastonia, N...</td>\n",
       "    </tr>\n",
       "  </tbody>\n",
       "</table>\n",
       "<p>100 rows × 3 columns</p>\n",
       "</div>"
      ],
      "text/plain": [
       "      region_id region_type                                             region\n",
       "None                                                                          \n",
       "94          999      county            Durham County;NC;Durham-Chapel Hill, NC\n",
       "169         998      county                               Duplin County;NC;nan\n",
       "2683        962      county                      Craven County;NC;New Bern, NC\n",
       "4637        935      county                               Chowan County;NC;nan\n",
       "4972         93      county                                 Ashe County;NC;nan\n",
       "...         ...         ...                                                ...\n",
       "87475      1180      county                               Martin County;NC;nan\n",
       "87821      1147      county                       Lenoir County;NC;Kinston, NC\n",
       "88578      1059      county                               Greene County;NC;nan\n",
       "88670      1049      county                               Graham County;NC;nan\n",
       "88823      1032      county  Gaston County;NC;Charlotte-Concord-Gastonia, N...\n",
       "\n",
       "[100 rows x 3 columns]"
      ]
     },
     "execution_count": 28,
     "metadata": {},
     "output_type": "execute_result"
    }
   ],
   "source": [
    "nc_counties = counties[counties['region'].str.contains(\";NC\")]\n",
    "nc_counties"
   ]
  },
  {
   "cell_type": "code",
   "execution_count": 29,
   "metadata": {},
   "outputs": [
    {
     "name": "stdout",
     "output_type": "stream",
     "text": [
      "<class 'pandas.core.frame.DataFrame'>\n",
      "Int64Index: 100 entries, 94 to 88823\n",
      "Data columns (total 3 columns):\n",
      " #   Column       Non-Null Count  Dtype \n",
      "---  ------       --------------  ----- \n",
      " 0   region_id    100 non-null    object\n",
      " 1   region_type  100 non-null    object\n",
      " 2   region       100 non-null    object\n",
      "dtypes: object(3)\n",
      "memory usage: 3.1+ KB\n"
     ]
    }
   ],
   "source": [
    "nc_counties.info()"
   ]
  },
  {
   "attachments": {},
   "cell_type": "markdown",
   "metadata": {},
   "source": [
    "There are 100 counties in NC, so this worked. Now, we can save these regions to a **list** and use that to pull data.\n",
    "\n",
    "By exploring the data like this, you can maybe find the *region_id* values that you want and give them as a list. I'm also going to use the `qopts = ` option to name the columns that I want to pull. This isn't necessary here, since I want all of the columns, but I wanted to show you that you could do this."
   ]
  },
  {
   "cell_type": "code",
   "execution_count": 30,
   "metadata": {},
   "outputs": [],
   "source": [
    "nc_county_list = nc_counties['region_id'].to_list()"
   ]
  },
  {
   "cell_type": "markdown",
   "metadata": {},
   "source": [
    "I'm going to pull down just the NC counties. I'll comment out my code, though, so that I don't download from the API every time I update my notes. This can cause a time-out error."
   ]
  },
  {
   "cell_type": "code",
   "execution_count": 42,
   "metadata": {},
   "outputs": [],
   "source": [
    "#zillow_nc = quandl.get_table('ZILLOW/DATA', indicator_id = 'ZATT', paginate = True, region_id = nc_county_list,  qopts = {'columns': ['indicator_id', 'region_id', 'date', 'value']})"
   ]
  },
  {
   "cell_type": "code",
   "execution_count": 43,
   "metadata": {},
   "outputs": [
    {
     "data": {
      "text/html": [
       "<div>\n",
       "<style scoped>\n",
       "    .dataframe tbody tr th:only-of-type {\n",
       "        vertical-align: middle;\n",
       "    }\n",
       "\n",
       "    .dataframe tbody tr th {\n",
       "        vertical-align: top;\n",
       "    }\n",
       "\n",
       "    .dataframe thead th {\n",
       "        text-align: right;\n",
       "    }\n",
       "</style>\n",
       "<table border=\"1\" class=\"dataframe\">\n",
       "  <thead>\n",
       "    <tr style=\"text-align: right;\">\n",
       "      <th></th>\n",
       "      <th>indicator_id</th>\n",
       "      <th>region_id</th>\n",
       "      <th>date</th>\n",
       "      <th>value</th>\n",
       "    </tr>\n",
       "    <tr>\n",
       "      <th>None</th>\n",
       "      <th></th>\n",
       "      <th></th>\n",
       "      <th></th>\n",
       "      <th></th>\n",
       "    </tr>\n",
       "  </thead>\n",
       "  <tbody>\n",
       "    <tr>\n",
       "      <th>0</th>\n",
       "      <td>ZATT</td>\n",
       "      <td>999</td>\n",
       "      <td>2024-01-31</td>\n",
       "      <td>557371.760608</td>\n",
       "    </tr>\n",
       "    <tr>\n",
       "      <th>1</th>\n",
       "      <td>ZATT</td>\n",
       "      <td>999</td>\n",
       "      <td>2023-12-31</td>\n",
       "      <td>557661.809892</td>\n",
       "    </tr>\n",
       "    <tr>\n",
       "      <th>2</th>\n",
       "      <td>ZATT</td>\n",
       "      <td>999</td>\n",
       "      <td>2023-11-30</td>\n",
       "      <td>556887.747711</td>\n",
       "    </tr>\n",
       "    <tr>\n",
       "      <th>3</th>\n",
       "      <td>ZATT</td>\n",
       "      <td>999</td>\n",
       "      <td>2023-10-31</td>\n",
       "      <td>555300.176497</td>\n",
       "    </tr>\n",
       "    <tr>\n",
       "      <th>4</th>\n",
       "      <td>ZATT</td>\n",
       "      <td>999</td>\n",
       "      <td>2023-09-30</td>\n",
       "      <td>553246.874842</td>\n",
       "    </tr>\n",
       "    <tr>\n",
       "      <th>5</th>\n",
       "      <td>ZATT</td>\n",
       "      <td>999</td>\n",
       "      <td>2023-08-31</td>\n",
       "      <td>550952.109307</td>\n",
       "    </tr>\n",
       "    <tr>\n",
       "      <th>6</th>\n",
       "      <td>ZATT</td>\n",
       "      <td>999</td>\n",
       "      <td>2023-07-31</td>\n",
       "      <td>547469.076081</td>\n",
       "    </tr>\n",
       "    <tr>\n",
       "      <th>7</th>\n",
       "      <td>ZATT</td>\n",
       "      <td>999</td>\n",
       "      <td>2023-06-30</td>\n",
       "      <td>542981.400227</td>\n",
       "    </tr>\n",
       "    <tr>\n",
       "      <th>8</th>\n",
       "      <td>ZATT</td>\n",
       "      <td>999</td>\n",
       "      <td>2023-05-31</td>\n",
       "      <td>538523.149903</td>\n",
       "    </tr>\n",
       "    <tr>\n",
       "      <th>9</th>\n",
       "      <td>ZATT</td>\n",
       "      <td>999</td>\n",
       "      <td>2023-04-30</td>\n",
       "      <td>536026.114767</td>\n",
       "    </tr>\n",
       "    <tr>\n",
       "      <th>10</th>\n",
       "      <td>ZATT</td>\n",
       "      <td>999</td>\n",
       "      <td>2023-03-31</td>\n",
       "      <td>535978.017181</td>\n",
       "    </tr>\n",
       "    <tr>\n",
       "      <th>11</th>\n",
       "      <td>ZATT</td>\n",
       "      <td>999</td>\n",
       "      <td>2023-02-28</td>\n",
       "      <td>537883.027543</td>\n",
       "    </tr>\n",
       "    <tr>\n",
       "      <th>12</th>\n",
       "      <td>ZATT</td>\n",
       "      <td>999</td>\n",
       "      <td>2023-01-31</td>\n",
       "      <td>541175.601929</td>\n",
       "    </tr>\n",
       "    <tr>\n",
       "      <th>13</th>\n",
       "      <td>ZATT</td>\n",
       "      <td>999</td>\n",
       "      <td>2022-12-31</td>\n",
       "      <td>545361.903669</td>\n",
       "    </tr>\n",
       "    <tr>\n",
       "      <th>14</th>\n",
       "      <td>ZATT</td>\n",
       "      <td>999</td>\n",
       "      <td>2022-11-30</td>\n",
       "      <td>549751.208349</td>\n",
       "    </tr>\n",
       "    <tr>\n",
       "      <th>15</th>\n",
       "      <td>ZATT</td>\n",
       "      <td>999</td>\n",
       "      <td>2022-10-31</td>\n",
       "      <td>554505.626693</td>\n",
       "    </tr>\n",
       "    <tr>\n",
       "      <th>16</th>\n",
       "      <td>ZATT</td>\n",
       "      <td>999</td>\n",
       "      <td>2022-09-30</td>\n",
       "      <td>559896.493202</td>\n",
       "    </tr>\n",
       "    <tr>\n",
       "      <th>17</th>\n",
       "      <td>ZATT</td>\n",
       "      <td>999</td>\n",
       "      <td>2022-08-31</td>\n",
       "      <td>564915.670096</td>\n",
       "    </tr>\n",
       "    <tr>\n",
       "      <th>18</th>\n",
       "      <td>ZATT</td>\n",
       "      <td>999</td>\n",
       "      <td>2022-07-31</td>\n",
       "      <td>565417.726032</td>\n",
       "    </tr>\n",
       "    <tr>\n",
       "      <th>19</th>\n",
       "      <td>ZATT</td>\n",
       "      <td>999</td>\n",
       "      <td>2022-06-30</td>\n",
       "      <td>559501.205643</td>\n",
       "    </tr>\n",
       "    <tr>\n",
       "      <th>20</th>\n",
       "      <td>ZATT</td>\n",
       "      <td>999</td>\n",
       "      <td>2022-05-31</td>\n",
       "      <td>547576.105906</td>\n",
       "    </tr>\n",
       "    <tr>\n",
       "      <th>21</th>\n",
       "      <td>ZATT</td>\n",
       "      <td>999</td>\n",
       "      <td>2022-04-30</td>\n",
       "      <td>533067.734141</td>\n",
       "    </tr>\n",
       "    <tr>\n",
       "      <th>22</th>\n",
       "      <td>ZATT</td>\n",
       "      <td>999</td>\n",
       "      <td>2022-03-31</td>\n",
       "      <td>518721.114714</td>\n",
       "    </tr>\n",
       "    <tr>\n",
       "      <th>23</th>\n",
       "      <td>ZATT</td>\n",
       "      <td>999</td>\n",
       "      <td>2022-02-28</td>\n",
       "      <td>506041.692210</td>\n",
       "    </tr>\n",
       "    <tr>\n",
       "      <th>24</th>\n",
       "      <td>ZATT</td>\n",
       "      <td>999</td>\n",
       "      <td>2022-01-31</td>\n",
       "      <td>495895.806066</td>\n",
       "    </tr>\n",
       "  </tbody>\n",
       "</table>\n",
       "</div>"
      ],
      "text/plain": [
       "     indicator_id region_id       date          value\n",
       "None                                                 \n",
       "0            ZATT       999 2024-01-31  557371.760608\n",
       "1            ZATT       999 2023-12-31  557661.809892\n",
       "2            ZATT       999 2023-11-30  556887.747711\n",
       "3            ZATT       999 2023-10-31  555300.176497\n",
       "4            ZATT       999 2023-09-30  553246.874842\n",
       "5            ZATT       999 2023-08-31  550952.109307\n",
       "6            ZATT       999 2023-07-31  547469.076081\n",
       "7            ZATT       999 2023-06-30  542981.400227\n",
       "8            ZATT       999 2023-05-31  538523.149903\n",
       "9            ZATT       999 2023-04-30  536026.114767\n",
       "10           ZATT       999 2023-03-31  535978.017181\n",
       "11           ZATT       999 2023-02-28  537883.027543\n",
       "12           ZATT       999 2023-01-31  541175.601929\n",
       "13           ZATT       999 2022-12-31  545361.903669\n",
       "14           ZATT       999 2022-11-30  549751.208349\n",
       "15           ZATT       999 2022-10-31  554505.626693\n",
       "16           ZATT       999 2022-09-30  559896.493202\n",
       "17           ZATT       999 2022-08-31  564915.670096\n",
       "18           ZATT       999 2022-07-31  565417.726032\n",
       "19           ZATT       999 2022-06-30  559501.205643\n",
       "20           ZATT       999 2022-05-31  547576.105906\n",
       "21           ZATT       999 2022-04-30  533067.734141\n",
       "22           ZATT       999 2022-03-31  518721.114714\n",
       "23           ZATT       999 2022-02-28  506041.692210\n",
       "24           ZATT       999 2022-01-31  495895.806066"
      ]
     },
     "execution_count": 43,
     "metadata": {},
     "output_type": "execute_result"
    }
   ],
   "source": [
    "#zillow_nc.head(25)"
   ]
  },
  {
   "attachments": {},
   "cell_type": "markdown",
   "metadata": {},
   "source": [
    "Hey, there's Durham County!"
   ]
  },
  {
   "cell_type": "code",
   "execution_count": 45,
   "metadata": {},
   "outputs": [
    {
     "name": "stdout",
     "output_type": "stream",
     "text": [
      "<class 'pandas.core.frame.DataFrame'>\n",
      "RangeIndex: 27676 entries, 0 to 27675\n",
      "Data columns (total 4 columns):\n",
      " #   Column        Non-Null Count  Dtype         \n",
      "---  ------        --------------  -----         \n",
      " 0   indicator_id  27676 non-null  object        \n",
      " 1   region_id     27676 non-null  object        \n",
      " 2   date          27676 non-null  datetime64[ns]\n",
      " 3   value         27676 non-null  float64       \n",
      "dtypes: datetime64[ns](1), float64(1), object(2)\n",
      "memory usage: 865.0+ KB\n"
     ]
    }
   ],
   "source": [
    "#zillow_nc.info()"
   ]
  },
  {
   "attachments": {},
   "cell_type": "markdown",
   "metadata": {},
   "source": [
    "Now you can filter by *date* if you like. And, you could pull down multiple states this way, change the variable type, etc. You could also merge in the region names using *region_id* as your key."
   ]
  },
  {
   "attachments": {},
   "cell_type": "markdown",
   "metadata": {},
   "source": [
    "### Using Rapid API\n",
    "\n",
    "Another data option is [Rapid API](https://rapidapi.com/hub). There's all types of data here - markets, sports, gambling, housing, etc. People will write their own APIs, perhaps interfacing with the websites that contain the information. They can then publish their APIs on this webpage. Many have free options, some you have to pay for. There are thousands here, so you'll have to dig around.\n",
    "\n",
    "```{figure} ../images/07-rapidapi.png\n",
    "---\n",
    "name: 07-rapidapi.png\n",
    "align: center\n",
    "---\n",
    "Main Rapid API webpage\n",
    "```\n",
    "\n",
    "One you have an account, you'll be able to subscribe to different APIs. You probably want the data to have a free option.\n",
    "\n",
    "The quick start guide is [here](https://docs.rapidapi.com/docs/consumer-quick-start-guide). \n",
    "\n",
    "Luckily, all of the APIs here tend to have the same structures. These are called **REST APIs**. This stands for \"Representational State Transfer\" and is just a standardized way for computers to talk to each other. They are going to use a standard data format, like JSON. More on this below.\n",
    "\n",
    "You can read more on their [API Learn page](https://rapidapi.com/learn/rest). \n",
    "\n",
    "We'll look at one example, Pinnacle Odds, which has some sports gambling information: [https://rapidapi.com/tipsters/api/pinnacle-odds/](https://rapidapi.com/tipsters/api/pinnacle-odds/)\n",
    "\n",
    "Once you've subscribed, you see the main **endpoint** screen. \n",
    "\n",
    "```{figure} ../images/07-rapidapi-endpoint.png\n",
    "---\n",
    "name: 07-rapidapi-endpoint.png\n",
    "align: center\n",
    "---\n",
    "Pinnacle Odds endpoint page. I've blocked my API key with two different windows.\n",
    "```\n",
    "\n",
    "At the top, you'll see Endpoints, About, Tutorials, Discussions, and Pricing. Click around to read more about the API.\n",
    "\n",
    "We are currently on **Endpoints**. Endpoints are basically like URLs. They are where different tables of data live. We are going to use this page to figure out the data that we need. And, the webpage page will also create the Python code needed to download the data!\n",
    "\n",
    "You can start on the left of the screen. You'll see a list of the different tables available. I'll try **List of Sports** in this example. You'll see why in a minute.\n",
    "\n",
    "You'll note that the middle section now changed. This is where you can filter and ask for particular types of data from that table. In this case, there are no options to change.\n",
    "\n",
    "On the right, you'll see Code Snippets. The default is Node.js, a type of Javascript. We don't want that. Click the dropdown box and look for Python. They have three ways, using three different packages, to interface with the API from Python and download the data. I'll pick `Requests` - it seemed to work below. \n",
    "\n",
    "This will change the code. You'll see the package import, your API key, the host, and the data request. You can click **Copy Code**. \n",
    "\n",
    "But, before we run this on our end, let's click **Test Endpoint**. That's the blue box in the middle. Then, click **Results** on the left and **Body**. By doing this, we essentially just ran that code in the browser. We can see what data we're going to get. This is a **JSON file** with 9 items. Each item has 6 keys. You can see what the keys are - they are giving us the ids for each sport. For example, \"Soccer\" is \"id = 1\". \n",
    "\n",
    "This is very helpful! We need to know these id values if we want to pull particular sports.\n",
    "\n",
    "For fun, let's pull this simple JSON file on our end. I've copied and pasted the code below. It didn't like the `print` function, so I just dropped it. I am again loading in my API key from an separate file. You'll use your own.\n",
    "\n",
    "I am commenting out my code so that it doesn't run and use my API key everytime I update my book."
   ]
  },
  {
   "cell_type": "code",
   "execution_count": 34,
   "metadata": {},
   "outputs": [],
   "source": [
    "# import requests\n",
    "# from dotenv import load_dotenv # For my .env file which contains my API keys locally\n",
    "# import os # For my .env file which contains my API keys locally\n",
    "\n",
    "# load_dotenv() # For my .env file which contains my API keys locally\n",
    "# RAPID_API_KEY = os.getenv('RAPID_API_KEY')\n",
    "\n",
    "# url = \"https://pinnacle-odds.p.rapidapi.com/kit/v1/sports\"\n",
    "\n",
    "# headers = {\n",
    "# \t\"X-RapidAPI-Key\": RAPID_API_KEY,\n",
    "# \t\"X-RapidAPI-Host\": \"pinnacle-odds.p.rapidapi.com\"\n",
    "# }\n",
    "\n",
    "# sports_ids = requests.request(\"GET\", url, headers=headers)\n",
    "\n",
    "# print(sports_ids.text)"
   ]
  },
  {
   "attachments": {},
   "cell_type": "markdown",
   "metadata": {},
   "source": [
    "We can turn that response file into a JSON file. This is what it wants to be!\n",
    "\n",
    "Again, all of the code that follows is also commented out so that it doesn't run every time I edit this online book. The output from the code is still there, however."
   ]
  },
  {
   "cell_type": "code",
   "execution_count": 35,
   "metadata": {},
   "outputs": [],
   "source": [
    "#sports_ids_json = sports_ids.json()\n",
    "#sports_ids_json"
   ]
  },
  {
   "attachments": {},
   "cell_type": "markdown",
   "metadata": {},
   "source": [
    "That's JSON. I was able to show the whole thing in the notebook.\n",
    "\n",
    "Let's get that into a `pandas` DataFrame now. To do that, we have to know a bit about how JSON files are structured. This one is easy. `pd.json_normalize` is a useful tool here."
   ]
  },
  {
   "cell_type": "code",
   "execution_count": 36,
   "metadata": {},
   "outputs": [],
   "source": [
    "#sports_ids_df = pd.json_normalize(data = sports_ids_json)\n",
    "#sports_ids_df\n"
   ]
  },
  {
   "attachments": {},
   "cell_type": "markdown",
   "metadata": {},
   "source": [
    "What do all of those columns mean? I don't know! You'd want to read the documentation for your API.\n",
    "\n",
    "Also, note how I'm changing the names of my objects as I go. I want to keep each data structure in memory - what I originally downloaded, the JSON file, the DataFrame. This way, I don't overwrite anything and I won't be forced to download the data all over again.\n",
    "\n",
    "Now, let's see if we can pull some actual data. I notice that *id = 3* is Basketball. Cool. Let's try for some NBA data. Go back to the left of the **Endpoint** page and click on **List of archive events**. The middle will change and you'll have some required and optional inputs. I know I want *sport_id* to be 3. But I don't want all basketball. Just the NBA. So, I notice the *league_ids* option below. But I don't know the number of the NBA.\n",
    "\n",
    "OK, back to the left side. See **List of leagues**? Click that. I put in *sport_id = 3*. I then click **Test Endpoint**. I go to **Results**, select **Body**, and then **Expand All**. I do a CTRL-F to look for \"NBA\".\n",
    "\n",
    "And I find a bunch of possibilities! NBA games. Summer League. D-League. Summer League! If you're betting on NBA Summer League, please seek help. Let's use the regular NBA. That's *league_id = 487*. \n",
    "\n",
    "Back to **List of archive events**. I'll add that league ID to the bottom of the middle. I set the page_num to 1000. I then click **Test Endpoint** and look at what I get. \n",
    "\n",
    "Nothing! That's an empty looking file on the right. Maybe this API doesn't keep archived NBA? Who knows. \n",
    "\n",
    "Let's try another endpoint. Click on **List of markets**. Let's see what this one has. In the middle, I'll again use the codes for basketball and the NBA. I'll set *is_have_odds* to True. Let's test the endpoint and see what we get. \n",
    "\n",
    "```{figure} ../images/07-rapidapi-nba.png\n",
    "---\n",
    "name: 07-rapidapi-nba.png\n",
    "align: center\n",
    "---\n",
    "Some NBA odds for this weekend.\n",
    "```\n",
    "\n",
    "We can expand the result and look at the data structure. This is a more complicated one. I see 8 items under events. These correspond to the 8 games this weekend. Then, under each event, you can keep drilling down. The *level 0* is kind of like the header for that event. It has the game, the start time, the teams, etc. You'll see 4 more keys under *periods*. Each of these is a different betting line, with money lines, spreads, what I think are over/under point totals, etc. \n",
    "\n",
    "Anyway, the main thing here is that we have indeed pulled some rather complex looking data. That data is current for upcoming games, not historical. But, we can still pull this in and use it to see how to work with a more complex JSON structure. \n",
    "\n",
    "I'll copy and paste the code again. "
   ]
  },
  {
   "cell_type": "code",
   "execution_count": 37,
   "metadata": {},
   "outputs": [],
   "source": [
    "# import requests\n",
    "\n",
    "# url = \"https://pinnacle-odds.p.rapidapi.com/kit/v1/markets\"\n",
    "\n",
    "# querystring = {\"sport_id\":\"3\",\"league_ids\":\"487\",\"is_have_odds\":\"true\"}\n",
    "\n",
    "# headers = {\n",
    "# \t\"X-RapidAPI-Key\": RAPID_API_KEY,\n",
    "# \t\"X-RapidAPI-Host\": \"pinnacle-odds.p.rapidapi.com\"\n",
    "# }\n",
    "\n",
    "# current = requests.request(\"GET\", url, headers=headers, params=querystring)\n",
    "\n",
    "# print(current.text)"
   ]
  },
  {
   "attachments": {},
   "cell_type": "markdown",
   "metadata": {},
   "source": [
    "Does that query string above make sense now?\n",
    "\n",
    "I'll convert that data to JSON below and peak at it."
   ]
  },
  {
   "cell_type": "code",
   "execution_count": 38,
   "metadata": {},
   "outputs": [],
   "source": [
    "#current_json = current.json()\n",
    "#current_json\n"
   ]
  },
  {
   "attachments": {},
   "cell_type": "markdown",
   "metadata": {},
   "source": [
    "Wow, that's a lot of stuff. OK, now this is the tricky part. How do we get this thing into a `pandas` DataFrame? This is where we really have to think carefully. What do we actually want? Remember, a DataFrame, at its simplest, looks like a spreadsheet, with rows and columns. How could this thing possibly look like that?"
   ]
  },
  {
   "cell_type": "code",
   "execution_count": 39,
   "metadata": {},
   "outputs": [],
   "source": [
    "#current_df = pd.json_normalize(data = current_json)\n",
    "#current_df\n"
   ]
  },
  {
   "attachments": {},
   "cell_type": "markdown",
   "metadata": {},
   "source": [
    "We need to **flatten** this file. JSON files are nested. That's what all those brackets are doing. Let's think a little more about that.\n",
    "\n",
    "```{figure} ../images/07-json.png\n",
    "---\n",
    "name: 07-json.png\n",
    "align: center\n",
    "---\n",
    "JSON structure. Source: https://towardsdatascience.com/all-pandas-json-normalize-you-should-know-for-flattening-json-13eae1dfb7dd\n",
    "```\n",
    "\n",
    "JSON files are like dictionaries, as you can see in the picture above. There's a key and a value. However, they can get complicated where there's a list of dictionaries embedded in the same data structure. You can think of navigating them like working through the branches of a tree. Which branch do you want?\n",
    "\n",
    "To do this, we'll use the [pd.json_normalize](https://pandas.pydata.org/pandas-docs/stable/reference/api/pandas.json_normalize.html) method. We've just used it, but that was with a simple JSON file. It didn't really work with the current odds data, unless we add more arguments.\n",
    "\n",
    "You can read more [here](https://towardsdatascience.com/all-pandas-json-normalize-you-should-know-for-flattening-json-13eae1dfb7dd).\n",
    "\n",
    "Everything is packed into that *events* column. Let's flatten it. This will take every item in it and convert it into a new column. Keys will be combined together to create compound names that combine different levels. "
   ]
  },
  {
   "cell_type": "code",
   "execution_count": 40,
   "metadata": {},
   "outputs": [],
   "source": [
    "#current_df_events = pd.json_normalize(data = current_json, record_path=['events'])\n",
    "#current_df_events"
   ]
  },
  {
   "cell_type": "code",
   "execution_count": 41,
   "metadata": {},
   "outputs": [],
   "source": [
    "#list(current_df_events)"
   ]
  },
  {
   "attachments": {},
   "cell_type": "markdown",
   "metadata": {},
   "source": [
    "That's a lot of columns! Do you see what it did? When I flattened the file, it worked its way through the dictionary and key values. So, periods to num_0 to totals to the various over/under values, etc. It then combined those permutations to create new columns, where each value is separated by a period. Then value at the end of the chain is what goes into the DataFrame. \n",
    "\n",
    "That's a quick introduction to Rapid API and dealing with its JSON output. Every API is different - you'll have to play around."
   ]
  },
  {
   "attachments": {},
   "cell_type": "markdown",
   "metadata": {},
   "source": [
    "### Data on Kaggle\n",
    "\n",
    "[Kaggle](https://www.kaggle.com) is also a great source for data. You can search their [data sets here](https://www.kaggle.com/datasets).\n",
    "\n",
    "Searching for finance, I see one on [consumer finance complaints](https://www.kaggle.com/datasets/kaggle/us-consumer-finance-complaints) that looks interesting. The Kaggle page describes the data, gives you a data dictionary, and some examples. \n",
    "\n",
    "The data for Kaggle contests is usually pretty clean already. That said, you'll usually have to do at least some work to get it ready to look at.\n",
    "\n"
   ]
  }
 ],
 "metadata": {
  "kernelspec": {
   "display_name": "base",
   "language": "python",
   "name": "python3"
  },
  "language_info": {
   "codemirror_mode": {
    "name": "ipython",
    "version": 3
   },
   "file_extension": ".py",
   "mimetype": "text/x-python",
   "name": "python",
   "nbconvert_exporter": "python",
   "pygments_lexer": "ipython3",
   "version": "3.9.13"
  },
  "orig_nbformat": 4,
  "vscode": {
   "interpreter": {
    "hash": "40d3a090f54c6569ab1632332b64b2c03c39dcf918b08424e98f38b5ae0af88f"
   }
  }
 },
 "nbformat": 4,
 "nbformat_minor": 2
}
