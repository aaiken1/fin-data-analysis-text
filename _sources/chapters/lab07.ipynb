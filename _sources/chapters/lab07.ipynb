{
 "cells": [
  {
   "cell_type": "markdown",
   "metadata": {},
   "source": [
    "# Lab 07\n",
    "## Risk Management and Portfolio Management\n",
    "\n",
    "In this lab, we are going to use the price of four ETFs to find returns and the weights for both an optimal Sharpe and a minimum variance portfolio. Then, we'll calculate non-parametric VaR and CVaR measures for both portfolios and compare.\n",
    "\n",
    "Use our online notes to complete our labs. I have my own commentary and links that will help. You can work through the parts below in order.\n",
    "\n",
    "If you are getting errors and are not sure why, my first suggestion is always to **Restart** the Python kernel, to **Clear All Output**, and run each code cell **one-by-one** from the top.\n",
    "\n",
    "Let each code cell represent one idea, or output. If you change a DataFrame and then re-run a code cell that is expecting the unchanged data, you'll get an error. Again, restart and run all.\n",
    "\n",
    "Take advantage of **Markdown** in your write-up. Use headers and formatting. Here's a [Markdown cheat sheet](https://www.markdownguide.org/cheat-sheet/) that I keep handy. Once you figure out some of the basics, you might not want to go back to Word or Google Docs. \n",
    "\n",
    "Finally, use our textbook, notes, and DataCamp as a resource. "
   ]
  },
  {
   "cell_type": "markdown",
   "metadata": {},
   "source": [
    "## Part 1\n",
    "\n",
    "Bring in the ETF data from my Github page: <https://raw.githubusercontent.com/aaiken1/fin-data-analysis-python/main/data/etf-reproducible-finance.csv>.\n",
    "\n",
    "Calculate **discrete returns** using the prices and show some descriptives to make sure things look good.\n"
   ]
  },
  {
   "cell_type": "markdown",
   "metadata": {},
   "source": [
    "## Part 2\n",
    "\n",
    "Use `sco.minimize` from the `scipy` library to find the portfolio weights that give you the portfolio with the maximum Sharpe ratio. You can assume a risk-free rate of 0%. \n",
    "\n",
    "Notice that you result is saved inside of an OptimizeResult **object**. We'll need to figure out how to get the weights out of this object."
   ]
  },
  {
   "cell_type": "markdown",
   "metadata": {},
   "source": [
    "## Part 3\n",
    "\n",
    "Use the same method, but find the global minimum variance (GMV) portfolio. You're saving this result to a different OptimizeResult **object**."
   ]
  },
  {
   "cell_type": "markdown",
   "metadata": {},
   "source": [
    "## Part 4\n",
    "\n",
    "Briefly discuss the assumptions that we're making when we do portfolio optimization like this. Compare the expected returns and risk of the two different portfolios"
   ]
  },
  {
   "cell_type": "markdown",
   "metadata": {},
   "source": [
    "## Part 5\n",
    "\n",
    "Now comes the fun part. Your daily returns for each ETF and two sets of weights. Use these weights to come up two sets of **daily portfolio returns**, one for the max Sharpe and one for the GMV. This is where you have to figure out how to get the weights out of the OptimizeResult **object**.\n",
    "\n",
    "This will add two new columns to your return DataFrame.\n",
    "\n",
    "We are also making another assumption here. We are **re-balancing our portfolio daily** to get back to these optimal weights. This is something no one would do! Daily re-balancing is costly. In other words, we are not setting our portfolio weights at the beginning of the period and then just letting it ride. We are implicitly selling our \"winners\" and buy our \"losers\" each day to get back to the optimal weights."
   ]
  },
  {
   "cell_type": "markdown",
   "metadata": {},
   "source": [
    "## Part 6\n",
    "\n",
    "Finally, find the **non-parametric** 95th and 99th percentile VaR and CVaR for each of these two portfolios. Briefly discuss what you find.\n",
    "\n",
    "Make a histogram for each set of returns and add the 95th and 99th VaR as a line to each. "
   ]
  },
  {
   "cell_type": "markdown",
   "metadata": {},
   "source": [
    "## Part 7\n",
    "\n",
    "Finally, **clear the outputs of all of your cells** using the button at the top of the notebook. Restart your Python kernel. This will clear everything from memory. Then, **Run All**. All of you cells should now run, in order, from top to bottom.\n",
    "\n",
    "You are done! **Turn in this .ipynb file via Moodle.**"
   ]
  }
 ],
 "metadata": {
  "interpreter": {
   "hash": "b67b392f8c699abfccff34ffff3abf55b26d6520ea7ac337064f990a3d8607af"
  },
  "kernelspec": {
   "display_name": "Python 3.9.7 ('base')",
   "language": "python",
   "name": "python3"
  },
  "language_info": {
   "name": "python",
   "version": "3.9.7"
  },
  "orig_nbformat": 4
 },
 "nbformat": 4,
 "nbformat_minor": 2
}
