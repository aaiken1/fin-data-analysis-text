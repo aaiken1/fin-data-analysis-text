{
 "cells": [
  {
   "cell_type": "markdown",
   "metadata": {},
   "source": [
    "# Essential portfolio math\n",
    "\n",
    "This brief chapter will cover the type of statistics that we often see when looking at **portfolios**. Much of this material is covered in various DataCamp exercises. Parts of the material, such as skewness and kurtosis, are also covered in **Chapter 13 of our textbook**. \n",
    "\n",
    "This material will have us thinking about **portfolio construction**.\n",
    "\n",
    "What is **portfolio construction**? Choosing and sizing the various trades (or, assets, more generally) to achieve a good trade-off between risk and expected return.\n",
    "\n",
    "1. Diversification\n",
    "2. Position limits and risk limits: At the level of securities, asset classes, and overall portfolio. \n",
    "3. Larger bets on higher conviction trade.\n",
    "4. Size bets in terms of risk\n",
    "5. Correlations matter: For a long position, correlation with other longs is bad, corr. with shorts is good. Powerful to go long/short within each industry, diversify across industries. Can use ETFs and futures to “hedge” out sector and market exposure.\n",
    "6. Resize positions according to forward-looking risk and conviction\n",
    "\n",
    "We'll start by bringing in some **monthly hedge fund return data**. We'll calculate some portfolio returns, using assumed weights. We'll then move on to portfolio-level **variance and standard deviation**. We'll see how to **annualize returns and volatility**. We'll look at other risk measures, like **skewness** and **kurtosis**. We'll see **Sharpe** and **Sortino** ratios. Finally, we'll make a graph showing the **drawdown**, or worse loss, of our portfolio.\n",
    "\n",
    "These ideas will get us thinking about portfolios, trading strategies, risk management, and portfolio optimization. We'll go into more detail in later chapters.\n",
    "\n",
    "The formulas are **must knows** for finance folks! For example, you need these on CFA Level 1.\n"
   ]
  },
  {
   "cell_type": "code",
   "execution_count": 22,
   "metadata": {},
   "outputs": [
    {
     "data": {
      "text/html": [
       "<div>\n",
       "<style scoped>\n",
       "    .dataframe tbody tr th:only-of-type {\n",
       "        vertical-align: middle;\n",
       "    }\n",
       "\n",
       "    .dataframe tbody tr th {\n",
       "        vertical-align: top;\n",
       "    }\n",
       "\n",
       "    .dataframe thead th {\n",
       "        text-align: right;\n",
       "    }\n",
       "</style>\n",
       "<table border=\"1\" class=\"dataframe\">\n",
       "  <thead>\n",
       "    <tr style=\"text-align: right;\">\n",
       "      <th></th>\n",
       "      <th>rf</th>\n",
       "      <th>mkt_rf</th>\n",
       "      <th>smb</th>\n",
       "      <th>hml</th>\n",
       "      <th>umd</th>\n",
       "      <th>ln_sh_eq_hedge_fund_usd</th>\n",
       "      <th>eq_mkt_ntr_hedge_fund_usd</th>\n",
       "      <th>ded_sh_bs_hedge_fund_usd</th>\n",
       "      <th>global_mac_hedge_fund_usd</th>\n",
       "      <th>mngd_fut_hedge_fund_usd</th>\n",
       "      <th>emg_mkts_hedge_fund_usd</th>\n",
       "      <th>evnt_drvn_hedge_fund_usd</th>\n",
       "      <th>_cnvrt_arb_hedge_fund_usd</th>\n",
       "      <th>fx_inc_arb_hedge_fund_usd</th>\n",
       "      <th>djcs_hedge_fund_usd</th>\n",
       "    </tr>\n",
       "  </thead>\n",
       "  <tbody>\n",
       "    <tr>\n",
       "      <th>count</th>\n",
       "      <td>222.000000</td>\n",
       "      <td>222.000000</td>\n",
       "      <td>222.000000</td>\n",
       "      <td>222.000000</td>\n",
       "      <td>222.000000</td>\n",
       "      <td>222.000000</td>\n",
       "      <td>222.000000</td>\n",
       "      <td>222.000000</td>\n",
       "      <td>222.000000</td>\n",
       "      <td>222.000000</td>\n",
       "      <td>222.000000</td>\n",
       "      <td>222.000000</td>\n",
       "      <td>222.000000</td>\n",
       "      <td>222.000000</td>\n",
       "      <td>222.000000</td>\n",
       "    </tr>\n",
       "    <tr>\n",
       "      <th>mean</th>\n",
       "      <td>0.002536</td>\n",
       "      <td>0.005089</td>\n",
       "      <td>0.002121</td>\n",
       "      <td>0.002133</td>\n",
       "      <td>0.004886</td>\n",
       "      <td>0.007535</td>\n",
       "      <td>0.004410</td>\n",
       "      <td>-0.002217</td>\n",
       "      <td>0.009594</td>\n",
       "      <td>0.005108</td>\n",
       "      <td>0.006656</td>\n",
       "      <td>0.007360</td>\n",
       "      <td>0.006129</td>\n",
       "      <td>0.004366</td>\n",
       "      <td>0.007011</td>\n",
       "    </tr>\n",
       "    <tr>\n",
       "      <th>std</th>\n",
       "      <td>0.001742</td>\n",
       "      <td>0.047007</td>\n",
       "      <td>0.035581</td>\n",
       "      <td>0.033738</td>\n",
       "      <td>0.054827</td>\n",
       "      <td>0.028745</td>\n",
       "      <td>0.029770</td>\n",
       "      <td>0.049144</td>\n",
       "      <td>0.028000</td>\n",
       "      <td>0.033738</td>\n",
       "      <td>0.042929</td>\n",
       "      <td>0.018291</td>\n",
       "      <td>0.019981</td>\n",
       "      <td>0.016485</td>\n",
       "      <td>0.021820</td>\n",
       "    </tr>\n",
       "    <tr>\n",
       "      <th>min</th>\n",
       "      <td>0.000000</td>\n",
       "      <td>-0.185500</td>\n",
       "      <td>-0.166200</td>\n",
       "      <td>-0.128700</td>\n",
       "      <td>-0.347500</td>\n",
       "      <td>-0.114806</td>\n",
       "      <td>-0.404590</td>\n",
       "      <td>-0.112825</td>\n",
       "      <td>-0.115652</td>\n",
       "      <td>-0.093702</td>\n",
       "      <td>-0.230716</td>\n",
       "      <td>-0.118201</td>\n",
       "      <td>-0.126007</td>\n",
       "      <td>-0.140442</td>\n",
       "      <td>-0.075948</td>\n",
       "    </tr>\n",
       "    <tr>\n",
       "      <th>25%</th>\n",
       "      <td>0.000900</td>\n",
       "      <td>-0.023225</td>\n",
       "      <td>-0.019750</td>\n",
       "      <td>-0.015275</td>\n",
       "      <td>-0.011225</td>\n",
       "      <td>-0.008805</td>\n",
       "      <td>0.001250</td>\n",
       "      <td>-0.033677</td>\n",
       "      <td>-0.001949</td>\n",
       "      <td>-0.018947</td>\n",
       "      <td>-0.012924</td>\n",
       "      <td>0.000110</td>\n",
       "      <td>-0.000482</td>\n",
       "      <td>0.001716</td>\n",
       "      <td>-0.002376</td>\n",
       "    </tr>\n",
       "    <tr>\n",
       "      <th>50%</th>\n",
       "      <td>0.003000</td>\n",
       "      <td>0.011550</td>\n",
       "      <td>-0.001450</td>\n",
       "      <td>0.002150</td>\n",
       "      <td>0.006300</td>\n",
       "      <td>0.007663</td>\n",
       "      <td>0.006715</td>\n",
       "      <td>-0.007478</td>\n",
       "      <td>0.010404</td>\n",
       "      <td>0.003235</td>\n",
       "      <td>0.012111</td>\n",
       "      <td>0.009848</td>\n",
       "      <td>0.009817</td>\n",
       "      <td>0.007131</td>\n",
       "      <td>0.007447</td>\n",
       "    </tr>\n",
       "    <tr>\n",
       "      <th>75%</th>\n",
       "      <td>0.004100</td>\n",
       "      <td>0.035600</td>\n",
       "      <td>0.023025</td>\n",
       "      <td>0.017750</td>\n",
       "      <td>0.030425</td>\n",
       "      <td>0.023168</td>\n",
       "      <td>0.012581</td>\n",
       "      <td>0.029215</td>\n",
       "      <td>0.021420</td>\n",
       "      <td>0.028790</td>\n",
       "      <td>0.028144</td>\n",
       "      <td>0.018590</td>\n",
       "      <td>0.014712</td>\n",
       "      <td>0.011529</td>\n",
       "      <td>0.018074</td>\n",
       "    </tr>\n",
       "    <tr>\n",
       "      <th>max</th>\n",
       "      <td>0.005600</td>\n",
       "      <td>0.115300</td>\n",
       "      <td>0.220600</td>\n",
       "      <td>0.138800</td>\n",
       "      <td>0.184000</td>\n",
       "      <td>0.129913</td>\n",
       "      <td>0.036573</td>\n",
       "      <td>0.226661</td>\n",
       "      <td>0.105808</td>\n",
       "      <td>0.099063</td>\n",
       "      <td>0.164018</td>\n",
       "      <td>0.042168</td>\n",
       "      <td>0.058055</td>\n",
       "      <td>0.043331</td>\n",
       "      <td>0.085117</td>\n",
       "    </tr>\n",
       "  </tbody>\n",
       "</table>\n",
       "</div>"
      ],
      "text/plain": [
       "               rf      mkt_rf         smb         hml         umd  \\\n",
       "count  222.000000  222.000000  222.000000  222.000000  222.000000   \n",
       "mean     0.002536    0.005089    0.002121    0.002133    0.004886   \n",
       "std      0.001742    0.047007    0.035581    0.033738    0.054827   \n",
       "min      0.000000   -0.185500   -0.166200   -0.128700   -0.347500   \n",
       "25%      0.000900   -0.023225   -0.019750   -0.015275   -0.011225   \n",
       "50%      0.003000    0.011550   -0.001450    0.002150    0.006300   \n",
       "75%      0.004100    0.035600    0.023025    0.017750    0.030425   \n",
       "max      0.005600    0.115300    0.220600    0.138800    0.184000   \n",
       "\n",
       "       ln_sh_eq_hedge_fund_usd  eq_mkt_ntr_hedge_fund_usd  \\\n",
       "count               222.000000                 222.000000   \n",
       "mean                  0.007535                   0.004410   \n",
       "std                   0.028745                   0.029770   \n",
       "min                  -0.114806                  -0.404590   \n",
       "25%                  -0.008805                   0.001250   \n",
       "50%                   0.007663                   0.006715   \n",
       "75%                   0.023168                   0.012581   \n",
       "max                   0.129913                   0.036573   \n",
       "\n",
       "       ded_sh_bs_hedge_fund_usd  global_mac_hedge_fund_usd  \\\n",
       "count                222.000000                 222.000000   \n",
       "mean                  -0.002217                   0.009594   \n",
       "std                    0.049144                   0.028000   \n",
       "min                   -0.112825                  -0.115652   \n",
       "25%                   -0.033677                  -0.001949   \n",
       "50%                   -0.007478                   0.010404   \n",
       "75%                    0.029215                   0.021420   \n",
       "max                    0.226661                   0.105808   \n",
       "\n",
       "       mngd_fut_hedge_fund_usd  emg_mkts_hedge_fund_usd  \\\n",
       "count               222.000000               222.000000   \n",
       "mean                  0.005108                 0.006656   \n",
       "std                   0.033738                 0.042929   \n",
       "min                  -0.093702                -0.230716   \n",
       "25%                  -0.018947                -0.012924   \n",
       "50%                   0.003235                 0.012111   \n",
       "75%                   0.028790                 0.028144   \n",
       "max                   0.099063                 0.164018   \n",
       "\n",
       "       evnt_drvn_hedge_fund_usd  _cnvrt_arb_hedge_fund_usd  \\\n",
       "count                222.000000                 222.000000   \n",
       "mean                   0.007360                   0.006129   \n",
       "std                    0.018291                   0.019981   \n",
       "min                   -0.118201                  -0.126007   \n",
       "25%                    0.000110                  -0.000482   \n",
       "50%                    0.009848                   0.009817   \n",
       "75%                    0.018590                   0.014712   \n",
       "max                    0.042168                   0.058055   \n",
       "\n",
       "       fx_inc_arb_hedge_fund_usd  djcs_hedge_fund_usd  \n",
       "count                 222.000000           222.000000  \n",
       "mean                    0.004366             0.007011  \n",
       "std                     0.016485             0.021820  \n",
       "min                    -0.140442            -0.075948  \n",
       "25%                     0.001716            -0.002376  \n",
       "50%                     0.007131             0.007447  \n",
       "75%                     0.011529             0.018074  \n",
       "max                     0.043331             0.085117  "
      ]
     },
     "execution_count": 22,
     "metadata": {},
     "output_type": "execute_result"
    }
   ],
   "source": [
    "import numpy as np\n",
    "import pandas as pd\n",
    "import statsmodels.formula.api as smf\n",
    "import janitor\n",
    "from janitor import clean_names\n",
    "\n",
    "hf = pd.read_excel('https://raw.githubusercontent.com/aaiken1/fin-data-analysis-python/main/data/hf_rets.xlsx',\n",
    "                  index_col=0, parse_dates=True)  \n",
    "\n",
    "hf = hf.clean_names()\n",
    "\n",
    "hf.describe()"
   ]
  },
  {
   "cell_type": "markdown",
   "metadata": {},
   "source": [
    "There's a lot there, so let's just keep four different columns. These columns represent the average monthly return for that hedge fund type. I'm keeping long/short equity, equity market neutral, global macro, managed futures.\n",
    "\n",
    "Long/short equity funds do what the name says -- they go long and short stocks, generally keeping their market beta less than one. But not that different from traditional mutual funds.\n",
    "\n",
    "Equity market neutral might aim for a beta of zero, but usually have more exposure than that. They are trying to get rid of their risk exposures and just earn alpha from security mispricings. Easier said than done.\n",
    "\n",
    "Global macro funds make trades based on broad market trends, currencies, and other markets affected by macro events, like inflation or economic growth. They don't buy or sell individual stocks and often use futures contracts to get their exposures. \n",
    "\n",
    "Finally, managed futures are similar, but tend to follow trend-following strategies. They buy stuff that's been going up and sell stuff that's been going down. Some investors use them as diversifiers in their portfolios.\n",
    "\n",
    "You'll see more on these ideas in the factor model notes."
   ]
  },
  {
   "cell_type": "code",
   "execution_count": 23,
   "metadata": {},
   "outputs": [
    {
     "data": {
      "text/html": [
       "<div>\n",
       "<style scoped>\n",
       "    .dataframe tbody tr th:only-of-type {\n",
       "        vertical-align: middle;\n",
       "    }\n",
       "\n",
       "    .dataframe tbody tr th {\n",
       "        vertical-align: top;\n",
       "    }\n",
       "\n",
       "    .dataframe thead th {\n",
       "        text-align: right;\n",
       "    }\n",
       "</style>\n",
       "<table border=\"1\" class=\"dataframe\">\n",
       "  <thead>\n",
       "    <tr style=\"text-align: right;\">\n",
       "      <th></th>\n",
       "      <th>ln_sh_eq_hedge_fund_usd</th>\n",
       "      <th>eq_mkt_ntr_hedge_fund_usd</th>\n",
       "      <th>global_mac_hedge_fund_usd</th>\n",
       "      <th>mngd_fut_hedge_fund_usd</th>\n",
       "    </tr>\n",
       "    <tr>\n",
       "      <th>date</th>\n",
       "      <th></th>\n",
       "      <th></th>\n",
       "      <th></th>\n",
       "      <th></th>\n",
       "    </tr>\n",
       "  </thead>\n",
       "  <tbody>\n",
       "    <tr>\n",
       "      <th>1994-01-31</th>\n",
       "      <td>0.011733</td>\n",
       "      <td>-0.005467</td>\n",
       "      <td>0.001433</td>\n",
       "      <td>0.001933</td>\n",
       "    </tr>\n",
       "    <tr>\n",
       "      <th>1994-02-28</th>\n",
       "      <td>-0.025011</td>\n",
       "      <td>0.002106</td>\n",
       "      <td>-0.056811</td>\n",
       "      <td>0.011667</td>\n",
       "    </tr>\n",
       "    <tr>\n",
       "      <th>1994-03-31</th>\n",
       "      <td>-0.039114</td>\n",
       "      <td>-0.002514</td>\n",
       "      <td>-0.042854</td>\n",
       "      <td>0.025923</td>\n",
       "    </tr>\n",
       "    <tr>\n",
       "      <th>1994-04-29</th>\n",
       "      <td>-0.015720</td>\n",
       "      <td>0.002397</td>\n",
       "      <td>-0.016033</td>\n",
       "      <td>0.008437</td>\n",
       "    </tr>\n",
       "    <tr>\n",
       "      <th>1994-05-31</th>\n",
       "      <td>0.005550</td>\n",
       "      <td>-0.001229</td>\n",
       "      <td>0.037839</td>\n",
       "      <td>0.007497</td>\n",
       "    </tr>\n",
       "    <tr>\n",
       "      <th>...</th>\n",
       "      <td>...</td>\n",
       "      <td>...</td>\n",
       "      <td>...</td>\n",
       "      <td>...</td>\n",
       "    </tr>\n",
       "    <tr>\n",
       "      <th>2012-02-29</th>\n",
       "      <td>0.026418</td>\n",
       "      <td>0.013335</td>\n",
       "      <td>0.007852</td>\n",
       "      <td>0.012039</td>\n",
       "    </tr>\n",
       "    <tr>\n",
       "      <th>2012-03-30</th>\n",
       "      <td>0.004998</td>\n",
       "      <td>-0.001553</td>\n",
       "      <td>-0.004271</td>\n",
       "      <td>-0.029648</td>\n",
       "    </tr>\n",
       "    <tr>\n",
       "      <th>2012-04-30</th>\n",
       "      <td>-0.004680</td>\n",
       "      <td>-0.004139</td>\n",
       "      <td>-0.002522</td>\n",
       "      <td>0.004299</td>\n",
       "    </tr>\n",
       "    <tr>\n",
       "      <th>2012-05-31</th>\n",
       "      <td>-0.045274</td>\n",
       "      <td>-0.031806</td>\n",
       "      <td>0.001936</td>\n",
       "      <td>0.023829</td>\n",
       "    </tr>\n",
       "    <tr>\n",
       "      <th>2012-06-29</th>\n",
       "      <td>0.003438</td>\n",
       "      <td>0.009249</td>\n",
       "      <td>-0.013726</td>\n",
       "      <td>-0.035612</td>\n",
       "    </tr>\n",
       "  </tbody>\n",
       "</table>\n",
       "<p>222 rows × 4 columns</p>\n",
       "</div>"
      ],
      "text/plain": [
       "            ln_sh_eq_hedge_fund_usd  eq_mkt_ntr_hedge_fund_usd  \\\n",
       "date                                                             \n",
       "1994-01-31                 0.011733                  -0.005467   \n",
       "1994-02-28                -0.025011                   0.002106   \n",
       "1994-03-31                -0.039114                  -0.002514   \n",
       "1994-04-29                -0.015720                   0.002397   \n",
       "1994-05-31                 0.005550                  -0.001229   \n",
       "...                             ...                        ...   \n",
       "2012-02-29                 0.026418                   0.013335   \n",
       "2012-03-30                 0.004998                  -0.001553   \n",
       "2012-04-30                -0.004680                  -0.004139   \n",
       "2012-05-31                -0.045274                  -0.031806   \n",
       "2012-06-29                 0.003438                   0.009249   \n",
       "\n",
       "            global_mac_hedge_fund_usd  mngd_fut_hedge_fund_usd  \n",
       "date                                                            \n",
       "1994-01-31                   0.001433                 0.001933  \n",
       "1994-02-28                  -0.056811                 0.011667  \n",
       "1994-03-31                  -0.042854                 0.025923  \n",
       "1994-04-29                  -0.016033                 0.008437  \n",
       "1994-05-31                   0.037839                 0.007497  \n",
       "...                               ...                      ...  \n",
       "2012-02-29                   0.007852                 0.012039  \n",
       "2012-03-30                  -0.004271                -0.029648  \n",
       "2012-04-30                  -0.002522                 0.004299  \n",
       "2012-05-31                   0.001936                 0.023829  \n",
       "2012-06-29                  -0.013726                -0.035612  \n",
       "\n",
       "[222 rows x 4 columns]"
      ]
     },
     "execution_count": 23,
     "metadata": {},
     "output_type": "execute_result"
    }
   ],
   "source": [
    "rets = hf.iloc[:,[5, 6, 8, 9]]\n",
    "rets"
   ]
  },
  {
   "cell_type": "markdown",
   "metadata": {},
   "source": [
    "I used `.iloc` to keep the columns I wanted. Easier to use a column number reference than type out these long names."
   ]
  },
  {
   "cell_type": "markdown",
   "metadata": {},
   "source": [
    "## Portfolio-level returns\n",
    "\n",
    "Let's define an array of weights. We'll put 25% of our money into each style category. This isn't actually an investable strategy, since you can't invest in the average hedge fund!"
   ]
  },
  {
   "cell_type": "code",
   "execution_count": 24,
   "metadata": {},
   "outputs": [],
   "source": [
    "wgts = np.array([0.25, 0.25, 0.25, 0.25])"
   ]
  },
  {
   "cell_type": "markdown",
   "metadata": {},
   "source": [
    "We can find the monthly means for each strategy. I'll multiply each by 100, name the column, and then turn the series into a DataFrame. You need the table to be a DataFrame in order to style it. I then use a **dictionary** to change the row names. Remember, a Python dictionary matches one item to another. I finally style the number format."
   ]
  },
  {
   "cell_type": "code",
   "execution_count": 25,
   "metadata": {},
   "outputs": [
    {
     "data": {
      "text/html": [
       "<style type=\"text/css\">\n",
       "</style>\n",
       "<table id=\"T_9eb54_\">\n",
       "  <caption>Hedge Fund Style Returns</caption>\n",
       "  <thead>\n",
       "    <tr>\n",
       "      <th class=\"blank level0\" >&nbsp;</th>\n",
       "      <th class=\"col_heading level0 col0\" >Monthly Return</th>\n",
       "    </tr>\n",
       "  </thead>\n",
       "  <tbody>\n",
       "    <tr>\n",
       "      <th id=\"T_9eb54_level0_row0\" class=\"row_heading level0 row0\" >L/S Equity</th>\n",
       "      <td id=\"T_9eb54_row0_col0\" class=\"data row0 col0\" >0.754%</td>\n",
       "    </tr>\n",
       "    <tr>\n",
       "      <th id=\"T_9eb54_level0_row1\" class=\"row_heading level0 row1\" >Equity Market Neutral</th>\n",
       "      <td id=\"T_9eb54_row1_col0\" class=\"data row1 col0\" >0.441%</td>\n",
       "    </tr>\n",
       "    <tr>\n",
       "      <th id=\"T_9eb54_level0_row2\" class=\"row_heading level0 row2\" >Global Macro</th>\n",
       "      <td id=\"T_9eb54_row2_col0\" class=\"data row2 col0\" >0.959%</td>\n",
       "    </tr>\n",
       "    <tr>\n",
       "      <th id=\"T_9eb54_level0_row3\" class=\"row_heading level0 row3\" >Managed Futures</th>\n",
       "      <td id=\"T_9eb54_row3_col0\" class=\"data row3 col0\" >0.511%</td>\n",
       "    </tr>\n",
       "  </tbody>\n",
       "</table>\n"
      ],
      "text/plain": [
       "<pandas.io.formats.style.Styler at 0x7fdc49a0cbb0>"
      ]
     },
     "execution_count": 25,
     "metadata": {},
     "output_type": "execute_result"
    }
   ],
   "source": [
    "monthly_rets_avg = rets.mean().mul(100)\n",
    "\n",
    "monthly_rets_avg = monthly_rets_avg.rename('Monthly Return')\n",
    "\n",
    "monthly_rets_avg = monthly_rets_avg.to_frame()\n",
    "\n",
    "monthly_rets_avg = monthly_rets_avg.rename({'ln_sh_eq_hedge_fund_usd':'L/S Equity','eq_mkt_ntr_hedge_fund_usd':'Equity Market Neutral','global_mac_hedge_fund_usd':'Global Macro','mngd_fut_hedge_fund_usd':'Managed Futures'}, axis='rows')\n",
    "\n",
    "monthly_rets_avg = monthly_rets_avg.style.format('{:.3f}%').set_caption('Hedge Fund Style Returns') \n",
    "\n",
    "monthly_rets_avg"
   ]
  },
  {
   "cell_type": "markdown",
   "metadata": {},
   "source": [
    "The **method chaining** to writing the code step-by-step to make the table works too. I find this easier to read. Note that I'm **not** saving the table as a DataFrame anywhere, though I could. I do one action and then the output gets passed on to the next action."
   ]
  },
  {
   "cell_type": "code",
   "execution_count": 26,
   "metadata": {},
   "outputs": [
    {
     "data": {
      "text/html": [
       "<style type=\"text/css\">\n",
       "</style>\n",
       "<table id=\"T_ee635_\">\n",
       "  <caption>Hedge Fund Style Returns</caption>\n",
       "  <thead>\n",
       "    <tr>\n",
       "      <th class=\"blank level0\" >&nbsp;</th>\n",
       "      <th class=\"col_heading level0 col0\" >Monthly Return</th>\n",
       "    </tr>\n",
       "  </thead>\n",
       "  <tbody>\n",
       "    <tr>\n",
       "      <th id=\"T_ee635_level0_row0\" class=\"row_heading level0 row0\" >L/S Equity</th>\n",
       "      <td id=\"T_ee635_row0_col0\" class=\"data row0 col0\" >0.754%</td>\n",
       "    </tr>\n",
       "    <tr>\n",
       "      <th id=\"T_ee635_level0_row1\" class=\"row_heading level0 row1\" >Equity Market Neutral</th>\n",
       "      <td id=\"T_ee635_row1_col0\" class=\"data row1 col0\" >0.441%</td>\n",
       "    </tr>\n",
       "    <tr>\n",
       "      <th id=\"T_ee635_level0_row2\" class=\"row_heading level0 row2\" >Global Macro</th>\n",
       "      <td id=\"T_ee635_row2_col0\" class=\"data row2 col0\" >0.959%</td>\n",
       "    </tr>\n",
       "    <tr>\n",
       "      <th id=\"T_ee635_level0_row3\" class=\"row_heading level0 row3\" >Managed Futures</th>\n",
       "      <td id=\"T_ee635_row3_col0\" class=\"data row3 col0\" >0.511%</td>\n",
       "    </tr>\n",
       "  </tbody>\n",
       "</table>\n"
      ],
      "text/plain": [
       "<pandas.io.formats.style.Styler at 0x7fdc89127430>"
      ]
     },
     "execution_count": 26,
     "metadata": {},
     "output_type": "execute_result"
    }
   ],
   "source": [
    "(\n",
    "    rets.mean()\n",
    "    .mul(100)\n",
    "    .rename('Monthly Return')\n",
    "    .to_frame()\n",
    "    .rename({'ln_sh_eq_hedge_fund_usd':'L/S Equity','eq_mkt_ntr_hedge_fund_usd':'Equity Market Neutral','global_mac_hedge_fund_usd':'Global Macro','mngd_fut_hedge_fund_usd':'Managed Futures'}, axis='rows')\n",
    "    .style\n",
    "        .format('{:.3f}%')\n",
    "        .set_caption('Hedge Fund Style Returns')   \n",
    ")"
   ]
  },
  {
   "cell_type": "markdown",
   "metadata": {},
   "source": [
    "We can also see what our equally-weighted portfolio would have done per month over that time period. I'll remake the monthly average returns, since you can't use it for math now that it's been styled."
   ]
  },
  {
   "cell_type": "code",
   "execution_count": 27,
   "metadata": {},
   "outputs": [
    {
     "data": {
      "text/plain": [
       "0.0066618444208333735"
      ]
     },
     "execution_count": 27,
     "metadata": {},
     "output_type": "execute_result"
    }
   ],
   "source": [
    "monthly_rets_avg = rets.mean()\n",
    "hf_port_ret = np.sum(monthly_rets_avg * wgts)\n",
    "hf_port_ret"
   ]
  },
  {
   "cell_type": "markdown",
   "metadata": {},
   "source": [
    "Let's weight each month's returns by our weights so that we can then calculate monthly portfolio returns."
   ]
  },
  {
   "cell_type": "code",
   "execution_count": 28,
   "metadata": {},
   "outputs": [],
   "source": [
    "weighted_returns = (wgts * rets)"
   ]
  },
  {
   "cell_type": "markdown",
   "metadata": {},
   "source": [
    "I'm calculating monthly returns by summing up across each row. That's the `axis=1` argument. I'm then naming this series *port_ret*."
   ]
  },
  {
   "cell_type": "code",
   "execution_count": 29,
   "metadata": {},
   "outputs": [],
   "source": [
    "port_ret = weighted_returns.sum(axis=1).rename('port_ret')\n"
   ]
  },
  {
   "cell_type": "markdown",
   "metadata": {},
   "source": [
    "I'll join my portfolio returns to the monthly fund returns. There should be the same number of portfolio returns as individual hedge fund returns."
   ]
  },
  {
   "cell_type": "code",
   "execution_count": 30,
   "metadata": {},
   "outputs": [],
   "source": [
    "rets_with_port = rets.join(port_ret)"
   ]
  },
  {
   "cell_type": "markdown",
   "metadata": {},
   "source": [
    "And, I can calculate cumulative returns and then graph them. I'll also rename the columns a slightly different way. Notice that I'm using `inplace=True`."
   ]
  },
  {
   "cell_type": "code",
   "execution_count": 38,
   "metadata": {},
   "outputs": [],
   "source": [
    "monthly_cum_rets = (1+rets_with_port).cumprod()\n",
    "monthly_cum_rets.rename(columns={'ln_sh_eq_hedge_fund_usd':'L/S Equity', 'eq_mkt_ntr_hedge_fund_usd':'Equity Market Neutral', 'global_mac_hedge_fund_usd':'Global Macro', 'mngd_fut_hedge_fund_usd':'Managed Futures', 'port_ret':'EW Port Ret' }, inplace=True)"
   ]
  },
  {
   "cell_type": "code",
   "execution_count": 40,
   "metadata": {},
   "outputs": [
    {
     "data": {
      "image/png": "[encoded data removed]",
      "text/plain": [
       "<Figure size 432x288 with 1 Axes>"
      ]
     },
     "metadata": {
      "needs_background": "light"
     },
     "output_type": "display_data"
    }
   ],
   "source": [
    "monthly_cum_rets.plot();"
   ]
  },
  {
   "cell_type": "markdown",
   "metadata": {},
   "source": [
    "Yikes! Check out the orange line - equity market neutral funds aren't necessarily very market neutral!"
   ]
  },
  {
   "cell_type": "markdown",
   "metadata": {},
   "source": [
    "## Risk measures at the portfolio-level\n",
    "\n",
    "As you know from your investments class, the variance of a portfolio is **not** the average variance of the assets in the portfolio. We need to take into account the effects of **diversification**. For example, here's the formula for the variance of a portfolio with two assets. We need weights, variances, and the covariance between the two.\n",
    "\n",
    "\\begin{align}\n",
    "\\sigma^2_p = w^2_1 \\sigma^2_1 + w^2_2 \\sigma^2_2 + 2 w_1 w_2 \\sigma^2_{1,2}\n",
    "\\end{align}\n",
    "\n",
    "That last sigma, $\\sigma^2_{1,2}$, is the **covariance** between the two assets. \n",
    "\n",
    "This formula generalizes for **any number of assets**. \n",
    "\n",
    "\\begin{align}\n",
    "\\sigma^2_p = w^T \\Sigma w\n",
    "\\end{align}\n",
    "\n",
    "where $w$ is a **vector** containing all of our portfolio weights and sigma is the variance-covariance matrix for our assets. The \"T\" means the matrix operation **transpose**. This is necessary for the matrix multiplication. \n",
    "\n",
    "Let's use Python to find the variance-covariance matrix. There are variances along with diagonal of the matrix and covariance terms **between assets** in the off-diagonals. Note that upper-right and lower-left of the matrix are identical. This is because the covariance between Asset 1 and Asset 2 is the same as the covariance between Asset 2 and Asset 1. "
   ]
  },
  {
   "cell_type": "code",
   "execution_count": null,
   "metadata": {},
   "outputs": [],
   "source": [
    "cov_matrix = rets.cov()\n",
    "cov_matrix"
   ]
  },
  {
   "cell_type": "markdown",
   "metadata": {},
   "source": [
    "Let's use our general formula, our weights, and the cov matrix to find **portfolio variance**. We'll use `np.dot()` from `numpy` to do the dot product. This is like **mmult** in Excel. The `.T` transposes, or flips, the vector of returns so that we can multiply. "
   ]
  },
  {
   "cell_type": "code",
   "execution_count": null,
   "metadata": {},
   "outputs": [],
   "source": [
    "port_variance = np.dot(wgts.T, np.dot(cov_matrix, wgts))\n",
    "port_variance"
   ]
  },
  {
   "cell_type": "markdown",
   "metadata": {},
   "source": [
    "Here's a [refresher on matrix multiplication](https://www.mathsisfun.com/algebra/matrix-multiplying.html) in case you need it."
   ]
  },
  {
   "cell_type": "markdown",
   "metadata": {},
   "source": [
    "Portfolio standard deviation is, of course, just the square root of variance. We can use `np.sqrt()`. "
   ]
  },
  {
   "cell_type": "code",
   "execution_count": null,
   "metadata": {},
   "outputs": [],
   "source": [
    "port_stddev = np.sqrt(np.dot(wgts.T, np.dot(cov_matrix, wgts)))\n",
    "print(str(np.round(port_stddev, 3) * 100) + '%')"
   ]
  },
  {
   "cell_type": "markdown",
   "metadata": {},
   "source": [
    "## Skewness and kurtosis\n",
    "\n",
    "We'll look more at the distribution of asset returns when we get to a more formal treatment of risk management. But, for now, we need to know that asset returns, like stocks, and even portfolio returns, like those of a hedge fund, are not typically normally distributed. They \"lean\", or have **skewness**. That skewness can be either positive or negative, depending on the strategy. They also have **kurtosis**, or \"fat tails\". This means that there are more extreme returns than you would expect if they followed a normal distribution.\n",
    "\n",
    "It is easy to find both in Python."
   ]
  },
  {
   "cell_type": "code",
   "execution_count": null,
   "metadata": {},
   "outputs": [],
   "source": [
    "rets_with_port.skew()"
   ]
  },
  {
   "cell_type": "code",
   "execution_count": null,
   "metadata": {},
   "outputs": [],
   "source": [
    "rets_with_port.kurt()"
   ]
  }
 ],
 "metadata": {
  "interpreter": {
   "hash": "b67b392f8c699abfccff34ffff3abf55b26d6520ea7ac337064f990a3d8607af"
  },
  "kernelspec": {
   "display_name": "Python 3.9.7 ('base')",
   "language": "python",
   "name": "python3"
  },
  "language_info": {
   "codemirror_mode": {
    "name": "ipython",
    "version": 3
   },
   "file_extension": ".py",
   "mimetype": "text/x-python",
   "name": "python",
   "nbconvert_exporter": "python",
   "pygments_lexer": "ipython3",
   "version": "3.9.7"
  },
  "orig_nbformat": 4
 },
 "nbformat": 4,
 "nbformat_minor": 2
}
