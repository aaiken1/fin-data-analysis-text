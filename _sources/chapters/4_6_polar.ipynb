{
 "cells": [
  {
   "attachments": {},
   "cell_type": "markdown",
   "metadata": {},
   "source": [
    "# polars: A fast, fancy pandas alternative\n",
    "\n",
    "Most data folks use `pandas`. However, there is an alternative that I just wanted to bring to your attention. [polars](https://www.pola.rs) is a faster and, perhaps, more modern way to handle data in Python. Still, `pandas` is ubiquitous, so I wanted to start with that. \n",
    "\n",
    "Here's the [user's guide](https://pola-rs.github.io/polars-book/user-guide/).\n",
    "\n",
    "Why not use `pandas`? Here's the [author of pandas](https://wesmckinney.com/blog/apache-arrow-pandas-internals/) on why `pandas` isn't always the best tool for data manipulation. We're getting more advanced here, worrying about speed, being closer to the \"metal\", etc. \n",
    "\n",
    "We can insall `polars` using `pip` the usual way. Don't forget to add the `$` infront of `pip` if you're using Google Colab. \n",
    "\n",
    "```\n",
    "pip install polars\n",
    "```\n",
    "\n",
    "You'll see my basic import statement below."
   ]
  },
  {
   "cell_type": "code",
   "execution_count": 4,
   "metadata": {},
   "outputs": [
    {
     "data": {
      "text/plain": [
       "polars.dataframe.frame.DataFrame"
      ]
     },
     "execution_count": 4,
     "metadata": {},
     "output_type": "execute_result"
    }
   ],
   "source": [
    "# Set-up\n",
    "\n",
    "import polars as pl\n",
    "import numpy as np\n",
    "import pandas as pd\n",
    "\n",
    "df = pl.read_csv('https://raw.githubusercontent.com/aaiken1/fin-data-analysis-python/main/data/ncbreweries.csv')\n",
    "\n",
    "type(df)"
   ]
  },
  {
   "attachments": {},
   "cell_type": "markdown",
   "metadata": {},
   "source": [
    "See what I did there? That was `pl.read_csv` from `polars`. I've created a `polars` DataFrame.\n",
    "\n",
    "Now, you can read the manual to find out all of things that you can do!"
   ]
  },
  {
   "cell_type": "code",
   "execution_count": 5,
   "metadata": {},
   "outputs": [
    {
     "data": {
      "text/html": [
       "<div><style>\n",
       ".dataframe > thead > tr > th,\n",
       ".dataframe > tbody > tr > td {\n",
       "  text-align: right;\n",
       "}\n",
       "</style>\n",
       "<small>shape: (7, 8)</small><table border=\"1\" class=\"dataframe\"><thead><tr><th>describe</th><th>Name</th><th>City</th><th>Type</th><th>Beer Count</th><th>Est</th><th>Status</th><th>URL</th></tr><tr><td>str</td><td>str</td><td>str</td><td>str</td><td>f64</td><td>f64</td><td>str</td><td>str</td></tr></thead><tbody><tr><td>&quot;count&quot;</td><td>&quot;251&quot;</td><td>&quot;251&quot;</td><td>&quot;251&quot;</td><td>251.0</td><td>251.0</td><td>&quot;251&quot;</td><td>&quot;251&quot;</td></tr><tr><td>&quot;null_count&quot;</td><td>&quot;0&quot;</td><td>&quot;0&quot;</td><td>&quot;0&quot;</td><td>0.0</td><td>0.0</td><td>&quot;0&quot;</td><td>&quot;0&quot;</td></tr><tr><td>&quot;mean&quot;</td><td>null</td><td>null</td><td>null</td><td>32.960159</td><td>2012.155378</td><td>null</td><td>null</td></tr><tr><td>&quot;std&quot;</td><td>null</td><td>null</td><td>null</td><td>43.723385</td><td>8.749158</td><td>null</td><td>null</td></tr><tr><td>&quot;min&quot;</td><td>&quot;217 Brew Works...</td><td>&quot;Aberdeen&quot;</td><td>&quot;Brewpub&quot;</td><td>1.0</td><td>1900.0</td><td>&quot;Active&quot;</td><td>&quot;https://www.ra...</td></tr><tr><td>&quot;max&quot;</td><td>&quot;Zebulon Artisa...</td><td>&quot;Winston-Salem&quot;</td><td>&quot;Microbrewery&quot;</td><td>424.0</td><td>2018.0</td><td>&quot;Closed&quot;</td><td>&quot;https://www.ra...</td></tr><tr><td>&quot;median&quot;</td><td>null</td><td>null</td><td>null</td><td>18.0</td><td>2014.0</td><td>null</td><td>null</td></tr></tbody></table></div>"
      ],
      "text/plain": [
       "shape: (7, 8)\n",
       "┌─────────────┬────────────┬────────────┬────────────┬──────────┬────────────┬────────┬────────────┐\n",
       "│ describe    ┆ Name       ┆ City       ┆ Type       ┆ Beer     ┆ Est        ┆ Status ┆ URL        │\n",
       "│ ---         ┆ ---        ┆ ---        ┆ ---        ┆ Count    ┆ ---        ┆ ---    ┆ ---        │\n",
       "│ str         ┆ str        ┆ str        ┆ str        ┆ ---      ┆ f64        ┆ str    ┆ str        │\n",
       "│             ┆            ┆            ┆            ┆ f64      ┆            ┆        ┆            │\n",
       "╞═════════════╪════════════╪════════════╪════════════╪══════════╪════════════╪════════╪════════════╡\n",
       "│ count       ┆ 251        ┆ 251        ┆ 251        ┆ 251.0    ┆ 251.0      ┆ 251    ┆ 251        │\n",
       "│ null_count  ┆ 0          ┆ 0          ┆ 0          ┆ 0.0      ┆ 0.0        ┆ 0      ┆ 0          │\n",
       "│ mean        ┆ null       ┆ null       ┆ null       ┆ 32.96015 ┆ 2012.15537 ┆ null   ┆ null       │\n",
       "│             ┆            ┆            ┆            ┆ 9        ┆ 8          ┆        ┆            │\n",
       "│ std         ┆ null       ┆ null       ┆ null       ┆ 43.72338 ┆ 8.749158   ┆ null   ┆ null       │\n",
       "│             ┆            ┆            ┆            ┆ 5        ┆            ┆        ┆            │\n",
       "│ min         ┆ 217 Brew   ┆ Aberdeen   ┆ Brewpub    ┆ 1.0      ┆ 1900.0     ┆ Active ┆ https://ww │\n",
       "│             ┆ Works      ┆            ┆            ┆          ┆            ┆        ┆ w.ratebeer │\n",
       "│             ┆            ┆            ┆            ┆          ┆            ┆        ┆ .com//brew │\n",
       "│             ┆            ┆            ┆            ┆          ┆            ┆        ┆ er…        │\n",
       "│ max         ┆ Zebulon    ┆ Winston-Sa ┆ Microbrewe ┆ 424.0    ┆ 2018.0     ┆ Closed ┆ https://ww │\n",
       "│             ┆ Artisan    ┆ lem        ┆ ry         ┆          ┆            ┆        ┆ w.ratebeer │\n",
       "│             ┆ Ales       ┆            ┆            ┆          ┆            ┆        ┆ .com//brew │\n",
       "│             ┆            ┆            ┆            ┆          ┆            ┆        ┆ er…        │\n",
       "│ median      ┆ null       ┆ null       ┆ null       ┆ 18.0     ┆ 2014.0     ┆ null   ┆ null       │\n",
       "└─────────────┴────────────┴────────────┴────────────┴──────────┴────────────┴────────┴────────────┘"
      ]
     },
     "execution_count": 5,
     "metadata": {},
     "output_type": "execute_result"
    }
   ],
   "source": [
    "df.describe()"
   ]
  },
  {
   "attachments": {},
   "cell_type": "markdown",
   "metadata": {},
   "source": [
    "Looks a little different. I like it.\n",
    "\n",
    "You can select certain columns, as well. You can filter, do \"group bys\". All the usual things."
   ]
  },
  {
   "cell_type": "code",
   "execution_count": 6,
   "metadata": {},
   "outputs": [
    {
     "data": {
      "text/html": [
       "<div><style>\n",
       ".dataframe > thead > tr > th,\n",
       ".dataframe > tbody > tr > td {\n",
       "  text-align: right;\n",
       "}\n",
       "</style>\n",
       "<small>shape: (251, 2)</small><table border=\"1\" class=\"dataframe\"><thead><tr><th>Name</th><th>City</th></tr><tr><td>str</td><td>str</td></tr></thead><tbody><tr><td>&quot;217 Brew Works...</td><td>&quot;Wilson&quot;</td></tr><tr><td>&quot;3rd Rock Brewi...</td><td>&quot;Trenton&quot;</td></tr><tr><td>&quot;7 Clans Brewin...</td><td>&quot;Cherokee&quot;</td></tr><tr><td>&quot;Andrews Brewin...</td><td>&quot;Andrews&quot;</td></tr><tr><td>&quot;Angry Troll Br...</td><td>&quot;Elkin&quot;</td></tr><tr><td>&quot;Appalachian Mo...</td><td>&quot;Boone&quot;</td></tr><tr><td>&quot;Archetype Brew...</td><td>&quot;Asheville&quot;</td></tr><tr><td>&quot;Asheville Brew...</td><td>&quot;Asheville&quot;</td></tr><tr><td>&quot;Ass Clown Brew...</td><td>&quot;Cornelius&quot;</td></tr><tr><td>&quot;Aviator Brewin...</td><td>&quot;Fuquay Varina&quot;</td></tr><tr><td>&quot;Barking Duck B...</td><td>&quot;Mint Hill&quot;</td></tr><tr><td>&quot;Barrel Culture...</td><td>&quot;Durham&quot;</td></tr><tr><td>&hellip;</td><td>&hellip;</td></tr><tr><td>&quot;Greenshields B...</td><td>&quot;Raleigh&quot;</td></tr><tr><td>&quot;Hams Restauran...</td><td>&quot;Greenville&quot;</td></tr><tr><td>&quot;Heinzelmannche...</td><td>&quot;Sylva&quot;</td></tr><tr><td>&quot;High Tide Brew...</td><td>&quot;Jacksonville&quot;</td></tr><tr><td>&quot;Hosanna Brewin...</td><td>&quot;Fuqauy Varina&quot;</td></tr><tr><td>&quot;Jack of the Wo...</td><td>&quot;Asheville&quot;</td></tr><tr><td>&quot;Loe&#x27;s Brewing ...</td><td>&quot;Hickory&quot;</td></tr><tr><td>&quot;Sweet Taters&quot;</td><td>&quot;Rocky Mount&quot;</td></tr><tr><td>&quot;Triangle Brewi...</td><td>&quot;Durham&quot;</td></tr><tr><td>&quot;White Rabbit B...</td><td>&quot;Angier&quot;</td></tr><tr><td>&quot;Williamsville ...</td><td>&quot;Farmville&quot;</td></tr><tr><td>&quot;Wolf Beer Comp...</td><td>&quot;Wilmington&quot;</td></tr></tbody></table></div>"
      ],
      "text/plain": [
       "shape: (251, 2)\n",
       "┌───────────────────────────────────┬────────────┐\n",
       "│ Name                              ┆ City       │\n",
       "│ ---                               ┆ ---        │\n",
       "│ str                               ┆ str        │\n",
       "╞═══════════════════════════════════╪════════════╡\n",
       "│ 217 Brew Works                    ┆ Wilson     │\n",
       "│ 3rd Rock Brewing Company          ┆ Trenton    │\n",
       "│ 7 Clans Brewing                   ┆ Cherokee   │\n",
       "│ Andrews Brewing Company           ┆ Andrews    │\n",
       "│ …                                 ┆ …          │\n",
       "│ Triangle Brewing Company          ┆ Durham     │\n",
       "│ White Rabbit Brewing (NC)         ┆ Angier     │\n",
       "│ Williamsville Brewery (formerly … ┆ Farmville  │\n",
       "│ Wolf Beer Company                 ┆ Wilmington │\n",
       "└───────────────────────────────────┴────────────┘"
      ]
     },
     "execution_count": 6,
     "metadata": {},
     "output_type": "execute_result"
    }
   ],
   "source": [
    "df.select(\n",
    "    pl.col(['Name', 'City'])\n",
    ")"
   ]
  },
  {
   "cell_type": "code",
   "execution_count": 9,
   "metadata": {},
   "outputs": [
    {
     "data": {
      "text/html": [
       "<div><style>\n",
       ".dataframe > thead > tr > th,\n",
       ".dataframe > tbody > tr > td {\n",
       "  text-align: right;\n",
       "}\n",
       "</style>\n",
       "<small>shape: (177, 7)</small><table border=\"1\" class=\"dataframe\"><thead><tr><th>Name</th><th>City</th><th>Type</th><th>Beer Count</th><th>Est</th><th>Status</th><th>URL</th></tr><tr><td>str</td><td>str</td><td>str</td><td>i64</td><td>i64</td><td>str</td><td>str</td></tr></thead><tbody><tr><td>&quot;217 Brew Works...</td><td>&quot;Wilson&quot;</td><td>&quot;Microbrewery&quot;</td><td>10</td><td>2017</td><td>&quot;Active&quot;</td><td>&quot;https://www.ra...</td></tr><tr><td>&quot;3rd Rock Brewi...</td><td>&quot;Trenton&quot;</td><td>&quot;Microbrewery&quot;</td><td>12</td><td>2016</td><td>&quot;Active&quot;</td><td>&quot;https://www.ra...</td></tr><tr><td>&quot;Andrews Brewin...</td><td>&quot;Andrews&quot;</td><td>&quot;Microbrewery&quot;</td><td>18</td><td>2014</td><td>&quot;Active&quot;</td><td>&quot;https://www.ra...</td></tr><tr><td>&quot;Appalachian Mo...</td><td>&quot;Boone&quot;</td><td>&quot;Microbrewery&quot;</td><td>78</td><td>2013</td><td>&quot;Active&quot;</td><td>&quot;https://www.ra...</td></tr><tr><td>&quot;Archetype Brew...</td><td>&quot;Asheville&quot;</td><td>&quot;Microbrewery&quot;</td><td>15</td><td>2017</td><td>&quot;Active&quot;</td><td>&quot;https://www.ra...</td></tr><tr><td>&quot;Asheville Brew...</td><td>&quot;Asheville&quot;</td><td>&quot;Brewpub&quot;</td><td>87</td><td>2003</td><td>&quot;Active&quot;</td><td>&quot;https://www.ra...</td></tr><tr><td>&quot;Aviator Brewin...</td><td>&quot;Fuquay Varina&quot;</td><td>&quot;Microbrewery&quot;</td><td>59</td><td>2008</td><td>&quot;Active&quot;</td><td>&quot;https://www.ra...</td></tr><tr><td>&quot;Barking Duck B...</td><td>&quot;Mint Hill&quot;</td><td>&quot;Microbrewery&quot;</td><td>16</td><td>2014</td><td>&quot;Active&quot;</td><td>&quot;https://www.ra...</td></tr><tr><td>&quot;Barrel Culture...</td><td>&quot;Durham&quot;</td><td>&quot;Microbrewery&quot;</td><td>29</td><td>2017</td><td>&quot;Active&quot;</td><td>&quot;https://www.ra...</td></tr><tr><td>&quot;Bayne Brewing ...</td><td>&quot;Cornelius&quot;</td><td>&quot;Microbrewery&quot;</td><td>16</td><td>2014</td><td>&quot;Active&quot;</td><td>&quot;https://www.ra...</td></tr><tr><td>&quot;BearWaters Bre...</td><td>&quot;Canton&quot;</td><td>&quot;Microbrewery&quot;</td><td>39</td><td>2012</td><td>&quot;Active&quot;</td><td>&quot;https://www.ra...</td></tr><tr><td>&quot;Beer Army Comb...</td><td>&quot;Trenton&quot;</td><td>&quot;Microbrewery&quot;</td><td>11</td><td>2012</td><td>&quot;Active&quot;</td><td>&quot;https://www.ra...</td></tr><tr><td>&hellip;</td><td>&hellip;</td><td>&hellip;</td><td>&hellip;</td><td>&hellip;</td><td>&hellip;</td><td>&hellip;</td></tr><tr><td>&quot;Chesapeake Bay...</td><td>&quot;Raleigh&quot;</td><td>&quot;Microbrewery&quot;</td><td>14</td><td>1999</td><td>&quot;Closed&quot;</td><td>&quot;https://www.ra...</td></tr><tr><td>&quot;Craggie Brewin...</td><td>&quot;Asheville&quot;</td><td>&quot;Microbrewery&quot;</td><td>30</td><td>2009</td><td>&quot;Closed&quot;</td><td>&quot;https://www.ra...</td></tr><tr><td>&quot;Draft Line Bre...</td><td>&quot;Fuquay-Varina&quot;</td><td>&quot;Microbrewery&quot;</td><td>19</td><td>2014</td><td>&quot;Closed&quot;</td><td>&quot;https://www.ra...</td></tr><tr><td>&quot;Four Friends B...</td><td>&quot;Charlotte&quot;</td><td>&quot;Microbrewery&quot;</td><td>11</td><td>2009</td><td>&quot;Closed&quot;</td><td>&quot;https://www.ra...</td></tr><tr><td>&quot;G2B Gastropub ...</td><td>&quot;Durham&quot;</td><td>&quot;Brewpub/Brewer...</td><td>18</td><td>2015</td><td>&quot;Closed&quot;</td><td>&quot;https://www.ra...</td></tr><tr><td>&quot;Greenshields B...</td><td>&quot;Raleigh&quot;</td><td>&quot;Microbrewery&quot;</td><td>15</td><td>1999</td><td>&quot;Closed&quot;</td><td>&quot;https://www.ra...</td></tr><tr><td>&quot;Hams Restauran...</td><td>&quot;Greenville&quot;</td><td>&quot;Brewpub&quot;</td><td>26</td><td>2003</td><td>&quot;Closed&quot;</td><td>&quot;https://www.ra...</td></tr><tr><td>&quot;Heinzelmannche...</td><td>&quot;Sylva&quot;</td><td>&quot;Microbrewery&quot;</td><td>18</td><td>2005</td><td>&quot;Closed&quot;</td><td>&quot;https://www.ra...</td></tr><tr><td>&quot;Hosanna Brewin...</td><td>&quot;Fuqauy Varina&quot;</td><td>&quot;Brewpub&quot;</td><td>12</td><td>2013</td><td>&quot;Closed&quot;</td><td>&quot;https://www.ra...</td></tr><tr><td>&quot;Jack of the Wo...</td><td>&quot;Asheville&quot;</td><td>&quot;Brewpub&quot;</td><td>13</td><td>2004</td><td>&quot;Closed&quot;</td><td>&quot;https://www.ra...</td></tr><tr><td>&quot;Triangle Brewi...</td><td>&quot;Durham&quot;</td><td>&quot;Microbrewery&quot;</td><td>21</td><td>2007</td><td>&quot;Closed&quot;</td><td>&quot;https://www.ra...</td></tr><tr><td>&quot;White Rabbit B...</td><td>&quot;Angier&quot;</td><td>&quot;Microbrewery&quot;</td><td>19</td><td>2013</td><td>&quot;Closed&quot;</td><td>&quot;https://www.ra...</td></tr></tbody></table></div>"
      ],
      "text/plain": [
       "shape: (177, 7)\n",
       "┌───────────────────┬───────────────┬──────────────┬────────────┬──────┬────────┬──────────────────┐\n",
       "│ Name              ┆ City          ┆ Type         ┆ Beer Count ┆ Est  ┆ Status ┆ URL              │\n",
       "│ ---               ┆ ---           ┆ ---          ┆ ---        ┆ ---  ┆ ---    ┆ ---              │\n",
       "│ str               ┆ str           ┆ str          ┆ i64        ┆ i64  ┆ str    ┆ str              │\n",
       "╞═══════════════════╪═══════════════╪══════════════╪════════════╪══════╪════════╪══════════════════╡\n",
       "│ 217 Brew Works    ┆ Wilson        ┆ Microbrewery ┆ 10         ┆ 2017 ┆ Active ┆ https://www.rate │\n",
       "│                   ┆               ┆              ┆            ┆      ┆        ┆ beer.com//brewer │\n",
       "│                   ┆               ┆              ┆            ┆      ┆        ┆ …                │\n",
       "│ 3rd Rock Brewing  ┆ Trenton       ┆ Microbrewery ┆ 12         ┆ 2016 ┆ Active ┆ https://www.rate │\n",
       "│ Company           ┆               ┆              ┆            ┆      ┆        ┆ beer.com//brewer │\n",
       "│                   ┆               ┆              ┆            ┆      ┆        ┆ …                │\n",
       "│ Andrews Brewing   ┆ Andrews       ┆ Microbrewery ┆ 18         ┆ 2014 ┆ Active ┆ https://www.rate │\n",
       "│ Company           ┆               ┆              ┆            ┆      ┆        ┆ beer.com//brewer │\n",
       "│                   ┆               ┆              ┆            ┆      ┆        ┆ …                │\n",
       "│ Appalachian       ┆ Boone         ┆ Microbrewery ┆ 78         ┆ 2013 ┆ Active ┆ https://www.rate │\n",
       "│ Mountain Brewery  ┆               ┆              ┆            ┆      ┆        ┆ beer.com//brewer │\n",
       "│                   ┆               ┆              ┆            ┆      ┆        ┆ …                │\n",
       "│ …                 ┆ …             ┆ …            ┆ …          ┆ …    ┆ …      ┆ …                │\n",
       "│ Hosanna Brewing   ┆ Fuqauy Varina ┆ Brewpub      ┆ 12         ┆ 2013 ┆ Closed ┆ https://www.rate │\n",
       "│ Company           ┆               ┆              ┆            ┆      ┆        ┆ beer.com//brewer │\n",
       "│                   ┆               ┆              ┆            ┆      ┆        ┆ …                │\n",
       "│ Jack of the Wood  ┆ Asheville     ┆ Brewpub      ┆ 13         ┆ 2004 ┆ Closed ┆ https://www.rate │\n",
       "│ Brewpub           ┆               ┆              ┆            ┆      ┆        ┆ beer.com//brewer │\n",
       "│                   ┆               ┆              ┆            ┆      ┆        ┆ …                │\n",
       "│ Triangle Brewing  ┆ Durham        ┆ Microbrewery ┆ 21         ┆ 2007 ┆ Closed ┆ https://www.rate │\n",
       "│ Company           ┆               ┆              ┆            ┆      ┆        ┆ beer.com//brewer │\n",
       "│                   ┆               ┆              ┆            ┆      ┆        ┆ …                │\n",
       "│ White Rabbit      ┆ Angier        ┆ Microbrewery ┆ 19         ┆ 2013 ┆ Closed ┆ https://www.rate │\n",
       "│ Brewing (NC)      ┆               ┆              ┆            ┆      ┆        ┆ beer.com//brewer │\n",
       "│                   ┆               ┆              ┆            ┆      ┆        ┆ …                │\n",
       "└───────────────────┴───────────────┴──────────────┴────────────┴──────┴────────┴──────────────────┘"
      ]
     },
     "execution_count": 9,
     "metadata": {},
     "output_type": "execute_result"
    }
   ],
   "source": [
    "df.filter(\n",
    "    pl.col(\"Beer Count\").is_between(10, 100))"
   ]
  },
  {
   "cell_type": "code",
   "execution_count": 11,
   "metadata": {},
   "outputs": [
    {
     "data": {
      "text/html": [
       "<div><style>\n",
       ".dataframe > thead > tr > th,\n",
       ".dataframe > tbody > tr > td {\n",
       "  text-align: right;\n",
       "}\n",
       "</style>\n",
       "<small>shape: (54, 7)</small><table border=\"1\" class=\"dataframe\"><thead><tr><th>Name</th><th>City</th><th>Type</th><th>Beer Count</th><th>Est</th><th>Status</th><th>URL</th></tr><tr><td>str</td><td>str</td><td>str</td><td>i64</td><td>i64</td><td>str</td><td>str</td></tr></thead><tbody><tr><td>&quot;217 Brew Works...</td><td>&quot;Wilson&quot;</td><td>&quot;Microbrewery&quot;</td><td>10</td><td>2017</td><td>&quot;Active&quot;</td><td>&quot;https://www.ra...</td></tr><tr><td>&quot;7 Clans Brewin...</td><td>&quot;Cherokee&quot;</td><td>&quot;Client Brewer&quot;</td><td>1</td><td>2018</td><td>&quot;Active&quot;</td><td>&quot;https://www.ra...</td></tr><tr><td>&quot;Angry Troll Br...</td><td>&quot;Elkin&quot;</td><td>&quot;Microbrewery&quot;</td><td>8</td><td>2017</td><td>&quot;Active&quot;</td><td>&quot;https://www.ra...</td></tr><tr><td>&quot;Bear Creek Bre...</td><td>&quot;Bear Creek&quot;</td><td>&quot;Microbrewery&quot;</td><td>6</td><td>2012</td><td>&quot;Active&quot;</td><td>&quot;https://www.ra...</td></tr><tr><td>&quot;Beech Mountain...</td><td>&quot;Beech Mountain...</td><td>&quot;Microbrewery&quot;</td><td>7</td><td>2014</td><td>&quot;Active&quot;</td><td>&quot;https://www.ra...</td></tr><tr><td>&quot;Bill&#x27;s Front P...</td><td>&quot;Wilmington&quot;</td><td>&quot;Brewpub/Brewer...</td><td>10</td><td>2016</td><td>&quot;Active&quot;</td><td>&quot;https://www.ra...</td></tr><tr><td>&quot;Biltmore Brewi...</td><td>&quot;Asheville&quot;</td><td>&quot;Client Brewer&quot;</td><td>4</td><td>2010</td><td>&quot;Active&quot;</td><td>&quot;https://www.ra...</td></tr><tr><td>&quot;BottleTree Bee...</td><td>&quot;Tryon&quot;</td><td>&quot;Client Brewer&quot;</td><td>2</td><td>2010</td><td>&quot;Active&quot;</td><td>&quot;https://www.ra...</td></tr><tr><td>&quot;Bright Light B...</td><td>&quot;Fayetteville&quot;</td><td>&quot;Microbrewery&quot;</td><td>5</td><td>2018</td><td>&quot;Active&quot;</td><td>&quot;https://www.ra...</td></tr><tr><td>&quot;Broomtail Craf...</td><td>&quot;Wilmington&quot;</td><td>&quot;Microbrewery&quot;</td><td>10</td><td>2014</td><td>&quot;Active&quot;</td><td>&quot;https://www.ra...</td></tr><tr><td>&quot;Bull City Cide...</td><td>&quot;Durham&quot;</td><td>&quot;Commercial Bre...</td><td>9</td><td>2014</td><td>&quot;Active&quot;</td><td>&quot;https://www.ra...</td></tr><tr><td>&quot;Bull Durham Be...</td><td>&quot;Durham&quot;</td><td>&quot;Microbrewery&quot;</td><td>7</td><td>2015</td><td>&quot;Active&quot;</td><td>&quot;https://www.ra...</td></tr><tr><td>&hellip;</td><td>&hellip;</td><td>&hellip;</td><td>&hellip;</td><td>&hellip;</td><td>&hellip;</td><td>&hellip;</td></tr><tr><td>&quot;Slammin&#x27; Sam B...</td><td>&quot;Pinehurst&quot;</td><td>&quot;Client Brewer&quot;</td><td>1</td><td>2012</td><td>&quot;Active&quot;</td><td>&quot;https://www.ra...</td></tr><tr><td>&quot;Southern Range...</td><td>&quot;Monroe&quot;</td><td>&quot;Microbrewery&quot;</td><td>6</td><td>2016</td><td>&quot;Active&quot;</td><td>&quot;https://www.ra...</td></tr><tr><td>&quot;Tarboro Brewin...</td><td>&quot;Tarboro&quot;</td><td>&quot;Microbrewery&quot;</td><td>8</td><td>2016</td><td>&quot;Active&quot;</td><td>&quot;https://www.ra...</td></tr><tr><td>&quot;Tek Mountain B...</td><td>&quot;Wilmington&quot;</td><td>&quot;Microbrewery&quot;</td><td>7</td><td>2016</td><td>&quot;Active&quot;</td><td>&quot;https://www.ra...</td></tr><tr><td>&quot;The Mason Jar ...</td><td>&quot;Fuquay Varina&quot;</td><td>&quot;Microbrewery&quot;</td><td>5</td><td>2017</td><td>&quot;Active&quot;</td><td>&quot;https://www.ra...</td></tr><tr><td>&quot;Thristy Souls ...</td><td>&quot;Mount Airy&quot;</td><td>&quot;Brewpub/Brewer...</td><td>10</td><td>2018</td><td>&quot;Active&quot;</td><td>&quot;https://www.ra...</td></tr><tr><td>&quot;Tobacco Road S...</td><td>&quot;Raleigh&quot;</td><td>&quot;Brewpub&quot;</td><td>7</td><td>2017</td><td>&quot;Active&quot;</td><td>&quot;https://www.ra...</td></tr><tr><td>&quot;Valley River B...</td><td>&quot;Murphy&quot;</td><td>&quot;Brewpub&quot;</td><td>8</td><td>2017</td><td>&quot;Active&quot;</td><td>&quot;https://www.ra...</td></tr><tr><td>&quot;Vicious Fishes...</td><td>&quot;Angier&quot;</td><td>&quot;Microbrewery&quot;</td><td>1</td><td>2017</td><td>&quot;Active&quot;</td><td>&quot;https://www.ra...</td></tr><tr><td>&quot;Waterline Brew...</td><td>&quot;Wilmington&quot;</td><td>&quot;Microbrewery&quot;</td><td>6</td><td>2015</td><td>&quot;Active&quot;</td><td>&quot;https://www.ra...</td></tr><tr><td>&quot;Winding Creek ...</td><td>&quot;Columbus&quot;</td><td>&quot;Microbrewery&quot;</td><td>9</td><td>2017</td><td>&quot;Active&quot;</td><td>&quot;https://www.ra...</td></tr><tr><td>&quot;York Chester B...</td><td>&quot;Belmont&quot;</td><td>&quot;Microbrewery&quot;</td><td>8</td><td>2016</td><td>&quot;Active&quot;</td><td>&quot;https://www.ra...</td></tr></tbody></table></div>"
      ],
      "text/plain": [
       "shape: (54, 7)\n",
       "┌────────────────────┬────────────┬───────────────┬────────────┬──────┬────────┬───────────────────┐\n",
       "│ Name               ┆ City       ┆ Type          ┆ Beer Count ┆ Est  ┆ Status ┆ URL               │\n",
       "│ ---                ┆ ---        ┆ ---           ┆ ---        ┆ ---  ┆ ---    ┆ ---               │\n",
       "│ str                ┆ str        ┆ str           ┆ i64        ┆ i64  ┆ str    ┆ str               │\n",
       "╞════════════════════╪════════════╪═══════════════╪════════════╪══════╪════════╪═══════════════════╡\n",
       "│ 217 Brew Works     ┆ Wilson     ┆ Microbrewery  ┆ 10         ┆ 2017 ┆ Active ┆ https://www.rateb │\n",
       "│                    ┆            ┆               ┆            ┆      ┆        ┆ eer.com//brewer…  │\n",
       "│ 7 Clans Brewing    ┆ Cherokee   ┆ Client Brewer ┆ 1          ┆ 2018 ┆ Active ┆ https://www.rateb │\n",
       "│                    ┆            ┆               ┆            ┆      ┆        ┆ eer.com//brewer…  │\n",
       "│ Angry Troll        ┆ Elkin      ┆ Microbrewery  ┆ 8          ┆ 2017 ┆ Active ┆ https://www.rateb │\n",
       "│ Brewing            ┆            ┆               ┆            ┆      ┆        ┆ eer.com//brewer…  │\n",
       "│ Bear Creek Brews   ┆ Bear Creek ┆ Microbrewery  ┆ 6          ┆ 2012 ┆ Active ┆ https://www.rateb │\n",
       "│                    ┆            ┆               ┆            ┆      ┆        ┆ eer.com//brewer…  │\n",
       "│ …                  ┆ …          ┆ …             ┆ …          ┆ …    ┆ …      ┆ …                 │\n",
       "│ Vicious Fishes     ┆ Angier     ┆ Microbrewery  ┆ 1          ┆ 2017 ┆ Active ┆ https://www.rateb │\n",
       "│ Brewery            ┆            ┆               ┆            ┆      ┆        ┆ eer.com//brewer…  │\n",
       "│ Waterline Brewing  ┆ Wilmington ┆ Microbrewery  ┆ 6          ┆ 2015 ┆ Active ┆ https://www.rateb │\n",
       "│ Company            ┆            ┆               ┆            ┆      ┆        ┆ eer.com//brewer…  │\n",
       "│ Winding Creek      ┆ Columbus   ┆ Microbrewery  ┆ 9          ┆ 2017 ┆ Active ┆ https://www.rateb │\n",
       "│ Brewing Company    ┆            ┆               ┆            ┆      ┆        ┆ eer.com//brewer…  │\n",
       "│ York Chester       ┆ Belmont    ┆ Microbrewery  ┆ 8          ┆ 2016 ┆ Active ┆ https://www.rateb │\n",
       "│ Brewing Company    ┆            ┆               ┆            ┆      ┆        ┆ eer.com//brewer…  │\n",
       "└────────────────────┴────────────┴───────────────┴────────────┴──────┴────────┴───────────────────┘"
      ]
     },
     "execution_count": 11,
     "metadata": {},
     "output_type": "execute_result"
    }
   ],
   "source": [
    "df.filter(\n",
    "    (pl.col('Beer Count') <= 10) & (pl.col('Status') != \"Closed\")\n",
    ")"
   ]
  },
  {
   "cell_type": "code",
   "execution_count": 16,
   "metadata": {},
   "outputs": [
    {
     "data": {
      "text/html": [
       "<div><style>\n",
       ".dataframe > thead > tr > th,\n",
       ".dataframe > tbody > tr > td {\n",
       "  text-align: right;\n",
       "}\n",
       "</style>\n",
       "<small>shape: (5, 2)</small><table border=\"1\" class=\"dataframe\"><thead><tr><th>Type</th><th>count</th></tr><tr><td>str</td><td>u32</td></tr></thead><tbody><tr><td>&quot;Microbrewery&quot;</td><td>165</td></tr><tr><td>&quot;Brewpub/Brewer...</td><td>41</td></tr><tr><td>&quot;Brewpub&quot;</td><td>33</td></tr><tr><td>&quot;Client Brewer&quot;</td><td>9</td></tr><tr><td>&quot;Commercial Bre...</td><td>3</td></tr></tbody></table></div>"
      ],
      "text/plain": [
       "shape: (5, 2)\n",
       "┌────────────────────┬───────┐\n",
       "│ Type               ┆ count │\n",
       "│ ---                ┆ ---   │\n",
       "│ str                ┆ u32   │\n",
       "╞════════════════════╪═══════╡\n",
       "│ Microbrewery       ┆ 165   │\n",
       "│ Brewpub/Brewery    ┆ 41    │\n",
       "│ Brewpub            ┆ 33    │\n",
       "│ Client Brewer      ┆ 9     │\n",
       "│ Commercial Brewery ┆ 3     │\n",
       "└────────────────────┴───────┘"
      ]
     },
     "execution_count": 16,
     "metadata": {},
     "output_type": "execute_result"
    }
   ],
   "source": [
    "df.groupby(\"Type\").count().sort(by=\"count\", descending=True)"
   ]
  },
  {
   "attachments": {},
   "cell_type": "markdown",
   "metadata": {},
   "source": [
    "Not bad!"
   ]
  }
 ],
 "metadata": {
  "kernelspec": {
   "display_name": "base",
   "language": "python",
   "name": "python3"
  },
  "language_info": {
   "codemirror_mode": {
    "name": "ipython",
    "version": 3
   },
   "file_extension": ".py",
   "mimetype": "text/x-python",
   "name": "python",
   "nbconvert_exporter": "python",
   "pygments_lexer": "ipython3",
   "version": "3.9.13"
  },
  "orig_nbformat": 4,
  "vscode": {
   "interpreter": {
    "hash": "40d3a090f54c6569ab1632332b64b2c03c39dcf918b08424e98f38b5ae0af88f"
   }
  }
 },
 "nbformat": 4,
 "nbformat_minor": 2
}
